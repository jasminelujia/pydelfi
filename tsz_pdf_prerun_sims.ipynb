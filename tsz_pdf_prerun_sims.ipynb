{
 "cells": [
  {
   "cell_type": "code",
   "execution_count": 1,
   "metadata": {},
   "outputs": [],
   "source": [
    "import numpy as np\n",
    "import matplotlib.pyplot as plt\n",
    "import distributions.priors as priors\n",
    "import getdist\n",
    "from getdist import plots, MCSamples\n",
    "import h5py\n",
    "import ndes.ndes as ndes\n",
    "import delfi.delfi as delfi\n",
    "import tensorflow as tf\n",
    "tf.logging.set_verbosity(tf.logging.ERROR)\n",
    "%matplotlib inline\n",
    "plt.rc('text', usetex = True)\n",
    "plt.rc('font', family = 'serif')"
   ]
  },
  {
   "cell_type": "code",
   "execution_count": 2,
   "metadata": {},
   "outputs": [],
   "source": [
    "# functions\n",
    "def dp_dpar(par_grid, pdfs, i_fid, delta_i):\n",
    "    \n",
    "    # setup\n",
    "    n_sig_8, n_sims, n_bins = pdfs.shape\n",
    "    dpdpar = np.zeros(n_bins)\n",
    "    \n",
    "    # calculate derivatives\n",
    "    for j in range(n_sims):\n",
    "        dpdpar += pdfs[i_fid + delta_i, j, :] - pdfs[i_fid - delta_i, j, :]\n",
    "    dpdpar /= (par_grid[i_fid + delta_i] - par_grid[i_fid - delta_i]) * n_sims\n",
    "\n",
    "    return dpdpar\n",
    "\n",
    "def dp_dpar_ana(par_grid, pdfs, inds_fid, delta_i):\n",
    "    \n",
    "    # setup\n",
    "    n_bins = pdfs.shape[-1]\n",
    "    n_pars = len(par_grid)\n",
    "    dpdpar = np.zeros((n_bins, n_pars))\n",
    "\n",
    "    # calculate derivatives\n",
    "    for i in range(n_pars):\n",
    "        ind_p = [inds_fid[j] + delta_i if j == i else \\\n",
    "                 inds_fid[j] for j in range(n_pars)] + \\\n",
    "                [slice(None)]\n",
    "        ind_m = [inds_fid[j] - delta_i if j == i else \\\n",
    "                 inds_fid[j] for j in range(n_pars)] + \\\n",
    "                [slice(None)]\n",
    "        dpar = par_grid[i][ind_p[i]] - \\\n",
    "               par_grid[i][ind_m[i]]\n",
    "        dp = pdfs[ind_p] - pdfs[ind_m]\n",
    "        dpdpar[:, i] = dp / dpar\n",
    "\n",
    "    return dpdpar\n",
    "\n",
    "def fisher_matrix(n_pix, pdf_fid, dpdpar):\n",
    "\n",
    "    n_pix_f = float(n_pix)\n",
    "    n_bins, n_pars = dpdpar.shape\n",
    "    f_mat = np.zeros((n_pars, n_pars))\n",
    "    for i in range(n_pars):\n",
    "\n",
    "        for j in range(i + 1):\n",
    "\n",
    "            for k in range(n_bins):\n",
    "\n",
    "                f_mat[i, j] += (1.0 / pdf_fid[k] - 1.0 + n_pix_f) * \\\n",
    "                               dpdpar[k, i] * dpdpar[k, j]\n",
    "                others = np.array([False if m == k else \\\n",
    "                                   True for m in range(n_bins)])\n",
    "                f_mat[i, j] += np.sum((n_pix_f - 1.0) * \\\n",
    "                                      dpdpar[k, i] * \\\n",
    "                                      dpdpar[others, j])\n",
    "            f_mat[j, i] = f_mat[i, j]\n",
    "    f_mat *= n_pix_f\n",
    "    \n",
    "    return f_mat\n",
    "\n",
    "# compressor function must have the form \n",
    "# compressor(data, args) -> compressed summaries (pseudo-MLE)\n",
    "def compressor(data, args):\n",
    "    \n",
    "    # compress using score\n",
    "    pars_fid, pdf_fid, dpdpar, f_inv = args\n",
    "    d_comp = np.dot(data / pdf_fid, dpdpar)\n",
    "    return pars_fid + np.dot(f_inv, d_comp)"
   ]
  },
  {
   "cell_type": "code",
   "execution_count": 3,
   "metadata": {},
   "outputs": [],
   "source": [
    "# Setup\n",
    "#sig_8_grid = np.linspace(sig_8_min, sig_8_max, n_sig_8)\n",
    "sig_8_grid = np.array([0.735, 0.744, 0.752, 0.760, 0.768, 0.776, 0.781, 0.785, \\\n",
    "                       0.789, 0.793, 0.797, 0.801, 0.805, 0.809, 0.817, 0.825, \\\n",
    "                       0.834, 0.842, 0.850, 0.858])\n",
    "sig_8_min = np.min(sig_8_grid)\n",
    "sig_8_max = np.max(sig_8_grid)\n",
    "temp_min = -120.0\n",
    "temp_max = 0.0\n",
    "temp_step = 10.\n",
    "temp_bin_edges = np.arange(temp_min, temp_max, temp_step)\n",
    "temp_bins = np.arange(temp_min + temp_step / 2.0, temp_max - temp_step / 2.0, temp_step)"
   ]
  },
  {
   "cell_type": "code",
   "execution_count": 4,
   "metadata": {},
   "outputs": [],
   "source": [
    "# Basic pre-processing of data if needed; if not, read numerical and analytic inputs\n",
    "compile_pdfs = False\n",
    "if compile_pdfs:\n",
    "    \n",
    "    # Read in raw histograms, cut un-needed bins and renormalize to sum to 1\n",
    "    n_sig_8 = 20\n",
    "    n_sims = 476\n",
    "    n_bins = 11\n",
    "    hists = np.zeros((n_sig_8, n_sims, n_bins))\n",
    "    pdfs = np.zeros((n_sig_8, n_sims, n_bins))\n",
    "    for i in range(n_sig_8):\n",
    "        for j in range(n_sims):\n",
    "            fname = 'SZRun_sig8_{0:d}_lensedMaps_CMBplusNoise_{1:03d}.txt'.format(i, j)\n",
    "            hist = np.genfromtxt('simulators/tsz_pdf/pdfs/' + fname)[0: n_bins]\n",
    "            hists[i, j, :] = hist\n",
    "            pdfs[i, j, :] = hist / np.sum(hist)\n",
    "    with h5py.File('simulators/tsz_pdf/sig_8_sim_hists.h5', 'w') as f:\n",
    "        f.create_dataset('hists', data=hists)\n",
    "    \n",
    "else:\n",
    "    \n",
    "    # Read in simulated PDFs\n",
    "    with h5py.File('simulators/tsz_pdf/sig_8_sim_hists.h5', 'r') as f:\n",
    "        hists = f['hists'][:]\n",
    "    n_sig_8, n_sims, n_bins = hists.shape\n",
    "    pdfs = np.zeros((n_sig_8, n_sims, n_bins))\n",
    "    for i in range(n_sig_8):\n",
    "        for j in range(n_sims):\n",
    "            pdfs[i, j, :] = hists[i, j, :] / np.sum(hists[i, j, :])\n",
    "    \n",
    "# Read in analytical PDFs. Renormalize to sum to 1.\n",
    "par_grid = []\n",
    "with h5py.File('simulators/tsz_pdf/theory_pdfs.h5', 'r') as f:\n",
    "    par_grid.append(f['sigma_8'][:])\n",
    "    par_grid.append(f['omega_m'][:])\n",
    "    par_grid.append(f['p_0'][:])\n",
    "    par_grid.append(f['t_0'][:])\n",
    "    inds_fid = f['par_fid_indices'][:]\n",
    "    pdfs_ana = f['pdfs'][:]\n",
    "for i in range(len(par_grid[0])):\n",
    "    for j in range(len(par_grid[1])):\n",
    "        for k in range(len(par_grid[2])):\n",
    "            for l in range(len(par_grid[3])):\n",
    "                pdfs_ana[i, j, k, l, :] /= np.sum(pdfs_ana[i, j, k, l, :])"
   ]
  },
  {
   "cell_type": "code",
   "execution_count": 5,
   "metadata": {},
   "outputs": [
    {
     "name": "stdout",
     "output_type": "stream",
     "text": [
      "441685.1423319328 3060.0329293646896 441685\n"
     ]
    }
   ],
   "source": [
    "# Calculate typical number of pixels in histogram\n",
    "n_pixs = np.sum(hists, axis=-1)\n",
    "n_pix = int(np.rint(np.mean(n_pixs)))\n",
    "print(np.mean(n_pixs), np.std(n_pixs), n_pix)\n",
    "\n",
    "# Renormalize all PDFs to sum to expected n_pix?\n",
    "renorm = False\n",
    "if renorm:\n",
    "    for i in range(n_sig_8):\n",
    "        for j in range(n_sims):\n",
    "            hists[i, j, :] = hists[i, j, :] / np.sum(hists[i, j, :]) * n_pix\n",
    "    print(np.sum(hists), n_pix * n_sig_8 * n_sims)"
   ]
  },
  {
   "cell_type": "code",
   "execution_count": 6,
   "metadata": {},
   "outputs": [],
   "source": [
    "# Required components, first using numerical results\n",
    "i_fid = 14\n",
    "delta_i = 1\n",
    "sig_8_fid = sig_8_grid[i_fid]\n",
    "pdf_fid = np.mean(pdfs[i_fid, :, :], axis=0)\n",
    "pdf_fid_err = np.std(pdfs[i_fid, :, :], axis=0)\n",
    "dpdpar = dp_dpar(sig_8_grid, pdfs, i_fid, delta_i)\n",
    "f_mat = fisher_matrix(n_pix, pdf_fid, dpdpar[:, None])\n",
    "f_mat_inv = 1.0 / f_mat\n",
    "\n",
    "# Using analytic results\n",
    "pdf_fid_ana = pdfs_ana[inds_fid[0], inds_fid[1], inds_fid[2], inds_fid[3]]\n",
    "#dpdpar_ana = dp_dpar_ana(par_grid[0], pdfs_ana[:, inds_fid[1], inds_fid[2], inds_fid[3]], \\\n",
    "#                         inds_fid[0], delta_i)\n",
    "#f_mat_ana = fisher_matrix(n_pix, pdf_fid_ana, dpdpar_ana)\n",
    "dpdpar_ana = dp_dpar_ana(np.array([par_grid[0]]), pdfs_ana[:, inds_fid[1], inds_fid[2], inds_fid[3]], \\\n",
    "                         inds_fid[0, None], delta_i)\n",
    "f_mat_ana = fisher_matrix(n_pix, pdf_fid_ana, dpdpar_ana)\n",
    "f_mat_inv_ana = np.linalg.inv(f_mat_ana)"
   ]
  },
  {
   "cell_type": "code",
   "execution_count": 7,
   "metadata": {},
   "outputs": [
    {
     "data": {
      "image/png": "[encoded data removed]",
      "text/plain": [
       "<Figure size 1152x720 with 4 Axes>"
      ]
     },
     "metadata": {
      "needs_background": "light"
     },
     "output_type": "display_data"
    }
   ],
   "source": [
    "# Check vs analytic PDFs. Not sure how helpful this will be!\n",
    "analytic_check = True\n",
    "if analytic_check:\n",
    "    \n",
    "    '''# Find mean PDF, derivatives and Fisher matrix\n",
    "    dpdpar_int = dp_dpar_ana(par_grid[0], pdfs_ana[:, inds_fid[1], inds_fid[2], inds_fid[3]], i_sig_8_int_bf, delta_i)\n",
    "    f_mat_int = fisher_matrix(n_pix, pdf_fid_int, dpdpar_int)\n",
    "    f_mat_int_inv = 1.0 / f_mat_int\n",
    "    print(f_mat_int_inv)'''\n",
    "    \n",
    "    fig, axes = plt.subplots(2, 2, figsize=(16, 10))\n",
    "    #axes[0].semilogy(temp_bins, pdf_fid, 'b-')\n",
    "    axes[0, 0].errorbar(temp_bins, pdf_fid, yerr=pdf_fid_err, color='b', capsize=5, elinewidth=1, markeredgewidth=1)\n",
    "    axes[0, 0].semilogy(temp_bins, pdf_fid_ana, 'r--', zorder=10)\n",
    "    axes[0, 0].set_ylabel(r'$P(T)$')\n",
    "    axes[0, 0].set_xlabel(r'$T\\,[\\mu K]$')\n",
    "    axes[0, 0].set_title('Numerical vs Analytic Mean')\n",
    "    axes[0, 1].plot(temp_bins, pdf_fid / pdf_fid, 'b-')\n",
    "    axes[0, 1].plot(temp_bins, pdf_fid_ana / pdf_fid, 'r--')\n",
    "    axes[0, 1].set_ylim(0.0, 2.0)\n",
    "    axes[0, 1].set_ylabel(r'$P(T)/P_{\\rm fid}$')\n",
    "    axes[0, 1].set_xlabel(r'$T\\,[\\mu K]$')\n",
    "    axes[0, 1].set_title('Analytic to Numerical Mean Ratio')\n",
    "    axes[1, 0].semilogy(temp_bins, np.abs(dpdpar), 'b-')\n",
    "    axes[1, 0].semilogy(temp_bins, np.abs(dpdpar_ana[:, 0]), 'r--', zorder=10)\n",
    "    axes[1, 0].set_ylabel(r'$dP/d\\sigma_8$')\n",
    "    axes[1, 0].set_xlabel(r'$T\\,[\\mu K]$')\n",
    "    axes[1, 0].set_title('Numerical vs Analytic Derivative (Abs. Val.)')\n",
    "    axes[1, 1].plot(temp_bins, dpdpar / pdf_fid, 'b-')\n",
    "    axes[1, 1].plot(temp_bins, dpdpar_ana[:, 0] / pdf_fid_ana, 'r--', zorder=10)\n",
    "    axes[1, 1].set_ylabel(r'$dP/d\\sigma_8/P_{\\rm fid}$')\n",
    "    axes[1, 1].set_xlabel(r'$T\\,[\\mu K]$')\n",
    "    axes[1, 1].set_title('Numerical vs Analytic Fractional Derivative')\n",
    "    fig.suptitle('Hill et al. Analytic vs Numerical Tests')\n",
    "    #plt.plot((pdfs_ana[inds_fid[0], inds_fid[1], inds_fid[2], inds_fid[3]] - pdf_fid) / pdf_fid)"
   ]
  },
  {
   "cell_type": "code",
   "execution_count": 8,
   "metadata": {},
   "outputs": [
    {
     "name": "stdout",
     "output_type": "stream",
     "text": [
      "0.8196191984063032 0.817 0.016615999645185543 [[0.00303616]]\n"
     ]
    }
   ],
   "source": [
    "# Compress all sims\n",
    "\n",
    "# NOTE: The compressed summaries should be in the form of pseudo maximum-likelihood parameter estimators\n",
    "# ie, if you are using the score of an approximate log-likelihood L, you should use compressed summaries\n",
    "# t = \\theta_\\mathrm{fiducial} + F^{-1}\\nabla L where F is the approximate Fisher matrix\n",
    "sims_comp = np.zeros((n_sig_8 * n_sims))\n",
    "sims_pars = np.zeros((n_sig_8 * n_sims))\n",
    "#args = [sig_8_fid, pdf_fid, dpdpar, f_mat_inv]\n",
    "args = [sig_8_fid, pdf_fid_ana, dpdpar_ana, f_mat_inv_ana]\n",
    "for i in range(n_sig_8):\n",
    "    for j in range(n_sims):\n",
    "        ind = i * n_sims + j\n",
    "        sims_comp[ind] = compressor(hists[i, j, :], args)\n",
    "        sims_pars[ind] = sig_8_grid[i]\n",
    "print(np.mean(sims_comp[i_fid * n_sims: (i_fid + 1) * n_sims]), sig_8_fid, \\\n",
    "      np.std(sims_comp[i_fid * n_sims: (i_fid + 1) * n_sims]), np.sqrt(f_mat_inv_ana))"
   ]
  },
  {
   "cell_type": "code",
   "execution_count": 9,
   "metadata": {},
   "outputs": [],
   "source": [
    "# Set up the truncated Gaussian prior...\n",
    "\n",
    "# Prior parameter boundaries\n",
    "lower = np.array([sig_8_min])\n",
    "upper = np.array([sig_8_max])\n",
    "\n",
    "# Prior mean and covariance\n",
    "prior_mean = np.array([0.7965])\n",
    "Q = np.eye(1)*np.array([0.05])**2\n",
    "\n",
    "# Create prior over parameters\n",
    "prior = priors.TruncatedGaussian(prior_mean, Q, lower, upper)"
   ]
  },
  {
   "cell_type": "code",
   "execution_count": 10,
   "metadata": {},
   "outputs": [],
   "source": [
    "# Set up the Delfi object...\n",
    "\n",
    "# Create the neural density estimator (MAF stands for Masked Autoregressive Flow)\n",
    "# NOTE: n_inputs = number of parameters, n_outputs = number of compressed summaries\n",
    "#NDEs = [ndes.ConditionalMaskedAutoregressiveFlow(n_parameters=5, n_data=5, n_hiddens=[50,50], n_mades=5, act_fun=tf.tanh, index=0),\n",
    "#        ndes.MixtureDensityNetwork(n_parameters=5, n_data=5, n_components=1, n_hidden=[30,30], activations=[tf.tanh, tf.tanh], index=1),\n",
    "#        ndes.MixtureDensityNetwork(n_parameters=5, n_data=5, n_components=2, n_hidden=[30,30], activations=[tf.tanh, tf.tanh], index=2),\n",
    "#        ndes.MixtureDensityNetwork(n_parameters=5, n_data=5, n_components=3, n_hidden=[30,30], activations=[tf.tanh, tf.tanh], index=3),\n",
    "#        ndes.MixtureDensityNetwork(n_parameters=5, n_data=5, n_components=4, n_hidden=[30,30], activations=[tf.tanh, tf.tanh], index=4),\n",
    "#        ndes.MixtureDensityNetwork(n_parameters=5, n_data=5, n_components=5, n_hidden=[30,30], activations=[tf.tanh, tf.tanh], index=5)]\n",
    "NDEs = [ndes.ConditionalMaskedAutoregressiveFlow(n_parameters=1, n_data=1, n_hiddens=[50,50], n_mades=5, act_fun=tf.tanh, index=0)]\n",
    "\n",
    "# Create the DELFI object\n",
    "DelfiNDE = delfi.Delfi(np.array([sims_comp[i_fid * n_sims]]), prior, NDEs, Finv=f_mat_inv_ana, theta_fiducial=np.array([sig_8_fid]), \n",
    "                       param_limits = [lower, upper],\n",
    "                       param_names = ['\\sigma_8'], \n",
    "                       results_dir = \"simulators/tsz_pdf/results_prerun/\",\n",
    "                       input_normalization=\"fisher\")\n",
    "\n",
    "# Load in the simulations\n",
    "DelfiNDE.load_simulations(sims_comp[:, None], sims_pars[:, None])"
   ]
  },
  {
   "cell_type": "code",
   "execution_count": 11,
   "metadata": {
    "scrolled": true
   },
   "outputs": [
    {
     "data": {
      "application/vnd.jupyter.widget-view+json": {
       "model_id": "75ae3286f6584158b8e70d8140982e99",
       "version_major": 2,
       "version_minor": 0
      },
      "text/plain": [
       "HBox(children=(IntProgress(value=0, description='Training', max=300, style=ProgressStyle(description_width='in…"
      ]
     },
     "metadata": {},
     "output_type": "display_data"
    }
   ],
   "source": [
    "# Do the Fisher pre-training step to initialize the network\n",
    "DelfiNDE.fisher_pretraining()"
   ]
  },
  {
   "cell_type": "code",
   "execution_count": 12,
   "metadata": {},
   "outputs": [
    {
     "data": {
      "application/vnd.jupyter.widget-view+json": {
       "model_id": "a115350805b544d5b26f717050014cfe",
       "version_major": 2,
       "version_minor": 0
      },
      "text/plain": [
       "HBox(children=(IntProgress(value=0, description='Training', max=500, style=ProgressStyle(description_width='in…"
      ]
     },
     "metadata": {},
     "output_type": "display_data"
    }
   ],
   "source": [
    "# Train the network\n",
    "DelfiNDE.train_ndes(training_data=[DelfiNDE.x_train, DelfiNDE.y_train], epochs=500, patience=20, batch_size=1000)"
   ]
  },
  {
   "cell_type": "code",
   "execution_count": 13,
   "metadata": {},
   "outputs": [],
   "source": [
    "# MCMC sample the learned posterior\n",
    "posterior_samples = DelfiNDE.emcee_sample(DelfiNDE.log_posterior_stacked, [DelfiNDE.posterior_samples[-i,:] for i in range(DelfiNDE.nwalkers)], burn_in_chain=100, main_chain=1000)"
   ]
  },
  {
   "cell_type": "code",
   "execution_count": 14,
   "metadata": {},
   "outputs": [
    {
     "name": "stdout",
     "output_type": "stream",
     "text": [
      "Removed no burn in\n",
      "input: 0.817\n",
      "infer: 0.8044151171097361 +/- 0.01568405516171628\n"
     ]
    },
    {
     "data": {
      "image/png": "[encoded data removed]",
      "text/plain": [
       "<Figure size 360x360 with 1 Axes>"
      ]
     },
     "metadata": {
      "needs_background": "light"
     },
     "output_type": "display_data"
    }
   ],
   "source": [
    "# Let's plot the recovered posterior\n",
    "\n",
    "plt.close()\n",
    "columnwidth = 40 # cm\n",
    "aspect = 1.67*2\n",
    "pts_per_inch = 72.27\n",
    "inch_per_cm = 2.54\n",
    "width = columnwidth/inch_per_cm\n",
    "plt.rcParams.update({'figure.figsize': [width, width / aspect],\n",
    "                 'backend': 'pdf',\n",
    "                 'font.size': 14,\n",
    "                 'legend.fontsize': 'small',\n",
    "                 'legend.frameon': False,\n",
    "                 'legend.loc': 'best',\n",
    "                 'lines.markersize': 3,\n",
    "                 'lines.linewidth': .5,\n",
    "                 'axes.linewidth': .5,\n",
    "                 'axes.edgecolor': 'black'})\n",
    "\n",
    "\n",
    "g = plots.getSubplotPlotter(width_inch = 5)\n",
    "g.settings.figure_legend_frame = False\n",
    "g.settings.alpha_filled_add=0.6\n",
    "g.settings.axes_fontsize=14\n",
    "g.settings.legend_fontsize=16\n",
    "g.settings.lab_fontsize=20\n",
    "\n",
    "names = ['\\sigma_8']\n",
    "labels = ['\\sigma_8']\n",
    "ranges = dict(zip(names, [ [lower[i], upper[i]] for i in range(len(names)) ]))\n",
    "\n",
    "samples = [posterior_samples]\n",
    "mc_samples = [MCSamples(samples=s, names = names, labels = labels, ranges = ranges) for s in samples]\n",
    "\n",
    "for mcs in mc_samples:\n",
    "    stats = mc_samples[0].getMargeStats()\n",
    "    print('input:', sig_8_fid)\n",
    "    print('infer:', stats.parWithName('\\sigma_8').mean, '+/-', stats.parWithName('\\sigma_8').err)\n",
    "\n",
    "g.triangle_plot(mc_samples, normalized=True)\n",
    "\n",
    "for i in range(0, len(names)):\n",
    "    for j in range(0, i+1):\n",
    "        ax = g.subplots[i,j]\n",
    "        xtl = ax.get_xticklabels()\n",
    "        ax.set_xticklabels(xtl, rotation=45)\n",
    "        ax.set_xlim(lower[i], upper[i])\n",
    "        ax.axvline(sig_8_fid)\n",
    "plt.tight_layout()\n",
    "plt.subplots_adjust(hspace=0, wspace=0)\n",
    "plt.show()"
   ]
  },
  {
   "cell_type": "code",
   "execution_count": null,
   "metadata": {},
   "outputs": [],
   "source": []
  }
 ],
 "metadata": {
  "kernelspec": {
   "display_name": "Python 3",
   "language": "python",
   "name": "python3"
  },
  "language_info": {
   "codemirror_mode": {
    "name": "ipython",
    "version": 3
   },
   "file_extension": ".py",
   "mimetype": "text/x-python",
   "name": "python",
   "nbconvert_exporter": "python",
   "pygments_lexer": "ipython3",
   "version": "3.6.8"
  }
 },
 "nbformat": 4,
 "nbformat_minor": 1
}
