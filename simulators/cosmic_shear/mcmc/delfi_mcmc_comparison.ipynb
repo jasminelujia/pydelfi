{
 "cells": [
  {
   "cell_type": "code",
   "execution_count": 1,
   "metadata": {},
   "outputs": [],
   "source": [
    "import numpy as np\n",
    "import sys\n",
    "import pickle\n",
    "import scipy.optimize as optimize\n",
    "import scipy.interpolate as interpolate\n",
    "from scipy.stats import norm\n",
    "from scipy.special import jv\n",
    "from scipy.stats import wishart\n",
    "import time\n",
    "from scipy.stats import norm as normal\n",
    "from scipy.stats import multivariate_normal\n",
    "import emcee\n",
    "import pickle\n",
    "from cosmology import *\n",
    "import scipy.integrate as integrate\n",
    "import scipy.constants as sc\n",
    "\n",
    "\n",
    "def flat_prior(theta, prior_args):\n",
    "    \n",
    "    lower = prior_args[0]\n",
    "    upper = prior_args[1]\n",
    "    \n",
    "    # Test each parameter against prior limits\n",
    "    for a in range(0, len(theta)):\n",
    "        \n",
    "        if theta[a] > upper[a] or theta[a] < lower[a]:\n",
    "            return 0\n",
    "        \n",
    "    return np.prod(upper-lower)\n",
    "\n",
    "def gaussian_prior_draw(prior_args):\n",
    "    \n",
    "    mean = prior_args[0]\n",
    "    C = prior_args[1]\n",
    "    return multivariate_normal.rvs(mean=mean, cov=C)\n",
    "\n",
    "def truncated_gaussian_prior_draw(prior_args):\n",
    "\n",
    "    mean = prior_args[0]\n",
    "    C = prior_args[1]\n",
    "    lower = prior_args[2]\n",
    "    upper = prior_args[3]\n",
    "    \n",
    "    # While outside possible range\n",
    "    P = 0\n",
    "    while P == 0:\n",
    "        x = gaussian_prior_draw([mean, C])\n",
    "        P = flat_prior(x, [lower, upper])\n",
    "    return x\n",
    "\n",
    "def truncated_gaussian_prior(theta, prior_args):\n",
    "    \n",
    "    mean = prior_args[0]\n",
    "    C = prior_args[1]\n",
    "    lower = prior_args[2]\n",
    "    upper = prior_args[3]\n",
    "    \n",
    "    return flat_prior(theta, [lower, upper])*multivariate_normal.pdf(theta, mean=mean, cov=C)\n",
    "\n",
    "# Compute the data vector\n",
    "def power_spectrum(theta, sim_args):\n",
    "    \n",
    "    # Unpack sim args\n",
    "    pz_fid = sim_args[0]\n",
    "    modes = sim_args[1]\n",
    "    N = sim_args[3]\n",
    "    nz = len(pz_fid)\n",
    "\n",
    "    # Evaluate the required (derived) cosmological parameters\n",
    "    omm = theta[0]\n",
    "    sigma8 = theta[1]*np.sqrt(0.3/theta[0])\n",
    "    omb = theta[2]\n",
    "    h = theta[3]\n",
    "    ns = theta[4]\n",
    "    omde = 1.0 - omm\n",
    "    hubble = h*100\n",
    "    w0 = -1.\n",
    "    wa = 0\n",
    "    omnu = 0\n",
    "    omk = 0\n",
    "    \n",
    "    pz = pz_fid\n",
    "    \n",
    "    # Initialize cosmology object\n",
    "    cosmo = cosmology(Omega_m=omm, Omega_de=omde, Omega_b=omb, h=h, n=ns, sigma8=sigma8, w0=w0, wa=0)\n",
    "\n",
    "    # Numerics parameters\n",
    "    zmax = 2\n",
    "    rmax = cosmo.a2chi(z2a(zmax))\n",
    "    power_zpoints = int(np.ceil(5*zmax))\n",
    "    power_kpoints = 200\n",
    "    distance_zpoints = int(np.ceil(10*zmax))\n",
    "    wpoints = int(np.ceil(15*zmax))\n",
    "    kmax = 10\n",
    "    clpoints = 2**7 + 1\n",
    "\n",
    "    # Compute the matter power spectrum at the cosmology\n",
    "    z = np.linspace(0, zmax, power_zpoints)\n",
    "    logk = np.log(np.logspace(-3, np.log10(kmax), power_kpoints))\n",
    "    logpkz = np.log(cosmo.pk(np.exp(logk), z2a(z)))\n",
    "\n",
    "    # 2D linear interpolator for P(k;z)\n",
    "    logpkz = interpolate.RectBivariateSpline(logk, z, logpkz, kx=3, ky=3)\n",
    "\n",
    "    # Generate list of z-values at which we will compute r(z), initialize array of r-values to hold computed values of r(z)\n",
    "    zvalues = np.linspace(0, zmax, distance_zpoints)\n",
    "    rvalues = np.zeros((len(zvalues)))\n",
    "\n",
    "    # Perform integration to compute r(z) at specified points according to cosmology\n",
    "    for i in range(0, len(zvalues)):\n",
    "        rvalues[i] = integrate.romberg(lambda x: 1.0/np.sqrt(omm*(1+x)**3 + omnu*(1+x)**4+omk*(1+x)**2 + omde*np.exp(-3*wa*x/(1+x))*(1+x)**(3*(1+w0+wa))), 0, zvalues[i], divmax=100)\n",
    "\n",
    "    # Generate interpolation functions to give r(z) and z(r) given cosmology\n",
    "    r = interpolate.InterpolatedUnivariateSpline(zvalues, rvalues, k = 3)\n",
    "    z = interpolate.InterpolatedUnivariateSpline(rvalues, zvalues, k = 3)\n",
    "\n",
    "    # Set the maximum comoving distance corresponding to the maximum redshift\n",
    "    rmax = rvalues[-1]\n",
    "\n",
    "    # Compute lensing weights...\n",
    "\n",
    "    w = []\n",
    "    \n",
    "    # Compute the weight function associated with each bin in turn, over r-points and then interpolate\n",
    "    for i in range(0, nz):\n",
    "\n",
    "        # r-points to evaluate weight at before interpolation\n",
    "        rpoints = np.linspace(0, rmax, wpoints)\n",
    "\n",
    "        # Initialize weights\n",
    "        weight = np.zeros(wpoints)\n",
    "\n",
    "        # Compute integral for the rest of the points\n",
    "        for j in range(1, wpoints):\n",
    "            x = np.linspace(rpoints[j], rmax, 2**6 + 1)\n",
    "            dx = x[1] - x[0]\n",
    "            intvals = rpoints[j]*pz[i](z(x)) * h*cosmo.H(z2a(z(x))) * (1.0/hubble) * (x-rpoints[j])/x\n",
    "            weight[j] = integrate.romb(intvals, dx)\n",
    "\n",
    "        # Interpolate (generate interpolation function) and add interpolation function to the array w\n",
    "        interp = interpolate.InterpolatedUnivariateSpline(rpoints, weight, k = 3)\n",
    "        w.append(interp)\n",
    "    \n",
    "    # Tensor for cls\n",
    "    cls = np.zeros((nz, nz, len(modes)))\n",
    "\n",
    "    # Pull required cosmological parameters out of cosmo\n",
    "    r_hubble = sc.c/(1000*hubble)\n",
    "    A = (1000/sc.c)**3*(9*omm**2*hubble**3/(4*h**3))\n",
    "\n",
    "    # Compute Cls\n",
    "    for L in range(len(modes)):\n",
    "        l = modes[L]\n",
    "        rs = np.linspace(r(l/(h*r_hubble*kmax)), rmax, clpoints)\n",
    "        dr = rs[1] - rs[0]\n",
    "        for i in range(0, nz):\n",
    "            for j in range(i, nz):\n",
    "                intvals = ((l/(l+0.5))**4)*A*(1.0/rs**2)*w[i](rs)*w[j](rs) * (1+z(rs))**2 * np.exp(logpkz.ev(np.log((l+0.5)/(h*rs*r_hubble)), z(rs)))\n",
    "                cls[i, j, L] = integrate.romb(intvals, dr)\n",
    "                cls[j, i, L] = cls[i, j, L]\n",
    "        cls[:,:,L] = cls[:,:,L] + N\n",
    "                \n",
    "    return cls\n",
    "\n",
    "\n",
    "def log_likelihood(theta, d, sim_args, prior_args):\n",
    "\n",
    "    # Unpack args\n",
    "    pz_fid = sim_args[0]\n",
    "    modes = sim_args[1]\n",
    "    nl = sim_args[2]\n",
    "    N = sim_args[3]\n",
    "    nz = len(pz_fid)\n",
    "    nmodes = len(modes)\n",
    "    \n",
    "    if truncated_gaussian_prior(theta, prior_args) == 0:\n",
    "        return -1e300\n",
    "    else:\n",
    "        # Compute power spectrum\n",
    "        C = power_spectrum(theta, sim_args)\n",
    "\n",
    "        # iterate log-likelihood\n",
    "        lnL = 0\n",
    "        for l in range(len(modes)):\n",
    "            lnL += -0.5*nl[l]*np.log(np.linalg.det(C[:,:,l])) - 0.5*nl[l]*np.trace(np.dot(np.linalg.inv(C[:,:,l]), d[:,:,l]))\n",
    "\n",
    "        if np.isnan(lnL) == True:\n",
    "            return -1e300\n",
    "        else:\n",
    "            return lnL + np.log(truncated_gaussian_prior(theta, prior_args))"
   ]
  },
  {
   "cell_type": "code",
   "execution_count": 2,
   "metadata": {},
   "outputs": [],
   "source": [
    "### Euclid-like survey ###\n",
    "\n",
    "# n(z)\n",
    "pz = pickle.load(open('pz_euclid.pkl', 'rb'))\n",
    "\n",
    "# Set up fiducial parameters and binning\n",
    "theta_fiducial = np.array([0.3, 0.8, 0.05, 0.70, 0.96])\n",
    "nz = 10\n",
    "npar = 5\n",
    "\n",
    "# Define the priors\n",
    "lower = np.array([0, 0.4, 0, 0.4, 0.7])\n",
    "upper = np.array([1, 1.2, 0.1, 1.0, 1.3])\n",
    "prior_mean = theta_fiducial\n",
    "sigmas = np.zeros(npar)\n",
    "sigmas[0:5] = np.array([0.1, 0.1, 0.05, 0.3, 0.3])\n",
    "Q = np.eye(npar)*sigmas**2\n",
    "Qinv = np.linalg.inv(Q)\n",
    "prior_args = [prior_mean, Q, lower, upper]\n",
    "\n",
    "lmax = 3000\n",
    "lmin = 10\n",
    "nmodes = 10\n",
    "modes_edges = np.logspace(np.log10(lmin), np.log10(lmax), nmodes+1)\n",
    "modes = (modes_edges[0:-1] + modes_edges[1:])/2\n",
    "l = np.arange(lmin, lmax)\n",
    "nl = np.array([sum((2*l[(l >= modes_edges[i])*(l < modes_edges[i+1])] + 1)) for i in range(len(modes))], dtype=int)\n",
    "\n",
    "# Number of effective modes\n",
    "A_sky = 15000*(np.pi/180)**2\n",
    "f_sky = A_sky/(4*np.pi)\n",
    "nl = np.array(nl*f_sky, dtype=int)\n",
    "\n",
    "# Noise covariance\n",
    "sigma_e = 0.3\n",
    "nbar = 3*(60*180./np.pi)**2\n",
    "N = (sigma_e**2/nbar)*np.eye(nz)\n",
    "\n",
    "# Simulation arguments\n",
    "sim_args = [pz, modes, nl, N]\n",
    "\n",
    "# Fiducial power spectrum\n",
    "d = power_spectrum(theta_fiducial, sim_args)"
   ]
  },
  {
   "cell_type": "code",
   "execution_count": 40,
   "metadata": {},
   "outputs": [],
   "source": [
    "nh = 100\n",
    "h = np.linspace(0.65, 0.75, nh)\n",
    "ll = np.zeros(nh)\n",
    "for i in range(nh):\n",
    "    theta = np.copy(theta_fiducial)\n",
    "    theta[3] = h[i]\n",
    "    ll[i] = log_likelihood(theta, d, sim_args, prior_args)"
   ]
  },
  {
   "cell_type": "code",
   "execution_count": 41,
   "metadata": {},
   "outputs": [
    {
     "data": {
      "text/plain": [
       "[<matplotlib.lines.Line2D at 0x117d088d0>]"
      ]
     },
     "execution_count": 41,
     "metadata": {},
     "output_type": "execute_result"
    },
    {
     "data": {
      "image/png": "[encoded data removed]",
      "text/plain": [
       "<Figure size 432x288 with 1 Axes>"
      ]
     },
     "metadata": {
      "needs_background": "light"
     },
     "output_type": "display_data"
    }
   ],
   "source": [
    "import matplotlib.pyplot as plt\n",
    "%matplotlib inline\n",
    "plt.plot(h, ll)"
   ]
  },
  {
   "cell_type": "code",
   "execution_count": 42,
   "metadata": {},
   "outputs": [],
   "source": [
    "LL = interpolate.InterpolatedUnivariateSpline(h, ll, k = 3)"
   ]
  },
  {
   "cell_type": "code",
   "execution_count": 43,
   "metadata": {},
   "outputs": [
    {
     "data": {
      "text/plain": [
       "array(-57217.51535833)"
      ]
     },
     "execution_count": 43,
     "metadata": {},
     "output_type": "execute_result"
    }
   ],
   "source": [
    "LL.derivative(n=2)(0.7)"
   ]
  },
  {
   "cell_type": "code",
   "execution_count": 32,
   "metadata": {},
   "outputs": [],
   "source": [
    "nb = 30\n",
    "b = np.linspace(0.04, 0.06, nb)\n",
    "ll = np.zeros(nb)\n",
    "for i in range(nb):\n",
    "    theta = np.copy(theta_fiducial)\n",
    "    theta[2] = b[i]\n",
    "    ll[i] = log_likelihood(theta, d, sim_args, prior_args)"
   ]
  },
  {
   "cell_type": "code",
   "execution_count": 33,
   "metadata": {},
   "outputs": [
    {
     "data": {
      "text/plain": [
       "[<matplotlib.lines.Line2D at 0x117989550>]"
      ]
     },
     "execution_count": 33,
     "metadata": {},
     "output_type": "execute_result"
    },
    {
     "data": {
      "image/png": "[encoded data removed]",
      "text/plain": [
       "<Figure size 432x288 with 1 Axes>"
      ]
     },
     "metadata": {
      "needs_background": "light"
     },
     "output_type": "display_data"
    }
   ],
   "source": [
    "plt.plot(b, ll)"
   ]
  },
  {
   "cell_type": "code",
   "execution_count": 34,
   "metadata": {},
   "outputs": [
    {
     "data": {
      "text/plain": [
       "array(-1023067.18811393)"
      ]
     },
     "execution_count": 34,
     "metadata": {},
     "output_type": "execute_result"
    }
   ],
   "source": [
    "LL = interpolate.InterpolatedUnivariateSpline(b, ll, k = 3)\n",
    "LL.derivative(n=2)(0.05)"
   ]
  },
  {
   "cell_type": "code",
   "execution_count": null,
   "metadata": {},
   "outputs": [],
   "source": []
  }
 ],
 "metadata": {
  "kernelspec": {
   "display_name": "Python 3",
   "language": "python",
   "name": "python3"
  },
  "language_info": {
   "codemirror_mode": {
    "name": "ipython",
    "version": 3
   },
   "file_extension": ".py",
   "mimetype": "text/x-python",
   "name": "python",
   "nbconvert_exporter": "python",
   "pygments_lexer": "ipython3",
   "version": "3.6.5"
  }
 },
 "nbformat": 4,
 "nbformat_minor": 2
}
