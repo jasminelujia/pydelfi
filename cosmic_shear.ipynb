{
 "cells": [
  {
   "cell_type": "code",
   "execution_count": 1,
   "metadata": {},
   "outputs": [],
   "source": [
    "%load_ext autoreload\n",
    "%autoreload 2"
   ]
  },
  {
   "cell_type": "code",
   "execution_count": 2,
   "metadata": {
    "ExecuteTime": {
     "end_time": "2018-09-04T14:35:17.231475Z",
     "start_time": "2018-09-04T14:35:11.211024Z"
    }
   },
   "outputs": [
    {
     "name": "stderr",
     "output_type": "stream",
     "text": [
      "/Users/charnock/.pyenv/versions/3.6.6/lib/python3.6/importlib/_bootstrap.py:219: RuntimeWarning: compiletime version 3.5 of module 'tensorflow.python.framework.fast_tensor_util' does not match runtime version 3.6\n",
      "  return f(*args, **kwds)\n"
     ]
    }
   ],
   "source": [
    "%matplotlib inline\n",
    "import os\n",
    "os.environ[\"KERAS_BACKEND\"] = \"tensorflow\"\n",
    "import numpy as np\n",
    "import tensorflow as tf\n",
    "import matplotlib.pyplot as plt\n",
    "import scipy.interpolate as interpolate\n",
    "from simulators.cosmic_shear.cosmic_shear import *\n",
    "import ndes.nde as nde\n",
    "import distributions.priors as priors"
   ]
  },
  {
   "cell_type": "code",
   "execution_count": 3,
   "metadata": {
    "ExecuteTime": {
     "end_time": "2018-09-04T14:35:44.427050Z",
     "start_time": "2018-09-04T14:35:17.238094Z"
    }
   },
   "outputs": [],
   "source": [
    "### SET UP FOR SIMULATION CODE ###\n",
    "\n",
    "# n(z)\n",
    "#pz_fid = pickle.load(open('pz_euclid.pkl', 'rb'))\n",
    "nz = 10\n",
    "pz = np.loadtxt('simulators/cosmic_shear/pz.dat')\n",
    "z = pz[0,:]\n",
    "pz_fid = [0]*nz\n",
    "for i in range(1, nz+1):\n",
    "    pz_fid[i-1] = interpolate.InterpolatedUnivariateSpline(z, pz[i,:])\n",
    "\n",
    "# Set up fiducial parameters and binning\n",
    "theta_fiducial = np.array([0.3, 0.8, 0.05, 0.70, 0.96])\n",
    "nz = 10\n",
    "npar = 5\n",
    "n_data = 5\n",
    "\n",
    "# Define the priors\n",
    "lower = np.array([0, 0.4, 0, 0.4, 0.7])\n",
    "upper = np.array([1, 1.2, 0.1, 1.0, 1.3])\n",
    "prior_mean = theta_fiducial\n",
    "sigmas = np.zeros(npar)\n",
    "sigmas[0:5] = np.array([0.1, 0.1, 0.05, 0.3, 0.3])\n",
    "Q = np.eye(npar)*sigmas**2\n",
    "Qinv = np.linalg.inv(Q)\n",
    "prior_args = [prior_mean, Q, lower, upper]\n",
    "\n",
    "# Parameter names and ranges for plotting  \n",
    "names = ['\\Omega_m', 'S_8', '\\Omega_b', 'h', 'n_s']\n",
    "labels =  ['\\\\Omega_m', 'S_8', '\\\\Omega_b', 'h', 'n_s']\n",
    "ranges = {'\\Omega_m':[lower[0], upper[0]], 'S_8':[lower[1],upper[1]],'\\Omega_b':[lower[2],upper[2]],\n",
    "            'h':[lower[3],upper[3]],'n_s':[lower[4],upper[4]]}\n",
    "\n",
    "# Scale binning\n",
    "lmax = 3000\n",
    "lmin = 10\n",
    "modes_edges = np.logspace(np.log10(lmin), np.log10(lmax), 11)\n",
    "modes = (modes_edges[0:-1] + modes_edges[1:])/2\n",
    "l = np.arange(lmin, lmax)\n",
    "nl = np.array([sum((2*l[(l >= modes_edges[i])*(l < modes_edges[i+1])] + 1)) for i in range(len(modes))], dtype=int)\n",
    "\n",
    "# Number of effective modes\n",
    "A_sky = 15000*(np.pi/180)**2\n",
    "f_sky = A_sky/(4*np.pi)\n",
    "nl = np.array(nl*f_sky, dtype=int)\n",
    "\n",
    "# Noise covariance\n",
    "sigma_e = 0.3\n",
    "nbar = 3*(60*180./np.pi)**2\n",
    "N = (sigma_e**2/nbar)*np.eye(nz)\n",
    "\n",
    "# Simulation arguments\n",
    "sim_args = [pz_fid, modes, N, nl]\n",
    "\n",
    "# Fiducial power spectrum\n",
    "C = power_spectrum(theta_fiducial, sim_args)\n",
    "Cinv = np.array([np.linalg.inv(C[:,:,l]) for l in range(len(modes))]).T\n",
    "\n",
    "# Derivative of power spectrum\n",
    "h = np.array(abs(theta_fiducial[0:5])*np.array([0.05, 0.05, 0.05, 0.05, 0.05]))\n",
    "dCdt = np.zeros((npar, nz, nz, len(modes)))\n",
    "\n",
    "# Derivatives wrt cosmological parameters\n",
    "for i in range(npar):\n",
    "    theta_plus = np.copy(theta_fiducial)\n",
    "    theta_plus[i] += h[i]\n",
    "    theta_minus = np.copy(theta_fiducial)\n",
    "    theta_minus[i] -= h[i]\n",
    "    \n",
    "    Cp = power_spectrum(theta_plus, [pz_fid, modes, np.zeros((nz, nz))])\n",
    "    Cm = power_spectrum(theta_minus, [pz_fid, modes, np.zeros((nz, nz))])\n",
    "    C0 = power_spectrum(theta_fiducial, [pz_fid, modes, np.zeros((nz, nz))])\n",
    "\n",
    "    dCdt[i, :, :, :] = (Cp - Cm)/(2*h[i])\n",
    "\n",
    "# Fisher matrix\n",
    "F, Finv, fisher_errors = fisher_matrix(Cinv, dCdt, npar, nl, Qinv)\n",
    "\n",
    "# Projection arguments\n",
    "projection_args = [Finv, 0, theta_fiducial, fisher_errors, prior_mean, Qinv, Cinv, dCdt, modes, nl]\n",
    "\n",
    "# SimABC args\n",
    "simABC_args = [sim_args, projection_args, prior_args]"
   ]
  },
  {
   "cell_type": "code",
   "execution_count": 4,
   "metadata": {
    "ExecuteTime": {
     "end_time": "2018-09-04T14:35:44.588971Z",
     "start_time": "2018-09-04T14:35:44.458031Z"
    }
   },
   "outputs": [],
   "source": [
    "# Define the simulator function: takes parameters, spits out simulated (compressed) summaries\n",
    "simulator = lambda x: simulationABC(x, simABC_args)"
   ]
  },
  {
   "cell_type": "code",
   "execution_count": 5,
   "metadata": {
    "ExecuteTime": {
     "end_time": "2018-09-04T14:35:46.287226Z",
     "start_time": "2018-09-04T14:35:44.599332Z"
    }
   },
   "outputs": [],
   "source": [
    "# The data vector: import or otherwise simulate for testing\n",
    "data = projected_score(power_spectrum(theta_fiducial, sim_args), projection_args)"
   ]
  },
  {
   "cell_type": "code",
   "execution_count": 6,
   "metadata": {
    "ExecuteTime": {
     "end_time": "2018-09-04T14:35:46.418101Z",
     "start_time": "2018-09-04T14:35:46.299596Z"
    }
   },
   "outputs": [],
   "source": [
    "# Create prior over parameters\n",
    "prior = priors.TruncatedGaussian(prior_mean, Q, lower, upper)\n",
    "\n",
    "# Create asymptotic posterior approximation\n",
    "asymptotic_posterior = priors.TruncatedGaussian(theta_fiducial, Finv, lower, upper)"
   ]
  },
  {
   "cell_type": "code",
   "execution_count": 7,
   "metadata": {
    "ExecuteTime": {
     "end_time": "2018-09-04T14:36:35.955091Z",
     "start_time": "2018-09-04T14:35:46.442390Z"
    }
   },
   "outputs": [],
   "source": [
    "# Create the DELFI MDN object\n",
    "n_components = 3\n",
    "mdn = nde.DelfiMixtureDensityNetwork(simulator, prior, asymptotic_posterior, Finv, theta_fiducial, data, n_components, n_hidden = [50, 50], activations = [tf.nn.tanh, tf.nn.tanh], names = names, labels = labels, ranges = ranges)"
   ]
  },
  {
   "cell_type": "code",
   "execution_count": 8,
   "metadata": {
    "ExecuteTime": {
     "end_time": "2018-09-04T14:38:48.839018Z",
     "start_time": "2018-09-04T14:36:35.959582Z"
    }
   },
   "outputs": [
    {
     "name": "stdout",
     "output_type": "stream",
     "text": [
      "Generating pre-training data...\n",
      "Training on the pre-training data...\n"
     ]
    },
    {
     "data": {
      "application/vnd.jupyter.widget-view+json": {
       "model_id": "15640b3877114f0fb6d687c3311e12d5",
       "version_major": 2,
       "version_minor": 0
      },
      "text/plain": [
       "HBox(children=(IntProgress(value=0, description='Epochs', max=50), HTML(value='')))"
      ]
     },
     "metadata": {},
     "output_type": "display_data"
    },
    {
     "data": {
      "application/vnd.jupyter.widget-view+json": {
       "model_id": "092c9fecb8444b61a529d7667e424e49",
       "version_major": 2,
       "version_minor": 0
      },
      "text/plain": [
       "HBox(children=(IntProgress(value=0, description='Batches', max=450), HTML(value='')))"
      ]
     },
     "metadata": {},
     "output_type": "display_data"
    },
    {
     "data": {
      "application/vnd.jupyter.widget-view+json": {
       "model_id": "94c4e596c9614670a28f6e77d86dbf81",
       "version_major": 2,
       "version_minor": 0
      },
      "text/plain": [
       "HBox(children=(IntProgress(value=0, description='Batches', max=450), HTML(value='')))"
      ]
     },
     "metadata": {},
     "output_type": "display_data"
    },
    {
     "data": {
      "application/vnd.jupyter.widget-view+json": {
       "model_id": "792574d7c67348a994ff4eaa5bb8dcf8",
       "version_major": 2,
       "version_minor": 0
      },
      "text/plain": [
       "HBox(children=(IntProgress(value=0, description='Batches', max=450), HTML(value='')))"
      ]
     },
     "metadata": {},
     "output_type": "display_data"
    },
    {
     "data": {
      "application/vnd.jupyter.widget-view+json": {
       "model_id": "f8b5c478aa834b8d8485eeefbfffd8ae",
       "version_major": 2,
       "version_minor": 0
      },
      "text/plain": [
       "HBox(children=(IntProgress(value=0, description='Batches', max=450), HTML(value='')))"
      ]
     },
     "metadata": {},
     "output_type": "display_data"
    },
    {
     "data": {
      "application/vnd.jupyter.widget-view+json": {
       "model_id": "78e25cf4faf846fe99063e5e956500a1",
       "version_major": 2,
       "version_minor": 0
      },
      "text/plain": [
       "HBox(children=(IntProgress(value=0, description='Batches', max=450), HTML(value='')))"
      ]
     },
     "metadata": {},
     "output_type": "display_data"
    },
    {
     "data": {
      "application/vnd.jupyter.widget-view+json": {
       "model_id": "ab435c666e304f7b8b20f93cd8a56ae2",
       "version_major": 2,
       "version_minor": 0
      },
      "text/plain": [
       "HBox(children=(IntProgress(value=0, description='Batches', max=450), HTML(value='')))"
      ]
     },
     "metadata": {},
     "output_type": "display_data"
    },
    {
     "data": {
      "application/vnd.jupyter.widget-view+json": {
       "model_id": "6c28d2bc39ad440e8938f4eb87eb2a19",
       "version_major": 2,
       "version_minor": 0
      },
      "text/plain": [
       "HBox(children=(IntProgress(value=0, description='Batches', max=450), HTML(value='')))"
      ]
     },
     "metadata": {},
     "output_type": "display_data"
    },
    {
     "data": {
      "application/vnd.jupyter.widget-view+json": {
       "model_id": "ad37f908df764670b51ac54aa93cb942",
       "version_major": 2,
       "version_minor": 0
      },
      "text/plain": [
       "HBox(children=(IntProgress(value=0, description='Batches', max=450), HTML(value='')))"
      ]
     },
     "metadata": {},
     "output_type": "display_data"
    },
    {
     "data": {
      "application/vnd.jupyter.widget-view+json": {
       "model_id": "f7d774e0e3a24af2a9fc9bce3a5b20c6",
       "version_major": 2,
       "version_minor": 0
      },
      "text/plain": [
       "HBox(children=(IntProgress(value=0, description='Batches', max=450), HTML(value='')))"
      ]
     },
     "metadata": {},
     "output_type": "display_data"
    },
    {
     "data": {
      "application/vnd.jupyter.widget-view+json": {
       "model_id": "beff5c395de64fad99f24e18b064b990",
       "version_major": 2,
       "version_minor": 0
      },
      "text/plain": [
       "HBox(children=(IntProgress(value=0, description='Batches', max=450), HTML(value='')))"
      ]
     },
     "metadata": {},
     "output_type": "display_data"
    },
    {
     "data": {
      "application/vnd.jupyter.widget-view+json": {
       "model_id": "d4562e3e3ea54cc68da9b922b2391472",
       "version_major": 2,
       "version_minor": 0
      },
      "text/plain": [
       "HBox(children=(IntProgress(value=0, description='Batches', max=450), HTML(value='')))"
      ]
     },
     "metadata": {},
     "output_type": "display_data"
    },
    {
     "data": {
      "application/vnd.jupyter.widget-view+json": {
       "model_id": "eecd9c8ba94c45d0a621bff617f96670",
       "version_major": 2,
       "version_minor": 0
      },
      "text/plain": [
       "HBox(children=(IntProgress(value=0, description='Batches', max=450), HTML(value='')))"
      ]
     },
     "metadata": {},
     "output_type": "display_data"
    },
    {
     "data": {
      "application/vnd.jupyter.widget-view+json": {
       "model_id": "c7bc376b5daf49b4b740385e32865fa7",
       "version_major": 2,
       "version_minor": 0
      },
      "text/plain": [
       "HBox(children=(IntProgress(value=0, description='Batches', max=450), HTML(value='')))"
      ]
     },
     "metadata": {},
     "output_type": "display_data"
    },
    {
     "data": {
      "application/vnd.jupyter.widget-view+json": {
       "model_id": "fd388c5bce884637b97a4b547708a615",
       "version_major": 2,
       "version_minor": 0
      },
      "text/plain": [
       "HBox(children=(IntProgress(value=0, description='Batches', max=450), HTML(value='')))"
      ]
     },
     "metadata": {},
     "output_type": "display_data"
    },
    {
     "data": {
      "application/vnd.jupyter.widget-view+json": {
       "model_id": "920f31fc38ab4a02bd6c1b8d4c7ca224",
       "version_major": 2,
       "version_minor": 0
      },
      "text/plain": [
       "HBox(children=(IntProgress(value=0, description='Batches', max=450), HTML(value='')))"
      ]
     },
     "metadata": {},
     "output_type": "display_data"
    },
    {
     "data": {
      "application/vnd.jupyter.widget-view+json": {
       "model_id": "660f0552d59d4df4ae92c627d916fc8d",
       "version_major": 2,
       "version_minor": 0
      },
      "text/plain": [
       "HBox(children=(IntProgress(value=0, description='Batches', max=450), HTML(value='')))"
      ]
     },
     "metadata": {},
     "output_type": "display_data"
    },
    {
     "data": {
      "application/vnd.jupyter.widget-view+json": {
       "model_id": "a53bb8a364ba4b87b17d1c25b46da710",
       "version_major": 2,
       "version_minor": 0
      },
      "text/plain": [
       "HBox(children=(IntProgress(value=0, description='Batches', max=450), HTML(value='')))"
      ]
     },
     "metadata": {},
     "output_type": "display_data"
    },
    {
     "data": {
      "application/vnd.jupyter.widget-view+json": {
       "model_id": "cfa276cfd3024722a6f370cda68f805a",
       "version_major": 2,
       "version_minor": 0
      },
      "text/plain": [
       "HBox(children=(IntProgress(value=0, description='Batches', max=450), HTML(value='')))"
      ]
     },
     "metadata": {},
     "output_type": "display_data"
    },
    {
     "data": {
      "application/vnd.jupyter.widget-view+json": {
       "model_id": "f60dc54ae7fa4b23941db360a73a3bb1",
       "version_major": 2,
       "version_minor": 0
      },
      "text/plain": [
       "HBox(children=(IntProgress(value=0, description='Batches', max=450), HTML(value='')))"
      ]
     },
     "metadata": {},
     "output_type": "display_data"
    },
    {
     "data": {
      "application/vnd.jupyter.widget-view+json": {
       "model_id": "b0f6de7120894b2fae87b92caba2e8f3",
       "version_major": 2,
       "version_minor": 0
      },
      "text/plain": [
       "HBox(children=(IntProgress(value=0, description='Batches', max=450), HTML(value='')))"
      ]
     },
     "metadata": {},
     "output_type": "display_data"
    },
    {
     "data": {
      "application/vnd.jupyter.widget-view+json": {
       "model_id": "131af51aef0145d98b39f6b0c1406789",
       "version_major": 2,
       "version_minor": 0
      },
      "text/plain": [
       "HBox(children=(IntProgress(value=0, description='Batches', max=450), HTML(value='')))"
      ]
     },
     "metadata": {},
     "output_type": "display_data"
    },
    {
     "data": {
      "application/vnd.jupyter.widget-view+json": {
       "model_id": "704ce7bd898d43c6b252e0a98e22da8f",
       "version_major": 2,
       "version_minor": 0
      },
      "text/plain": [
       "HBox(children=(IntProgress(value=0, description='Batches', max=450), HTML(value='')))"
      ]
     },
     "metadata": {},
     "output_type": "display_data"
    },
    {
     "data": {
      "application/vnd.jupyter.widget-view+json": {
       "model_id": "4090d76258484fdeb3119b33fd0dfb44",
       "version_major": 2,
       "version_minor": 0
      },
      "text/plain": [
       "HBox(children=(IntProgress(value=0, description='Batches', max=450), HTML(value='')))"
      ]
     },
     "metadata": {},
     "output_type": "display_data"
    },
    {
     "data": {
      "application/vnd.jupyter.widget-view+json": {
       "model_id": "5a8fa8b7a8c5485b980650281707e769",
       "version_major": 2,
       "version_minor": 0
      },
      "text/plain": [
       "HBox(children=(IntProgress(value=0, description='Batches', max=450), HTML(value='')))"
      ]
     },
     "metadata": {},
     "output_type": "display_data"
    },
    {
     "data": {
      "application/vnd.jupyter.widget-view+json": {
       "model_id": "31c46aa74a9c4df894c995ad709c2f88",
       "version_major": 2,
       "version_minor": 0
      },
      "text/plain": [
       "HBox(children=(IntProgress(value=0, description='Batches', max=450), HTML(value='')))"
      ]
     },
     "metadata": {},
     "output_type": "display_data"
    },
    {
     "data": {
      "application/vnd.jupyter.widget-view+json": {
       "model_id": "6f07d6ba7cd444139e360db66d1400d7",
       "version_major": 2,
       "version_minor": 0
      },
      "text/plain": [
       "HBox(children=(IntProgress(value=0, description='Batches', max=450), HTML(value='')))"
      ]
     },
     "metadata": {},
     "output_type": "display_data"
    },
    {
     "data": {
      "application/vnd.jupyter.widget-view+json": {
       "model_id": "55deab04369e46819631e2151f422af2",
       "version_major": 2,
       "version_minor": 0
      },
      "text/plain": [
       "HBox(children=(IntProgress(value=0, description='Batches', max=450), HTML(value='')))"
      ]
     },
     "metadata": {},
     "output_type": "display_data"
    },
    {
     "data": {
      "application/vnd.jupyter.widget-view+json": {
       "model_id": "7d4e08de96904238a88338738224d3e3",
       "version_major": 2,
       "version_minor": 0
      },
      "text/plain": [
       "HBox(children=(IntProgress(value=0, description='Batches', max=450), HTML(value='')))"
      ]
     },
     "metadata": {},
     "output_type": "display_data"
    },
    {
     "data": {
      "application/vnd.jupyter.widget-view+json": {
       "model_id": "6b7d5ba8bb6d49a3bc92f5ff01c42ccf",
       "version_major": 2,
       "version_minor": 0
      },
      "text/plain": [
       "HBox(children=(IntProgress(value=0, description='Batches', max=450), HTML(value='')))"
      ]
     },
     "metadata": {},
     "output_type": "display_data"
    },
    {
     "data": {
      "application/vnd.jupyter.widget-view+json": {
       "model_id": "625aac143cfd4131b743f644a10db4a5",
       "version_major": 2,
       "version_minor": 0
      },
      "text/plain": [
       "HBox(children=(IntProgress(value=0, description='Batches', max=450), HTML(value='')))"
      ]
     },
     "metadata": {},
     "output_type": "display_data"
    },
    {
     "data": {
      "application/vnd.jupyter.widget-view+json": {
       "model_id": "7669fa955a664a73b5b4d9009e2346f2",
       "version_major": 2,
       "version_minor": 0
      },
      "text/plain": [
       "HBox(children=(IntProgress(value=0, description='Batches', max=450), HTML(value='')))"
      ]
     },
     "metadata": {},
     "output_type": "display_data"
    },
    {
     "data": {
      "application/vnd.jupyter.widget-view+json": {
       "model_id": "d665d42e6a804e1ba2150e8feed2fca3",
       "version_major": 2,
       "version_minor": 0
      },
      "text/plain": [
       "HBox(children=(IntProgress(value=0, description='Batches', max=450), HTML(value='')))"
      ]
     },
     "metadata": {},
     "output_type": "display_data"
    },
    {
     "data": {
      "application/vnd.jupyter.widget-view+json": {
       "model_id": "4fb2ebdda10f44bfa1da9cef09bb9ae2",
       "version_major": 2,
       "version_minor": 0
      },
      "text/plain": [
       "HBox(children=(IntProgress(value=0, description='Batches', max=450), HTML(value='')))"
      ]
     },
     "metadata": {},
     "output_type": "display_data"
    },
    {
     "data": {
      "application/vnd.jupyter.widget-view+json": {
       "model_id": "041701c8bc6c4a559abf127126e43873",
       "version_major": 2,
       "version_minor": 0
      },
      "text/plain": [
       "HBox(children=(IntProgress(value=0, description='Batches', max=450), HTML(value='')))"
      ]
     },
     "metadata": {},
     "output_type": "display_data"
    },
    {
     "data": {
      "application/vnd.jupyter.widget-view+json": {
       "model_id": "a8c93426a0ab4d12a2eccb7b31aececf",
       "version_major": 2,
       "version_minor": 0
      },
      "text/plain": [
       "HBox(children=(IntProgress(value=0, description='Batches', max=450), HTML(value='')))"
      ]
     },
     "metadata": {},
     "output_type": "display_data"
    },
    {
     "data": {
      "application/vnd.jupyter.widget-view+json": {
       "model_id": "ffb5d73806b34f9ca71e56aa7a606074",
       "version_major": 2,
       "version_minor": 0
      },
      "text/plain": [
       "HBox(children=(IntProgress(value=0, description='Batches', max=450), HTML(value='')))"
      ]
     },
     "metadata": {},
     "output_type": "display_data"
    },
    {
     "data": {
      "application/vnd.jupyter.widget-view+json": {
       "model_id": "94fb4d26fb3d486c843f65fd7d7e9838",
       "version_major": 2,
       "version_minor": 0
      },
      "text/plain": [
       "HBox(children=(IntProgress(value=0, description='Batches', max=450), HTML(value='')))"
      ]
     },
     "metadata": {},
     "output_type": "display_data"
    },
    {
     "data": {
      "application/vnd.jupyter.widget-view+json": {
       "model_id": "9454693d6647427eab75b657e3871c3c",
       "version_major": 2,
       "version_minor": 0
      },
      "text/plain": [
       "HBox(children=(IntProgress(value=0, description='Batches', max=450), HTML(value='')))"
      ]
     },
     "metadata": {},
     "output_type": "display_data"
    },
    {
     "data": {
      "application/vnd.jupyter.widget-view+json": {
       "model_id": "5fce4e04a19543759d6401f1a9082281",
       "version_major": 2,
       "version_minor": 0
      },
      "text/plain": [
       "HBox(children=(IntProgress(value=0, description='Batches', max=450), HTML(value='')))"
      ]
     },
     "metadata": {},
     "output_type": "display_data"
    },
    {
     "data": {
      "application/vnd.jupyter.widget-view+json": {
       "model_id": "a5cf486fe5f64067a8b94ccfa391489c",
       "version_major": 2,
       "version_minor": 0
      },
      "text/plain": [
       "HBox(children=(IntProgress(value=0, description='Batches', max=450), HTML(value='')))"
      ]
     },
     "metadata": {},
     "output_type": "display_data"
    },
    {
     "data": {
      "application/vnd.jupyter.widget-view+json": {
       "model_id": "934822d4dbf74e789441f2c0b7132ed6",
       "version_major": 2,
       "version_minor": 0
      },
      "text/plain": [
       "HBox(children=(IntProgress(value=0, description='Batches', max=450), HTML(value='')))"
      ]
     },
     "metadata": {},
     "output_type": "display_data"
    },
    {
     "data": {
      "application/vnd.jupyter.widget-view+json": {
       "model_id": "b40296ea416745a3966e684f7a775890",
       "version_major": 2,
       "version_minor": 0
      },
      "text/plain": [
       "HBox(children=(IntProgress(value=0, description='Batches', max=450), HTML(value='')))"
      ]
     },
     "metadata": {},
     "output_type": "display_data"
    },
    {
     "data": {
      "application/vnd.jupyter.widget-view+json": {
       "model_id": "e5b4e1dc68804299a08e334f6e2bbc46",
       "version_major": 2,
       "version_minor": 0
      },
      "text/plain": [
       "HBox(children=(IntProgress(value=0, description='Batches', max=450), HTML(value='')))"
      ]
     },
     "metadata": {},
     "output_type": "display_data"
    },
    {
     "data": {
      "application/vnd.jupyter.widget-view+json": {
       "model_id": "cebe5af822664c08810bff92804b9acb",
       "version_major": 2,
       "version_minor": 0
      },
      "text/plain": [
       "HBox(children=(IntProgress(value=0, description='Batches', max=450), HTML(value='')))"
      ]
     },
     "metadata": {},
     "output_type": "display_data"
    },
    {
     "data": {
      "application/vnd.jupyter.widget-view+json": {
       "model_id": "98a2a943ba9c4488b7c3d054a9f4bd50",
       "version_major": 2,
       "version_minor": 0
      },
      "text/plain": [
       "HBox(children=(IntProgress(value=0, description='Batches', max=450), HTML(value='')))"
      ]
     },
     "metadata": {},
     "output_type": "display_data"
    },
    {
     "data": {
      "application/vnd.jupyter.widget-view+json": {
       "model_id": "38262b10e7924903990a02799cba1768",
       "version_major": 2,
       "version_minor": 0
      },
      "text/plain": [
       "HBox(children=(IntProgress(value=0, description='Batches', max=450), HTML(value='')))"
      ]
     },
     "metadata": {},
     "output_type": "display_data"
    },
    {
     "data": {
      "application/vnd.jupyter.widget-view+json": {
       "model_id": "d836810df59b439194928d0b5d6c4f2e",
       "version_major": 2,
       "version_minor": 0
      },
      "text/plain": [
       "HBox(children=(IntProgress(value=0, description='Batches', max=450), HTML(value='')))"
      ]
     },
     "metadata": {},
     "output_type": "display_data"
    },
    {
     "data": {
      "application/vnd.jupyter.widget-view+json": {
       "model_id": "c45d50d90d4245a8906f588805ef52f6",
       "version_major": 2,
       "version_minor": 0
      },
      "text/plain": [
       "HBox(children=(IntProgress(value=0, description='Batches', max=450), HTML(value='')))"
      ]
     },
     "metadata": {},
     "output_type": "display_data"
    },
    {
     "data": {
      "application/vnd.jupyter.widget-view+json": {
       "model_id": "8993432230764e4db59a5ff77f32e4ce",
       "version_major": 2,
       "version_minor": 0
      },
      "text/plain": [
       "HBox(children=(IntProgress(value=0, description='Batches', max=450), HTML(value='')))"
      ]
     },
     "metadata": {},
     "output_type": "display_data"
    },
    {
     "data": {
      "application/vnd.jupyter.widget-view+json": {
       "model_id": "cfd94d07179d477e9515fca31b8e0ecf",
       "version_major": 2,
       "version_minor": 0
      },
      "text/plain": [
       "HBox(children=(IntProgress(value=0, description='Batches', max=450), HTML(value='')))"
      ]
     },
     "metadata": {},
     "output_type": "display_data"
    },
    {
     "name": "stdout",
     "output_type": "stream",
     "text": [
      "\n",
      "Done.\n",
      "Sampling approximate posterior...\n"
     ]
    },
    {
     "name": "stderr",
     "output_type": "stream",
     "text": [
      "/Users/charnock/Physics/delfi/ndes/nde.py:232: RuntimeWarning: divide by zero encountered in log\n",
      "  if np.isnan(np.mean(np.log(like))):\n",
      "/Users/charnock/Physics/delfi/ndes/nde.py:235: RuntimeWarning: divide by zero encountered in log\n",
      "  return np.mean(np.log(like))\n"
     ]
    },
    {
     "name": "stdout",
     "output_type": "stream",
     "text": [
      "Done.\n"
     ]
    },
    {
     "name": "stderr",
     "output_type": "stream",
     "text": [
      "WARNING:root:fine_bins_2D not large enough for optimal density\n",
      "WARNING:root:2D kernel density bandwidth optimizer failed for \\Omega_b, n_s. Using fallback width.\n"
     ]
    },
    {
     "name": "stdout",
     "output_type": "stream",
     "text": [
      "Saving fish_pretrain_post.pdf\n"
     ]
    },
    {
     "data": {
      "image/png": "[encoded data removed]",
      "text/plain": [
       "<Figure size 864x864 with 15 Axes>"
      ]
     },
     "metadata": {
      "needs_background": "light"
     },
     "output_type": "display_data"
    }
   ],
   "source": [
    "# Do the Fisher pre-training\n",
    "mdn.sess.run(tf.global_variables_initializer())\n",
    "mdn.fisher_pretraining(50000, prior, epochs=50, epsilon = 1e-37)"
   ]
  },
  {
   "cell_type": "code",
   "execution_count": null,
   "metadata": {
    "ExecuteTime": {
     "end_time": "2018-09-04T14:15:59.036295Z",
     "start_time": "2018-09-04T14:15:07.906Z"
    }
   },
   "outputs": [
    {
     "name": "stdout",
     "output_type": "stream",
     "text": [
      "Running initial 500 sims...\n",
      "Simulator returns exception for parameter values: [0.287872   0.79972294 0.03198945 0.52501646 1.0299754 ] (rank 0)\n",
      "Simulator returns exception for parameter values: [0.28434937 0.79360663 0.0705683  0.78704449 0.99334172] (rank 0)\n",
      "Simulator returns exception for parameter values: [0.3107392  0.79839113 0.05117976 0.77186699 0.92018414] (rank 0)\n",
      "Simulator returns exception for parameter values: [0.30955186 0.7969196  0.02706021 0.54191456 1.00543572] (rank 0)\n",
      "Simulator returns exception for parameter values: [0.29125605 0.79492596 0.03188935 0.56834755 1.01155257] (rank 0)\n",
      "Simulator returns exception for parameter values: [0.28766888 0.797214   0.00689374 0.52866159 0.98438445] (rank 0)\n",
      "Simulator returns exception for parameter values: [0.28705443 0.80260417 0.05466502 0.69105961 0.97042738] (rank 0)\n",
      "Simulator returns exception for parameter values: [0.29534876 0.80223963 0.02396234 0.64498878 0.92840555] (rank 0)\n",
      "Simulator returns exception for parameter values: [0.2942834  0.80071243 0.00814115 0.60015693 0.91729927] (rank 0)\n",
      "Simulator returns exception for parameter values: [0.30598697 0.79820669 0.01500581 0.55864281 0.96037564] (rank 0)\n",
      "Simulator returns exception for parameter values: [0.27414624 0.79582686 0.01860751 0.6417198  0.96740382] (rank 0)\n",
      "Simulator returns exception for parameter values: [0.31408942 0.80535058 0.0395896  0.69786276 0.90558021] (rank 0)\n",
      "Simulator returns exception for parameter values: [0.2854276  0.79565797 0.05388385 0.80073327 0.94778136] (rank 0)\n",
      "Simulator returns exception for parameter values: [0.29182379 0.79977902 0.07085587 0.77474093 0.97368127] (rank 0)\n",
      "Simulator returns exception for parameter values: [0.30401944 0.79471327 0.07874794 0.97853634 0.89137841] (rank 0)\n",
      "Simulator returns exception for parameter values: [0.29671005 0.80221793 0.05105633 0.59443593 1.0042078 ] (rank 0)\n",
      "Simulator returns exception for parameter values: [0.30867077 0.79263113 0.04066185 0.52427868 1.06014638] (rank 0)\n",
      "Simulator returns exception for parameter values: [0.31958637 0.79652746 0.03374874 0.48669017 1.03823008] (rank 0)\n",
      "Simulator returns exception for parameter values: [0.29718694 0.798014   0.02174882 0.55665524 0.97854276] (rank 0)\n",
      "Simulator returns exception for parameter values: [0.29653396 0.79833074 0.04497658 0.76796868 0.91137628] (rank 0)\n",
      "Simulator returns exception for parameter values: [0.29338236 0.79828641 0.05152312 0.65068335 1.00951549] (rank 0)\n",
      "Simulator returns exception for parameter values: [0.2817049  0.79673919 0.08999908 0.96815614 0.92854147] (rank 0)\n",
      "Simulator returns exception for parameter values: [0.28794248 0.79648033 0.05497123 0.66432884 1.01459537] (rank 0)\n",
      "Simulator returns exception for parameter values: [0.30763877 0.79014389 0.06530221 0.70156762 1.033551  ] (rank 0)\n",
      "Simulator returns exception for parameter values: [0.29944256 0.7962778  0.04873478 0.68923277 0.98101491] (rank 0)\n",
      "Simulator returns exception for parameter values: [0.30605619 0.79909112 0.08207934 0.93421462 0.89489063] (rank 0)\n",
      "Simulator returns exception for parameter values: [0.31757946 0.80328491 0.06803678 0.68079522 0.98525084] (rank 0)\n",
      "Simulator returns exception for parameter values: [0.29433494 0.79947373 0.08094073 0.88038553 0.93291567] (rank 0)\n",
      "Simulator returns exception for parameter values: [0.30126418 0.80539796 0.0354061  0.65654544 0.93361592] (rank 0)\n",
      "Simulator returns exception for parameter values: [0.31034015 0.80358278 0.07080542 0.83091059 0.90829215] (rank 0)\n",
      "Simulator returns exception for parameter values: [0.29462717 0.80190097 0.03733617 0.49875034 1.03573641] (rank 0)\n",
      "Simulator returns exception for parameter values: [0.30632831 0.79940274 0.08985788 0.9010448  0.9590769 ] (rank 0)\n",
      "Simulator returns exception for parameter values: [0.28995524 0.79625923 0.03442114 0.58577977 0.99566447] (rank 0)\n",
      "Simulator returns exception for parameter values: [0.30399828 0.79530279 0.0503234  0.63593799 1.01749566] (rank 0)\n",
      "Simulator returns exception for parameter values: [0.29913122 0.80060018 0.08064146 0.88395272 0.93314097] (rank 0)\n",
      "Simulator returns exception for parameter values: [0.29432721 0.80144634 0.01253585 0.55013453 0.95298626] (rank 0)\n",
      "Simulator returns exception for parameter values: [0.29643521 0.79578781 0.09400024 0.9205429  0.953355  ] (rank 0)\n",
      "Simulator returns exception for parameter values: [0.30792878 0.79699562 0.05856038 0.77521111 0.96159066] (rank 0)\n",
      "Simulator returns exception for parameter values: [0.32239302 0.80250369 0.08303032 0.84579169 0.93879675] (rank 0)\n",
      "Simulator returns exception for parameter values: [0.30276348 0.8011974  0.03235736 0.64451346 0.93204568] (rank 0)\n",
      "Simulator returns exception for parameter values: [0.30988542 0.80531228 0.02368795 0.41926874 1.02579355] (rank 0)\n",
      "Simulator returns exception for parameter values: [0.30074986 0.80260702 0.01603555 0.42598771 1.02583622] (rank 0)\n",
      "Simulator returns exception for parameter values: [0.29295509 0.80140008 0.00341452 0.42834071 0.99344612] (rank 0)\n",
      "Simulator returns exception for parameter values: [0.31522112 0.80444311 0.06953005 0.85169015 0.88881064] (rank 0)\n",
      "Simulator returns exception for parameter values: [0.29360656 0.80055152 0.09661095 0.90036039 0.94797918] (rank 0)\n",
      "Simulator returns exception for parameter values: [0.28819914 0.7928254  0.08198673 0.92584441 0.94127235] (rank 0)\n",
      "Simulator returns exception for parameter values: [0.29499815 0.80138505 0.02628397 0.58905123 0.97069723] (rank 0)\n",
      "Simulator returns exception for parameter values: [0.31169152 0.80093573 0.0305704  0.46382643 1.05282181] (rank 0)\n",
      "Simulator returns exception for parameter values: [0.29495248 0.80149495 0.02464144 0.55728191 0.97671824] (rank 0)\n",
      "Simulator returns exception for parameter values: [0.29088089 0.79706311 0.06159839 0.99308545 0.83433051] (rank 0)\n",
      "Simulator returns exception for parameter values: [0.30098717 0.80366283 0.05509377 0.58231184 1.02773052] (rank 0)\n",
      "Simulator returns exception for parameter values: [0.29715991 0.79629434 0.0388613  0.55797479 1.03627156] (rank 0)\n",
      "Simulator returns exception for parameter values: [0.29301319 0.7960697  0.06609259 0.84873227 0.94589164] (rank 0)\n",
      "Simulator returns exception for parameter values: [0.29930145 0.79739836 0.06421892 0.64447784 1.0408152 ] (rank 0)\n",
      "Simulator returns exception for parameter values: [0.2925612  0.79894064 0.06182813 0.89317468 0.88560616] (rank 0)\n",
      "Simulator returns exception for parameter values: [0.30451087 0.80011483 0.0782478  0.85566066 0.93701579] (rank 0)\n",
      "Simulator returns exception for parameter values: [0.27343436 0.80071415 0.00743402 0.57136555 0.93476811] (rank 0)\n",
      "Simulator returns exception for parameter values: [0.31560097 0.80595587 0.01453798 0.4982475  0.96600907] (rank 0)\n",
      "Simulator returns exception for parameter values: [0.29485814 0.80153076 0.09223128 0.772528   1.01662672] (rank 0)\n",
      "Simulator returns exception for parameter values: [0.30293113 0.80291585 0.0372635  0.66731052 0.94872642] (rank 0)\n",
      "Simulator returns exception for parameter values: [0.29762874 0.79363623 0.08888897 0.93887017 0.9395575 ] (rank 0)\n",
      "Simulator returns exception for parameter values: [0.30241907 0.79551033 0.0265123  0.5785569  0.98655385] (rank 0)\n",
      "Simulator returns exception for parameter values: [0.30816903 0.80520011 0.09160285 0.96965533 0.88405146] (rank 0)\n",
      "Simulator returns exception for parameter values: [0.28204578 0.80213475 0.03445511 0.71554589 0.92458397] (rank 0)\n",
      "Simulator returns exception for parameter values: [0.29694083 0.79850966 0.07738536 0.71441028 1.02356055] (rank 0)\n",
      "Simulator returns exception for parameter values: [0.29997778 0.801041   0.05554947 0.92855413 0.84747904] (rank 0)\n",
      "Simulator returns exception for parameter values: [0.30293108 0.80037076 0.00533319 0.41227608 1.02467124] (rank 0)\n",
      "Simulator returns exception for parameter values: [0.30706056 0.80468437 0.04800114 0.78011588 0.89762006] (rank 0)\n",
      "Simulator returns exception for parameter values: [0.29390975 0.80079291 0.03714201 0.63772023 0.95705929] (rank 0)\n",
      "Simulator returns exception for parameter values: [0.3000491  0.80325243 0.03357583 0.67638878 0.91755853] (rank 0)\n",
      "Simulator returns exception for parameter values: [0.30942427 0.79736317 0.03641242 0.54944178 1.02123287] (rank 0)\n",
      "Simulator returns exception for parameter values: [0.30881617 0.79868863 0.06521245 0.73403574 0.97901894] (rank 0)\n",
      "Simulator returns exception for parameter values: [0.30059354 0.79864899 0.09760734 0.97016971 0.9171586 ] (rank 0)\n",
      "Simulator returns exception for parameter values: [0.29577796 0.80061194 0.04693857 0.66938652 0.95902602] (rank 0)\n",
      "Simulator returns exception for parameter values: [0.29133588 0.79764664 0.04571391 0.7482059  0.94401245] (rank 0)\n",
      "Simulator returns exception for parameter values: [0.29518626 0.79910345 0.07473075 0.81443922 0.96303047] (rank 0)\n",
      "Simulator returns exception for parameter values: [0.31245394 0.80361838 0.01887315 0.47376335 1.00101932] (rank 0)\n",
      "Simulator returns exception for parameter values: [0.28136925 0.80334727 0.04166099 0.67822116 0.95463573] (rank 0)\n",
      "Simulator returns exception for parameter values: [0.30611092 0.80173379 0.04117718 0.62591729 0.97550994] (rank 0)\n",
      "Simulator returns exception for parameter values: [0.30256756 0.79923371 0.07934857 0.91450416 0.91105648] (rank 0)\n",
      "Simulator returns exception for parameter values: [0.30190169 0.80100583 0.07047102 0.72242198 0.98935448] (rank 0)\n",
      "Simulator returns exception for parameter values: [0.28577819 0.80664216 0.04062033 0.70825378 0.92161752] (rank 0)\n",
      "Simulator returns exception for parameter values: [0.29403093 0.80214395 0.02224613 0.52945552 0.9877747 ] (rank 0)\n",
      "Simulator returns exception for parameter values: [0.30213264 0.80578281 0.05009742 0.68363512 0.94915248] (rank 0)\n",
      "Simulator returns exception for parameter values: [0.30120859 0.803288   0.01441121 0.53008248 0.94975435] (rank 0)\n",
      "Simulator returns exception for parameter values: [0.29987565 0.80094588 0.07813557 0.74932185 0.99738359] (rank 0)\n",
      "Simulator returns exception for parameter values: [0.30074138 0.80259551 0.04120664 0.71099429 0.92785053] (rank 0)\n",
      "Simulator returns exception for parameter values: [0.29599321 0.80080527 0.00148308 0.41168551 1.0126552 ] (rank 0)\n",
      "Simulator returns exception for parameter values: [0.27154156 0.80531679 0.07264278 0.93497059 0.87104524] (rank 0)\n",
      "Simulator returns exception for parameter values: [0.30624591 0.79702343 0.04323419 0.72489709 0.93952548] (rank 0)\n",
      "Simulator returns exception for parameter values: [0.30319051 0.79883593 0.05343185 0.62963156 1.01220727] (rank 0)\n",
      "Simulator returns exception for parameter values: [0.29858619 0.80399186 0.03359701 0.62383783 0.95407746] (rank 0)\n",
      "Simulator returns exception for parameter values: [0.29518929 0.79890816 0.03949532 0.58482725 0.99857987] (rank 0)\n",
      "Simulator returns exception for parameter values: [0.29948295 0.79878627 0.07159586 0.81277048 0.9416929 ] (rank 0)\n",
      "Simulator returns exception for parameter values: [0.31049702 0.81006509 0.05841852 0.70646893 0.93738173] (rank 0)\n",
      "Simulator returns exception for parameter values: [0.3013097  0.7971265  0.01197647 0.43664663 1.03824794] (rank 0)\n",
      "Simulator returns exception for parameter values: [0.3023362  0.80142057 0.06916976 0.77509513 0.94766283] (rank 0)\n",
      "Simulator returns exception for parameter values: [0.30742136 0.79968088 0.05195968 0.55589269 1.03577598] (rank 0)\n",
      "Simulator returns exception for parameter values: [0.29324394 0.79784702 0.03558327 0.50617941 1.04525419] (rank 0)\n",
      "Simulator returns exception for parameter values: [0.30692169 0.80245558 0.0260407  0.42338438 1.03859044] (rank 0)\n",
      "Simulator returns exception for parameter values: [0.29686275 0.79519999 0.07725703 0.82846675 0.96440455] (rank 0)\n",
      "Simulator returns exception for parameter values: [0.29215802 0.80218458 0.02543097 0.48972084 1.02133009] (rank 0)\n",
      "Simulator returns exception for parameter values: [0.30196152 0.80200017 0.0319531  0.6183761  0.95800321] (rank 0)\n",
      "Simulator returns exception for parameter values: [0.30926442 0.80155086 0.02775827 0.48707902 1.01448232] (rank 0)\n",
      "Simulator returns exception for parameter values: [0.3078197  0.80155377 0.03440605 0.67171803 0.94080036] (rank 0)\n",
      "Simulator returns exception for parameter values: [0.29693057 0.79736558 0.01311223 0.56635948 0.9636637 ] (rank 0)\n",
      "Simulator returns exception for parameter values: [0.29065516 0.79748867 0.0411949  0.69255369 0.94180585] (rank 0)\n",
      "Simulator returns exception for parameter values: [0.28395759 0.79580054 0.08357753 0.95343842 0.90505251] (rank 0)\n",
      "Simulator returns exception for parameter values: [0.31054102 0.80266487 0.03610095 0.47277286 1.03649147] (rank 0)\n",
      "Simulator returns exception for parameter values: [0.3176929  0.79738021 0.04569736 0.77030357 0.90742578] (rank 0)\n",
      "Simulator returns exception for parameter values: [0.29603054 0.79868496 0.02593166 0.6445332  0.93864462] (rank 0)\n",
      "Simulator returns exception for parameter values: [0.32926386 0.80425238 0.07235782 0.76823065 0.94608292] (rank 0)\n",
      "Simulator returns exception for parameter values: [0.28167364 0.79578059 0.02455209 0.63109487 0.96009647] (rank 0)\n",
      "Simulator returns exception for parameter values: [0.31736744 0.8030805  0.04593454 0.66945845 0.94977445] (rank 0)\n",
      "Simulator returns exception for parameter values: [0.30169127 0.79717099 0.01911651 0.489786   1.01293865] (rank 0)\n",
      "Simulator returns exception for parameter values: [0.30199176 0.79748697 0.0782093  0.91545962 0.90487474] (rank 0)\n",
      "Simulator returns exception for parameter values: [0.28570127 0.80087721 0.06293898 0.89702809 0.88945013] (rank 0)\n",
      "Simulator returns exception for parameter values: [0.32208422 0.80980334 0.04608891 0.64049488 0.92794369] (rank 0)\n",
      "Simulator returns exception for parameter values: [0.31350478 0.79946899 0.06456212 0.8396572  0.9193654 ] (rank 0)\n",
      "Simulator returns exception for parameter values: [0.30921758 0.80635049 0.0579816  0.71838194 0.94022038] (rank 0)\n",
      "Simulator returns exception for parameter values: [0.28572947 0.80400102 0.02825474 0.67103031 0.92014755] (rank 0)\n",
      "Simulator returns exception for parameter values: [0.31378587 0.80117837 0.09830681 0.99106396 0.89604648] (rank 0)\n",
      "Simulator returns exception for parameter values: [0.29779148 0.80260126 0.05867936 0.6319679  1.01109375] (rank 0)\n",
      "Simulator returns exception for parameter values: [0.31696258 0.80279632 0.06629629 0.73590068 0.94384812] (rank 0)\n",
      "Simulator returns exception for parameter values: [0.30414056 0.80211341 0.02773821 0.53957333 0.98545101] (rank 0)\n",
      "Simulator returns exception for parameter values: [0.29339181 0.79925203 0.06782833 0.88377746 0.915553  ] (rank 0)\n",
      "Simulator returns exception for parameter values: [0.29412423 0.79997845 0.06789933 0.87444538 0.90664245] (rank 0)\n",
      "Simulator returns exception for parameter values: [0.3172809  0.80101858 0.08799513 0.8966804  0.92166967] (rank 0)\n",
      "Simulator returns exception for parameter values: [0.29868392 0.79827029 0.00334265 0.41931562 1.01603837] (rank 0)\n",
      "Simulator returns exception for parameter values: [0.31096518 0.80632031 0.07160551 0.73399736 0.95769525] (rank 0)\n",
      "Simulator returns exception for parameter values: [0.30766696 0.79811077 0.08970631 0.88176628 0.95326321] (rank 0)\n",
      "Simulator returns exception for parameter values: [0.30988036 0.80800526 0.02398417 0.65136189 0.90320446] (rank 0)\n",
      "Simulator returns exception for parameter values: [0.2766818  0.8031276  0.01260485 0.5130291  0.98262534] (rank 0)\n",
      "Simulator returns exception for parameter values: [0.28315501 0.79822071 0.03471002 0.81251707 0.85978107] (rank 0)\n",
      "Simulator returns exception for parameter values: [0.29261616 0.794781   0.06565623 0.78997374 0.97069173] (rank 0)\n",
      "Simulator returns exception for parameter values: [0.3030835  0.79593122 0.08695833 0.87970643 0.95780448] (rank 0)\n",
      "Simulator returns exception for parameter values: [0.29765124 0.79667886 0.09882608 0.88209759 0.98381705] (rank 0)\n",
      "Simulator returns exception for parameter values: [0.30511535 0.79829923 0.09336899 0.93329753 0.93876182] (rank 0)\n",
      "Simulator returns exception for parameter values: [0.30303356 0.8014694  0.08092388 0.9991892  0.85082929] (rank 0)\n",
      "Simulator returns exception for parameter values: [0.29433237 0.80525404 0.0568635  0.64546927 0.99743351] (rank 0)\n",
      "Simulator returns exception for parameter values: [0.30220957 0.7972041  0.0482528  0.65323241 0.99202509] (rank 0)\n",
      "Simulator returns exception for parameter values: [0.31018078 0.79805329 0.01017614 0.42693055 1.0213838 ] (rank 0)\n",
      "Simulator returns exception for parameter values: [3.12498777e-01 8.00963084e-01 3.18576805e-04 4.00023187e-01\n",
      " 1.00850305e+00] (rank 0)\n",
      "Simulator returns exception for parameter values: [0.29606105 0.80404041 0.06331376 0.67098993 0.99771772] (rank 0)\n",
      "Simulator returns exception for parameter values: [0.30716514 0.79861485 0.04967089 0.70575947 0.95358179] (rank 0)\n",
      "Simulator returns exception for parameter values: [0.29990294 0.79877254 0.00634469 0.6870621  0.87450129] (rank 0)\n",
      "Simulator returns exception for parameter values: [0.29536382 0.80149209 0.00275879 0.5344317  0.93862089] (rank 0)\n",
      "Simulator returns exception for parameter values: [0.30881595 0.79753342 0.03668266 0.60768316 0.98432201] (rank 0)\n",
      "Simulator returns exception for parameter values: [0.28120147 0.80375489 0.02672011 0.57641026 0.97200684] (rank 0)\n",
      "Simulator returns exception for parameter values: [0.29306311 0.79774789 0.02717627 0.58426038 0.99635299] (rank 0)\n",
      "Simulator returns exception for parameter values: [0.30834735 0.80149623 0.06926598 0.60268543 1.04864665] (rank 0)\n",
      "Simulator returns exception for parameter values: [0.30768414 0.80654036 0.09571009 0.86688231 0.94852262] (rank 0)\n",
      "Simulator returns exception for parameter values: [0.30198286 0.79320432 0.04201913 0.55488964 1.03379706] (rank 0)\n",
      "Simulator returns exception for parameter values: [0.30982761 0.80395179 0.04266956 0.60199282 0.97965228] (rank 0)\n",
      "Simulator returns exception for parameter values: [0.28869587 0.79656494 0.06678496 0.89950199 0.89244878] (rank 0)\n",
      "Simulator returns exception for parameter values: [0.30979655 0.8017491  0.02754832 0.54522435 0.97516911] (rank 0)\n",
      "Simulator returns exception for parameter values: [0.30116396 0.79815244 0.04017517 0.61469356 0.98466613] (rank 0)\n",
      "Simulator returns exception for parameter values: [0.2952158  0.79896551 0.09022995 0.85076093 0.96606446] (rank 0)\n",
      "Simulator returns exception for parameter values: [0.30237722 0.79863681 0.07687642 0.83731891 0.96134368] (rank 0)\n",
      "Simulator returns exception for parameter values: [0.29215602 0.80132283 0.05661521 0.72243122 0.96497467] (rank 0)\n",
      "Simulator returns exception for parameter values: [0.28437072 0.79494634 0.03934542 0.77788325 0.91192261] (rank 0)\n",
      "Simulator returns exception for parameter values: [0.28888899 0.79953961 0.00971485 0.51527083 0.97031979] (rank 0)\n",
      "Simulator returns exception for parameter values: [0.31289412 0.79843053 0.01564902 0.51749356 0.98094676] (rank 0)\n",
      "Simulator returns exception for parameter values: [0.30322039 0.79752254 0.04147811 0.66735821 0.95853535] (rank 0)\n",
      "Simulator returns exception for parameter values: [0.28987631 0.80291367 0.08418445 0.89882137 0.9191185 ] (rank 0)\n",
      "Simulator returns exception for parameter values: [0.30698826 0.80121649 0.04648773 0.59282812 1.00064015] (rank 0)\n",
      "Simulator returns exception for parameter values: [0.28623263 0.79701706 0.086498   0.94364372 0.93258379] (rank 0)\n",
      "Simulator returns exception for parameter values: [0.2976832  0.80039745 0.07772639 0.90150973 0.92533128] (rank 0)\n",
      "Simulator returns exception for parameter values: [0.30878409 0.79827806 0.07169082 0.80694104 0.94618685] (rank 0)\n",
      "Simulator returns exception for parameter values: [0.29261175 0.79916141 0.06547461 0.81954596 0.94017213] (rank 0)\n",
      "Simulator returns exception for parameter values: [0.32180073 0.80028713 0.00120845 0.54933383 0.90096709] (rank 0)\n",
      "Simulator returns exception for parameter values: [0.29014772 0.79721074 0.05182652 0.88259504 0.87246472] (rank 0)\n",
      "Simulator returns exception for parameter values: [0.28078728 0.79941086 0.0895947  0.99536618 0.8892645 ] (rank 0)\n",
      "Simulator returns exception for parameter values: [0.28063383 0.79402672 0.03416327 0.72545821 0.94628045] (rank 0)\n",
      "Simulator returns exception for parameter values: [0.29352451 0.79534618 0.05799994 0.89099238 0.89156484] (rank 0)\n",
      "Simulator returns exception for parameter values: [0.31092135 0.80327636 0.03149662 0.52735233 0.99773347] (rank 0)\n",
      "Simulator returns exception for parameter values: [0.29526566 0.79415138 0.09042527 0.90396853 0.95474432] (rank 0)\n",
      "Simulator returns exception for parameter values: [0.30760948 0.80134877 0.01711133 0.58343749 0.94919199] (rank 0)\n",
      "Simulator returns exception for parameter values: [0.29588644 0.79787986 0.02489736 0.47405004 1.04579685] (rank 0)\n",
      "Simulator returns exception for parameter values: [0.2998193  0.80154413 0.05565117 0.68721601 0.97726618] (rank 0)\n",
      "Simulator returns exception for parameter values: [0.3043958  0.79816285 0.02597287 0.48347177 1.02670989] (rank 0)\n",
      "Simulator returns exception for parameter values: [0.30478843 0.79379505 0.03369795 0.60549633 0.98087879] (rank 0)\n",
      "Simulator returns exception for parameter values: [0.30181287 0.79778858 0.0911514  0.84188429 0.98346135] (rank 0)\n",
      "Simulator returns exception for parameter values: [0.27980029 0.79286472 0.03647304 0.75418296 0.93489733] (rank 0)\n",
      "Simulator returns exception for parameter values: [0.29475886 0.79610251 0.06626077 0.59126679 1.09196392] (rank 0)\n",
      "Simulator returns exception for parameter values: [0.30439663 0.79566753 0.06542243 0.85100877 0.91683554] (rank 0)\n",
      "Simulator returns exception for parameter values: [0.29996174 0.79997795 0.06837926 0.59589382 1.05398853] (rank 0)\n",
      "Simulator returns exception for parameter values: [0.31011574 0.80200071 0.07754263 0.83559424 0.93767735] (rank 0)\n",
      "Simulator returns exception for parameter values: [0.3132496  0.80183072 0.06237476 0.74054989 0.95856601] (rank 0)\n",
      "Simulator returns exception for parameter values: [0.30665358 0.79895775 0.06862846 0.72376162 0.99547639] (rank 0)\n",
      "Simulator returns exception for parameter values: [0.29663557 0.8036434  0.02408264 0.71233798 0.87696431] (rank 0)\n",
      "Simulator returns exception for parameter values: [0.31791808 0.80572865 0.00336209 0.65551578 0.84759401] (rank 0)\n",
      "Simulator returns exception for parameter values: [0.28516611 0.79660496 0.09178595 0.99639703 0.91638723] (rank 0)\n",
      "Simulator returns exception for parameter values: [0.29126626 0.79789121 0.07081115 0.86282657 0.93012473] (rank 0)\n",
      "Simulator returns exception for parameter values: [0.30864621 0.79867355 0.08485106 0.68400911 1.03759432] (rank 0)\n",
      "Simulator returns exception for parameter values: [0.29322774 0.80187539 0.03874543 0.51942758 1.02757818] (rank 0)\n",
      "Simulator returns exception for parameter values: [0.31491443 0.8014934  0.08295341 0.73309798 1.00787635] (rank 0)\n",
      "Simulator returns exception for parameter values: [0.30602389 0.8033398  0.04053503 0.69449901 0.92227192] (rank 0)\n",
      "Simulator returns exception for parameter values: [0.2872994  0.80430446 0.06073672 0.84932245 0.88166497] (rank 0)\n",
      "Simulator returns exception for parameter values: [0.29200229 0.79349015 0.09160951 0.90610445 0.9722427 ] (rank 0)\n",
      "Simulator returns exception for parameter values: [0.28814391 0.80469501 0.03053603 0.54588094 0.98306656] (rank 0)\n",
      "Simulator returns exception for parameter values: [0.32020947 0.80309394 0.07620478 0.97645105 0.84546894] (rank 0)\n",
      "Simulator returns exception for parameter values: [0.29946376 0.80142935 0.05743452 0.82405251 0.90606707] (rank 0)\n",
      "Simulator returns exception for parameter values: [0.31883607 0.79705044 0.09521329 0.93939819 0.94500816] (rank 0)\n",
      "Simulator returns exception for parameter values: [0.32569185 0.80151159 0.03734843 0.4372621  1.06978565] (rank 0)\n",
      "Simulator returns exception for parameter values: [0.28581689 0.79811765 0.06529151 0.77443267 0.96871769] (rank 0)\n",
      "Simulator returns exception for parameter values: [0.29840048 0.80279804 0.00502444 0.65480355 0.87574919] (rank 0)\n",
      "Simulator returns exception for parameter values: [0.29753536 0.80644576 0.00609063 0.52181711 0.94015804] (rank 0)\n",
      "Simulator returns exception for parameter values: [0.29697225 0.7999247  0.08993774 0.82495505 0.98753987] (rank 0)\n",
      "Simulator returns exception for parameter values: [0.29818282 0.7955399  0.03690651 0.53642254 1.04803617] (rank 0)\n",
      "Simulator returns exception for parameter values: [0.29234242 0.79806501 0.04527072 0.68480907 0.96729642] (rank 0)\n",
      "Simulator returns exception for parameter values: [0.30225183 0.80465475 0.01275255 0.47287237 0.99045886] (rank 0)\n",
      "Simulator returns exception for parameter values: [0.28362292 0.79651893 0.02779191 0.52131428 1.02453541] (rank 0)\n",
      "Simulator returns exception for parameter values: [0.2960064  0.80364516 0.01288019 0.44108153 0.99967835] (rank 0)\n",
      "Simulator returns exception for parameter values: [0.2882001  0.79935427 0.06029262 0.66063503 1.0218098 ] (rank 0)\n",
      "Simulator returns exception for parameter values: [0.30844045 0.80329185 0.01259138 0.5667897  0.92864936] (rank 0)\n",
      "Simulator returns exception for parameter values: [0.30511542 0.80235317 0.07697813 0.79656686 0.9484483 ] (rank 0)\n",
      "Simulator returns exception for parameter values: [0.27969431 0.79802263 0.06147284 0.81057711 0.94201007] (rank 0)\n",
      "Simulator returns exception for parameter values: [0.29651066 0.80059362 0.03957584 0.70151657 0.92827221] (rank 0)\n",
      "Simulator returns exception for parameter values: [0.28662663 0.80233162 0.03696553 0.58542358 0.99362179] (rank 0)\n",
      "Simulator returns exception for parameter values: [0.29800775 0.80458679 0.07264447 0.78677674 0.95031623] (rank 0)\n",
      "Simulator returns exception for parameter values: [0.28503499 0.79486383 0.08345771 0.89893705 0.96104242] (rank 0)\n",
      "Simulator returns exception for parameter values: [0.30162221 0.79734274 0.03384499 0.56669373 0.99673103] (rank 0)\n",
      "Simulator returns exception for parameter values: [0.32792541 0.80028262 0.04443867 0.73610065 0.91630148] (rank 0)\n",
      "Simulator returns exception for parameter values: [0.29866789 0.79848453 0.0693682  0.8160592  0.94688026] (rank 0)\n",
      "Simulator returns exception for parameter values: [0.31241    0.7990947  0.06603345 0.6925446  0.99598547] (rank 0)\n",
      "Simulator returns exception for parameter values: [0.30992593 0.8082748  0.06441911 0.82126338 0.88869196] (rank 0)\n",
      "Simulator returns exception for parameter values: [0.29051691 0.80261367 0.06974901 0.87497958 0.91062567] (rank 0)\n",
      "Simulator returns exception for parameter values: [0.29788206 0.79809376 0.03857434 0.68870529 0.95615526] (rank 0)\n",
      "Simulator returns exception for parameter values: [0.28763646 0.80111636 0.07990822 0.73764778 1.00984664] (rank 0)\n",
      "Simulator returns exception for parameter values: [0.32629084 0.80045308 0.03710566 0.40144604 1.08466018] (rank 0)\n",
      "Simulator returns exception for parameter values: [0.2994922  0.8064489  0.05875227 0.72715226 0.94507425] (rank 0)\n",
      "Simulator returns exception for parameter values: [0.28075248 0.80387802 0.07936204 0.8217823  0.95358539] (rank 0)\n",
      "Simulator returns exception for parameter values: [0.29345968 0.80794749 0.03671032 0.70619866 0.89207143] (rank 0)\n",
      "Simulator returns exception for parameter values: [0.29853539 0.79677512 0.04946301 0.71916717 0.95763339] (rank 0)\n",
      "Simulator returns exception for parameter values: [0.30550277 0.79552481 0.05179446 0.74340565 0.95273433] (rank 0)\n",
      "Simulator returns exception for parameter values: [0.31352517 0.7962466  0.07323945 0.79637759 0.95278134] (rank 0)\n",
      "Simulator returns exception for parameter values: [0.29840976 0.80100758 0.03580268 0.6092867  0.9666587 ] (rank 0)\n",
      "Simulator returns exception for parameter values: [0.30527596 0.80226929 0.06510389 0.97862024 0.83046452] (rank 0)\n",
      "Simulator returns exception for parameter values: [0.30475453 0.79936172 0.04537275 0.6856312  0.96179354] (rank 0)\n",
      "Simulator returns exception for parameter values: [0.2972656  0.79925767 0.04266394 0.76239416 0.90420306] (rank 0)\n",
      "Simulator returns exception for parameter values: [0.2948484  0.79501539 0.02616284 0.59718412 0.9761623 ] (rank 0)\n",
      "Simulator returns exception for parameter values: [0.28479806 0.79874444 0.0270191  0.65771004 0.94016069] (rank 0)\n",
      "Simulator returns exception for parameter values: [0.2979149  0.80013726 0.02292555 0.57678101 0.96588451] (rank 0)\n",
      "Simulator returns exception for parameter values: [0.30914176 0.80107431 0.02443293 0.54245833 0.98502857] (rank 0)\n",
      "Simulator returns exception for parameter values: [0.3222341  0.80521745 0.04263306 0.67463489 0.91253171] (rank 0)\n",
      "Simulator returns exception for parameter values: [0.28620037 0.79493909 0.07344585 0.82892093 0.96760773] (rank 0)\n",
      "Simulator returns exception for parameter values: [0.28347145 0.79588681 0.01654598 0.44563296 1.05067636] (rank 0)\n",
      "Simulator returns exception for parameter values: [0.28882789 0.79314653 0.07577833 0.97912678 0.89224213] (rank 0)\n",
      "Simulator returns exception for parameter values: [0.31088119 0.80729305 0.05090689 0.71677351 0.91662555] (rank 0)\n"
     ]
    },
    {
     "name": "stdout",
     "output_type": "stream",
     "text": [
      "Simulator returns exception for parameter values: [0.29631827 0.80389784 0.04884932 0.81787925 0.87505177] (rank 0)\n",
      "Simulator returns exception for parameter values: [0.30479666 0.80228993 0.05619776 0.61144985 1.00980439] (rank 0)\n",
      "Simulator returns exception for parameter values: [0.31855904 0.80353109 0.05904793 0.72533945 0.94259655] (rank 0)\n",
      "Simulator returns exception for parameter values: [0.28019792 0.79821894 0.04854789 0.7144427  0.96703859] (rank 0)\n",
      "Simulator returns exception for parameter values: [0.30170551 0.80250052 0.09751806 0.89145296 0.95232677] (rank 0)\n",
      "Simulator returns exception for parameter values: [0.29239718 0.79754442 0.05686696 0.71812083 0.99290956] (rank 0)\n",
      "Simulator returns exception for parameter values: [0.32047173 0.80534357 0.0277853  0.47681433 0.99656677] (rank 0)\n",
      "Simulator returns exception for parameter values: [0.31033329 0.79700798 0.07475923 0.75895989 0.9990256 ] (rank 0)\n",
      "Simulator returns exception for parameter values: [0.29969485 0.79862065 0.05819423 0.85915389 0.90772328] (rank 0)\n",
      "Simulator returns exception for parameter values: [0.30350499 0.79952399 0.02568342 0.71428621 0.89891072] (rank 0)\n",
      "Simulator returns exception for parameter values: [0.30822338 0.79854344 0.03150292 0.52703161 1.0281368 ] (rank 0)\n",
      "Simulator returns exception for parameter values: [0.31811649 0.80109252 0.02513749 0.50610234 0.99288098] (rank 0)\n",
      "Simulator returns exception for parameter values: [0.29443033 0.80720329 0.08717223 0.96232021 0.86932886] (rank 0)\n",
      "Simulator returns exception for parameter values: [0.31198858 0.79959183 0.05866336 0.57038691 1.05203524] (rank 0)\n",
      "Simulator returns exception for parameter values: [0.28621338 0.79369001 0.09405608 0.94916883 0.96212421] (rank 0)\n",
      "Simulator returns exception for parameter values: [0.29563869 0.80140007 0.06680654 0.862542   0.90889306] (rank 0)\n",
      "Simulator returns exception for parameter values: [0.30490789 0.80450563 0.07608755 0.70511802 0.99545136] (rank 0)\n",
      "Simulator returns exception for parameter values: [0.30477305 0.79788544 0.06289476 0.93040385 0.86526569] (rank 0)\n",
      "Simulator returns exception for parameter values: [0.29243099 0.79840444 0.04807557 0.50476227 1.07356554] (rank 0)\n",
      "Simulator returns exception for parameter values: [0.30503435 0.79849039 0.032308   0.5067771  1.03787543] (rank 0)\n",
      "Simulator returns exception for parameter values: [0.3156191  0.80299742 0.07143851 0.68928334 1.00459825] (rank 0)\n",
      "Simulator returns exception for parameter values: [0.30119    0.79793206 0.09023855 0.95584368 0.90545716] (rank 0)\n",
      "Simulator returns exception for parameter values: [0.30827651 0.80106311 0.07581481 0.90919453 0.89261676] (rank 0)\n",
      "Simulator returns exception for parameter values: [0.29691538 0.79608375 0.03798711 0.59136261 1.0104871 ] (rank 0)\n",
      "Simulator returns exception for parameter values: [0.30827719 0.80326484 0.0309453  0.66239215 0.91142187] (rank 0)\n",
      "Simulator returns exception for parameter values: [0.30065818 0.80578985 0.03181945 0.60124847 0.95871857] (rank 0)\n",
      "Simulator returns exception for parameter values: [0.29268526 0.80372848 0.04146714 0.62308556 0.97796518] (rank 0)\n",
      "Simulator returns exception for parameter values: [0.31043334 0.79706177 0.04990793 0.76192115 0.91925511] (rank 0)\n",
      "Simulator returns exception for parameter values: [0.31071334 0.80036562 0.0889651  0.91557165 0.92454127] (rank 0)\n",
      "Simulator returns exception for parameter values: [0.2744228  0.79722532 0.02635461 0.51004459 1.02442278] (rank 0)\n",
      "Simulator returns exception for parameter values: [0.29351483 0.79535235 0.04210492 0.71632391 0.95693402] (rank 0)\n",
      "Simulator returns exception for parameter values: [0.29273276 0.79986052 0.00898902 0.41069266 1.0205478 ] (rank 0)\n",
      "Simulator returns exception for parameter values: [0.30355667 0.79638194 0.08118265 0.85161013 0.95550091] (rank 0)\n",
      "Simulator returns exception for parameter values: [0.30843853 0.80427394 0.06090422 0.84282086 0.8881601 ] (rank 0)\n",
      "Simulator returns exception for parameter values: [0.31053449 0.80044312 0.03521716 0.48347677 1.04381612] (rank 0)\n",
      "Simulator returns exception for parameter values: [0.30346825 0.7984086  0.03393435 0.60116443 0.98085481] (rank 0)\n",
      "Simulator returns exception for parameter values: [0.31392744 0.80134421 0.04038259 0.66257924 0.94715522] (rank 0)\n",
      "Simulator returns exception for parameter values: [0.30144977 0.80603322 0.07084072 0.83352404 0.91033784] (rank 0)\n",
      "Simulator returns exception for parameter values: [0.27882581 0.79837244 0.08542344 0.90437209 0.9471284 ] (rank 0)\n",
      "Simulator returns exception for parameter values: [0.31877313 0.803791   0.09107193 0.90769626 0.90640912] (rank 0)\n",
      "Simulator returns exception for parameter values: [0.30244869 0.79932411 0.04013691 0.68205231 0.95172698] (rank 0)\n",
      "Simulator returns exception for parameter values: [0.29858765 0.80499373 0.03260056 0.54105895 0.98080866] (rank 0)\n",
      "Simulator returns exception for parameter values: [0.30762207 0.80330403 0.00654331 0.64902078 0.86088752] (rank 0)\n",
      "Simulator returns exception for parameter values: [0.31441012 0.8024626  0.053331   0.68015722 0.96014729] (rank 0)\n",
      "Simulator returns exception for parameter values: [0.28921323 0.79549522 0.07340817 0.82019667 0.97681973] (rank 0)\n",
      "Simulator returns exception for parameter values: [0.27915877 0.79842083 0.01826361 0.53265281 0.99875833] (rank 0)\n",
      "Simulator returns exception for parameter values: [0.29803982 0.80067096 0.06397646 0.75839235 0.95077926] (rank 0)\n",
      "Simulator returns exception for parameter values: [0.28805997 0.8104985  0.08199591 0.86402921 0.92966062] (rank 0)\n",
      "Simulator returns exception for parameter values: [0.2948878  0.80236311 0.02520979 0.54323482 0.97352802] (rank 0)\n",
      "Simulator returns exception for parameter values: [0.30486542 0.80497144 0.00139238 0.50155641 0.94022293] (rank 0)\n",
      "Simulator returns exception for parameter values: [0.32791954 0.80602862 0.07191837 0.78301087 0.92864536] (rank 0)\n",
      "Simulator returns exception for parameter values: [0.29618158 0.79799217 0.08492417 0.83502049 0.98216018] (rank 0)\n",
      "Simulator returns exception for parameter values: [0.2924772  0.79747405 0.08775001 0.96610672 0.91528647] (rank 0)\n",
      "Simulator returns exception for parameter values: [0.28171363 0.79998831 0.05487096 0.71431326 0.97543248] (rank 0)\n",
      "Simulator returns exception for parameter values: [0.31634768 0.80010521 0.03377344 0.64128694 0.93465037] (rank 0)\n",
      "Simulator returns exception for parameter values: [0.31029638 0.80140353 0.06798904 0.82873654 0.92327803] (rank 0)\n",
      "Simulator returns exception for parameter values: [0.28428437 0.79786628 0.02229334 0.67234509 0.92203326] (rank 0)\n",
      "Simulator returns exception for parameter values: [0.29468564 0.79573171 0.09725415 0.80132576 1.03011169] (rank 0)\n",
      "Simulator returns exception for parameter values: [0.31084769 0.79904508 0.0665639  0.74601707 0.97428114] (rank 0)\n",
      "Simulator returns exception for parameter values: [0.28950903 0.80035766 0.01007535 0.4409555  1.00553305] (rank 0)\n",
      "Simulator returns exception for parameter values: [0.29225022 0.80330264 0.03335243 0.62089953 0.95217918] (rank 0)\n",
      "Simulator returns exception for parameter values: [0.29024242 0.7962875  0.06151115 0.94067002 0.85606241] (rank 0)\n",
      "Simulator returns exception for parameter values: [0.30902384 0.80056444 0.02235582 0.55466142 0.97364591] (rank 0)\n",
      "Simulator returns exception for parameter values: [0.30652367 0.80070561 0.09623152 0.8751626  0.96301785] (rank 0)\n",
      "Simulator returns exception for parameter values: [0.29655517 0.80035332 0.08989266 0.88464584 0.93814241] (rank 0)\n",
      "Simulator returns exception for parameter values: [0.27692366 0.79696863 0.08344538 0.8937509  0.95831011] (rank 0)\n",
      "Simulator returns exception for parameter values: [0.28745488 0.79606742 0.05829599 0.72359054 0.98189332] (rank 0)\n",
      "Simulator returns exception for parameter values: [0.30643706 0.80640477 0.0496128  0.86096713 0.83833903] (rank 0)\n",
      "Simulator returns exception for parameter values: [0.30545587 0.79887086 0.06320779 0.91697094 0.88221807] (rank 0)\n",
      "Simulator returns exception for parameter values: [0.30088731 0.8007782  0.0560697  0.51630472 1.07960617] (rank 0)\n",
      "Simulator returns exception for parameter values: [0.2966336  0.80244533 0.02699506 0.68893457 0.90586295] (rank 0)\n",
      "Simulator returns exception for parameter values: [0.30050637 0.80087342 0.04966091 0.61906907 0.99441701] (rank 0)\n",
      "Simulator returns exception for parameter values: [0.30365817 0.79766134 0.07520694 0.91841354 0.90239721] (rank 0)\n",
      "Simulator returns exception for parameter values: [0.30273331 0.80242953 0.03855555 0.50459836 1.04280229] (rank 0)\n",
      "Simulator returns exception for parameter values: [0.318621   0.79831698 0.0744759  0.71078231 1.0049031 ] (rank 0)\n",
      "Simulator returns exception for parameter values: [0.29342075 0.79506292 0.08166839 0.91915306 0.93872044] (rank 0)\n",
      "Simulator returns exception for parameter values: [0.29911262 0.79759309 0.07748234 0.6976906  1.03047497] (rank 0)\n",
      "Simulator returns exception for parameter values: [0.30275097 0.80197058 0.08055136 0.99396614 0.8531092 ] (rank 0)\n",
      "Simulator returns exception for parameter values: [0.30690552 0.80314006 0.08530318 0.86953529 0.93730849] (rank 0)\n",
      "Simulator returns exception for parameter values: [0.29009032 0.80113953 0.04113148 0.75388902 0.91006478] (rank 0)\n",
      "Simulator returns exception for parameter values: [0.30381864 0.80467339 0.04804303 0.56313837 1.01214805] (rank 0)\n",
      "Simulator returns exception for parameter values: [0.3284622  0.80252079 0.0491627  0.72438609 0.90149548] (rank 0)\n",
      "Simulator returns exception for parameter values: [0.29860731 0.80253478 0.06224474 0.6953795  0.97151089] (rank 0)\n",
      "Simulator returns exception for parameter values: [0.29020798 0.80066701 0.0356066  0.51125443 1.04056817] (rank 0)\n",
      "Simulator returns exception for parameter values: [0.29425832 0.80163929 0.04321844 0.63158039 0.98340796] (rank 0)\n",
      "Simulator returns exception for parameter values: [0.28995287 0.79852266 0.07376791 0.7560133  0.99938704] (rank 0)\n",
      "Simulator returns exception for parameter values: [0.30336779 0.79390537 0.0809244  0.89374344 0.95083519] (rank 0)\n",
      "Simulator returns exception for parameter values: [0.30977002 0.7971998  0.01247074 0.57858691 0.95186128] (rank 0)\n",
      "Simulator returns exception for parameter values: [0.28650473 0.80343274 0.00447998 0.4301706  0.99128703] (rank 0)\n",
      "Simulator returns exception for parameter values: [0.30189659 0.80615053 0.05386706 0.7165761  0.93241721] (rank 0)\n",
      "Simulator returns exception for parameter values: [0.32085695 0.80475544 0.04735691 0.7495463  0.89216845] (rank 0)\n",
      "Simulator returns exception for parameter values: [0.28813494 0.79571913 0.0152414  0.5168309  0.99849176] (rank 0)\n",
      "Simulator returns exception for parameter values: [0.28313573 0.79869634 0.07618851 0.96504082 0.88709809] (rank 0)\n",
      "Simulator returns exception for parameter values: [0.28827373 0.79837424 0.01954714 0.51231003 1.01431157] (rank 0)\n",
      "Simulator returns exception for parameter values: [0.28759218 0.79738839 0.05047903 0.71589019 0.97032517] (rank 0)\n",
      "Simulator returns exception for parameter values: [0.31122827 0.79997766 0.05022285 0.62535431 0.998907  ] (rank 0)\n",
      "Simulator returns exception for parameter values: [0.30276975 0.80687301 0.04589444 0.58720793 0.99080916] (rank 0)\n",
      "Simulator returns exception for parameter values: [0.29338695 0.798494   0.06894432 0.72003241 0.99954936] (rank 0)\n",
      "Simulator returns exception for parameter values: [0.29785001 0.80045411 0.00920925 0.47640667 0.98909587] (rank 0)\n",
      "Simulator returns exception for parameter values: [0.29740889 0.79933271 0.00953567 0.45979162 1.00279499] (rank 0)\n",
      "Simulator returns exception for parameter values: [0.29471317 0.80134221 0.05782725 0.60486891 1.03045564] (rank 0)\n",
      "Simulator returns exception for parameter values: [0.2990634  0.79864916 0.05834029 0.79863596 0.92473405] (rank 0)\n",
      "Simulator returns exception for parameter values: [0.29642479 0.7962993  0.07348019 0.91007068 0.92726115] (rank 0)\n",
      "Simulator returns exception for parameter values: [0.31310828 0.805265   0.05853967 0.69039966 0.96351407] (rank 0)\n",
      "Simulator returns exception for parameter values: [0.28319892 0.79490011 0.01249331 0.49163886 1.0294667 ] (rank 0)\n",
      "Simulator returns exception for parameter values: [0.27695494 0.7966764  0.06343087 0.80220538 0.95454836] (rank 0)\n",
      "Simulator returns exception for parameter values: [0.29712225 0.79918126 0.02429223 0.6748846  0.92219132] (rank 0)\n",
      "Simulator returns exception for parameter values: [0.30395485 0.80168098 0.0379141  0.44653907 1.06296907] (rank 0)\n",
      "Simulator returns exception for parameter values: [0.29532571 0.79487271 0.08724489 0.91909039 0.95010718] (rank 0)\n",
      "Simulator returns exception for parameter values: [0.30045831 0.80043802 0.04821712 0.50942353 1.06399082] (rank 0)\n",
      "Simulator returns exception for parameter values: [0.28788088 0.79712392 0.03031335 0.62562184 0.97640078] (rank 0)\n",
      "Simulator returns exception for parameter values: [0.31116886 0.79723111 0.02515995 0.46119532 1.04067605] (rank 0)\n",
      "Simulator returns exception for parameter values: [0.30257393 0.80141682 0.03333016 0.6565439  0.94386213] (rank 0)\n",
      "Simulator returns exception for parameter values: [0.32076991 0.80670133 0.05438601 0.70585338 0.93415741] (rank 0)\n",
      "Simulator returns exception for parameter values: [0.28045423 0.797589   0.05505608 0.88032684 0.89316246] (rank 0)\n",
      "Simulator returns exception for parameter values: [0.31383786 0.80471085 0.03183138 0.51414595 0.99810193] (rank 0)\n",
      "Simulator returns exception for parameter values: [0.30350027 0.80710545 0.03466423 0.52187608 0.99863831] (rank 0)\n",
      "Simulator returns exception for parameter values: [0.2902318  0.80149784 0.05367548 0.76521025 0.92640503] (rank 0)\n",
      "Simulator returns exception for parameter values: [0.29976309 0.80429075 0.04109993 0.74511093 0.90054071] (rank 0)\n",
      "Simulator returns exception for parameter values: [0.29750162 0.79628856 0.02367307 0.47686394 1.03456322] (rank 0)\n",
      "Simulator returns exception for parameter values: [0.30124776 0.80171846 0.0992664  0.96294261 0.91856294] (rank 0)\n",
      "Simulator returns exception for parameter values: [0.29301911 0.80661354 0.00993464 0.49392499 0.96151723] (rank 0)\n",
      "Simulator returns exception for parameter values: [0.29449908 0.79775713 0.05851986 0.73944945 0.97212448] (rank 0)\n",
      "Simulator returns exception for parameter values: [0.29434036 0.79907776 0.00741967 0.43529431 1.01732901] (rank 0)\n",
      "Simulator returns exception for parameter values: [0.30431241 0.79860913 0.08264031 0.92045958 0.9225809 ] (rank 0)\n",
      "Simulator returns exception for parameter values: [0.29177717 0.79888253 0.04596784 0.589133   1.0097401 ] (rank 0)\n",
      "Simulator returns exception for parameter values: [0.31704323 0.79851377 0.04914353 0.68023498 0.96151796] (rank 0)\n",
      "Simulator returns exception for parameter values: [0.29952519 0.79986656 0.05188581 0.59866831 1.03189629] (rank 0)\n",
      "Simulator returns exception for parameter values: [0.30384173 0.80073303 0.02416053 0.53995806 0.98023597] (rank 0)\n",
      "Simulator returns exception for parameter values: [0.30352946 0.79648733 0.09364883 0.92726044 0.93634076] (rank 0)\n",
      "Simulator returns exception for parameter values: [0.29909073 0.80763515 0.01479256 0.41657121 0.99444685] (rank 0)\n",
      "Simulator returns exception for parameter values: [0.30927889 0.80500962 0.09648928 0.9786153  0.8842555 ] (rank 0)\n",
      "Simulator returns exception for parameter values: [0.29832982 0.79599257 0.02977633 0.72221948 0.91456527] (rank 0)\n",
      "Simulator returns exception for parameter values: [0.30827271 0.79406588 0.07041892 0.81208743 0.96534667] (rank 0)\n",
      "Simulator returns exception for parameter values: [0.28746076 0.79239093 0.0647895  0.82640629 0.95843949] (rank 0)\n",
      "Simulator returns exception for parameter values: [0.29253435 0.80039009 0.0989416  0.99397561 0.91750788] (rank 0)\n",
      "Simulator returns exception for parameter values: [0.32127558 0.79555473 0.05669836 0.61205815 1.0221611 ] (rank 0)\n",
      "Simulator returns exception for parameter values: [0.29909978 0.80109976 0.02120928 0.46436034 1.0099113 ] (rank 0)\n",
      "Simulator returns exception for parameter values: [0.29979207 0.80249921 0.05146916 0.71558026 0.9364692 ] (rank 0)\n",
      "Simulator returns exception for parameter values: [0.29116775 0.79278177 0.05474965 0.73999272 0.98226696] (rank 0)\n",
      "Simulator returns exception for parameter values: [0.29928414 0.79352607 0.03669355 0.53506288 1.02902983] (rank 0)\n",
      "Simulator returns exception for parameter values: [0.29965361 0.80020292 0.01007098 0.40551755 1.03303564] (rank 0)\n",
      "Simulator returns exception for parameter values: [0.28624184 0.80311644 0.0908084  0.96275221 0.90278723] (rank 0)\n",
      "Simulator returns exception for parameter values: [0.30230316 0.80194152 0.05667833 0.7235223  0.95003458] (rank 0)\n",
      "Simulator returns exception for parameter values: [0.30292091 0.80026576 0.05754605 0.78192772 0.92800024] (rank 0)\n",
      "Simulator returns exception for parameter values: [0.29751544 0.80364242 0.00342212 0.51462108 0.93886968] (rank 0)\n",
      "Simulator returns exception for parameter values: [0.3042707  0.80393511 0.06794596 0.82433268 0.90654536] (rank 0)\n",
      "Simulator returns exception for parameter values: [0.30235075 0.79616138 0.07281262 0.70827582 1.01561429] (rank 0)\n",
      "Simulator returns exception for parameter values: [0.31120033 0.80428856 0.07967174 0.98859178 0.84010171] (rank 0)\n",
      "Simulator returns exception for parameter values: [0.2951124  0.79572934 0.05739578 0.60092702 1.05107336] (rank 0)\n",
      "Simulator returns exception for parameter values: [0.3094847  0.79956857 0.07669079 0.91132617 0.89617255] (rank 0)\n",
      "Simulator returns exception for parameter values: [0.29982244 0.79930473 0.05895426 0.65724119 1.00813026] (rank 0)\n",
      "Simulator returns exception for parameter values: [0.28084795 0.80067124 0.00832172 0.48741302 0.98945535] (rank 0)\n",
      "Simulator returns exception for parameter values: [0.301358   0.79722337 0.09907026 0.94158819 0.94660333] (rank 0)\n",
      "Simulator returns exception for parameter values: [0.29005374 0.79985554 0.01196007 0.53276267 0.96514   ] (rank 0)\n",
      "Simulator returns exception for parameter values: [0.31219847 0.80148607 0.05847657 0.71839126 0.95506779] (rank 0)\n",
      "Simulator returns exception for parameter values: [0.3011505  0.80090057 0.05949853 0.8760106  0.87646633] (rank 0)\n",
      "Simulator returns exception for parameter values: [0.2981842  0.79555038 0.03872094 0.69057358 0.95006542] (rank 0)\n",
      "Simulator returns exception for parameter values: [0.30293545 0.80113635 0.08077486 0.82360613 0.9609871 ] (rank 0)\n",
      "Simulator returns exception for parameter values: [0.29984838 0.80007446 0.04438095 0.69594141 0.95019858] (rank 0)\n",
      "Simulator returns exception for parameter values: [0.31746469 0.81040467 0.0590902  0.67245325 0.95228413] (rank 0)\n",
      "Simulator returns exception for parameter values: [0.30982282 0.80247371 0.057751   0.64978459 0.99465804] (rank 0)\n",
      "Simulator returns exception for parameter values: [0.31070712 0.79456872 0.0339899  0.51834565 1.03535766] (rank 0)\n",
      "Simulator returns exception for parameter values: [0.28564522 0.79985465 0.01897071 0.62812739 0.93825639] (rank 0)\n",
      "Simulator returns exception for parameter values: [0.30338129 0.80480169 0.05724713 0.54512446 1.05189057] (rank 0)\n",
      "Simulator returns exception for parameter values: [0.28729161 0.80602104 0.02166062 0.60292709 0.93325832] (rank 0)\n",
      "Simulator returns exception for parameter values: [0.29581321 0.79623846 0.039054   0.69530817 0.96249708] (rank 0)\n",
      "Simulator returns exception for parameter values: [0.30042915 0.80350529 0.05776464 0.76535912 0.91904292] (rank 0)\n",
      "Simulator returns exception for parameter values: [2.88999135e-01 7.99826470e-01 7.24943156e-04 4.48407487e-01\n",
      " 1.00657871e+00] (rank 0)\n",
      "Simulator returns exception for parameter values: [0.30364525 0.79858766 0.04787828 0.85765302 0.87137307] (rank 0)\n",
      "Simulator returns exception for parameter values: [0.29898031 0.8012028  0.03535178 0.55235633 1.00682768] (rank 0)\n",
      "Simulator returns exception for parameter values: [0.30492475 0.80051143 0.07634303 0.67713444 1.03586979] (rank 0)\n",
      "Simulator returns exception for parameter values: [0.33023403 0.80446153 0.09533875 0.83007658 0.9579755 ] (rank 0)\n",
      "Simulator returns exception for parameter values: [0.29683905 0.80166042 0.08216919 0.88321525 0.92026746] (rank 0)\n",
      "Simulator returns exception for parameter values: [0.29736776 0.80408856 0.03427104 0.67564201 0.91787238] (rank 0)\n",
      "Simulator returns exception for parameter values: [0.30347651 0.79524221 0.03842878 0.65626361 0.96768597] (rank 0)\n",
      "Simulator returns exception for parameter values: [0.30577214 0.80280589 0.05103372 0.78640861 0.89933872] (rank 0)\n",
      "Simulator returns exception for parameter values: [0.33227845 0.80176674 0.05728202 0.70340758 0.93964261] (rank 0)\n",
      "Simulator returns exception for parameter values: [0.28351616 0.79987541 0.03910193 0.41908754 1.09617342] (rank 0)\n",
      "Simulator returns exception for parameter values: [0.28537779 0.80170564 0.01047235 0.5334665  0.95668758] (rank 0)\n",
      "Simulator returns exception for parameter values: [0.3045686  0.79779448 0.0213491  0.6184301  0.93392309] (rank 0)\n",
      "Simulator returns exception for parameter values: [0.31003244 0.80176247 0.07490402 0.76438225 0.96534487] (rank 0)\n",
      "Simulator returns exception for parameter values: [0.29389676 0.7999323  0.06194905 0.93123152 0.85455222] (rank 0)\n",
      "Simulator returns exception for parameter values: [0.29934019 0.80572492 0.04548974 0.6932665  0.92937417] (rank 0)\n",
      "Simulator returns exception for parameter values: [0.29568395 0.80591065 0.05432824 0.67966294 0.97236277] (rank 0)\n",
      "Simulator returns exception for parameter values: [0.29477174 0.79904289 0.01702492 0.54980863 0.97129701] (rank 0)\n",
      "Simulator returns exception for parameter values: [0.3025623  0.80000075 0.03834225 0.62492321 0.97670357] (rank 0)\n",
      "Simulator returns exception for parameter values: [0.28905683 0.79547061 0.04932381 0.80352395 0.91760222] (rank 0)\n",
      "Simulator returns exception for parameter values: [0.30240083 0.79992881 0.08769857 0.90149237 0.93674179] (rank 0)\n",
      "Simulator returns exception for parameter values: [0.27809289 0.79428876 0.06475364 0.89415748 0.90929267] (rank 0)\n",
      "Simulator returns exception for parameter values: [0.31307798 0.80338433 0.02517799 0.53584474 0.98311674] (rank 0)\n",
      "Simulator returns exception for parameter values: [0.29835011 0.80299069 0.02290882 0.61798209 0.94173937] (rank 0)\n",
      "Simulator returns exception for parameter values: [0.30576542 0.80393826 0.0755829  0.76188876 0.96769083] (rank 0)\n",
      "Simulator returns exception for parameter values: [0.28831995 0.79886443 0.02133584 0.58150581 0.976796  ] (rank 0)\n",
      "Simulator returns exception for parameter values: [0.30980737 0.7986821  0.0725243  0.78278135 0.9617953 ] (rank 0)\n",
      "Simulator returns exception for parameter values: [0.31894845 0.79931081 0.04490853 0.64302041 0.96557972] (rank 0)\n",
      "Simulator returns exception for parameter values: [0.27976465 0.79840352 0.0292952  0.5545103  1.00514439] (rank 0)\n",
      "Simulator returns exception for parameter values: [0.3056889  0.79690553 0.04059948 0.62592157 0.97285035] (rank 0)\n",
      "Simulator returns exception for parameter values: [0.30301432 0.8010461  0.0729455  0.88462523 0.904346  ] (rank 0)\n",
      "Simulator returns exception for parameter values: [0.29964643 0.80843805 0.01152138 0.62118083 0.88359078] (rank 0)\n",
      "Simulator returns exception for parameter values: [0.29511359 0.79957737 0.07811027 0.85226426 0.94714428] (rank 0)\n",
      "Simulator returns exception for parameter values: [0.29109149 0.79402864 0.05472793 0.79235221 0.9519857 ] (rank 0)\n",
      "Simulator returns exception for parameter values: [0.28970272 0.79848357 0.07395795 0.77663438 0.98104864] (rank 0)\n",
      "Simulator returns exception for parameter values: [0.33243778 0.80167491 0.0666018  0.76147888 0.93746912] (rank 0)\n",
      "Simulator returns exception for parameter values: [0.29428895 0.79968734 0.0411041  0.6404399  0.98276141] (rank 0)\n",
      "Simulator returns exception for parameter values: [0.30368638 0.79846414 0.06891814 0.95043498 0.87515895] (rank 0)\n",
      "Simulator returns exception for parameter values: [0.30070952 0.79794294 0.07089407 0.84465161 0.9490527 ] (rank 0)\n",
      "Simulator returns exception for parameter values: [0.28845071 0.80280439 0.05748545 0.80516496 0.91674339] (rank 0)\n",
      "Simulator returns exception for parameter values: [0.29360972 0.80278938 0.01320967 0.49411586 0.9846759 ] (rank 0)\n",
      "Simulator returns exception for parameter values: [0.28765708 0.79947007 0.08798241 0.71288531 1.0424088 ] (rank 0)\n",
      "Simulator returns exception for parameter values: [0.30514856 0.79814488 0.0405764  0.56918278 1.01520598] (rank 0)\n",
      "Simulator returns exception for parameter values: [0.32027228 0.8021941  0.02944981 0.47479211 1.01115216] (rank 0)\n",
      "Simulator returns exception for parameter values: [0.29840734 0.79923724 0.04565961 0.69779511 0.95356378] (rank 0)\n",
      "Simulator returns exception for parameter values: [0.29946056 0.79733412 0.02507377 0.55889803 0.99717936] (rank 0)\n",
      "Simulator returns exception for parameter values: [0.2980333  0.80431355 0.03683188 0.62082836 0.95885545] (rank 0)\n",
      "Simulator returns exception for parameter values: [0.3171573  0.79812276 0.09752559 0.87441084 0.97191114] (rank 0)\n",
      "Simulator returns exception for parameter values: [0.29672939 0.79771734 0.01713983 0.40790006 1.07090238] (rank 0)\n",
      "Simulator returns exception for parameter values: [0.32482903 0.80952303 0.02131613 0.4092363  1.01135453] (rank 0)\n",
      "Simulator returns exception for parameter values: [0.31180887 0.79911185 0.07949098 0.88088275 0.91508214] (rank 0)\n",
      "Simulator returns exception for parameter values: [0.28717228 0.79782478 0.03597321 0.67966363 0.95295801] (rank 0)\n",
      "Simulator returns exception for parameter values: [0.30061033 0.80227931 0.03804094 0.67143514 0.94065112] (rank 0)\n",
      "Simulator returns exception for parameter values: [0.30512365 0.80700252 0.05013455 0.71798806 0.92332269] (rank 0)\n",
      "Simulator returns exception for parameter values: [0.31131678 0.8015488  0.09239343 0.98975131 0.8934865 ] (rank 0)\n",
      "Simulator returns exception for parameter values: [0.29891093 0.80388712 0.06151146 0.6686187  0.99932256] (rank 0)\n",
      "Simulator returns exception for parameter values: [0.30826391 0.80241229 0.02244179 0.55194919 0.96479652] (rank 0)\n",
      "Simulator returns exception for parameter values: [0.28888181 0.8042704  0.00889272 0.64463393 0.88780952] (rank 0)\n",
      "Simulator returns exception for parameter values: [0.30031711 0.79772291 0.03183199 0.76055098 0.89388611] (rank 0)\n",
      "Simulator returns exception for parameter values: [0.29164662 0.7992292  0.04381426 0.82883082 0.87291109] (rank 0)\n",
      "Simulator returns exception for parameter values: [0.30294704 0.79916412 0.04402349 0.50951983 1.04572482] (rank 0)\n",
      "Simulator returns exception for parameter values: [0.30646144 0.79868818 0.06078098 0.67227011 1.00307959] (rank 0)\n",
      "Simulator returns exception for parameter values: [0.30439609 0.80683581 0.09783783 0.92031705 0.91435034] (rank 0)\n",
      "Simulator returns exception for parameter values: [0.27600749 0.79615985 0.03824921 0.59312207 1.01360925] (rank 0)\n",
      "Simulator returns exception for parameter values: [0.28950747 0.79562274 0.02055983 0.69219255 0.92207429] (rank 0)\n",
      "Simulator returns exception for parameter values: [0.29977801 0.80025912 0.02393262 0.73600175 0.87535239] (rank 0)\n",
      "Simulator returns exception for parameter values: [0.30518515 0.79836752 0.05078336 0.65538432 0.98411443] (rank 0)\n",
      "Simulator returns exception for parameter values: [0.30260415 0.79856224 0.05122266 0.68133902 0.9743002 ] (rank 0)\n",
      "Simulator returns exception for parameter values: [0.29386648 0.79886425 0.0621995  0.80834551 0.93147088] (rank 0)\n",
      "Simulator returns exception for parameter values: [0.30908088 0.80307455 0.07266575 0.73302421 0.98206951] (rank 0)\n",
      "Simulator returns exception for parameter values: [0.30104521 0.79662832 0.06043217 0.76392894 0.97211111] (rank 0)\n",
      "Simulator returns exception for parameter values: [0.31000982 0.80331728 0.02925457 0.53102726 0.99841563] (rank 0)\n",
      "Simulator returns exception for parameter values: [0.31055797 0.8028533  0.08708014 0.99570642 0.86427306] (rank 0)\n",
      "Simulator returns exception for parameter values: [0.27641585 0.79376238 0.01223674 0.54186486 0.99974653] (rank 0)\n",
      "Simulator returns exception for parameter values: [0.299521   0.7983862  0.08870696 0.92856054 0.92668753] (rank 0)\n",
      "Simulator returns exception for parameter values: [0.3021702  0.80785677 0.06226466 0.59888754 1.01746861] (rank 0)\n",
      "Simulator returns exception for parameter values: [0.30926638 0.80067062 0.02786958 0.48202186 1.03427555] (rank 0)\n",
      "Simulator returns exception for parameter values: [0.28959046 0.79601792 0.03584501 0.80211631 0.88482429] (rank 0)\n",
      "Simulator returns exception for parameter values: [0.2854069  0.79968061 0.08037431 0.93380511 0.914634  ] (rank 0)\n",
      "Simulator returns exception for parameter values: [0.30014208 0.80607258 0.05479172 0.51805003 1.05234542] (rank 0)\n",
      "Simulator returns exception for parameter values: [0.31122599 0.79243791 0.08986445 0.9515723  0.92682971] (rank 0)\n",
      "Simulator returns exception for parameter values: [0.31668348 0.7989332  0.06475467 0.5675867  1.06915467] (rank 0)\n",
      "Simulator returns exception for parameter values: [0.29404481 0.7943715  0.01109751 0.60797168 0.94049606] (rank 0)\n",
      "Simulator returns exception for parameter values: [0.30240885 0.79751149 0.09263416 0.97729463 0.91369643] (rank 0)\n",
      "Simulator returns exception for parameter values: [0.28683637 0.80053958 0.04122033 0.69337659 0.96090302] (rank 0)\n",
      "Simulator returns exception for parameter values: [0.31246142 0.79564974 0.01945843 0.56706005 0.97757784] (rank 0)\n",
      "Simulator returns exception for parameter values: [0.28608313 0.799267   0.0399552  0.45751175 1.08702102] (rank 0)\n",
      "Simulator returns exception for parameter values: [0.28885171 0.79693221 0.01985033 0.49533401 1.02137582] (rank 0)\n",
      "Simulator returns exception for parameter values: [0.30237877 0.79678853 0.03929131 0.70613019 0.93780302] (rank 0)\n",
      "Simulator returns exception for parameter values: [0.30886616 0.79607804 0.08068101 0.82082286 0.98335872] (rank 0)\n",
      "Simulator returns exception for parameter values: [0.28955746 0.79682291 0.06972438 0.95679156 0.8841072 ] (rank 0)\n",
      "Simulator returns exception for parameter values: [0.27146539 0.80010088 0.03103212 0.79104261 0.87766468] (rank 0)\n",
      "Simulator returns exception for parameter values: [0.30116896 0.79643173 0.02290354 0.5958995  0.97064275] (rank 0)\n",
      "Simulator returns exception for parameter values: [0.29624874 0.80681633 0.02260503 0.627077   0.9306002 ] (rank 0)\n",
      "Simulator returns exception for parameter values: [0.27639813 0.79844213 0.05083039 0.69999504 0.96553548] (rank 0)\n",
      "Simulator returns exception for parameter values: [0.30601441 0.80079026 0.05511102 0.750522   0.95305376] (rank 0)\n",
      "Simulator returns exception for parameter values: [0.28996288 0.79558628 0.0295309  0.59189398 0.99968226] (rank 0)\n",
      "Simulator returns exception for parameter values: [0.30121465 0.7987885  0.00767742 0.53148603 0.96341284] (rank 0)\n",
      "Simulator returns exception for parameter values: [0.30256397 0.79944935 0.07675443 0.82396255 0.93554169] (rank 0)\n",
      "Simulator returns exception for parameter values: [0.31119489 0.80296678 0.03500543 0.50227652 1.01676507] (rank 0)\n",
      "Simulator returns exception for parameter values: [0.29667032 0.80101872 0.08820974 0.86115898 0.96523203] (rank 0)\n",
      "Simulator returns exception for parameter values: [0.29305863 0.80834648 0.00387888 0.47382608 0.9578842 ] (rank 0)\n",
      "Simulator returns exception for parameter values: [0.30455187 0.80199226 0.05565924 0.56872569 1.03419271] (rank 0)\n",
      "Simulator returns exception for parameter values: [0.30536705 0.80272126 0.01274015 0.46018993 0.98796494] (rank 0)\n",
      "Simulator returns exception for parameter values: [0.30595859 0.79905707 0.02499543 0.58080767 0.9746583 ] (rank 0)\n",
      "Simulator returns exception for parameter values: [0.28920221 0.80280821 0.02070516 0.51791937 1.00817739] (rank 0)\n",
      "Simulator returns exception for parameter values: [0.31477285 0.79670616 0.06346853 0.89739106 0.88002604] (rank 0)\n",
      "Simulator returns exception for parameter values: [0.29281881 0.802238   0.05519302 0.69727415 0.98226124] (rank 0)\n",
      "Simulator returns exception for parameter values: [0.29337665 0.80165245 0.04040794 0.63857138 0.96244917] (rank 0)\n",
      "Simulator returns exception for parameter values: [0.32026683 0.80086543 0.03410861 0.5074446  1.01667721] (rank 0)\n",
      "Simulator returns exception for parameter values: [0.27779073 0.7960993  0.04109281 0.93812001 0.82485895] (rank 0)\n",
      "Simulator returns exception for parameter values: [0.28913137 0.80595973 0.03562205 0.59797927 0.96545558] (rank 0)\n",
      "Simulator returns exception for parameter values: [0.28936792 0.7973772  0.00719968 0.57271352 0.9366832 ] (rank 0)\n",
      "Simulator returns exception for parameter values: [0.27511115 0.79595369 0.03325353 0.83676272 0.87483536] (rank 0)\n",
      "Simulator returns exception for parameter values: [0.30841428 0.8045447  0.06359309 0.56301468 1.04950746] (rank 0)\n",
      "Simulator returns exception for parameter values: [0.31031874 0.80501526 0.01200199 0.5389682  0.93148588] (rank 0)\n",
      "Simulator returns exception for parameter values: [0.29710346 0.79878848 0.03851901 0.5360573  1.02661453] (rank 0)\n",
      "Simulator returns exception for parameter values: [0.29212738 0.7955628  0.05431409 0.6606429  1.01789072] (rank 0)\n",
      "Simulator returns exception for parameter values: [0.30937938 0.79858461 0.01563527 0.5387149  0.96412424] (rank 0)\n",
      "Simulator returns exception for parameter values: [0.32599746 0.80082847 0.03954916 0.64520603 0.9549008 ] (rank 0)\n",
      "Simulator returns exception for parameter values: [0.29960106 0.80132339 0.07503604 0.68035994 1.02984342] (rank 0)\n",
      "Simulator returns exception for parameter values: [0.29715048 0.80223746 0.08624193 0.84409281 0.95465099] (rank 0)\n",
      "Simulator returns exception for parameter values: [0.30231836 0.80727867 0.03865238 0.61644409 0.95755556] (rank 0)\n",
      "Simulator returns exception for parameter values: [0.31001195 0.79770477 0.02744243 0.43223787 1.0509604 ] (rank 0)\n",
      "Simulator returns exception for parameter values: [0.28548294 0.79368981 0.03981704 0.59879544 1.02755817] (rank 0)\n",
      "Simulator returns exception for parameter values: [0.3090658  0.80098381 0.07621815 0.97421836 0.87137607] (rank 0)\n",
      "Simulator returns exception for parameter values: [0.30834109 0.79741068 0.03755539 0.5866683  1.00166374] (rank 0)\n",
      "Simulator returns exception for parameter values: [0.29696068 0.79545057 0.07819164 0.86870823 0.95685565] (rank 0)\n",
      "Simulator returns exception for parameter values: [0.31502937 0.79561635 0.06110036 0.74264183 0.97426759] (rank 0)\n",
      "Simulator returns exception for parameter values: [0.27941664 0.80079918 0.03587626 0.6349109  0.97706805] (rank 0)\n",
      "Simulator returns exception for parameter values: [0.29163085 0.79677006 0.0156988  0.48045215 1.01550703] (rank 0)\n",
      "Simulator returns exception for parameter values: [0.29040102 0.80002053 0.0314239  0.6315722  0.96735748] (rank 0)\n",
      "Simulator returns exception for parameter values: [0.31447796 0.80225895 0.04000919 0.62374478 0.96225554] (rank 0)\n",
      "Simulator returns exception for parameter values: [0.30986604 0.80088466 0.03451465 0.51131914 1.01865064] (rank 0)\n",
      "Simulator returns exception for parameter values: [0.29796378 0.79800856 0.09705897 0.948583   0.9271534 ] (rank 0)\n",
      "Simulator returns exception for parameter values: [0.30187753 0.7974087  0.062979   0.83756337 0.92514459] (rank 0)\n",
      "Simulator returns exception for parameter values: [0.31735396 0.80009009 0.06728235 0.64714872 1.01707881] (rank 0)\n",
      "Simulator returns exception for parameter values: [0.30124679 0.80075931 0.07691947 0.79909977 0.96373743] (rank 0)\n",
      "Simulator returns exception for parameter values: [0.31891301 0.80199178 0.04712485 0.7517255  0.89848563] (rank 0)\n",
      "Simulator returns exception for parameter values: [0.2945155  0.80353255 0.03329618 0.53377836 1.01448389] (rank 0)\n",
      "Simulator returns exception for parameter values: [0.30584603 0.80036399 0.01492029 0.4842458  0.99905466] (rank 0)\n",
      "Simulator returns exception for parameter values: [0.2988724  0.79831013 0.01752626 0.6115101  0.93767852] (rank 0)\n",
      "Simulator returns exception for parameter values: [0.31196969 0.8017282  0.03647041 0.56541618 0.98509326] (rank 0)\n",
      "Simulator returns exception for parameter values: [0.28298029 0.80227206 0.07628888 0.81835907 0.95754104] (rank 0)\n",
      "Simulator returns exception for parameter values: [0.30436638 0.79686904 0.00279694 0.44620422 1.01131852] (rank 0)\n",
      "Simulator returns exception for parameter values: [0.29243291 0.79938949 0.05201575 0.69540249 0.96718041] (rank 0)\n",
      "Simulator returns exception for parameter values: [0.28986136 0.79863145 0.08057685 0.79136364 0.98028752] (rank 0)\n",
      "Simulator returns exception for parameter values: [0.29420016 0.80203409 0.02910911 0.48796449 1.02698663] (rank 0)\n",
      "Simulator returns exception for parameter values: [0.31129447 0.80611401 0.07678721 0.7725377  0.95998364] (rank 0)\n",
      "Simulator returns exception for parameter values: [0.3071712  0.803116   0.07382294 0.68368008 1.01459545] (rank 0)\n",
      "Simulator returns exception for parameter values: [0.29698543 0.80064807 0.03136508 0.69402872 0.90557596] (rank 0)\n",
      "Simulator returns exception for parameter values: [0.29472824 0.80171816 0.01034593 0.66626219 0.87581836] (rank 0)\n",
      "Simulator returns exception for parameter values: [0.30933072 0.8008574  0.05374669 0.61615048 1.00703777] (rank 0)\n",
      "Simulator returns exception for parameter values: [0.29764251 0.79990708 0.04537434 0.58842562 1.01750288] (rank 0)\n",
      "Simulator returns exception for parameter values: [0.30430726 0.80069483 0.00367539 0.55824202 0.94240125] (rank 0)\n",
      "Simulator returns exception for parameter values: [0.28490029 0.80009167 0.03974515 0.88065997 0.84862356] (rank 0)\n",
      "Simulator returns exception for parameter values: [0.29766476 0.79588702 0.04597172 0.61783621 1.01535468] (rank 0)\n",
      "Simulator returns exception for parameter values: [0.28230024 0.80151857 0.02891941 0.66761261 0.93983162] (rank 0)\n",
      "Simulator returns exception for parameter values: [0.30568807 0.80680931 0.04426134 0.71114459 0.9080384 ] (rank 0)\n",
      "Simulator returns exception for parameter values: [0.2975382  0.79651904 0.05515673 0.71985853 0.97596724] (rank 0)\n",
      "Simulator returns exception for parameter values: [0.33181808 0.80844661 0.03833188 0.53762155 0.97171301] (rank 0)\n",
      "Simulator returns exception for parameter values: [0.29084072 0.80280944 0.02280071 0.41563369 1.05428079] (rank 0)\n",
      "Simulator returns exception for parameter values: [0.2884908  0.80238242 0.04893506 0.66893518 0.97507693] (rank 0)\n",
      "Simulator returns exception for parameter values: [0.29430741 0.80277344 0.04664579 0.74858168 0.90482368] (rank 0)\n",
      "Simulator returns exception for parameter values: [0.30336376 0.80202622 0.08340131 0.80862235 0.96017552] (rank 0)\n",
      "Simulator returns exception for parameter values: [0.2958062  0.79652365 0.05760793 0.82232696 0.92698488] (rank 0)\n",
      "Simulator returns exception for parameter values: [0.29342763 0.80191531 0.0738096  0.82287541 0.94666042] (rank 0)\n",
      "Simulator returns exception for parameter values: [0.2843324  0.79628942 0.012144   0.456313   1.04511284] (rank 0)\n",
      "Simulator returns exception for parameter values: [0.29036222 0.79971856 0.08324207 0.90352438 0.93927331] (rank 0)\n",
      "Simulator returns exception for parameter values: [0.30585545 0.80076031 0.02733341 0.61160193 0.95024904] (rank 0)\n",
      "Simulator returns exception for parameter values: [0.31941516 0.80139999 0.05895953 0.72184459 0.95264867] (rank 0)\n",
      "Simulator returns exception for parameter values: [0.32330097 0.80295583 0.06571803 0.63529414 1.01184416] (rank 0)\n",
      "Simulator returns exception for parameter values: [0.30350323 0.79668682 0.00651158 0.44993523 1.00642888] (rank 0)\n",
      "Simulator returns exception for parameter values: [0.30410903 0.79835102 0.02175701 0.55390659 0.98610084] (rank 0)\n",
      "Simulator returns exception for parameter values: [0.30678553 0.80122108 0.05446392 0.6004614  1.01154157] (rank 0)\n",
      "Simulator returns exception for parameter values: [0.29576417 0.79455999 0.02630469 0.61892697 0.96876107] (rank 0)\n",
      "Simulator returns exception for parameter values: [0.29250008 0.79985007 0.06369458 0.70668466 0.98458375] (rank 0)\n",
      "Simulator returns exception for parameter values: [0.29937171 0.80205713 0.04739431 0.65930735 0.97610018] (rank 0)\n",
      "Simulator returns exception for parameter values: [0.30588046 0.80866456 0.03103171 0.5148886  0.98459242] (rank 0)\n",
      "Simulator returns exception for parameter values: [0.29154106 0.80560156 0.03362671 0.59373869 0.97097553] (rank 0)\n",
      "Simulator returns exception for parameter values: [0.28778287 0.7947912  0.03214644 0.87483941 0.84490074] (rank 0)\n",
      "Simulator returns exception for parameter values: [0.32005177 0.80601236 0.0621893  0.72016059 0.94585404] (rank 0)\n",
      "Simulator returns exception for parameter values: [0.30335722 0.79849272 0.00526704 0.49814361 0.97594779] (rank 0)\n",
      "Simulator returns exception for parameter values: [0.30955526 0.79944623 0.07480343 0.9405359  0.87874328] (rank 0)\n",
      "Simulator returns exception for parameter values: [0.2966715  0.79919663 0.07368781 0.98786359 0.85963507] (rank 0)\n"
     ]
    },
    {
     "name": "stdout",
     "output_type": "stream",
     "text": [
      "Simulator returns exception for parameter values: [0.30513969 0.80067638 0.04157062 0.78854224 0.87567772] (rank 0)\n",
      "Simulator returns exception for parameter values: [0.29572774 0.79399174 0.02927705 0.65936176 0.96486598] (rank 0)\n",
      "Simulator returns exception for parameter values: [0.28513931 0.79672192 0.03146446 0.4727671  1.08425255] (rank 0)\n",
      "Simulator returns exception for parameter values: [0.31445038 0.8025887  0.0939309  0.93064917 0.91898308] (rank 0)\n",
      "Simulator returns exception for parameter values: [0.32229622 0.79286082 0.05343027 0.92625809 0.85736701] (rank 0)\n",
      "Simulator returns exception for parameter values: [0.30267138 0.80512307 0.06551494 0.83848549 0.88544236] (rank 0)\n",
      "Simulator returns exception for parameter values: [0.29010449 0.80294775 0.08295941 0.88638777 0.93055868] (rank 0)\n",
      "Simulator returns exception for parameter values: [0.30079881 0.79942388 0.08728055 0.94607827 0.89688474] (rank 0)\n",
      "Simulator returns exception for parameter values: [0.29704652 0.80458848 0.09573835 0.90297137 0.92746986] (rank 0)\n",
      "Simulator returns exception for parameter values: [0.30222496 0.80114236 0.05032961 0.76470689 0.91732507] (rank 0)\n",
      "Simulator returns exception for parameter values: [0.29088325 0.79525629 0.0952114  0.95204438 0.96696306] (rank 0)\n",
      "Simulator returns exception for parameter values: [0.30938498 0.79648276 0.03483532 0.52304831 1.03387537] (rank 0)\n",
      "Simulator returns exception for parameter values: [0.29597589 0.8033207  0.05048778 0.6080061  1.00055934] (rank 0)\n",
      "Simulator returns exception for parameter values: [0.32578733 0.80678479 0.05578243 0.58944457 1.00196508] (rank 0)\n",
      "Simulator returns exception for parameter values: [0.28560244 0.79691886 0.08502602 0.98713941 0.89673415] (rank 0)\n",
      "Simulator returns exception for parameter values: [0.29899076 0.79995736 0.02677887 0.60254381 0.96839855] (rank 0)\n",
      "Simulator returns exception for parameter values: [0.30332632 0.80149877 0.0426885  0.58366329 1.01076991] (rank 0)\n",
      "Simulator returns exception for parameter values: [0.30240852 0.80017427 0.08022932 0.78015004 0.98328903] (rank 0)\n",
      "Simulator returns exception for parameter values: [0.31707075 0.80290853 0.017378   0.48621583 0.97886381] (rank 0)\n",
      "Simulator returns exception for parameter values: [0.28199465 0.79925615 0.00764073 0.60575304 0.90726036] (rank 0)\n",
      "Simulator returns exception for parameter values: [0.30312049 0.79756469 0.03930218 0.59797068 1.00782768] (rank 0)\n",
      "Simulator returns exception for parameter values: [0.29503252 0.80231987 0.01348196 0.49877609 0.97789402] (rank 0)\n",
      "Simulator returns exception for parameter values: [0.32102209 0.80393635 0.09688371 0.8672611  0.94006633] (rank 0)\n",
      "Simulator returns exception for parameter values: [0.3232269  0.8035281  0.08601842 0.9161838  0.8984665 ] (rank 0)\n",
      "Simulator returns exception for parameter values: [0.29883453 0.79470739 0.04449469 0.69460496 0.96371927] (rank 0)\n",
      "Simulator returns exception for parameter values: [0.30756184 0.79862677 0.04158967 0.79586784 0.88020515] (rank 0)\n",
      "Simulator returns exception for parameter values: [0.30527163 0.80069516 0.05159219 0.56037702 1.04768399] (rank 0)\n",
      "Simulator returns exception for parameter values: [0.30856333 0.7969858  0.01381282 0.44824689 1.02095862] (rank 0)\n",
      "Simulator returns exception for parameter values: [0.31904254 0.7988548  0.02491662 0.52535232 0.98970152] (rank 0)\n",
      "Simulator returns exception for parameter values: [0.31106396 0.80238911 0.0417664  0.65206169 0.94242507] (rank 0)\n",
      "Simulator returns exception for parameter values: [0.31796827 0.8016413  0.07841112 0.65462878 1.02392584] (rank 0)\n",
      "Simulator returns exception for parameter values: [0.28826667 0.79558934 0.08459233 0.98872733 0.90363455] (rank 0)\n",
      "Simulator returns exception for parameter values: [0.26912919 0.79459387 0.06225817 0.85640482 0.94774132] (rank 0)\n",
      "Simulator returns exception for parameter values: [0.30275295 0.799697   0.0675476  0.67476948 1.01844851] (rank 0)\n",
      "Simulator returns exception for parameter values: [0.30059007 0.79857492 0.04355786 0.81994701 0.89450243] (rank 0)\n",
      "Simulator returns exception for parameter values: [0.28739098 0.79723308 0.01743322 0.46370886 1.04009843] (rank 0)\n",
      "Simulator returns exception for parameter values: [0.30357332 0.79342519 0.06104107 0.79005594 0.96616539] (rank 0)\n",
      "Simulator returns exception for parameter values: [0.30504804 0.80029883 0.01854143 0.55824391 0.95877695] (rank 0)\n",
      "Simulator returns exception for parameter values: [0.28473047 0.79761856 0.03203676 0.68450305 0.94226528] (rank 0)\n",
      "Simulator returns exception for parameter values: [0.29268565 0.79978139 0.04429767 0.68088201 0.95546884] (rank 0)\n",
      "Simulator returns exception for parameter values: [0.29933999 0.79747019 0.07991572 0.89491964 0.93085808] (rank 0)\n",
      "Simulator returns exception for parameter values: [0.29138677 0.79767243 0.00280557 0.45339511 1.00492341] (rank 0)\n",
      "Simulator returns exception for parameter values: [0.30328108 0.80499798 0.07620701 0.84548146 0.94026857] (rank 0)\n",
      "Simulator returns exception for parameter values: [0.29700642 0.80244435 0.02678013 0.47338148 1.03849581] (rank 0)\n",
      "Simulator returns exception for parameter values: [0.29068904 0.79779602 0.05640186 0.84728895 0.91158149] (rank 0)\n",
      "Simulator returns exception for parameter values: [0.29179523 0.79985879 0.01379204 0.54461617 0.96922832] (rank 0)\n",
      "Simulator returns exception for parameter values: [0.28199986 0.80416724 0.01525923 0.44106435 1.01543189] (rank 0)\n",
      "Simulator returns exception for parameter values: [0.28610319 0.80544253 0.00812884 0.47941219 0.97207997] (rank 0)\n",
      "Simulator returns exception for parameter values: [0.29574156 0.79494257 0.08804531 0.94015678 0.923697  ] (rank 0)\n",
      "Simulator returns exception for parameter values: [0.30796322 0.80280865 0.0057141  0.46360278 0.97847661] (rank 0)\n",
      "Simulator returns exception for parameter values: [0.26798516 0.79267977 0.01156375 0.61615457 0.96313354] (rank 0)\n",
      "Simulator returns exception for parameter values: [0.30539357 0.80059374 0.06301448 0.78255894 0.94069742] (rank 0)\n",
      "Simulator returns exception for parameter values: [0.31654762 0.8013156  0.02013536 0.70842504 0.87712307] (rank 0)\n",
      "Simulator returns exception for parameter values: [0.3046461  0.79852024 0.06445308 0.81000378 0.93058298] (rank 0)\n",
      "Simulator returns exception for parameter values: [0.30813241 0.80281845 0.02958879 0.59905801 0.9421117 ] (rank 0)\n",
      "Simulator returns exception for parameter values: [0.28216316 0.79826199 0.02090332 0.51874622 1.00120687] (rank 0)\n",
      "Simulator returns exception for parameter values: [0.31825003 0.80254506 0.04356788 0.58567235 0.98179677] (rank 0)\n",
      "Simulator returns exception for parameter values: [0.29066383 0.7964339  0.02212595 0.56685289 0.99101699] (rank 0)\n",
      "Simulator returns exception for parameter values: [0.28871069 0.79701154 0.08162912 0.95033434 0.91120742] (rank 0)\n",
      "Simulator returns exception for parameter values: [0.29358629 0.80003998 0.04294943 0.70737736 0.94918317] (rank 0)\n",
      "Simulator returns exception for parameter values: [0.29129973 0.79576963 0.00662225 0.43025414 1.03595916] (rank 0)\n",
      "Simulator returns exception for parameter values: [0.30968436 0.79815913 0.08933101 0.94039823 0.91405758] (rank 0)\n",
      "Simulator returns exception for parameter values: [0.3201253  0.80761949 0.0544664  0.91197554 0.81321233] (rank 0)\n",
      "Simulator returns exception for parameter values: [0.30978495 0.79954581 0.09068249 0.9347909  0.92403201] (rank 0)\n",
      "Simulator returns exception for parameter values: [0.29937049 0.80134474 0.02016546 0.48634459 1.00486845] (rank 0)\n",
      "Simulator returns exception for parameter values: [0.29937576 0.80147685 0.0096362  0.563353   0.92252399] (rank 0)\n",
      "Simulator returns exception for parameter values: [0.28841366 0.80240437 0.05966928 0.69871556 0.98770749] (rank 0)\n",
      "Simulator returns exception for parameter values: [0.29279928 0.80272804 0.07246021 0.92630666 0.88151684] (rank 0)\n",
      "Simulator returns exception for parameter values: [0.29459717 0.8028271  0.0335692  0.54410321 1.01407252] (rank 0)\n",
      "Simulator returns exception for parameter values: [0.29457762 0.7949664  0.06709658 0.81992642 0.95231819] (rank 0)\n",
      "Simulator returns exception for parameter values: [0.27252074 0.79652283 0.02639017 0.67944691 0.94798457] (rank 0)\n",
      "Simulator returns exception for parameter values: [0.31487769 0.80667417 0.04350493 0.65186314 0.93207796] (rank 0)\n",
      "Simulator returns exception for parameter values: [0.30225035 0.80169324 0.00483376 0.43297326 1.00581326] (rank 0)\n",
      "Simulator returns exception for parameter values: [0.2979989  0.80160405 0.04994332 0.55499977 1.03804191] (rank 0)\n",
      "Simulator returns exception for parameter values: [0.31351098 0.79761605 0.08559372 0.86947982 0.95185132] (rank 0)\n",
      "Simulator returns exception for parameter values: [0.31475498 0.80252716 0.03662942 0.56982483 0.99198884] (rank 0)\n",
      "Simulator returns exception for parameter values: [0.28568821 0.79211702 0.01834168 0.43190937 1.08700005] (rank 0)\n",
      "Simulator returns exception for parameter values: [0.30142371 0.80063526 0.06095244 0.71402044 0.97010051] (rank 0)\n",
      "Simulator returns exception for parameter values: [0.3031358  0.79561984 0.01887903 0.41204628 1.06842936] (rank 0)\n",
      "Simulator returns exception for parameter values: [0.30982581 0.80305953 0.04369634 0.64137359 0.97695681] (rank 0)\n",
      "Simulator returns exception for parameter values: [0.2837579  0.7988159  0.02523971 0.54882764 0.99574119] (rank 0)\n",
      "Simulator returns exception for parameter values: [0.30111544 0.79818756 0.0691886  0.62842861 1.05428213] (rank 0)\n",
      "Simulator returns exception for parameter values: [0.2960428  0.80036487 0.03254307 0.63151885 0.97269508] (rank 0)\n",
      "Simulator returns exception for parameter values: [0.30954144 0.8062968  0.00704506 0.61287617 0.8829312 ] (rank 0)\n",
      "Simulator returns exception for parameter values: [0.29565846 0.80007655 0.00240149 0.52834123 0.94449688] (rank 0)\n",
      "Simulator returns exception for parameter values: [0.31359532 0.80537859 0.07818013 0.7396869  0.96627231] (rank 0)\n",
      "Simulator returns exception for parameter values: [0.29355085 0.80018596 0.05771347 0.63309488 1.02340521] (rank 0)\n",
      "Simulator returns exception for parameter values: [0.28937212 0.80160809 0.05644415 0.66987607 0.98001744] (rank 0)\n",
      "Simulator returns exception for parameter values: [0.29726815 0.8039814  0.05591516 0.79010854 0.90341086] (rank 0)\n",
      "Simulator returns exception for parameter values: [0.29604638 0.80156128 0.09089294 0.85985823 0.95455989] (rank 0)\n",
      "Simulator returns exception for parameter values: [0.29289261 0.79619294 0.08160724 0.81909998 0.97078013] (rank 0)\n",
      "Simulator returns exception for parameter values: [0.3036558  0.79393333 0.0441007  0.53674094 1.07025725] (rank 0)\n",
      "Simulator returns exception for parameter values: [0.31606349 0.80252844 0.02547931 0.61368144 0.93356269] (rank 0)\n",
      "Simulator returns exception for parameter values: [0.3005619  0.79819461 0.07536005 0.8019399  0.9737794 ] (rank 0)\n",
      "Simulator returns exception for parameter values: [0.30013058 0.80085867 0.06269616 0.79325652 0.93844988] (rank 0)\n",
      "Simulator returns exception for parameter values: [0.30207016 0.80237289 0.03286436 0.47233513 1.03706968] (rank 0)\n",
      "Simulator returns exception for parameter values: [0.30794471 0.80146168 0.03025161 0.7223847  0.89953296] (rank 0)\n",
      "Simulator returns exception for parameter values: [0.31239729 0.80184833 0.00518769 0.59442669 0.90360257] (rank 0)\n",
      "Simulator returns exception for parameter values: [0.29840605 0.79706749 0.06717435 0.72160819 0.99847769] (rank 0)\n",
      "Simulator returns exception for parameter values: [0.28680469 0.79531923 0.05879789 0.89228319 0.8963054 ] (rank 0)\n",
      "Simulator returns exception for parameter values: [0.2943722  0.79659405 0.03458698 0.60303737 0.98308927] (rank 0)\n",
      "Simulator returns exception for parameter values: [0.30451214 0.79424321 0.0547612  0.60447389 1.04268966] (rank 0)\n",
      "Simulator returns exception for parameter values: [0.300036   0.79777711 0.06830192 0.82591631 0.94851954] (rank 0)\n",
      "Simulator returns exception for parameter values: [0.31003988 0.7982525  0.07714743 0.81854757 0.95223558] (rank 0)\n",
      "Simulator returns exception for parameter values: [0.2910421  0.80340208 0.03416526 0.676303   0.93448072] (rank 0)\n",
      "Simulator returns exception for parameter values: [0.32442501 0.80236852 0.04978944 0.57842857 1.00898189] (rank 0)\n",
      "Simulator returns exception for parameter values: [0.31194418 0.79870027 0.0852895  0.94351927 0.90758807] (rank 0)\n",
      "Simulator returns exception for parameter values: [0.30624809 0.80102854 0.05003141 0.67838623 0.96806234] (rank 0)\n",
      "Simulator returns exception for parameter values: [0.28816378 0.8011079  0.0624977  0.80264003 0.930068  ] (rank 0)\n",
      "Simulator returns exception for parameter values: [0.30072298 0.80017777 0.03074865 0.81112745 0.85737306] (rank 0)\n",
      "Simulator returns exception for parameter values: [0.27520167 0.79902291 0.07194137 0.84115576 0.95167413] (rank 0)\n",
      "Simulator returns exception for parameter values: [0.30330606 0.80219289 0.09286964 0.90289745 0.93296883] (rank 0)\n",
      "Simulator returns exception for parameter values: [0.3033949  0.79651546 0.05326947 0.69141565 0.98356743] (rank 0)\n",
      "Simulator returns exception for parameter values: [0.29387379 0.79956499 0.00555647 0.4143069  1.02002599] (rank 0)\n",
      "Simulator returns exception for parameter values: [0.29644374 0.79744814 0.03185471 0.79628999 0.86704516] (rank 0)\n",
      "Simulator returns exception for parameter values: [0.30843652 0.79867863 0.07884769 0.9080049  0.90989402] (rank 0)\n",
      "Simulator returns exception for parameter values: [0.30231158 0.80257709 0.05299418 0.73638691 0.93215451] (rank 0)\n",
      "Simulator returns exception for parameter values: [0.29078943 0.80141447 0.09871282 0.964162   0.94096117] (rank 0)\n",
      "Simulator returns exception for parameter values: [0.30950101 0.79697824 0.04043832 0.54486935 1.01072914] (rank 0)\n",
      "Simulator returns exception for parameter values: [0.30798181 0.80269435 0.08583307 0.86258098 0.93537856] (rank 0)\n",
      "Simulator returns exception for parameter values: [0.30303764 0.8043021  0.0584055  0.65370458 0.98557546] (rank 0)\n",
      "Simulator returns exception for parameter values: [0.31032117 0.79980204 0.06133331 0.57537001 1.05542408] (rank 0)\n",
      "Simulator returns exception for parameter values: [0.29595533 0.79918453 0.03508341 0.47419003 1.05686525] (rank 0)\n",
      "Simulator returns exception for parameter values: [0.30666279 0.80195185 0.00782302 0.55175606 0.93523625] (rank 0)\n",
      "Simulator returns exception for parameter values: [0.32310294 0.7997777  0.04598238 0.62160233 0.96889877] (rank 0)\n",
      "Simulator returns exception for parameter values: [0.31040174 0.79587194 0.04492873 0.77004971 0.91539045] (rank 0)\n",
      "Simulator returns exception for parameter values: [0.3026543  0.79978411 0.03361267 0.55776139 1.00537486] (rank 0)\n",
      "Simulator returns exception for parameter values: [0.29208038 0.80075829 0.03246386 0.46239615 1.05655995] (rank 0)\n",
      "Simulator returns exception for parameter values: [0.28628458 0.79605465 0.05193229 0.77607056 0.93953664] (rank 0)\n",
      "Simulator returns exception for parameter values: [0.29238991 0.80207899 0.0171115  0.49276962 0.99242857] (rank 0)\n",
      "Simulator returns exception for parameter values: [0.28781172 0.80445701 0.09252116 0.9893102  0.8941041 ] (rank 0)\n",
      "Simulator returns exception for parameter values: [0.27905294 0.80075959 0.07625809 0.89658157 0.92184246] (rank 0)\n",
      "Simulator returns exception for parameter values: [0.29158992 0.79919326 0.05980315 0.69986033 0.99106822] (rank 0)\n",
      "Simulator returns exception for parameter values: [0.29734763 0.7997289  0.04136842 0.64455376 0.99133448] (rank 0)\n",
      "Simulator returns exception for parameter values: [0.30665779 0.80501966 0.074655   0.93908334 0.85917125] (rank 0)\n",
      "Simulator returns exception for parameter values: [0.29944501 0.80063419 0.07125609 0.74742787 0.98031495] (rank 0)\n",
      "Simulator returns exception for parameter values: [0.30724517 0.79813844 0.09345452 0.81522351 1.00619031] (rank 0)\n",
      "Simulator returns exception for parameter values: [0.30499943 0.80232108 0.05051786 0.74236475 0.91715931] (rank 0)\n",
      "Simulator returns exception for parameter values: [0.29751159 0.80021819 0.07106254 0.84525573 0.94001414] (rank 0)\n",
      "Simulator returns exception for parameter values: [0.29350136 0.79865878 0.04707345 0.83593645 0.8727852 ] (rank 0)\n",
      "Simulator returns exception for parameter values: [0.30937351 0.79866246 0.05837976 0.6395523  1.01529483] (rank 0)\n",
      "Simulator returns exception for parameter values: [0.29135562 0.79715764 0.09151529 0.91828226 0.95077712] (rank 0)\n",
      "Simulator returns exception for parameter values: [0.29614733 0.7976459  0.02925787 0.4949146  1.0368928 ] (rank 0)\n",
      "Simulator returns exception for parameter values: [0.28200212 0.79731894 0.097881   0.88858923 0.99891565] (rank 0)\n",
      "Simulator returns exception for parameter values: [0.31581186 0.80153128 0.06411195 0.82286515 0.90560106] (rank 0)\n",
      "Simulator returns exception for parameter values: [0.29683167 0.81172065 0.07608772 0.95899673 0.84276734] (rank 0)\n",
      "Simulator returns exception for parameter values: [0.29724976 0.79453426 0.0633423  0.76635964 0.97611994] (rank 0)\n",
      "Simulator returns exception for parameter values: [0.3201427  0.80458592 0.02218115 0.43661983 1.00671646] (rank 0)\n",
      "Simulator returns exception for parameter values: [0.31328018 0.80270485 0.08420078 0.92256801 0.89960138] (rank 0)\n",
      "Simulator returns exception for parameter values: [0.29765422 0.79822764 0.06168988 0.83674157 0.91437731] (rank 0)\n",
      "Simulator returns exception for parameter values: [0.28356508 0.7985938  0.02020599 0.53963494 1.00414356] (rank 0)\n",
      "Simulator returns exception for parameter values: [0.29768509 0.80072573 0.07613772 0.75948067 0.9817036 ] (rank 0)\n",
      "Simulator returns exception for parameter values: [0.28780839 0.79235661 0.02724465 0.61018308 0.99389668] (rank 0)\n",
      "Simulator returns exception for parameter values: [0.29865093 0.8021717  0.03583405 0.56767307 0.99513787] (rank 0)\n",
      "Simulator returns exception for parameter values: [0.30176876 0.79958122 0.09698461 0.88518222 0.97738264] (rank 0)\n",
      "Simulator returns exception for parameter values: [0.32704728 0.80568653 0.06996791 0.74295293 0.95260764] (rank 0)\n",
      "Simulator returns exception for parameter values: [0.30638084 0.79814478 0.04641917 0.6359274  0.98570185] (rank 0)\n",
      "Simulator returns exception for parameter values: [0.29774721 0.80479565 0.03806737 0.60934606 0.95477785] (rank 0)\n",
      "Simulator returns exception for parameter values: [0.31506084 0.80796606 0.06049219 0.66798365 0.95305339] (rank 0)\n",
      "Simulator returns exception for parameter values: [0.30050926 0.79837212 0.07140768 0.8833153  0.9212739 ] (rank 0)\n",
      "Simulator returns exception for parameter values: [0.29266613 0.7971479  0.04271402 0.75630699 0.93520103] (rank 0)\n",
      "Simulator returns exception for parameter values: [0.29963241 0.80001229 0.08072158 0.93797683 0.88911731] (rank 0)\n",
      "Simulator returns exception for parameter values: [0.31743291 0.80189919 0.05965865 0.59514385 1.02726603] (rank 0)\n",
      "Simulator returns exception for parameter values: [0.29997058 0.79716577 0.09294269 0.88567447 0.96325162] (rank 0)\n",
      "Simulator returns exception for parameter values: [0.30639771 0.79832378 0.00186322 0.49966857 0.9583359 ] (rank 0)\n",
      "Simulator returns exception for parameter values: [0.29450225 0.80013895 0.05741192 0.81813122 0.91315137] (rank 0)\n",
      "Simulator returns exception for parameter values: [0.28990835 0.7966398  0.02798216 0.71927316 0.92183894] (rank 0)\n",
      "Simulator returns exception for parameter values: [0.29701467 0.80136538 0.04773401 0.67581986 0.95602475] (rank 0)\n",
      "Simulator returns exception for parameter values: [0.2833779  0.80426174 0.06930256 0.81522557 0.94131036] (rank 0)\n",
      "Simulator returns exception for parameter values: [0.30466072 0.80431128 0.04135721 0.74565227 0.90270403] (rank 0)\n",
      "Simulator returns exception for parameter values: [0.2992976  0.79834183 0.0254152  0.54096516 0.98977624] (rank 0)\n",
      "Simulator returns exception for parameter values: [0.29718152 0.79881903 0.03690932 0.523662   1.04081928] (rank 0)\n",
      "Simulator returns exception for parameter values: [0.30150046 0.80190566 0.08077388 0.8473137  0.94001457] (rank 0)\n",
      "Simulator returns exception for parameter values: [0.29194185 0.80177145 0.06460495 0.82832341 0.92251236] (rank 0)\n",
      "Simulator returns exception for parameter values: [0.31277455 0.80177778 0.03075327 0.62437111 0.94089588] (rank 0)\n",
      "Simulator returns exception for parameter values: [0.30307923 0.79872225 0.08103917 0.76182024 1.0048303 ] (rank 0)\n",
      "Simulator returns exception for parameter values: [0.30398532 0.80467795 0.08717578 0.84783434 0.94658575] (rank 0)\n",
      "Simulator returns exception for parameter values: [0.31103817 0.80189317 0.00494592 0.56499463 0.91552818] (rank 0)\n",
      "Simulator returns exception for parameter values: [0.30980139 0.80306418 0.00892868 0.40218826 1.01126288] (rank 0)\n",
      "Simulator returns exception for parameter values: [0.30650173 0.80123644 0.08406009 0.8946743  0.91506444] (rank 0)\n",
      "Simulator returns exception for parameter values: [0.3015212  0.8022036  0.07486904 0.76455308 0.98284592] (rank 0)\n",
      "Simulator returns exception for parameter values: [0.30199819 0.7975669  0.05515384 0.72576312 0.97027744] (rank 0)\n",
      "Simulator returns exception for parameter values: [0.30770958 0.79802831 0.0293699  0.62301941 0.96418626] (rank 0)\n",
      "Simulator returns exception for parameter values: [0.27716743 0.79531698 0.0511444  0.68330995 1.00315801] (rank 0)\n",
      "Simulator returns exception for parameter values: [0.27312401 0.8001803  0.0435295  0.63431985 1.00217796] (rank 0)\n",
      "Simulator returns exception for parameter values: [0.29863702 0.80201992 0.08466337 0.7698874  0.99754616] (rank 0)\n",
      "Simulator returns exception for parameter values: [0.29101004 0.79880132 0.06577473 0.79781134 0.9539319 ] (rank 0)\n",
      "Simulator returns exception for parameter values: [0.28274601 0.79682371 0.03244219 0.66059245 0.96459667] (rank 0)\n",
      "Simulator returns exception for parameter values: [0.2979707  0.79785833 0.04910239 0.80354964 0.91574657] (rank 0)\n",
      "Simulator returns exception for parameter values: [0.28907795 0.80097376 0.04533015 0.75009152 0.91881159] (rank 0)\n",
      "Simulator returns exception for parameter values: [0.29392342 0.79308762 0.05819173 0.76880121 0.96875503] (rank 0)\n",
      "Simulator returns exception for parameter values: [0.2923127  0.79921353 0.06732056 0.79753225 0.96412707] (rank 0)\n",
      "Simulator returns exception for parameter values: [0.31620364 0.7978386  0.03755037 0.73707098 0.90901158] (rank 0)\n",
      "Simulator returns exception for parameter values: [0.30573117 0.79585891 0.04165531 0.7755533  0.89732636] (rank 0)\n",
      "Simulator returns exception for parameter values: [0.31597825 0.80012274 0.05456004 0.76888918 0.91826106] (rank 0)\n",
      "Simulator returns exception for parameter values: [0.30080641 0.80110756 0.07375621 0.7886939  0.96295309] (rank 0)\n",
      "Simulator returns exception for parameter values: [0.30639944 0.7981655  0.04648417 0.67352211 0.97103109] (rank 0)\n",
      "Simulator returns exception for parameter values: [0.32994059 0.79618897 0.09224451 0.75886042 1.00978091] (rank 0)\n",
      "Simulator returns exception for parameter values: [0.31144003 0.80061567 0.08132133 0.81632929 0.96181347] (rank 0)\n",
      "Simulator returns exception for parameter values: [0.30455632 0.8025512  0.0590992  0.82857816 0.89566134] (rank 0)\n",
      "Simulator returns exception for parameter values: [0.28693757 0.79851067 0.03964966 0.75822725 0.92076579] (rank 0)\n",
      "Simulator returns exception for parameter values: [0.30414839 0.80456414 0.07307411 0.83113826 0.92077817] (rank 0)\n",
      "Simulator returns exception for parameter values: [0.28633683 0.79837957 0.08933064 0.89440925 0.95288281] (rank 0)\n",
      "Simulator returns exception for parameter values: [0.30927869 0.80056772 0.08406508 0.9063794  0.92320669] (rank 0)\n",
      "Simulator returns exception for parameter values: [0.30883588 0.80082636 0.05403742 0.73888927 0.93228277] (rank 0)\n",
      "Simulator returns exception for parameter values: [0.29274731 0.7955421  0.03844008 0.61952033 0.99715344] (rank 0)\n",
      "Simulator returns exception for parameter values: [0.30151603 0.79761913 0.04607663 0.62427813 1.00546399] (rank 0)\n",
      "Simulator returns exception for parameter values: [0.29303557 0.80359496 0.04007677 0.70474499 0.92226211] (rank 0)\n",
      "Simulator returns exception for parameter values: [0.31166193 0.80255707 0.0680298  0.75519975 0.95482603] (rank 0)\n",
      "Simulator returns exception for parameter values: [0.28665798 0.80051286 0.01755541 0.57259018 0.96044729] (rank 0)\n",
      "Simulator returns exception for parameter values: [0.29954678 0.79581113 0.08023302 0.93363611 0.9278816 ] (rank 0)\n",
      "Simulator returns exception for parameter values: [0.29253078 0.79481309 0.02221299 0.60230845 0.98267491] (rank 0)\n",
      "Simulator returns exception for parameter values: [0.27878748 0.79770077 0.04662206 0.58928577 1.02738535] (rank 0)\n",
      "Simulator returns exception for parameter values: [0.3185056  0.79730233 0.03515595 0.70779694 0.90733748] (rank 0)\n",
      "Simulator returns exception for parameter values: [0.30089492 0.80337296 0.05182859 0.68928902 0.96689882] (rank 0)\n",
      "Simulator returns exception for parameter values: [0.30844241 0.8020205  0.08371662 0.94060653 0.89588692] (rank 0)\n",
      "Simulator returns exception for parameter values: [0.29557266 0.80334878 0.02632997 0.56641569 0.96765112] (rank 0)\n",
      "Simulator returns exception for parameter values: [0.29167045 0.79460147 0.0842723  0.8532376  0.97312015] (rank 0)\n",
      "Simulator returns exception for parameter values: [0.30233943 0.80018528 0.01672846 0.58627811 0.950886  ] (rank 0)\n",
      "Simulator returns exception for parameter values: [0.28659683 0.80193319 0.06349416 0.84118191 0.91354685] (rank 0)\n",
      "Simulator returns exception for parameter values: [0.30049157 0.79991168 0.01134812 0.72109864 0.86151679] (rank 0)\n",
      "Simulator returns exception for parameter values: [0.29223718 0.8013487  0.05148619 0.73404606 0.9521115 ] (rank 0)\n",
      "Simulator returns exception for parameter values: [0.30818417 0.7949902  0.0699702  0.98169974 0.86249341] (rank 0)\n",
      "Simulator returns exception for parameter values: [0.29523598 0.80173425 0.08354825 0.97138341 0.88178312] (rank 0)\n",
      "Simulator returns exception for parameter values: [0.31420544 0.80380578 0.04807687 0.69599269 0.92811693] (rank 0)\n",
      "Simulator returns exception for parameter values: [0.32095573 0.79966525 0.01012699 0.47305248 0.97452578] (rank 0)\n",
      "Simulator returns exception for parameter values: [0.28216741 0.8100599  0.05536661 0.78638533 0.89007776] (rank 0)\n",
      "Simulator returns exception for parameter values: [0.30495991 0.80271394 0.03119392 0.67468261 0.92763829] (rank 0)\n",
      "Simulator returns exception for parameter values: [0.3230872  0.79912395 0.08501887 0.85287936 0.95583869] (rank 0)\n",
      "Simulator returns exception for parameter values: [0.3087602  0.79790985 0.04053412 0.65468285 0.96496863] (rank 0)\n",
      "Simulator returns exception for parameter values: [0.29617235 0.8010054  0.07268856 0.79992289 0.95252861] (rank 0)\n",
      "Simulator returns exception for parameter values: [0.29582815 0.79860322 0.05364461 0.75731626 0.936055  ] (rank 0)\n",
      "Simulator returns exception for parameter values: [0.28812377 0.79802375 0.01248583 0.45497012 1.02109111] (rank 0)\n",
      "Simulator returns exception for parameter values: [0.29358265 0.79988247 0.03932574 0.5066035  1.04201772] (rank 0)\n",
      "Simulator returns exception for parameter values: [0.30958947 0.80212207 0.02558316 0.43571612 1.03247682] (rank 0)\n",
      "Simulator returns exception for parameter values: [0.28450156 0.79876441 0.08002657 0.76387065 1.00756932] (rank 0)\n",
      "Simulator returns exception for parameter values: [0.30769464 0.80160947 0.03907539 0.66279563 0.94461802] (rank 0)\n",
      "Simulator returns exception for parameter values: [0.30237232 0.79725153 0.08743656 0.73326592 1.04081436] (rank 0)\n",
      "Simulator returns exception for parameter values: [0.30403255 0.80379015 0.04945201 0.72641204 0.92294184] (rank 0)\n",
      "Simulator returns exception for parameter values: [0.29804714 0.80290886 0.06915073 0.63318107 1.024354  ] (rank 0)\n",
      "Simulator returns exception for parameter values: [0.29890291 0.79893801 0.00405773 0.43424852 1.01410221] (rank 0)\n",
      "Simulator returns exception for parameter values: [0.29833492 0.80012451 0.05970759 0.76650683 0.94444549] (rank 0)\n",
      "Simulator returns exception for parameter values: [0.31113231 0.80168373 0.06658849 0.87720891 0.88513742] (rank 0)\n",
      "Simulator returns exception for parameter values: [0.28270099 0.80373917 0.04165648 0.70714699 0.92548157] (rank 0)\n",
      "Simulator returns exception for parameter values: [0.29116135 0.79637164 0.05599026 0.80629829 0.94215406] (rank 0)\n",
      "Simulator returns exception for parameter values: [0.29251957 0.80186906 0.08836498 0.76580881 1.01423017] (rank 0)\n",
      "Simulator returns exception for parameter values: [0.30664911 0.79788933 0.04117335 0.48131661 1.06982957] (rank 0)\n",
      "Simulator returns exception for parameter values: [0.2935762  0.80323732 0.03848892 0.53586611 1.01961143] (rank 0)\n",
      "Simulator returns exception for parameter values: [0.30787393 0.80071997 0.06522537 0.85232367 0.8835803 ] (rank 0)\n",
      "Simulator returns exception for parameter values: [0.29528928 0.8016714  0.06070482 0.76406764 0.94902642] (rank 0)\n",
      "Simulator returns exception for parameter values: [0.29726132 0.80194174 0.05720784 0.97634583 0.82637504] (rank 0)\n",
      "Simulator returns exception for parameter values: [0.3007493  0.80194297 0.08199816 0.85198496 0.94388479] (rank 0)\n",
      "Simulator returns exception for parameter values: [0.28598635 0.80309296 0.03507093 0.72438506 0.90621519] (rank 0)\n",
      "Simulator returns exception for parameter values: [0.29093611 0.79886786 0.04818186 0.64931238 0.98879953] (rank 0)\n",
      "Simulator returns exception for parameter values: [0.30462774 0.80344851 0.03346871 0.5056005  1.02898635] (rank 0)\n",
      "Simulator returns exception for parameter values: [0.29908085 0.79722996 0.09444502 0.93418509 0.94638738] (rank 0)\n",
      "Simulator returns exception for parameter values: [0.30334114 0.79888405 0.01295693 0.49364873 0.9922347 ] (rank 0)\n",
      "Simulator returns exception for parameter values: [0.30410772 0.80197713 0.06758617 0.83691034 0.90962535] (rank 0)\n",
      "Simulator returns exception for parameter values: [0.29774201 0.80601612 0.08189318 0.90814129 0.90132168] (rank 0)\n",
      "Simulator returns exception for parameter values: [0.3042065  0.79892028 0.03277838 0.44534731 1.06782827] (rank 0)\n",
      "Simulator returns exception for parameter values: [0.31414448 0.79897713 0.06125894 0.7009632  0.98639861] (rank 0)\n",
      "Simulator returns exception for parameter values: [0.27967715 0.79902393 0.00956138 0.40132114 1.05011642] (rank 0)\n",
      "Simulator returns exception for parameter values: [0.2781051  0.79409339 0.02623723 0.5742069  1.00630535] (rank 0)\n",
      "Simulator returns exception for parameter values: [0.30195051 0.7972049  0.03509005 0.60098884 0.99125491] (rank 0)\n",
      "Simulator returns exception for parameter values: [0.29346296 0.79798985 0.05798593 0.79586215 0.943009  ] (rank 0)\n",
      "Simulator returns exception for parameter values: [0.3110285  0.80294571 0.02557345 0.51195197 0.99699813] (rank 0)\n",
      "Simulator returns exception for parameter values: [0.29758443 0.7997461  0.03863636 0.57278452 1.00311293] (rank 0)\n",
      "Simulator returns exception for parameter values: [0.29921293 0.79595717 0.06696421 0.71610143 1.01285233] (rank 0)\n",
      "Simulator returns exception for parameter values: [0.32500699 0.81012002 0.0869325  0.65075371 1.02954487] (rank 0)\n",
      "Simulator returns exception for parameter values: [0.30242292 0.80305474 0.00940766 0.54682113 0.94898003] (rank 0)\n",
      "Simulator returns exception for parameter values: [0.29469069 0.80257947 0.09515882 0.92718343 0.92448999] (rank 0)\n",
      "Simulator returns exception for parameter values: [0.32378915 0.80511706 0.08443924 0.73262285 0.99148457] (rank 0)\n",
      "Simulator returns exception for parameter values: [0.28410576 0.79423776 0.08798112 0.95058016 0.9549218 ] (rank 0)\n",
      "Simulator returns exception for parameter values: [0.30921405 0.8032311  0.05618698 0.67950678 0.97992756] (rank 0)\n",
      "Simulator returns exception for parameter values: [0.29596396 0.79924978 0.05227503 0.76494021 0.94197206] (rank 0)\n",
      "Simulator returns exception for parameter values: [0.29521666 0.79788194 0.05140224 0.81700903 0.90534671] (rank 0)\n",
      "Simulator returns exception for parameter values: [0.26993245 0.792505   0.00318737 0.68247446 0.91006734] (rank 0)\n",
      "Simulator returns exception for parameter values: [0.30009324 0.79730489 0.04691137 0.71408863 0.94648697] (rank 0)\n",
      "Simulator returns exception for parameter values: [0.30142694 0.80414573 0.03905005 0.71194587 0.90108423] (rank 0)\n",
      "Simulator returns exception for parameter values: [0.29046652 0.80226448 0.02182823 0.59474497 0.94241622] (rank 0)\n",
      "Simulator returns exception for parameter values: [0.29402713 0.79994519 0.08321571 0.87188299 0.95219118] (rank 0)\n",
      "Simulator returns exception for parameter values: [0.28909274 0.79506477 0.07563684 0.83940368 0.96955492] (rank 0)\n",
      "Simulator returns exception for parameter values: [0.27088838 0.79768286 0.01279355 0.56141469 0.97207627] (rank 0)\n",
      "Simulator returns exception for parameter values: [0.31978725 0.79796402 0.02701514 0.53436879 0.97828602] (rank 0)\n",
      "Simulator returns exception for parameter values: [0.28748385 0.80147521 0.03448668 0.62108202 0.9729905 ] (rank 0)\n",
      "Simulator returns exception for parameter values: [0.29230048 0.80200119 0.07400399 0.82367833 0.94711891] (rank 0)\n",
      "Simulator returns exception for parameter values: [0.31197759 0.80141291 0.0366508  0.54598994 0.99893909] (rank 0)\n",
      "Simulator returns exception for parameter values: [0.31162013 0.80209809 0.04045748 0.54859473 1.01468136] (rank 0)\n",
      "Simulator returns exception for parameter values: [0.30197546 0.79951914 0.0465766  0.72773336 0.92629379] (rank 0)\n",
      "Simulator returns exception for parameter values: [0.27977305 0.80070117 0.03720981 0.58776133 1.00672871] (rank 0)\n",
      "Simulator returns exception for parameter values: [0.30599281 0.79705318 0.05937977 0.70442431 0.98750871] (rank 0)\n",
      "Simulator returns exception for parameter values: [0.30156159 0.80462385 0.04881671 0.71745348 0.92634564] (rank 0)\n",
      "Simulator returns exception for parameter values: [0.28951835 0.80054995 0.00679363 0.40872453 1.01850091] (rank 0)\n",
      "Simulator returns exception for parameter values: [0.28946711 0.80665392 0.01011377 0.68415617 0.85138871] (rank 0)\n",
      "Simulator returns exception for parameter values: [0.31011113 0.7979969  0.07757233 0.92945375 0.91050904] (rank 0)\n",
      "Simulator returns exception for parameter values: [0.29407419 0.79953157 0.07654159 0.94084409 0.89012699] (rank 0)\n",
      "Simulator returns exception for parameter values: [0.32933751 0.80012098 0.07384033 0.61244071 1.0460301 ] (rank 0)\n",
      "Simulator returns exception for parameter values: [0.32193363 0.80124351 0.08305324 0.74901973 0.99311454] (rank 0)\n",
      "Simulator returns exception for parameter values: [0.29012137 0.80002265 0.09380196 0.93921347 0.92936741] (rank 0)\n",
      "Simulator returns exception for parameter values: [0.30242846 0.79883706 0.08549773 0.99465667 0.88391294] (rank 0)\n",
      "Simulator returns exception for parameter values: [0.28338993 0.79540709 0.08800759 0.93576893 0.94869733] (rank 0)\n",
      "Simulator returns exception for parameter values: [0.28671368 0.80086463 0.09577065 0.96469749 0.92462693] (rank 0)\n",
      "Simulator returns exception for parameter values: [0.31343134 0.79989776 0.02022123 0.6228586  0.92254966] (rank 0)\n",
      "Simulator returns exception for parameter values: [0.29383161 0.80112801 0.00566793 0.40879562 1.03037003] (rank 0)\n"
     ]
    },
    {
     "name": "stdout",
     "output_type": "stream",
     "text": [
      "Simulator returns exception for parameter values: [0.29211265 0.80213836 0.00264834 0.57385553 0.91132095] (rank 0)\n",
      "Simulator returns exception for parameter values: [0.31535592 0.79938725 0.06957933 0.68553893 1.0177128 ] (rank 0)\n",
      "Simulator returns exception for parameter values: [0.29024221 0.79583805 0.03189398 0.68441936 0.94506084] (rank 0)\n",
      "Simulator returns exception for parameter values: [0.31470496 0.79948208 0.03718887 0.58140193 0.99763331] (rank 0)\n",
      "Simulator returns exception for parameter values: [0.30019537 0.79858061 0.02754735 0.65691019 0.93840984] (rank 0)\n",
      "Simulator returns exception for parameter values: [0.27436374 0.79610101 0.02457933 0.70644911 0.93603945] (rank 0)\n",
      "Simulator returns exception for parameter values: [0.28826688 0.79931574 0.003487   0.40344069 1.02379468] (rank 0)\n",
      "Simulator returns exception for parameter values: [0.3098247  0.80020089 0.07943452 0.98520842 0.85697936] (rank 0)\n",
      "Simulator returns exception for parameter values: [0.30289907 0.80500975 0.00464769 0.41681826 0.98200764] (rank 0)\n",
      "Simulator returns exception for parameter values: [0.28460786 0.79820565 0.05626982 0.83595058 0.92422522] (rank 0)\n",
      "Simulator returns exception for parameter values: [0.29611424 0.7972057  0.06152558 0.76631263 0.95441186] (rank 0)\n",
      "Simulator returns exception for parameter values: [0.3137244  0.7992463  0.04894411 0.66410697 0.97435032] (rank 0)\n",
      "Simulator returns exception for parameter values: [0.28805108 0.80180356 0.02536399 0.58807134 0.97694592] (rank 0)\n",
      "Simulator returns exception for parameter values: [0.31931989 0.80013007 0.00124955 0.52750725 0.93012447] (rank 0)\n",
      "Simulator returns exception for parameter values: [0.2819872  0.79668153 0.04419414 0.62596938 1.01204415] (rank 0)\n",
      "Simulator returns exception for parameter values: [0.29033219 0.80360518 0.02208673 0.48986205 1.01414692] (rank 0)\n",
      "Simulator returns exception for parameter values: [0.28258884 0.80214601 0.01280556 0.49255945 0.99375289] (rank 0)\n",
      "Simulator returns exception for parameter values: [0.30128727 0.79744571 0.09070212 0.98251918 0.89968881] (rank 0)\n",
      "Simulator returns exception for parameter values: [0.31240508 0.80324441 0.01200079 0.41651385 1.00974883] (rank 0)\n",
      "Simulator returns exception for parameter values: [0.29329654 0.79868921 0.06525251 0.78148    0.94390132] (rank 0)\n",
      "Simulator returns exception for parameter values: [0.30587948 0.80265365 0.09205352 0.83781908 0.96917144] (rank 0)\n",
      "Simulator returns exception for parameter values: [0.3032453  0.80114164 0.01828441 0.64152403 0.9103962 ] (rank 0)\n",
      "Simulator returns exception for parameter values: [0.29966023 0.80086383 0.05667112 0.64848293 1.00020553] (rank 0)\n",
      "Simulator returns exception for parameter values: [0.29137066 0.79785045 0.04072393 0.487329   1.07716251] (rank 0)\n",
      "Simulator returns exception for parameter values: [0.32313745 0.80375122 0.01871086 0.47154865 0.99552324] (rank 0)\n",
      "Simulator returns exception for parameter values: [0.30473979 0.79361651 0.04107965 0.42716823 1.11198218] (rank 0)\n",
      "Simulator returns exception for parameter values: [0.29435996 0.79807814 0.0781604  0.91512406 0.91885146] (rank 0)\n",
      "Simulator returns exception for parameter values: [0.3027529  0.80462096 0.02812076 0.60941828 0.93443557] (rank 0)\n",
      "Simulator returns exception for parameter values: [0.28709536 0.79219778 0.01619626 0.69128181 0.92574628] (rank 0)\n",
      "Simulator returns exception for parameter values: [0.28807183 0.79821566 0.06124134 0.98898439 0.84481671] (rank 0)\n",
      "Simulator returns exception for parameter values: [0.29027034 0.79434236 0.05211849 0.88065396 0.89980697] (rank 0)\n",
      "Simulator returns exception for parameter values: [0.31538211 0.80192434 0.02856652 0.46868364 1.02469517] (rank 0)\n",
      "Simulator returns exception for parameter values: [0.32312172 0.79644547 0.08175912 0.82534455 0.96156277] (rank 0)\n",
      "Simulator returns exception for parameter values: [0.30049628 0.80105636 0.07418596 0.75570531 0.99481935] (rank 0)\n",
      "Simulator returns exception for parameter values: [0.31458077 0.79723243 0.05811758 0.5832663  1.03696732] (rank 0)\n",
      "Simulator returns exception for parameter values: [0.30295201 0.7965173  0.02624713 0.6762835  0.92638442] (rank 0)\n",
      "Simulator returns exception for parameter values: [0.3107672  0.80237479 0.05603402 0.74570046 0.92528411] (rank 0)\n",
      "Simulator returns exception for parameter values: [0.29548179 0.79683289 0.00348783 0.5241687  0.95479113] (rank 0)\n",
      "Simulator returns exception for parameter values: [0.29544365 0.79738631 0.0855857  0.78447774 1.00472533] (rank 0)\n",
      "Simulator returns exception for parameter values: [0.31741874 0.80259669 0.03490694 0.59531003 0.95813543] (rank 0)\n",
      "Simulator returns exception for parameter values: [0.28232146 0.795356   0.03802778 0.81477704 0.89642328] (rank 0)\n",
      "Simulator returns exception for parameter values: [0.30848876 0.79284463 0.07110968 0.82147148 0.95045078] (rank 0)\n",
      "Simulator returns exception for parameter values: [0.31246131 0.80079699 0.06164793 0.73803028 0.95615066] (rank 0)\n",
      "Simulator returns exception for parameter values: [0.30016861 0.79876501 0.00813583 0.45644022 1.01620085] (rank 0)\n",
      "Simulator returns exception for parameter values: [0.29749526 0.79762583 0.07488419 0.77177815 0.99798995] (rank 0)\n",
      "Simulator returns exception for parameter values: [0.282612   0.80277007 0.08691436 0.97418516 0.88450734] (rank 0)\n",
      "Simulator returns exception for parameter values: [0.29832641 0.80049927 0.06494951 0.91155878 0.85981747] (rank 0)\n",
      "Simulator returns exception for parameter values: [0.31019961 0.80090926 0.02641769 0.5879158  0.95602373] (rank 0)\n",
      "Simulator returns exception for parameter values: [0.28425775 0.80042643 0.05729544 0.64266169 1.01013309] (rank 0)\n",
      "Simulator returns exception for parameter values: [0.31235499 0.8014638  0.03946246 0.7073749  0.91716906] (rank 0)\n",
      "Simulator returns exception for parameter values: [0.30454637 0.79799233 0.04985752 0.62865109 1.013787  ] (rank 0)\n",
      "Simulator returns exception for parameter values: [0.32353337 0.80450144 0.08936981 0.99553776 0.85803165] (rank 0)\n",
      "Simulator returns exception for parameter values: [0.30712555 0.79346898 0.0603869  0.64210538 1.0347742 ] (rank 0)\n",
      "Simulator returns exception for parameter values: [0.29074467 0.79738733 0.0438321  0.64144384 1.01500794] (rank 0)\n",
      "Simulator returns exception for parameter values: [0.30161726 0.79593294 0.06377665 0.82550729 0.93729689] (rank 0)\n",
      "Simulator returns exception for parameter values: [0.29281178 0.80382384 0.0100819  0.52358893 0.9554786 ] (rank 0)\n",
      "Simulator returns exception for parameter values: [0.30259393 0.79149819 0.08909739 0.92472864 0.95660998] (rank 0)\n",
      "Simulator returns exception for parameter values: [0.30240147 0.7978997  0.05345813 0.6721176  0.98950546] (rank 0)\n",
      "Simulator returns exception for parameter values: [0.27740958 0.79632345 0.02742634 0.55222717 1.01550174] (rank 0)\n",
      "Simulator returns exception for parameter values: [0.28496885 0.80179011 0.08133477 0.7257807  1.02449465] (rank 0)\n",
      "Simulator returns exception for parameter values: [0.2964413  0.80019265 0.06093741 0.75999392 0.95540598] (rank 0)\n",
      "Simulator returns exception for parameter values: [0.30856377 0.80722971 0.07271201 0.77306797 0.94893273] (rank 0)\n",
      "Simulator returns exception for parameter values: [0.29075509 0.79377831 0.0121311  0.7782998  0.85427123] (rank 0)\n",
      "Simulator returns exception for parameter values: [0.28793511 0.7983477  0.04125098 0.62989614 1.00680259] (rank 0)\n",
      "Simulator returns exception for parameter values: [0.31599764 0.80790691 0.09072511 0.99784789 0.84121493] (rank 0)\n",
      "Simulator returns exception for parameter values: [0.29515035 0.7930489  0.07463842 0.87655927 0.94858772] (rank 0)\n",
      "Simulator returns exception for parameter values: [0.2999951  0.8033128  0.03869806 0.62601641 0.96173418] (rank 0)\n",
      "Simulator returns exception for parameter values: [0.30800598 0.80324572 0.0302445  0.61796124 0.93943025] (rank 0)\n",
      "Simulator returns exception for parameter values: [0.27205898 0.79799816 0.01336963 0.42807976 1.04983849] (rank 0)\n",
      "Simulator returns exception for parameter values: [0.29966894 0.80782449 0.03763946 0.41793868 1.05777728] (rank 0)\n",
      "Simulator returns exception for parameter values: [0.31720518 0.80339116 0.03110336 0.44773804 1.0451821 ] (rank 0)\n",
      "Simulator returns exception for parameter values: [0.27673325 0.79778682 0.01710891 0.44849293 1.0387723 ] (rank 0)\n",
      "Simulator returns exception for parameter values: [0.29164086 0.79893571 0.04357417 0.61725623 1.01343483] (rank 0)\n",
      "Simulator returns exception for parameter values: [0.30659853 0.79922242 0.04276706 0.45631178 1.0759848 ] (rank 0)\n",
      "Simulator returns exception for parameter values: [0.28188056 0.79609942 0.0491     0.63472414 1.00710006] (rank 0)\n",
      "Simulator returns exception for parameter values: [0.29151493 0.79607162 0.07494444 0.88197299 0.93817386] (rank 0)\n",
      "Simulator returns exception for parameter values: [0.30817768 0.80334455 0.02942265 0.48084635 1.02300844] (rank 0)\n",
      "Simulator returns exception for parameter values: [0.29553225 0.79894639 0.05005725 0.52952428 1.05799453] (rank 0)\n",
      "Simulator returns exception for parameter values: [0.30202479 0.79756811 0.07960817 0.7261463  1.03508911] (rank 0)\n",
      "Simulator returns exception for parameter values: [0.30147503 0.79519579 0.07046017 0.80228198 0.96572205] (rank 0)\n",
      "Simulator returns exception for parameter values: [0.30286991 0.79513502 0.0849556  0.91929455 0.92568932] (rank 0)\n",
      "Simulator returns exception for parameter values: [0.30136276 0.80087105 0.0770453  0.8862167  0.91496386] (rank 0)\n",
      "Simulator returns exception for parameter values: [0.3146808  0.79647055 0.08682303 0.79437217 0.99842607] (rank 0)\n",
      "Simulator returns exception for parameter values: [0.30108997 0.7991683  0.07289492 0.81424724 0.95925013] (rank 0)\n",
      "Simulator returns exception for parameter values: [0.30408844 0.80075704 0.02589912 0.50098478 1.01430626] (rank 0)\n",
      "Simulator returns exception for parameter values: [0.31183893 0.80176225 0.07443891 0.86146035 0.89113472] (rank 0)\n",
      "Simulator returns exception for parameter values: [0.28064211 0.79439608 0.05508063 0.72966322 0.98226016] (rank 0)\n",
      "Simulator returns exception for parameter values: [0.28209625 0.79318705 0.03001374 0.82338852 0.88228701] (rank 0)\n",
      "Simulator returns exception for parameter values: [0.30228458 0.79423332 0.02442701 0.44955784 1.0608391 ] (rank 0)\n",
      "Simulator returns exception for parameter values: [0.29061607 0.80155666 0.0906744  0.89363033 0.95416179] (rank 0)\n",
      "Simulator returns exception for parameter values: [0.30818233 0.80335394 0.04942468 0.62100319 0.98660843] (rank 0)\n",
      "Simulator returns exception for parameter values: [0.29843908 0.80341134 0.02412852 0.71447523 0.87882497] (rank 0)\n",
      "Simulator returns exception for parameter values: [0.28070413 0.79539178 0.00833208 0.52309068 0.98436298] (rank 0)\n",
      "Simulator returns exception for parameter values: [0.28682607 0.79499146 0.03281024 0.5532341  1.04351061] (rank 0)\n",
      "Simulator returns exception for parameter values: [0.29186494 0.80199941 0.06637016 0.89060178 0.87756752] (rank 0)\n",
      "Simulator returns exception for parameter values: [0.31303354 0.79683053 0.09085188 0.87547983 0.9664382 ] (rank 0)\n",
      "Simulator returns exception for parameter values: [0.30169301 0.80429957 0.01593944 0.48031227 0.97091849] (rank 0)\n",
      "Simulator returns exception for parameter values: [0.30893614 0.80336655 0.0850476  0.79367453 0.96960688] (rank 0)\n",
      "Simulator returns exception for parameter values: [0.30408321 0.79969598 0.0162245  0.52431566 0.99577949] (rank 0)\n",
      "Simulator returns exception for parameter values: [0.28729946 0.79814819 0.00392865 0.53797527 0.96432119] (rank 0)\n",
      "Simulator returns exception for parameter values: [0.29768444 0.79765492 0.09903463 0.98750953 0.92561732] (rank 0)\n",
      "Simulator returns exception for parameter values: [0.30079954 0.79910785 0.06816893 0.82682275 0.92475449] (rank 0)\n",
      "Simulator returns exception for parameter values: [0.29313347 0.79550693 0.08819189 0.9456748  0.94476242] (rank 0)\n",
      "Simulator returns exception for parameter values: [0.29769583 0.79532993 0.05234389 0.75784722 0.96071266] (rank 0)\n",
      "Simulator returns exception for parameter values: [0.31274002 0.80028232 0.04754789 0.64887172 0.97204956] (rank 0)\n",
      "Simulator returns exception for parameter values: [0.28861669 0.79964427 0.01525501 0.45241774 1.03516992] (rank 0)\n",
      "Simulator returns exception for parameter values: [0.28591511 0.79761541 0.02433197 0.71826544 0.91016221] (rank 0)\n",
      "Simulator returns exception for parameter values: [0.30338927 0.8032403  0.0281628  0.48932574 1.01200813] (rank 0)\n",
      "Simulator returns exception for parameter values: [0.31618812 0.80485115 0.04705656 0.56675406 0.98936575] (rank 0)\n",
      "Simulator returns exception for parameter values: [0.30693228 0.80093349 0.06432888 0.74287074 0.95485627] (rank 0)\n",
      "Simulator returns exception for parameter values: [0.3143661  0.79582447 0.05665337 0.87414816 0.88501794] (rank 0)\n",
      "Simulator returns exception for parameter values: [0.30593467 0.79887093 0.02740209 0.53632136 1.00565765] (rank 0)\n",
      "Simulator returns exception for parameter values: [0.29379273 0.79933667 0.05127976 0.70834193 0.96637255] (rank 0)\n",
      "Simulator returns exception for parameter values: [0.32213604 0.80123718 0.06834944 0.74353587 0.96642789] (rank 0)\n",
      "Simulator returns exception for parameter values: [0.28915711 0.79970767 0.09250583 0.91760026 0.93825374] (rank 0)\n",
      "Simulator returns exception for parameter values: [0.31593158 0.80476181 0.01925663 0.48577916 0.98340747] (rank 0)\n",
      "Simulator returns exception for parameter values: [0.30558926 0.80148953 0.06107948 0.69788236 0.97310176] (rank 0)\n",
      "Simulator returns exception for parameter values: [0.28772844 0.79868442 0.03693221 0.58599631 1.00047746] (rank 0)\n",
      "Simulator returns exception for parameter values: [0.28163683 0.80077861 0.0992837  0.9704806  0.93181017] (rank 0)\n",
      "Simulator returns exception for parameter values: [0.28929344 0.79822827 0.06814951 0.72417125 1.01417806] (rank 0)\n",
      "Simulator returns exception for parameter values: [0.27673925 0.7967628  0.01577077 0.67362618 0.92455326] (rank 0)\n",
      "Simulator returns exception for parameter values: [0.30065413 0.79988068 0.09331173 0.77526618 1.01642084] (rank 0)\n",
      "Simulator returns exception for parameter values: [0.29870561 0.80136834 0.0447503  0.71471706 0.9340481 ] (rank 0)\n",
      "Simulator returns exception for parameter values: [0.32194374 0.79962988 0.00887878 0.42517441 1.01874173] (rank 0)\n",
      "Simulator returns exception for parameter values: [0.31080465 0.79132163 0.05267446 0.71960961 0.97998788] (rank 0)\n",
      "Simulator returns exception for parameter values: [0.29437474 0.7995998  0.04101568 0.71404247 0.93611743] (rank 0)\n",
      "Simulator returns exception for parameter values: [0.30320979 0.8000055  0.0367748  0.5010998  1.0341788 ] (rank 0)\n",
      "Simulator returns exception for parameter values: [0.29862013 0.79919597 0.04946343 0.71983771 0.95069786] (rank 0)\n",
      "Simulator returns exception for parameter values: [0.29098121 0.80046708 0.00149581 0.49468752 0.95769151] (rank 0)\n",
      "Simulator returns exception for parameter values: [0.30332249 0.79973204 0.05058412 0.74809308 0.92747482] (rank 0)\n",
      "Simulator returns exception for parameter values: [0.3062441  0.80154902 0.08161674 0.94753921 0.87825735] (rank 0)\n",
      "Simulator returns exception for parameter values: [0.30844008 0.80217493 0.04287669 0.75629083 0.89309928] (rank 0)\n",
      "Simulator returns exception for parameter values: [0.33000752 0.80590461 0.05204245 0.50281528 1.03883656] (rank 0)\n",
      "Simulator returns exception for parameter values: [0.29298103 0.80093601 0.03230537 0.62799489 0.95622395] (rank 0)\n",
      "Simulator returns exception for parameter values: [0.30518444 0.79703369 0.07217756 0.88092976 0.92275134] (rank 0)\n",
      "Simulator returns exception for parameter values: [0.28919516 0.79727407 0.05051486 0.83908241 0.90154728] (rank 0)\n",
      "Simulator returns exception for parameter values: [0.30599841 0.80055857 0.05155118 0.6775438  0.97979316] (rank 0)\n",
      "Simulator returns exception for parameter values: [0.30739599 0.80300351 0.05879034 0.81465413 0.91136918] (rank 0)\n",
      "Simulator returns exception for parameter values: [0.29694091 0.7985097  0.05468019 0.76362181 0.93496409] (rank 0)\n",
      "Simulator returns exception for parameter values: [0.31232003 0.79877088 0.04363704 0.60362845 1.00127434] (rank 0)\n",
      "Simulator returns exception for parameter values: [0.29549783 0.80525492 0.05636868 0.73932242 0.93024582] (rank 0)\n",
      "Simulator returns exception for parameter values: [0.28088188 0.79852543 0.04989381 0.68871608 0.98187856] (rank 0)\n",
      "Simulator returns exception for parameter values: [0.28926297 0.79969655 0.02460318 0.4862087  1.03886724] (rank 0)\n",
      "Simulator returns exception for parameter values: [0.30134973 0.79559987 0.03207657 0.78693859 0.89273388] (rank 0)\n",
      "Simulator returns exception for parameter values: [0.31286745 0.79707479 0.07862546 0.8800917  0.92862845] (rank 0)\n",
      "Simulator returns exception for parameter values: [0.31194927 0.79993758 0.02516503 0.51719945 0.99461041] (rank 0)\n",
      "Simulator returns exception for parameter values: [0.30665691 0.8006546  0.020876   0.54662962 0.97026469] (rank 0)\n",
      "Simulator returns exception for parameter values: [0.28886557 0.8001578  0.0669419  0.84211985 0.92278636] (rank 0)\n",
      "Simulator returns exception for parameter values: [0.29691877 0.79822742 0.01058231 0.47594013 0.99494924] (rank 0)\n",
      "Simulator returns exception for parameter values: [0.29797449 0.79856695 0.05624483 0.63853058 1.02045182] (rank 0)\n",
      "Simulator returns exception for parameter values: [0.30152767 0.79686778 0.06817579 0.93177675 0.87734379] (rank 0)\n",
      "Simulator returns exception for parameter values: [0.3115692  0.80293577 0.06765608 0.76019603 0.94730769] (rank 0)\n",
      "Simulator returns exception for parameter values: [0.28158816 0.79764901 0.01659722 0.60860244 0.94710954] (rank 0)\n",
      "Simulator returns exception for parameter values: [0.29081029 0.79990107 0.04496912 0.70904168 0.94306405] (rank 0)\n",
      "Simulator returns exception for parameter values: [0.30081591 0.80502135 0.07488895 0.74587921 0.97400758] (rank 0)\n",
      "Simulator returns exception for parameter values: [0.33267696 0.80666715 0.08786499 0.88275713 0.9045708 ] (rank 0)\n",
      "Simulator returns exception for parameter values: [0.29868279 0.79549035 0.05404169 0.61290241 1.0432733 ] (rank 0)\n",
      "Simulator returns exception for parameter values: [0.30429577 0.80131925 0.07248165 0.7644924  0.96949015] (rank 0)\n",
      "Simulator returns exception for parameter values: [0.29706505 0.7997427  0.0946769  0.91995824 0.94214501] (rank 0)\n",
      "Simulator returns exception for parameter values: [0.29184266 0.79662253 0.04641077 0.65026918 1.00528191] (rank 0)\n",
      "Simulator returns exception for parameter values: [0.30608759 0.79799668 0.04275676 0.61519259 1.00803519] (rank 0)\n",
      "Simulator returns exception for parameter values: [0.29792082 0.80272804 0.01659936 0.67485078 0.89249329] (rank 0)\n",
      "Simulator returns exception for parameter values: [0.29005254 0.79930333 0.03983323 0.75023928 0.91277468] (rank 0)\n",
      "Simulator returns exception for parameter values: [0.31550247 0.79953765 0.06722208 0.78437921 0.94834568] (rank 0)\n",
      "Simulator returns exception for parameter values: [0.27018925 0.80065214 0.07015616 0.90142262 0.902245  ] (rank 0)\n",
      "Simulator returns exception for parameter values: [0.30263128 0.79867842 0.03218601 0.51072959 1.01633091] (rank 0)\n",
      "Simulator returns exception for parameter values: [0.30687906 0.80620047 0.04965259 0.59452817 0.99116869] (rank 0)\n",
      "Simulator returns exception for parameter values: [0.30774504 0.7969823  0.0486284  0.72940596 0.94204957] (rank 0)\n",
      "Simulator returns exception for parameter values: [0.29003812 0.79599673 0.09364212 0.93297541 0.94926803] (rank 0)\n",
      "Simulator returns exception for parameter values: [0.30042061 0.79911623 0.0683934  0.74417702 0.98788035] (rank 0)\n",
      "Simulator returns exception for parameter values: [0.29408079 0.79823438 0.05033148 0.62067628 1.01779728] (rank 0)\n",
      "Simulator returns exception for parameter values: [0.29553806 0.80519724 0.08518119 0.7942022  0.98267299] (rank 0)\n",
      "Simulator returns exception for parameter values: [0.30175066 0.80134003 0.07662626 0.99789492 0.85669953] (rank 0)\n",
      "Simulator returns exception for parameter values: [0.31968908 0.80145104 0.02267925 0.46194471 1.01640676] (rank 0)\n",
      "Simulator returns exception for parameter values: [0.29616577 0.79915455 0.03318292 0.53868582 1.01161305] (rank 0)\n",
      "Simulator returns exception for parameter values: [0.29120506 0.79662734 0.03798787 0.67112635 0.96842657] (rank 0)\n",
      "Simulator returns exception for parameter values: [0.31924246 0.7999903  0.08530316 0.87728639 0.92835161] (rank 0)\n",
      "Simulator returns exception for parameter values: [0.29409661 0.803044   0.06240402 0.94271244 0.84279186] (rank 0)\n",
      "Simulator returns exception for parameter values: [0.30896971 0.80161493 0.03444814 0.64991407 0.93136849] (rank 0)\n",
      "Simulator returns exception for parameter values: [0.30430686 0.79481867 0.06319627 0.74643876 0.97787679] (rank 0)\n",
      "Simulator returns exception for parameter values: [0.30329414 0.79628381 0.05854804 0.84528663 0.90171764] (rank 0)\n",
      "Simulator returns exception for parameter values: [0.29311821 0.80057542 0.08834504 0.88741881 0.93722976] (rank 0)\n",
      "Simulator returns exception for parameter values: [0.31114903 0.80104016 0.02973104 0.47766701 1.02277243] (rank 0)\n",
      "Simulator returns exception for parameter values: [0.31587641 0.80668667 0.05258928 0.80286996 0.87060902] (rank 0)\n",
      "Simulator returns exception for parameter values: [0.29041652 0.79576829 0.08534806 0.959824   0.92449525] (rank 0)\n",
      "Simulator returns exception for parameter values: [0.29740894 0.80238546 0.02338379 0.53025503 0.99168504] (rank 0)\n",
      "Simulator returns exception for parameter values: [0.30180946 0.80136117 0.09081615 0.96856836 0.88836836] (rank 0)\n",
      "Simulator returns exception for parameter values: [0.30602728 0.80356576 0.04055443 0.73598814 0.90544023] (rank 0)\n",
      "Simulator returns exception for parameter values: [0.30691343 0.8009791  0.03579895 0.55518323 0.99798166] (rank 0)\n",
      "Simulator returns exception for parameter values: [0.32221182 0.80149172 0.0110139  0.69623435 0.86313332] (rank 0)\n",
      "Simulator returns exception for parameter values: [0.3046379  0.80103245 0.06401722 0.62246026 1.01940405] (rank 0)\n",
      "Simulator returns exception for parameter values: [0.29421392 0.8024995  0.06522785 0.84470705 0.90924251] (rank 0)\n",
      "Simulator returns exception for parameter values: [0.28354697 0.79718468 0.00857905 0.47388525 1.01559773] (rank 0)\n",
      "Simulator returns exception for parameter values: [0.29361185 0.79895177 0.02876661 0.44754581 1.05512645] (rank 0)\n",
      "Simulator returns exception for parameter values: [0.29476501 0.79687586 0.00685479 0.51498938 0.97891972] (rank 0)\n",
      "Simulator returns exception for parameter values: [0.32594495 0.80010497 0.04940482 0.59336217 1.0054597 ] (rank 0)\n",
      "Simulator returns exception for parameter values: [0.29935574 0.79696052 0.00646801 0.45081079 1.00608205] (rank 0)\n",
      "Simulator returns exception for parameter values: [0.29914157 0.80409012 0.05859431 0.70698761 0.956445  ] (rank 0)\n",
      "Simulator returns exception for parameter values: [2.97856079e-01 8.06070519e-01 1.47873224e-04 4.33910688e-01\n",
      " 9.70356375e-01] (rank 0)\n",
      "Simulator returns exception for parameter values: [2.79339018e-01 7.95151212e-01 8.22217877e-04 4.10372092e-01\n",
      " 1.04833752e+00] (rank 0)\n",
      "Simulator returns exception for parameter values: [0.29453572 0.80093965 0.05708344 0.79501113 0.92214864] (rank 0)\n",
      "Simulator returns exception for parameter values: [0.29379954 0.80055067 0.02444055 0.65659852 0.91971866] (rank 0)\n",
      "Simulator returns exception for parameter values: [0.30034043 0.79312236 0.02746159 0.66404053 0.94872047] (rank 0)\n",
      "Simulator returns exception for parameter values: [0.30288277 0.7990007  0.00434118 0.48384266 0.98005039] (rank 0)\n",
      "Simulator returns exception for parameter values: [0.31190101 0.79986    0.022236   0.52859977 0.99031908] (rank 0)\n",
      "Simulator returns exception for parameter values: [0.29339687 0.80183781 0.05055106 0.83353606 0.89327578] (rank 0)\n",
      "Simulator returns exception for parameter values: [0.29701204 0.8023026  0.06709549 0.80701173 0.93139567] (rank 0)\n",
      "Simulator returns exception for parameter values: [0.30130787 0.80202275 0.06293478 0.76928186 0.93563076] (rank 0)\n",
      "Simulator returns exception for parameter values: [0.28286215 0.7986267  0.04387139 0.82414658 0.87976752] (rank 0)\n",
      "Simulator returns exception for parameter values: [0.29806743 0.79346672 0.02931616 0.77994774 0.89425309] (rank 0)\n",
      "Simulator returns exception for parameter values: [0.29145782 0.80374625 0.07337841 0.80223926 0.94704899] (rank 0)\n",
      "Simulator returns exception for parameter values: [0.30056735 0.7924995  0.01158222 0.61927329 0.94704371] (rank 0)\n",
      "Simulator returns exception for parameter values: [0.31059609 0.79560753 0.04717566 0.65059383 0.99743345] (rank 0)\n",
      "Simulator returns exception for parameter values: [0.29576675 0.79823335 0.00803109 0.41408151 1.03517425] (rank 0)\n",
      "Simulator returns exception for parameter values: [0.28952586 0.79580273 0.01286516 0.61858881 0.93827678] (rank 0)\n",
      "Simulator returns exception for parameter values: [0.28390327 0.7955938  0.03840231 0.57328717 1.03356567] (rank 0)\n",
      "Simulator returns exception for parameter values: [0.27667927 0.79979519 0.0508361  0.7735196  0.93614311] (rank 0)\n",
      "Simulator returns exception for parameter values: [0.30514472 0.79845673 0.0510913  0.45336414 1.09342847] (rank 0)\n",
      "Simulator returns exception for parameter values: [0.30497276 0.80374787 0.06266347 0.74880636 0.94612367] (rank 0)\n",
      "Simulator returns exception for parameter values: [0.30017599 0.80809075 0.08719371 0.95402164 0.87176663] (rank 0)\n",
      "Simulator returns exception for parameter values: [0.28707328 0.79327086 0.0581582  0.85743765 0.9338181 ] (rank 0)\n",
      "Simulator returns exception for parameter values: [0.30631452 0.79577803 0.00984845 0.56205833 0.95980063] (rank 0)\n",
      "Simulator returns exception for parameter values: [0.30405954 0.8028918  0.01600352 0.52249348 0.97077256] (rank 0)\n",
      "Simulator returns exception for parameter values: [0.30305475 0.80134601 0.04065218 0.62497629 0.97177919] (rank 0)\n",
      "Simulator returns exception for parameter values: [0.29987402 0.79640855 0.06486927 0.78294828 0.95245289] (rank 0)\n",
      "Simulator returns exception for parameter values: [0.3073737  0.8020213  0.05281158 0.77585259 0.91662162] (rank 0)\n",
      "Simulator returns exception for parameter values: [0.29724363 0.8041637  0.06710031 0.88574603 0.87573894] (rank 0)\n",
      "Simulator returns exception for parameter values: [0.30981168 0.80207007 0.0932897  0.64035159 1.08546156] (rank 0)\n",
      "Simulator returns exception for parameter values: [0.29863911 0.80397365 0.05459098 0.66552238 0.98128884] (rank 0)\n",
      "Simulator returns exception for parameter values: [0.28175069 0.80193013 0.0740635  0.97050161 0.8510703 ] (rank 0)\n",
      "Simulator returns exception for parameter values: [0.29141711 0.80338237 0.09225312 0.9731493  0.88974996] (rank 0)\n",
      "Simulator returns exception for parameter values: [0.30310024 0.80012534 0.07593755 0.78001883 0.95959516] (rank 0)\n",
      "Simulator returns exception for parameter values: [0.29429638 0.79817745 0.02751811 0.50315883 1.03556825] (rank 0)\n",
      "Simulator returns exception for parameter values: [0.30907082 0.80361055 0.07041858 0.77398842 0.94420717] (rank 0)\n",
      "Simulator returns exception for parameter values: [0.30508367 0.79466749 0.07808688 0.67872594 1.04261967] (rank 0)\n",
      "Simulator returns exception for parameter values: [0.29234756 0.79614033 0.04762321 0.62546242 1.02392294] (rank 0)\n",
      "Simulator returns exception for parameter values: [0.28617149 0.79983424 0.00216049 0.53048384 0.94661346] (rank 0)\n",
      "Simulator returns exception for parameter values: [0.2874019  0.79966492 0.05886805 0.93205397 0.8718414 ] (rank 0)\n",
      "Simulator returns exception for parameter values: [0.29458443 0.80220142 0.09395831 0.86621356 0.96967197] (rank 0)\n",
      "Simulator returns exception for parameter values: [0.30720672 0.80085098 0.0841309  0.91839988 0.90389633] (rank 0)\n",
      "Simulator returns exception for parameter values: [0.29546741 0.79272562 0.09723546 0.83995677 1.01727424] (rank 0)\n",
      "Simulator returns exception for parameter values: [0.31859794 0.80026587 0.04453648 0.44568447 1.07545766] (rank 0)\n",
      "Simulator returns exception for parameter values: [0.3025675  0.80344251 0.01072232 0.63304552 0.89296512] (rank 0)\n",
      "Simulator returns exception for parameter values: [0.29631463 0.79839718 0.07560538 0.86005803 0.93197237] (rank 0)\n",
      "Simulator returns exception for parameter values: [0.2971256  0.79914163 0.06934744 0.9550696  0.86927213] (rank 0)\n",
      "Simulator returns exception for parameter values: [0.29684806 0.79691933 0.02452509 0.66990313 0.93846035] (rank 0)\n",
      "Simulator returns exception for parameter values: [0.29919743 0.80541347 0.07845046 0.89351438 0.89567598] (rank 0)\n",
      "Simulator returns exception for parameter values: [0.30290622 0.79734462 0.02982237 0.69037519 0.93046873] (rank 0)\n",
      "Simulator returns exception for parameter values: [0.29543798 0.80501989 0.05165679 0.77679518 0.91226596] (rank 0)\n",
      "Simulator returns exception for parameter values: [0.304879   0.80005596 0.05389119 0.66722472 0.9847143 ] (rank 0)\n",
      "Simulator returns exception for parameter values: [0.31325827 0.79991271 0.03237174 0.66963328 0.92607191] (rank 0)\n",
      "Simulator returns exception for parameter values: [0.30179172 0.80346943 0.07854613 0.94088845 0.8862706 ] (rank 0)\n",
      "Simulator returns exception for parameter values: [0.31293372 0.79972251 0.00670008 0.65405696 0.87414445] (rank 0)\n",
      "Simulator returns exception for parameter values: [0.28343141 0.80020778 0.02276962 0.50543241 1.01452407] (rank 0)\n",
      "Simulator returns exception for parameter values: [0.30288829 0.80230403 0.04836149 0.60869953 1.0073534 ] (rank 0)\n",
      "Simulator returns exception for parameter values: [0.29462177 0.79884571 0.05011384 0.73664917 0.94342593] (rank 0)\n",
      "Simulator returns exception for parameter values: [0.31600041 0.80211895 0.02840681 0.47843778 1.00979855] (rank 0)\n",
      "Simulator returns exception for parameter values: [0.29128288 0.79011928 0.03511069 0.87990924 0.87440675] (rank 0)\n",
      "Simulator returns exception for parameter values: [0.27987656 0.79821077 0.04764815 0.71354428 0.95602193] (rank 0)\n",
      "Simulator returns exception for parameter values: [0.30733011 0.79880937 0.03287215 0.58082415 0.98669931] (rank 0)\n",
      "Simulator returns exception for parameter values: [0.28913397 0.79112299 0.05848248 0.8918042  0.92566949] (rank 0)\n",
      "Simulator returns exception for parameter values: [0.2937107  0.79633802 0.04126458 0.6287168  1.00243041] (rank 0)\n",
      "Simulator returns exception for parameter values: [0.29639675 0.80083006 0.05439022 0.59822138 1.03544059] (rank 0)\n",
      "Simulator returns exception for parameter values: [0.31029195 0.79988111 0.0415439  0.75662712 0.89590006] (rank 0)\n",
      "Simulator returns exception for parameter values: [0.30755748 0.80122119 0.02389967 0.43937012 1.03755917] (rank 0)\n",
      "Simulator returns exception for parameter values: [0.30133369 0.7986874  0.03229886 0.70474878 0.92336227] (rank 0)\n",
      "Simulator returns exception for parameter values: [0.30276973 0.79745368 0.02416821 0.66539313 0.92895216] (rank 0)\n",
      "Simulator returns exception for parameter values: [0.30007638 0.79926098 0.07909696 0.83342442 0.95304961] (rank 0)\n",
      "Simulator returns exception for parameter values: [0.29280703 0.79344519 0.04756159 0.71420467 0.96611683] (rank 0)\n",
      "Simulator returns exception for parameter values: [0.29478197 0.79575804 0.05532454 0.7501399  0.97334075] (rank 0)\n",
      "Simulator returns exception for parameter values: [0.31661227 0.79932439 0.06443388 0.71770844 0.9800807 ] (rank 0)\n",
      "Simulator returns exception for parameter values: [0.29756964 0.80489359 0.05980002 0.7374276  0.93662158] (rank 0)\n",
      "Simulator returns exception for parameter values: [0.28341284 0.79219461 0.00166597 0.53914598 0.97137289] (rank 0)\n",
      "Simulator returns exception for parameter values: [0.28409856 0.79929126 0.03478559 0.75005069 0.90735586] (rank 0)\n",
      "Simulator returns exception for parameter values: [0.31948573 0.80509584 0.0715453  0.83935193 0.90126199] (rank 0)\n",
      "Simulator returns exception for parameter values: [0.30657755 0.80487492 0.08362065 0.79434247 0.96195145] (rank 0)\n",
      "Simulator returns exception for parameter values: [0.30213669 0.80574568 0.05584788 0.59268867 1.02278872] (rank 0)\n",
      "Simulator returns exception for parameter values: [0.30183417 0.80069042 0.02862672 0.6006251  0.95575877] (rank 0)\n",
      "Simulator returns exception for parameter values: [0.30468286 0.79895796 0.08928399 0.87441034 0.95372106] (rank 0)\n",
      "Simulator returns exception for parameter values: [0.29744684 0.80111537 0.08035311 0.97178165 0.87245193] (rank 0)\n",
      "Simulator returns exception for parameter values: [2.93240428e-01 8.03600520e-01 3.98677187e-04 4.59623764e-01\n",
      " 9.68824630e-01] (rank 0)\n",
      "Simulator returns exception for parameter values: [0.30542132 0.7987796  0.07197597 0.80967566 0.95417206] (rank 0)\n",
      "Simulator returns exception for parameter values: [0.29626974 0.79576057 0.04270018 0.74006335 0.93602699] (rank 0)\n",
      "Simulator returns exception for parameter values: [0.30890806 0.8017622  0.02520473 0.55182716 0.96723991] (rank 0)\n",
      "Simulator returns exception for parameter values: [0.30678555 0.79599733 0.01896042 0.63820034 0.93599585] (rank 0)\n",
      "Simulator returns exception for parameter values: [0.30184575 0.80524112 0.03636072 0.41696783 1.07011474] (rank 0)\n",
      "Simulator returns exception for parameter values: [0.31540129 0.80568151 0.02095037 0.54391109 0.93460712] (rank 0)\n",
      "Simulator returns exception for parameter values: [0.28632383 0.79056724 0.0374715  0.88366928 0.8733089 ] (rank 0)\n",
      "Simulator returns exception for parameter values: [0.30620489 0.7956391  0.06191793 0.78412537 0.94453293] (rank 0)\n",
      "Simulator returns exception for parameter values: [0.32168126 0.79813607 0.08503856 0.79995185 0.98050878] (rank 0)\n",
      "Simulator returns exception for parameter values: [0.31600349 0.80180908 0.09048198 0.83584372 0.94392098] (rank 0)\n",
      "Simulator returns exception for parameter values: [0.29651456 0.80164804 0.03953529 0.63194056 0.97194068] (rank 0)\n",
      "Simulator returns exception for parameter values: [0.28455453 0.79922394 0.02148257 0.64809193 0.93568323] (rank 0)\n",
      "Simulator returns exception for parameter values: [0.3033514  0.80464809 0.03138322 0.63504408 0.93417532] (rank 0)\n",
      "Simulator returns exception for parameter values: [0.29459071 0.80355137 0.03577249 0.82984807 0.84212042] (rank 0)\n",
      "Simulator returns exception for parameter values: [0.30860925 0.80794496 0.04715571 0.79732657 0.85474611] (rank 0)\n",
      "Simulator returns exception for parameter values: [0.30474099 0.80381463 0.00830303 0.49873544 0.95972143] (rank 0)\n",
      "Simulator returns exception for parameter values: [0.29372782 0.80032809 0.02658852 0.61058823 0.9694433 ] (rank 0)\n",
      "Simulator returns exception for parameter values: [0.27904708 0.80162672 0.04026927 0.81431094 0.88615759] (rank 0)\n",
      "Simulator returns exception for parameter values: [0.29973481 0.79502576 0.07722582 0.91851481 0.93493516] (rank 0)\n",
      "Simulator returns exception for parameter values: [0.29229824 0.80538198 0.00630373 0.4230626  0.99708023] (rank 0)\n",
      "Simulator returns exception for parameter values: [0.29137352 0.79580235 0.02924068 0.60300241 0.98784689] (rank 0)\n",
      "Simulator returns exception for parameter values: [0.29680238 0.79398307 0.05511951 0.88276364 0.8916711 ] (rank 0)\n",
      "Simulator returns exception for parameter values: [0.27468469 0.79913638 0.04707971 0.70015175 0.97625789] (rank 0)\n",
      "Simulator returns exception for parameter values: [0.29373788 0.80192179 0.01946217 0.55911149 0.97115872] (rank 0)\n",
      "Simulator returns exception for parameter values: [0.29869926 0.79578361 0.04775388 0.58244893 1.04462725] (rank 0)\n",
      "Simulator returns exception for parameter values: [0.29809015 0.79579433 0.08252896 0.76639604 1.01700595] (rank 0)\n",
      "Simulator returns exception for parameter values: [0.31447077 0.79604492 0.06682029 0.7730241  0.95546068] (rank 0)\n"
     ]
    },
    {
     "name": "stdout",
     "output_type": "stream",
     "text": [
      "Simulator returns exception for parameter values: [0.30426501 0.80472213 0.04321185 0.68648252 0.93798372] (rank 0)\n",
      "Simulator returns exception for parameter values: [0.29998666 0.80409303 0.0367304  0.61734823 0.95858213] (rank 0)\n",
      "Simulator returns exception for parameter values: [0.30964501 0.80423215 0.03682411 0.73085213 0.884797  ] (rank 0)\n",
      "Simulator returns exception for parameter values: [0.30438715 0.79581932 0.0294303  0.64838064 0.94561994] (rank 0)\n",
      "Simulator returns exception for parameter values: [0.29593742 0.79777988 0.02556616 0.71059853 0.90081994] (rank 0)\n",
      "Simulator returns exception for parameter values: [0.3125259  0.80009358 0.04577751 0.67171034 0.9470063 ] (rank 0)\n",
      "Simulator returns exception for parameter values: [0.3169055  0.80516963 0.02271584 0.6571475  0.89365281] (rank 0)\n",
      "Simulator returns exception for parameter values: [0.30765564 0.799662   0.02731284 0.62007469 0.94543108] (rank 0)\n",
      "Simulator returns exception for parameter values: [0.3027562  0.79720417 0.06595606 0.65325768 1.04144053] (rank 0)\n",
      "Simulator returns exception for parameter values: [0.30239214 0.79617042 0.03481301 0.61356137 0.98655005] (rank 0)\n",
      "Simulator returns exception for parameter values: [0.30852331 0.80147512 0.06810193 0.92959405 0.86038601] (rank 0)\n",
      "Simulator returns exception for parameter values: [0.29690545 0.80066102 0.06553135 0.80484592 0.95044926] (rank 0)\n",
      "Simulator returns exception for parameter values: [0.30932924 0.80093408 0.06944299 0.79722005 0.94712302] (rank 0)\n",
      "Simulator returns exception for parameter values: [0.2939742  0.80163131 0.03499549 0.70591672 0.92092326] (rank 0)\n",
      "Simulator returns exception for parameter values: [0.30414385 0.80098513 0.06142874 0.65736971 1.00738949] (rank 0)\n",
      "Simulator returns exception for parameter values: [0.29379863 0.8030036  0.06411173 0.69705415 0.98218392] (rank 0)\n",
      "Simulator returns exception for parameter values: [0.30643774 0.79385854 0.03418726 0.56502614 1.01604325] (rank 0)\n",
      "Simulator returns exception for parameter values: [0.29657178 0.79529824 0.08979142 0.87822997 0.96747435] (rank 0)\n",
      "Simulator returns exception for parameter values: [0.32129577 0.79960404 0.07146432 0.75341783 0.96375258] (rank 0)\n",
      "Simulator returns exception for parameter values: [0.3032336  0.79931712 0.06909871 0.85438425 0.9205167 ] (rank 0)\n",
      "Simulator returns exception for parameter values: [0.30995386 0.80470347 0.05172907 0.6304978  0.98855472] (rank 0)\n",
      "Simulator returns exception for parameter values: [0.31134342 0.8016532  0.03307546 0.46702712 1.03756656] (rank 0)\n",
      "Simulator returns exception for parameter values: [0.31186022 0.79992634 0.09869975 0.91036123 0.95304996] (rank 0)\n",
      "Simulator returns exception for parameter values: [0.29877588 0.79774825 0.05644484 0.81643818 0.9141557 ] (rank 0)\n",
      "Simulator returns exception for parameter values: [0.3093584  0.80480828 0.02758541 0.61764628 0.93547623] (rank 0)\n",
      "Simulator returns exception for parameter values: [0.29649129 0.80284157 0.05603873 0.68477822 0.9760789 ] (rank 0)\n",
      "Simulator returns exception for parameter values: [0.28174161 0.79536834 0.01986604 0.55750957 0.99713499] (rank 0)\n",
      "Simulator returns exception for parameter values: [0.29881775 0.79284437 0.02364562 0.68243185 0.94054519] (rank 0)\n",
      "Simulator returns exception for parameter values: [0.29031369 0.79600364 0.03696428 0.63583402 1.00084543] (rank 0)\n",
      "Simulator returns exception for parameter values: [0.2964674  0.7988548  0.05631061 0.73320234 0.97737864] (rank 0)\n",
      "Simulator returns exception for parameter values: [0.2871178  0.79444485 0.05587799 0.72476641 0.98991452] (rank 0)\n",
      "Simulator returns exception for parameter values: [0.29401071 0.7957538  0.04363266 0.77011114 0.92363031] (rank 0)\n",
      "Simulator returns exception for parameter values: [0.32253198 0.79858243 0.04179597 0.71405014 0.91976834] (rank 0)\n",
      "Simulator returns exception for parameter values: [0.3158148  0.80495993 0.02626819 0.63967547 0.91407833] (rank 0)\n",
      "Simulator returns exception for parameter values: [0.30296532 0.80423564 0.05570398 0.78111981 0.89463428] (rank 0)\n",
      "Simulator returns exception for parameter values: [0.30325804 0.800307   0.04778816 0.68259886 0.96032074] (rank 0)\n",
      "Simulator returns exception for parameter values: [0.29718368 0.79723876 0.07730451 0.86615923 0.93961777] (rank 0)\n",
      "Simulator returns exception for parameter values: [0.28636401 0.79346531 0.05686908 0.77590759 0.96657852] (rank 0)\n",
      "Simulator returns exception for parameter values: [0.30206779 0.79837119 0.08646841 0.83366068 0.96822885] (rank 0)\n",
      "Simulator returns exception for parameter values: [0.30404415 0.80425703 0.09732257 0.94158822 0.92075481] (rank 0)\n",
      "Simulator returns exception for parameter values: [0.3088478  0.80249209 0.09811498 0.87261135 0.96033872] (rank 0)\n",
      "Simulator returns exception for parameter values: [0.29493117 0.79823714 0.04678072 0.76387869 0.93175178] (rank 0)\n",
      "Simulator returns exception for parameter values: [0.2960562  0.79934827 0.00964927 0.42430027 1.02187651] (rank 0)\n",
      "Simulator returns exception for parameter values: [0.30304356 0.80336886 0.06386513 0.77335422 0.937853  ] (rank 0)\n",
      "Simulator returns exception for parameter values: [0.3007021  0.80485546 0.05075695 0.83209448 0.87832682] (rank 0)\n",
      "Simulator returns exception for parameter values: [0.28417588 0.80140375 0.03560409 0.57945174 0.99449819] (rank 0)\n",
      "Simulator returns exception for parameter values: [0.29584304 0.79307213 0.09940337 0.9530365  0.97436209] (rank 0)\n",
      "Simulator returns exception for parameter values: [0.31275432 0.80120396 0.0670715  0.63412144 1.02455094] (rank 0)\n",
      "Simulator returns exception for parameter values: [0.29843067 0.80472572 0.05287953 0.6699101  0.97227374] (rank 0)\n",
      "Simulator returns exception for parameter values: [0.28853707 0.79657017 0.01972736 0.4579027  1.06245743] (rank 0)\n",
      "Simulator returns exception for parameter values: [0.29851641 0.80127089 0.06760853 0.65381907 1.03330726] (rank 0)\n",
      "Simulator returns exception for parameter values: [0.31707358 0.79927678 0.08701158 0.73965753 1.01524495] (rank 0)\n",
      "Simulator returns exception for parameter values: [0.31276854 0.80260696 0.08429347 0.84976703 0.94133433] (rank 0)\n",
      "Simulator returns exception for parameter values: [0.30631048 0.80155174 0.04481565 0.71964477 0.91471205] (rank 0)\n",
      "Simulator returns exception for parameter values: [0.30151203 0.79852868 0.06531161 0.84580019 0.92206939] (rank 0)\n",
      "Simulator returns exception for parameter values: [0.31316533 0.80055236 0.03440285 0.67732602 0.91768633] (rank 0)\n",
      "Simulator returns exception for parameter values: [0.2889619  0.79387703 0.04724486 0.7283804  0.97158344] (rank 0)\n",
      "Simulator returns exception for parameter values: [0.2977793  0.79811594 0.07170333 0.96610882 0.86620925] (rank 0)\n",
      "Simulator returns exception for parameter values: [0.29460282 0.8056093  0.03570681 0.5400747  0.98673965] (rank 0)\n",
      "Simulator returns exception for parameter values: [0.29570296 0.80163911 0.03875641 0.68181611 0.93737417] (rank 0)\n",
      "Simulator returns exception for parameter values: [0.30328017 0.79962171 0.03702929 0.55816208 1.01370792] (rank 0)\n",
      "Simulator returns exception for parameter values: [0.29613336 0.80437792 0.00439622 0.64046914 0.87840751] (rank 0)\n",
      "Simulator returns exception for parameter values: [0.30688798 0.79892213 0.05955581 0.82352976 0.91127179] (rank 0)\n",
      "Simulator returns exception for parameter values: [0.31148127 0.8037731  0.0457102  0.63568881 0.96798192] (rank 0)\n",
      "Simulator returns exception for parameter values: [0.29782979 0.80261979 0.01028912 0.43565497 1.01538483] (rank 0)\n",
      "Simulator returns exception for parameter values: [0.28676387 0.79650217 0.04605827 0.68438808 0.97267223] (rank 0)\n",
      "Simulator returns exception for parameter values: [0.31266806 0.80019237 0.07213376 0.71171309 1.00168758] (rank 0)\n",
      "Simulator returns exception for parameter values: [0.30014883 0.79947292 0.0219624  0.52906715 0.99193249] (rank 0)\n",
      "Simulator returns exception for parameter values: [0.30913524 0.80357234 0.09721708 0.97799579 0.89437236] (rank 0)\n",
      "Simulator returns exception for parameter values: [0.30136905 0.80213228 0.03812786 0.5855448  0.99038754] (rank 0)\n",
      "Simulator returns exception for parameter values: [0.2947199  0.80256977 0.04001667 0.55951674 1.00345627] (rank 0)\n",
      "Simulator returns exception for parameter values: [0.32289931 0.80042157 0.01901593 0.45873409 1.01515283] (rank 0)\n",
      "Simulator returns exception for parameter values: [0.29680115 0.80175698 0.07139669 0.85346724 0.91536761] (rank 0)\n",
      "Simulator returns exception for parameter values: [0.30089555 0.80465516 0.00682039 0.46849943 0.96082721] (rank 0)\n",
      "Simulator returns exception for parameter values: [0.30969102 0.80227395 0.0040931  0.40612967 1.00634218] (rank 0)\n",
      "Simulator returns exception for parameter values: [0.30395857 0.8024848  0.06900884 0.81125043 0.92065437] (rank 0)\n",
      "Simulator returns exception for parameter values: [0.29836246 0.80153416 0.0188181  0.4984038  0.99108531] (rank 0)\n",
      "Simulator returns exception for parameter values: [0.295773   0.79906968 0.02631958 0.6561882  0.9329267 ] (rank 0)\n",
      "Simulator returns exception for parameter values: [0.31073244 0.80032784 0.01943019 0.54573989 0.96941791] (rank 0)\n",
      "Simulator returns exception for parameter values: [0.31283026 0.80145179 0.03682127 0.67963713 0.93323467] (rank 0)\n",
      "Simulator returns exception for parameter values: [0.3157983  0.80786027 0.07737261 0.88035831 0.88747062] (rank 0)\n",
      "Simulator returns exception for parameter values: [0.2838202  0.79937412 0.02621825 0.68840442 0.9271802 ] (rank 0)\n",
      "Simulator returns exception for parameter values: [0.29188238 0.80643989 0.05159626 0.70159793 0.94725255] (rank 0)\n",
      "Simulator returns exception for parameter values: [0.30457127 0.79473614 0.01550375 0.5594344  0.98842861] (rank 0)\n",
      "Simulator returns exception for parameter values: [0.30711636 0.80626093 0.08200681 0.8255223  0.92473247] (rank 0)\n",
      "Simulator returns exception for parameter values: [0.30698844 0.80962942 0.04962773 0.54042832 1.01222258] (rank 0)\n",
      "Simulator returns exception for parameter values: [0.28368821 0.79657695 0.02852033 0.70564322 0.92172796] (rank 0)\n",
      "Simulator returns exception for parameter values: [0.3035596  0.79542959 0.01550145 0.65661886 0.9172792 ] (rank 0)\n",
      "Simulator returns exception for parameter values: [0.29554432 0.79909068 0.04022069 0.74979626 0.92494579] (rank 0)\n",
      "Simulator returns exception for parameter values: [0.31060086 0.79810175 0.03756334 0.55854479 1.00866861] (rank 0)\n",
      "Simulator returns exception for parameter values: [0.29889268 0.80378281 0.02439745 0.60090723 0.93933927] (rank 0)\n",
      "Simulator returns exception for parameter values: [0.29891103 0.79842294 0.05593915 0.65730385 1.00767332] (rank 0)\n",
      "Simulator returns exception for parameter values: [0.28081369 0.79940738 0.01363904 0.42122697 1.0418008 ] (rank 0)\n",
      "Simulator returns exception for parameter values: [0.28740354 0.79211979 0.07931598 0.91776158 0.94290188] (rank 0)\n",
      "Simulator returns exception for parameter values: [0.28161529 0.79689916 0.06963238 0.81119577 0.95315259] (rank 0)\n",
      "Simulator returns exception for parameter values: [0.28521934 0.79518742 0.06011859 0.77999012 0.96631814] (rank 0)\n",
      "Simulator returns exception for parameter values: [0.28533819 0.79827217 0.04180921 0.75787014 0.92362154] (rank 0)\n",
      "Simulator returns exception for parameter values: [0.28976751 0.80002101 0.01067022 0.56736156 0.95614311] (rank 0)\n",
      "Simulator returns exception for parameter values: [0.30036485 0.79274679 0.06469358 0.71225924 1.0067252 ] (rank 0)\n",
      "Simulator returns exception for parameter values: [0.29851532 0.80169291 0.02507615 0.51771174 1.00753696] (rank 0)\n",
      "Simulator returns exception for parameter values: [0.31718397 0.80203372 0.03059402 0.4672117  1.0329489 ] (rank 0)\n",
      "Simulator returns exception for parameter values: [0.29201537 0.79602462 0.04999757 0.71732675 0.97704586] (rank 0)\n",
      "Simulator returns exception for parameter values: [0.3028013  0.79621842 0.03146112 0.73510462 0.90723148] (rank 0)\n",
      "Simulator returns exception for parameter values: [0.31357142 0.80234426 0.03477596 0.57886882 0.97733904] (rank 0)\n",
      "Simulator returns exception for parameter values: [0.3074274  0.81007356 0.06783729 0.662154   0.96644759] (rank 0)\n",
      "Simulator returns exception for parameter values: [0.2907013  0.79980667 0.08865767 0.86106707 0.96203884] (rank 0)\n",
      "Simulator returns exception for parameter values: [0.2738194  0.79258988 0.03337626 0.76861728 0.92150014] (rank 0)\n",
      "Simulator returns exception for parameter values: [0.31812374 0.80322136 0.0435792  0.8123358  0.86803432] (rank 0)\n",
      "Simulator returns exception for parameter values: [0.29548192 0.79876996 0.02081896 0.50927036 1.00581856] (rank 0)\n",
      "Simulator returns exception for parameter values: [0.3046501  0.80063793 0.07684942 0.97702732 0.86841268] (rank 0)\n",
      "Simulator returns exception for parameter values: [0.29869876 0.80228878 0.06127365 0.74678938 0.97395353] (rank 0)\n",
      "Simulator returns exception for parameter values: [0.30104335 0.80094629 0.04583189 0.87396906 0.84556874] (rank 0)\n",
      "Simulator returns exception for parameter values: [0.29348991 0.79714528 0.05694125 0.8317184  0.90455718] (rank 0)\n",
      "Simulator returns exception for parameter values: [0.29507694 0.80088642 0.04142586 0.55794712 1.01538494] (rank 0)\n",
      "Simulator returns exception for parameter values: [0.31254578 0.80338121 0.06023866 0.77723959 0.92764573] (rank 0)\n",
      "Simulator returns exception for parameter values: [0.28933113 0.79969778 0.08359915 0.78692322 0.99411677] (rank 0)\n",
      "Simulator returns exception for parameter values: [0.28598808 0.79113299 0.05760944 0.73039886 1.01368128] (rank 0)\n",
      "Simulator returns exception for parameter values: [0.30625155 0.80429148 0.03899557 0.70056653 0.9208443 ] (rank 0)\n",
      "Simulator returns exception for parameter values: [0.28736103 0.80348024 0.05190132 0.67813546 0.98440934] (rank 0)\n",
      "Simulator returns exception for parameter values: [0.29648551 0.80217225 0.03748968 0.56810022 1.00311718] (rank 0)\n",
      "Simulator returns exception for parameter values: [0.29924583 0.79462514 0.08024335 0.86402581 0.95586611] (rank 0)\n",
      "Simulator returns exception for parameter values: [0.31017945 0.7993514  0.0443681  0.68837734 0.9451541 ] (rank 0)\n",
      "Simulator returns exception for parameter values: [0.30666505 0.80245393 0.02000139 0.44231672 1.00714771] (rank 0)\n",
      "Simulator returns exception for parameter values: [0.29494372 0.79433112 0.00893798 0.4499449  1.04064358] (rank 0)\n",
      "Simulator returns exception for parameter values: [0.30465211 0.79425129 0.08178061 0.8374587  0.96517398] (rank 0)\n",
      "Simulator returns exception for parameter values: [0.30133082 0.80133926 0.02563945 0.59336733 0.95263734] (rank 0)\n",
      "Simulator returns exception for parameter values: [0.30081203 0.79617634 0.07730832 0.9437103  0.89577296] (rank 0)\n",
      "Simulator returns exception for parameter values: [0.30593158 0.80314593 0.07813722 0.7942842  0.95894704] (rank 0)\n",
      "Simulator returns exception for parameter values: [0.30540413 0.80002255 0.05997647 0.63255802 1.01250555] (rank 0)\n",
      "Simulator returns exception for parameter values: [0.30830372 0.79729845 0.04611241 0.54372771 1.04220033] (rank 0)\n",
      "Simulator returns exception for parameter values: [0.30216061 0.80101319 0.09864455 0.86342493 0.98035522] (rank 0)\n",
      "Simulator returns exception for parameter values: [0.31745935 0.79991513 0.04384831 0.56300357 0.99821755] (rank 0)\n",
      "Simulator returns exception for parameter values: [0.30594474 0.8020838  0.05573089 0.6690929  0.97388329] (rank 0)\n",
      "Simulator returns exception for parameter values: [0.31018374 0.80605192 0.08453524 0.65992022 1.03663961] (rank 0)\n",
      "Simulator returns exception for parameter values: [0.27497569 0.79968297 0.01467165 0.60005447 0.95041451] (rank 0)\n",
      "Simulator returns exception for parameter values: [0.29518905 0.79076525 0.03696158 0.70711621 0.9730559 ] (rank 0)\n",
      "Simulator returns exception for parameter values: [0.30917548 0.80429864 0.06704105 0.65969544 1.00265872] (rank 0)\n",
      "Simulator returns exception for parameter values: [0.28660727 0.79853992 0.05830216 0.73160078 0.97800337] (rank 0)\n",
      "Simulator returns exception for parameter values: [0.29582616 0.80159281 0.05658589 0.81514713 0.90093813] (rank 0)\n",
      "Simulator returns exception for parameter values: [0.31368211 0.8033861  0.08336643 0.9223504  0.90503175] (rank 0)\n",
      "Simulator returns exception for parameter values: [0.29994395 0.7979928  0.03815373 0.44903604 1.09068888] (rank 0)\n",
      "Simulator returns exception for parameter values: [0.31803951 0.80541043 0.04906677 0.70308215 0.93257057] (rank 0)\n",
      "Simulator returns exception for parameter values: [0.3162149  0.80755876 0.0058917  0.42017728 0.97276963] (rank 0)\n",
      "Simulator returns exception for parameter values: [0.31791161 0.80038947 0.06998728 0.75758121 0.96485506] (rank 0)\n",
      "Simulator returns exception for parameter values: [0.31298434 0.7979796  0.04906933 0.75358034 0.93384735] (rank 0)\n",
      "Simulator returns exception for parameter values: [0.29527228 0.79744485 0.05867657 0.72722416 0.97923035] (rank 0)\n",
      "Simulator returns exception for parameter values: [0.29683586 0.8045143  0.03194269 0.54526418 0.97984594] (rank 0)\n",
      "Simulator returns exception for parameter values: [0.2808978  0.798237   0.07693432 0.82200316 0.97363931] (rank 0)\n",
      "Simulator returns exception for parameter values: [0.28731553 0.80168396 0.04048078 0.64421805 0.9699057 ] (rank 0)\n",
      "Simulator returns exception for parameter values: [0.29665034 0.8001046  0.05986035 0.68786986 0.99581408] (rank 0)\n",
      "Simulator returns exception for parameter values: [0.29140714 0.79233264 0.04767503 0.57549765 1.05288154] (rank 0)\n",
      "Simulator returns exception for parameter values: [0.28291784 0.79968277 0.03322379 0.72887649 0.91757572] (rank 0)\n",
      "Simulator returns exception for parameter values: [0.30244691 0.80260076 0.05626206 0.62024288 1.01069758] (rank 0)\n",
      "Simulator returns exception for parameter values: [0.31910148 0.80319004 0.02696829 0.57227639 0.95677191] (rank 0)\n",
      "Simulator returns exception for parameter values: [0.31545603 0.80717542 0.07820722 0.94298808 0.85612896] (rank 0)\n",
      "Simulator returns exception for parameter values: [0.31950784 0.80370715 0.02999152 0.4311624  1.04246381] (rank 0)\n",
      "Simulator returns exception for parameter values: [0.30302909 0.79949111 0.09766884 0.94394604 0.92194145] (rank 0)\n",
      "Simulator returns exception for parameter values: [0.31851513 0.80149512 0.05567371 0.69608794 0.96000381] (rank 0)\n",
      "Simulator returns exception for parameter values: [0.30809327 0.8027168  0.05125903 0.64836647 0.96816279] (rank 0)\n",
      "Simulator returns exception for parameter values: [0.28840017 0.79702621 0.07687771 0.96806039 0.880888  ] (rank 0)\n",
      "Simulator returns exception for parameter values: [0.31143904 0.79583655 0.04178054 0.63657042 0.99135462] (rank 0)\n",
      "Simulator returns exception for parameter values: [0.29037425 0.79702861 0.08366249 0.90046539 0.94758526] (rank 0)\n",
      "Simulator returns exception for parameter values: [0.30115822 0.80347081 0.07316566 0.77295224 0.95875208] (rank 0)\n",
      "Simulator returns exception for parameter values: [0.29739181 0.79688626 0.01062477 0.55969784 0.94467659] (rank 0)\n",
      "Simulator returns exception for parameter values: [0.30296262 0.80080829 0.04115268 0.5143914  1.03575607] (rank 0)\n",
      "Simulator returns exception for parameter values: [0.29126785 0.80202797 0.0332053  0.64720676 0.93699791] (rank 0)\n",
      "Simulator returns exception for parameter values: [0.28760366 0.79721666 0.00768402 0.43202616 1.02282733] (rank 0)\n",
      "Simulator returns exception for parameter values: [0.31406111 0.8022043  0.06153305 0.58727825 1.02865686] (rank 0)\n",
      "Simulator returns exception for parameter values: [0.30037738 0.80236239 0.03884821 0.58309475 0.98520722] (rank 0)\n",
      "Simulator returns exception for parameter values: [0.29576928 0.80005736 0.08126161 0.92505578 0.90505528] (rank 0)\n",
      "Simulator returns exception for parameter values: [0.30817003 0.80036957 0.03922358 0.55181498 1.01002298] (rank 0)\n",
      "Simulator returns exception for parameter values: [0.3217629  0.80111125 0.09377507 0.87626192 0.94834229] (rank 0)\n",
      "Simulator returns exception for parameter values: [0.2995693  0.79566492 0.05396767 0.84543877 0.9050432 ] (rank 0)\n",
      "Simulator returns exception for parameter values: [0.30881965 0.80502903 0.07236413 0.98577925 0.82225717] (rank 0)\n",
      "Simulator returns exception for parameter values: [0.29514841 0.79986658 0.003037   0.45283032 0.9947243 ] (rank 0)\n",
      "Simulator returns exception for parameter values: [0.29159975 0.80006511 0.03618886 0.59003997 1.00079715] (rank 0)\n",
      "Simulator returns exception for parameter values: [0.31200847 0.80746785 0.07004403 0.70980729 0.96139501] (rank 0)\n",
      "Simulator returns exception for parameter values: [0.30650602 0.80041559 0.04968784 0.74789217 0.93516835] (rank 0)\n",
      "Simulator returns exception for parameter values: [0.3026668  0.79689351 0.08568778 0.93124374 0.90959229] (rank 0)\n",
      "Simulator returns exception for parameter values: [0.28872443 0.79749978 0.09707086 0.94441848 0.94913263] (rank 0)\n",
      "Simulator returns exception for parameter values: [0.31250244 0.8026742  0.04082129 0.61586831 0.97448186] (rank 0)\n",
      "Simulator returns exception for parameter values: [0.29223376 0.79925051 0.05025701 0.93322107 0.84952287] (rank 0)\n",
      "Simulator returns exception for parameter values: [0.29977171 0.79988696 0.07062308 0.77602588 0.95928734] (rank 0)\n",
      "Simulator returns exception for parameter values: [0.30879012 0.80084355 0.09917715 0.92776106 0.92331768] (rank 0)\n",
      "Simulator returns exception for parameter values: [0.31195914 0.80110359 0.04234029 0.41294558 1.1015569 ] (rank 0)\n",
      "Simulator returns exception for parameter values: [0.31129061 0.80048119 0.06189868 0.7454624  0.96160003] (rank 0)\n",
      "Simulator returns exception for parameter values: [0.31924952 0.79670638 0.07957279 0.87169185 0.94006705] (rank 0)\n",
      "Simulator returns exception for parameter values: [0.30311862 0.80210043 0.07940371 0.83464566 0.94888688] (rank 0)\n",
      "Simulator returns exception for parameter values: [0.3098318  0.7930246  0.02683671 0.62005332 0.97646259] (rank 0)\n",
      "Simulator returns exception for parameter values: [0.3070044  0.79875192 0.05158    0.47783695 1.08250161] (rank 0)\n",
      "Simulator returns exception for parameter values: [0.30074566 0.80153496 0.04532049 0.5808815  1.00884407] (rank 0)\n",
      "Simulator returns exception for parameter values: [0.30555616 0.79876302 0.07234169 0.7131253  1.01540068] (rank 0)\n",
      "Simulator returns exception for parameter values: [0.29039777 0.7979056  0.01249592 0.51292343 0.98553447] (rank 0)\n",
      "Simulator returns exception for parameter values: [0.31324608 0.7965618  0.0737129  0.84226507 0.9479006 ] (rank 0)\n",
      "Simulator returns exception for parameter values: [0.32182509 0.80391974 0.01125468 0.60138056 0.8969067 ] (rank 0)\n",
      "Simulator returns exception for parameter values: [0.29511769 0.79542083 0.08499044 0.88626276 0.96027917] (rank 0)\n",
      "Simulator returns exception for parameter values: [0.3066086  0.80022206 0.03895264 0.70434497 0.92566747] (rank 0)\n",
      "Simulator returns exception for parameter values: [0.28310833 0.79694943 0.07144309 0.87095929 0.93367634] (rank 0)\n",
      "Simulator returns exception for parameter values: [0.29874301 0.79968725 0.06445934 0.8421794  0.91665646] (rank 0)\n",
      "Simulator returns exception for parameter values: [0.29773104 0.80368136 0.06593331 0.84673982 0.90571767] (rank 0)\n",
      "Simulator returns exception for parameter values: [0.29533827 0.80022236 0.05131695 0.82384628 0.89826113] (rank 0)\n",
      "Simulator returns exception for parameter values: [0.29283067 0.7989556  0.06264657 0.72946877 0.98055228] (rank 0)\n",
      "Simulator returns exception for parameter values: [0.29161297 0.79408715 0.05106225 0.61011555 1.0424459 ] (rank 0)\n",
      "Simulator returns exception for parameter values: [0.31220228 0.80117231 0.07894629 0.81564361 0.95247475] (rank 0)\n",
      "Simulator returns exception for parameter values: [0.28630524 0.79693534 0.0252141  0.63647654 0.94979861] (rank 0)\n",
      "Simulator returns exception for parameter values: [0.28762676 0.80394204 0.04303015 0.79471647 0.87925194] (rank 0)\n",
      "Simulator returns exception for parameter values: [0.29202604 0.79561863 0.06700091 0.90752215 0.89934856] (rank 0)\n",
      "Simulator returns exception for parameter values: [0.28839503 0.79941275 0.04709852 0.64921539 1.00230485] (rank 0)\n",
      "Simulator returns exception for parameter values: [0.29946458 0.79870678 0.05780045 0.57069245 1.05162241] (rank 0)\n",
      "Simulator returns exception for parameter values: [0.2888822  0.80060815 0.00389806 0.43050221 1.00082032] (rank 0)\n",
      "Simulator returns exception for parameter values: [0.30961874 0.7898326  0.08204465 0.99646739 0.90612613] (rank 0)\n",
      "Simulator returns exception for parameter values: [0.30232408 0.80298962 0.01749418 0.56489605 0.94638703] (rank 0)\n",
      "Simulator returns exception for parameter values: [0.30023785 0.79541477 0.08715099 0.95049387 0.93375532] (rank 0)\n",
      "Simulator returns exception for parameter values: [0.30264635 0.79785203 0.05589644 0.83891351 0.89767968] (rank 0)\n",
      "Simulator returns exception for parameter values: [0.30611554 0.79961933 0.08106588 0.83838024 0.95619925] (rank 0)\n",
      "Simulator returns exception for parameter values: [0.3001264  0.79571094 0.06156214 0.809903   0.94313346] (rank 0)\n",
      "Simulator returns exception for parameter values: [0.31137784 0.80041739 0.0954643  0.9449015  0.91784317] (rank 0)\n",
      "Simulator returns exception for parameter values: [0.28699998 0.80034361 0.08894678 0.98891459 0.89344283] (rank 0)\n",
      "Simulator returns exception for parameter values: [0.29315909 0.7991777  0.04264575 0.70266586 0.95073341] (rank 0)\n",
      "Simulator returns exception for parameter values: [0.30152971 0.80194068 0.04190859 0.71930821 0.91846754] (rank 0)\n",
      "Simulator returns exception for parameter values: [0.29263594 0.79416766 0.02375085 0.46471161 1.06505576] (rank 0)\n",
      "Simulator returns exception for parameter values: [0.27680958 0.7972452  0.08043581 0.96396403 0.90105112] (rank 0)\n",
      "Simulator returns exception for parameter values: [0.29981354 0.80049781 0.01103608 0.57254044 0.9381318 ] (rank 0)\n",
      "Simulator returns exception for parameter values: [0.30366979 0.79901562 0.06552981 0.75156539 0.96647573] (rank 0)\n",
      "Simulator returns exception for parameter values: [0.31734708 0.80289808 0.07648284 0.76497563 0.95936524] (rank 0)\n",
      "Simulator returns exception for parameter values: [0.2837568  0.79402629 0.03419129 0.82341911 0.87944924] (rank 0)\n",
      "Simulator returns exception for parameter values: [0.29929528 0.80034804 0.07183693 0.87813997 0.91820895] (rank 0)\n",
      "Simulator returns exception for parameter values: [0.28678529 0.79586937 0.06036806 0.80158231 0.9657096 ] (rank 0)\n",
      "Simulator returns exception for parameter values: [0.29789679 0.79975483 0.03193552 0.80762241 0.85871565] (rank 0)\n",
      "Simulator returns exception for parameter values: [0.30225633 0.8061948  0.01974372 0.48161385 0.98290185] (rank 0)\n",
      "Simulator returns exception for parameter values: [0.30275494 0.79873271 0.04448029 0.73232599 0.924468  ] (rank 0)\n",
      "Simulator returns exception for parameter values: [0.30402001 0.80518829 0.02164062 0.45753996 1.00529126] (rank 0)\n",
      "Simulator returns exception for parameter values: [0.31960161 0.80238157 0.02860201 0.54283745 0.97902415] (rank 0)\n",
      "Simulator returns exception for parameter values: [0.29586705 0.79824836 0.05719031 0.73018149 0.9715215 ] (rank 0)\n",
      "Simulator returns exception for parameter values: [0.30946255 0.79964143 0.07593629 0.84464087 0.94028176] (rank 0)\n",
      "Simulator returns exception for parameter values: [0.30564634 0.79853631 0.01549013 0.47867633 1.01684444] (rank 0)\n",
      "Simulator returns exception for parameter values: [0.30180499 0.80040001 0.0937175  0.94745371 0.91953199] (rank 0)\n",
      "Simulator returns exception for parameter values: [0.30993406 0.79882239 0.06577538 0.91285141 0.87156007] (rank 0)\n",
      "Simulator returns exception for parameter values: [0.27558034 0.7952652  0.02712658 0.69765844 0.93400853] (rank 0)\n",
      "Simulator returns exception for parameter values: [0.29850395 0.79860185 0.01969711 0.4901751  1.00326415] (rank 0)\n",
      "Simulator returns exception for parameter values: [0.28537944 0.79447226 0.04699243 0.82980806 0.91190308] (rank 0)\n",
      "Simulator returns exception for parameter values: [0.30977501 0.80342979 0.03211538 0.41278867 1.05950921] (rank 0)\n",
      "Simulator returns exception for parameter values: [0.2795015  0.79738606 0.05960582 0.77172434 0.96139307] (rank 0)\n",
      "Simulator returns exception for parameter values: [0.31470578 0.80556045 0.02895709 0.62850087 0.92448931] (rank 0)\n",
      "Simulator returns exception for parameter values: [0.29370722 0.7996822  0.0452366  0.5265412  1.04820459] (rank 0)\n",
      "Simulator returns exception for parameter values: [0.29982985 0.80202634 0.03606695 0.6304445  0.96547326] (rank 0)\n",
      "Simulator returns exception for parameter values: [0.33039197 0.80617824 0.04549652 0.65830589 0.94654843] (rank 0)\n",
      "Simulator returns exception for parameter values: [0.29702103 0.80060936 0.07083917 0.7179939  0.99215957] (rank 0)\n",
      "Simulator returns exception for parameter values: [0.30737068 0.80776776 0.04279372 0.86902477 0.81142702] (rank 0)\n",
      "Simulator returns exception for parameter values: [0.29056469 0.80361009 0.03193873 0.54726942 0.98785733] (rank 0)\n",
      "Simulator returns exception for parameter values: [0.30553523 0.7976057  0.08493681 0.67783356 1.05745095] (rank 0)\n",
      "Simulator returns exception for parameter values: [0.30398119 0.80094485 0.02419632 0.4057592  1.076453  ] (rank 0)\n",
      "Simulator returns exception for parameter values: [0.30840307 0.80426602 0.00436724 0.53408605 0.91854572] (rank 0)\n",
      "Simulator returns exception for parameter values: [0.30876369 0.79768669 0.03445991 0.56136425 1.00494096] (rank 0)\n",
      "Simulator returns exception for parameter values: [0.29326273 0.79866778 0.07239109 0.9151098  0.89642282] (rank 0)\n",
      "Simulator returns exception for parameter values: [0.30931452 0.79534282 0.05924275 0.79140932 0.95179127] (rank 0)\n"
     ]
    },
    {
     "name": "stdout",
     "output_type": "stream",
     "text": [
      "Simulator returns exception for parameter values: [0.30668928 0.80008629 0.06774756 0.90759048 0.8901347 ] (rank 0)\n",
      "Simulator returns exception for parameter values: [0.28926195 0.79457559 0.02255069 0.52560602 1.0249516 ] (rank 0)\n",
      "Simulator returns exception for parameter values: [0.30104826 0.79466177 0.0699185  0.85878484 0.93370575] (rank 0)\n",
      "Simulator returns exception for parameter values: [0.30517513 0.80372639 0.06692358 0.68333717 0.99482853] (rank 0)\n",
      "Simulator returns exception for parameter values: [0.2849955  0.7985614  0.00722863 0.42871347 1.03956463] (rank 0)\n",
      "Simulator returns exception for parameter values: [0.28662226 0.79566317 0.08639863 0.97812296 0.90859639] (rank 0)\n",
      "Simulator returns exception for parameter values: [0.29450965 0.8013719  0.05718803 0.73514436 0.96571959] (rank 0)\n",
      "Simulator returns exception for parameter values: [0.3077531  0.79789497 0.05811154 0.72536018 0.96853561] (rank 0)\n",
      "Simulator returns exception for parameter values: [0.304389   0.80585481 0.00152005 0.54107785 0.90139803] (rank 0)\n",
      "Simulator returns exception for parameter values: [0.30894377 0.80266204 0.08433907 0.82485018 0.95428373] (rank 0)\n",
      "Simulator returns exception for parameter values: [0.30302806 0.80424049 0.08459883 0.80505662 0.97752108] (rank 0)\n",
      "Simulator returns exception for parameter values: [0.29021604 0.79520517 0.01970311 0.58157257 0.98337365] (rank 0)\n",
      "Simulator returns exception for parameter values: [0.28699997 0.79719865 0.01556423 0.65982214 0.91770382] (rank 0)\n",
      "Simulator returns exception for parameter values: [0.29310003 0.80560461 0.00812438 0.44799798 0.98497745] (rank 0)\n",
      "Simulator returns exception for parameter values: [0.28455266 0.79906849 0.03927288 0.65398425 0.98966589] (rank 0)\n",
      "Simulator returns exception for parameter values: [0.31231181 0.80761247 0.02072394 0.4538847  0.99213796] (rank 0)\n",
      "Simulator returns exception for parameter values: [0.28190772 0.79791049 0.06830878 0.88516985 0.91150409] (rank 0)\n",
      "Simulator returns exception for parameter values: [0.29473572 0.79639134 0.08825051 0.90980877 0.94457592] (rank 0)\n",
      "Simulator returns exception for parameter values: [0.32728768 0.80191296 0.02659942 0.50142569 0.98815242] (rank 0)\n",
      "Simulator returns exception for parameter values: [0.30085146 0.80532132 0.05802104 0.6317223  0.99563048] (rank 0)\n",
      "Simulator returns exception for parameter values: [0.29389761 0.80041539 0.0606712  0.66024931 1.01532829] (rank 0)\n",
      "Simulator returns exception for parameter values: [0.2978167  0.79717441 0.00672742 0.61309681 0.92010937] (rank 0)\n",
      "Simulator returns exception for parameter values: [0.31425289 0.79894794 0.04027074 0.75752196 0.91371432] (rank 0)\n",
      "Simulator returns exception for parameter values: [0.30133956 0.80113969 0.04037618 0.67433328 0.94396725] (rank 0)\n",
      "Simulator returns exception for parameter values: [0.33100108 0.80071218 0.01780756 0.4249137  1.01158356] (rank 0)\n",
      "Simulator returns exception for parameter values: [0.31169084 0.79705215 0.05737937 0.55887208 1.05776984] (rank 0)\n",
      "Simulator returns exception for parameter values: [0.30299865 0.80216495 0.0517028  0.57579457 1.02349998] (rank 0)\n",
      "Simulator returns exception for parameter values: [0.30497395 0.8084031  0.04396689 0.49099706 1.03547672] (rank 0)\n",
      "Simulator returns exception for parameter values: [0.31530832 0.79970047 0.08165338 0.81712305 0.96125725] (rank 0)\n",
      "Simulator returns exception for parameter values: [0.30482553 0.80261086 0.00793449 0.59565022 0.91674301] (rank 0)\n",
      "Simulator returns exception for parameter values: [0.29419126 0.80056915 0.03341284 0.6589438  0.94092837] (rank 0)\n",
      "Simulator returns exception for parameter values: [0.30004934 0.8032661  0.00443305 0.43701973 1.00007637] (rank 0)\n",
      "Simulator returns exception for parameter values: [0.28825224 0.79831957 0.05288953 0.8153086  0.91054519] (rank 0)\n",
      "Simulator returns exception for parameter values: [0.31345591 0.80273394 0.08453313 0.97580509 0.86279546] (rank 0)\n",
      "Simulator returns exception for parameter values: [0.30587007 0.79353887 0.00535411 0.52020164 0.97073773] (rank 0)\n",
      "Simulator returns exception for parameter values: [0.27806702 0.78988571 0.06888439 0.77498881 1.01958176] (rank 0)\n",
      "Simulator returns exception for parameter values: [0.29916893 0.80146452 0.05410806 0.71900181 0.94952248] (rank 0)\n",
      "Simulator returns exception for parameter values: [0.29191479 0.79734489 0.0915491  0.87640829 0.9727974 ] (rank 0)\n",
      "Simulator returns exception for parameter values: [0.2901585  0.79287415 0.06706476 0.80414353 0.97894707] (rank 0)\n",
      "Simulator returns exception for parameter values: [0.30070783 0.79990001 0.03108261 0.6276061  0.95625952] (rank 0)\n",
      "Simulator returns exception for parameter values: [0.28733642 0.79543403 0.04257121 0.66599088 0.99105792] (rank 0)\n",
      "Simulator returns exception for parameter values: [0.30451316 0.80616695 0.01111377 0.48781186 0.95307956] (rank 0)\n",
      "Simulator returns exception for parameter values: [0.29458219 0.79499958 0.08913792 0.98565594 0.90539285] (rank 0)\n",
      "Simulator returns exception for parameter values: [0.30741313 0.80371212 0.0528304  0.61000336 0.9969954 ] (rank 0)\n",
      "Simulator returns exception for parameter values: [0.29974775 0.79985819 0.01894209 0.47980043 1.02080951] (rank 0)\n",
      "Simulator returns exception for parameter values: [0.32169452 0.80286828 0.09011391 0.78225698 0.9877916 ] (rank 0)\n",
      "Simulator returns exception for parameter values: [0.2971883  0.79596153 0.06257738 0.85802292 0.92091211] (rank 0)\n",
      "Simulator returns exception for parameter values: [0.29178426 0.80040627 0.07006054 0.85149108 0.92708821] (rank 0)\n",
      "Simulator returns exception for parameter values: [0.29904336 0.7990843  0.0395619  0.65562143 0.97279667] (rank 0)\n",
      "Simulator returns exception for parameter values: [0.30743335 0.79978292 0.05120009 0.71986787 0.94981927] (rank 0)\n",
      "Simulator returns exception for parameter values: [0.29206565 0.80028296 0.00720768 0.49112555 0.98761143] (rank 0)\n",
      "Simulator returns exception for parameter values: [0.29184034 0.80024574 0.08221902 0.8484235  0.94300986] (rank 0)\n",
      "Simulator returns exception for parameter values: [0.30493465 0.79817484 0.06414265 0.93512273 0.84630986] (rank 0)\n",
      "Simulator returns exception for parameter values: [0.29672117 0.7998724  0.07870787 0.74698641 0.99895845] (rank 0)\n",
      "Simulator returns exception for parameter values: [0.29879498 0.8000594  0.01739689 0.43778593 1.03014474] (rank 0)\n",
      "Simulator returns exception for parameter values: [0.3085593  0.80124536 0.08667855 0.88260994 0.93611731] (rank 0)\n",
      "Simulator returns exception for parameter values: [0.28982352 0.80221345 0.05942069 0.77224779 0.9445535 ] (rank 0)\n",
      "Simulator returns exception for parameter values: [0.2895878  0.80035478 0.01876084 0.46579773 1.03245051] (rank 0)\n",
      "Simulator returns exception for parameter values: [0.30110146 0.80402619 0.04047981 0.62346671 0.97380893] (rank 0)\n",
      "Simulator returns exception for parameter values: [0.29991082 0.79926322 0.07006891 0.91308144 0.88472193] (rank 0)\n",
      "Simulator returns exception for parameter values: [0.29694567 0.80045636 0.0992038  0.96870213 0.92945318] (rank 0)\n",
      "Simulator returns exception for parameter values: [0.28025011 0.79645923 0.04480463 0.68843451 0.98142666] (rank 0)\n",
      "Simulator returns exception for parameter values: [0.29678335 0.79727062 0.08167869 0.85308901 0.97580821] (rank 0)\n",
      "Simulator returns exception for parameter values: [0.30018512 0.80123968 0.01723787 0.48702013 0.99305053] (rank 0)\n",
      "Simulator returns exception for parameter values: [0.28908717 0.79561333 0.04457571 0.57925165 1.04018063] (rank 0)\n",
      "Simulator returns exception for parameter values: [0.28359253 0.79443417 0.02829944 0.6813506  0.95520399] (rank 0)\n",
      "Simulator returns exception for parameter values: [0.2955138  0.80223614 0.04178684 0.64244487 0.98358196] (rank 0)\n",
      "Simulator returns exception for parameter values: [0.30714887 0.7948273  0.0786345  0.851341   0.96558587] (rank 0)\n",
      "Simulator returns exception for parameter values: [0.29301203 0.80706454 0.06329331 0.821098   0.91095754] (rank 0)\n",
      "Simulator returns exception for parameter values: [0.29053226 0.80320436 0.01682105 0.54329443 0.96954796] (rank 0)\n",
      "Simulator returns exception for parameter values: [0.30192875 0.80248653 0.03266376 0.61221195 0.96028229] (rank 0)\n",
      "Simulator returns exception for parameter values: [0.3095483  0.79900025 0.07978171 0.89152818 0.9122401 ] (rank 0)\n",
      "Simulator returns exception for parameter values: [0.30198379 0.80134112 0.03921645 0.57590616 1.00054885] (rank 0)\n",
      "Simulator returns exception for parameter values: [0.3082348  0.79832518 0.03213468 0.6065234  0.96395102] (rank 0)\n",
      "Simulator returns exception for parameter values: [0.29128387 0.80098425 0.00981265 0.48445402 0.99371048] (rank 0)\n",
      "Simulator returns exception for parameter values: [0.29246426 0.7995068  0.08368201 0.99912309 0.88384285] (rank 0)\n",
      "Simulator returns exception for parameter values: [0.30100919 0.80024294 0.03442113 0.54479063 1.00827281] (rank 0)\n",
      "Simulator returns exception for parameter values: [0.30494047 0.80270454 0.09913616 0.83777108 0.97289051] (rank 0)\n",
      "Simulator returns exception for parameter values: [0.29944839 0.79532131 0.0274473  0.69072884 0.93521198] (rank 0)\n",
      "Simulator returns exception for parameter values: [0.30609744 0.80165193 0.00879961 0.44577655 1.00183463] (rank 0)\n",
      "Simulator returns exception for parameter values: [0.30923571 0.79667155 0.08706957 0.8996938  0.95637695] (rank 0)\n",
      "Simulator returns exception for parameter values: [0.31596128 0.79930181 0.04849949 0.8259107  0.87918877] (rank 0)\n",
      "Simulator returns exception for parameter values: [0.28967816 0.80109292 0.08121418 0.9078577  0.92724721] (rank 0)\n",
      "Simulator returns exception for parameter values: [0.30302594 0.79737567 0.09930977 0.93040223 0.95249643] (rank 0)\n",
      "Simulator returns exception for parameter values: [0.29707034 0.79487582 0.09702517 0.91307085 0.97367706] (rank 0)\n",
      "Simulator returns exception for parameter values: [0.30733094 0.79718163 0.00382266 0.59985441 0.91639139] (rank 0)\n",
      "Simulator returns exception for parameter values: [0.30155673 0.79623084 0.01709471 0.61664468 0.94069241] (rank 0)\n",
      "Simulator returns exception for parameter values: [0.29895296 0.80121239 0.05311109 0.79666082 0.90992779] (rank 0)\n",
      "Simulator returns exception for parameter values: [0.28174076 0.79616072 0.03631773 0.69698535 0.95127448] (rank 0)\n",
      "Simulator returns exception for parameter values: [0.27875855 0.79982124 0.03977336 0.8427858  0.86092847] (rank 0)\n",
      "Simulator returns exception for parameter values: [0.3020246  0.80485584 0.05283697 0.82540744 0.88058642] (rank 0)\n",
      "Simulator returns exception for parameter values: [0.28430465 0.8006644  0.04126835 0.55319193 1.02563568] (rank 0)\n",
      "Simulator returns exception for parameter values: [0.30863676 0.80062225 0.06183057 0.66360282 0.99532185] (rank 0)\n",
      "Simulator returns exception for parameter values: [0.29718236 0.80047204 0.05330044 0.61445495 1.01629141] (rank 0)\n",
      "Simulator returns exception for parameter values: [0.28940743 0.80119045 0.06103443 0.85647459 0.89695151] (rank 0)\n",
      "Simulator returns exception for parameter values: [0.29329364 0.79994397 0.01291898 0.43245073 1.03167582] (rank 0)\n",
      "Simulator returns exception for parameter values: [0.30739691 0.8079298  0.01556754 0.50872129 0.95192514] (rank 0)\n",
      "Simulator returns exception for parameter values: [0.30932928 0.80659868 0.08027711 0.75696056 0.97401999] (rank 0)\n",
      "Simulator returns exception for parameter values: [0.31184077 0.80402107 0.0926392  0.9167522  0.90520048] (rank 0)\n",
      "Simulator returns exception for parameter values: [0.30215423 0.80097884 0.07887349 0.89301445 0.92232275] (rank 0)\n",
      "Simulator returns exception for parameter values: [0.30171878 0.80312064 0.02740208 0.57017714 0.96730117] (rank 0)\n",
      "Simulator returns exception for parameter values: [0.28695765 0.79537522 0.05397853 0.7055662  0.98266073] (rank 0)\n",
      "Simulator returns exception for parameter values: [0.29620561 0.79998262 0.04291213 0.62914814 0.98334031] (rank 0)\n",
      "Simulator returns exception for parameter values: [0.3068833  0.79807645 0.00413893 0.40997076 1.01831266] (rank 0)\n",
      "Simulator returns exception for parameter values: [0.30970109 0.80376588 0.00725049 0.44761566 0.99103854] (rank 0)\n",
      "Simulator returns exception for parameter values: [0.29608841 0.79636282 0.04237595 0.81921843 0.88846193] (rank 0)\n",
      "Simulator returns exception for parameter values: [0.30336143 0.795262   0.08406566 0.89178234 0.94374207] (rank 0)\n",
      "Simulator returns exception for parameter values: [0.30854297 0.80241998 0.0922134  0.88702708 0.94025547] (rank 0)\n",
      "Simulator returns exception for parameter values: [0.29928701 0.80189377 0.01523267 0.43860178 1.01750075] (rank 0)\n",
      "Simulator returns exception for parameter values: [0.31936223 0.80491118 0.05270163 0.78244625 0.88499754] (rank 0)\n",
      "Simulator returns exception for parameter values: [0.30224881 0.80846313 0.07948724 0.75278873 0.97138798] (rank 0)\n",
      "Simulator returns exception for parameter values: [0.29027312 0.79937077 0.00105884 0.52574144 0.97378586] (rank 0)\n",
      "Simulator returns exception for parameter values: [0.29561448 0.79962479 0.02544105 0.5721495  0.97703972] (rank 0)\n",
      "Simulator returns exception for parameter values: [0.29677529 0.79921895 0.05641574 0.85792201 0.8818397 ] (rank 0)\n",
      "Simulator returns exception for parameter values: [0.29070267 0.79410338 0.05297354 0.47272944 1.11666053] (rank 0)\n",
      "Simulator returns exception for parameter values: [0.30387166 0.79913042 0.00561658 0.52507677 0.96314741] (rank 0)\n",
      "Simulator returns exception for parameter values: [0.29382475 0.79999    0.00492816 0.49377233 0.97892894] (rank 0)\n",
      "Simulator returns exception for parameter values: [0.31679682 0.80293265 0.02308727 0.58747899 0.94711419] (rank 0)\n",
      "Simulator returns exception for parameter values: [0.28988569 0.79870269 0.04773961 0.68758887 0.97473319] (rank 0)\n",
      "Simulator returns exception for parameter values: [0.30341724 0.79955994 0.06492765 0.83830093 0.90856896] (rank 0)\n",
      "Simulator returns exception for parameter values: [0.29231254 0.80751116 0.04853853 0.76375216 0.89525955] (rank 0)\n",
      "Simulator returns exception for parameter values: [0.29854303 0.79784046 0.0299398  0.74872522 0.88317262] (rank 0)\n",
      "Simulator returns exception for parameter values: [0.29488264 0.80009031 0.06301717 0.8167049  0.92380507] (rank 0)\n",
      "Simulator returns exception for parameter values: [0.30750952 0.80318015 0.08837891 0.86331576 0.94796993] (rank 0)\n",
      "Simulator returns exception for parameter values: [0.29672196 0.80216867 0.04844505 0.69923353 0.96100085] (rank 0)\n",
      "Simulator returns exception for parameter values: [0.2893353  0.79400595 0.07295777 0.97794003 0.89003522] (rank 0)\n",
      "Simulator returns exception for parameter values: [0.29377799 0.80474735 0.09075947 0.92855878 0.91720611] (rank 0)\n",
      "Simulator returns exception for parameter values: [0.31582879 0.80046618 0.05987693 0.93236221 0.84376919] (rank 0)\n",
      "Simulator returns exception for parameter values: [0.30581245 0.80304821 0.08141983 0.79933261 0.95410305] (rank 0)\n",
      "Simulator returns exception for parameter values: [0.29253798 0.80247671 0.0462452  0.63139165 0.98898302] (rank 0)\n",
      "Simulator returns exception for parameter values: [0.29565611 0.80279919 0.07985245 0.87135814 0.92617416] (rank 0)\n",
      "Simulator returns exception for parameter values: [0.27573158 0.79554486 0.05067086 0.65196234 1.01983581] (rank 0)\n",
      "Simulator returns exception for parameter values: [0.31492675 0.79832222 0.03652828 0.67914537 0.9227356 ] (rank 0)\n",
      "Simulator returns exception for parameter values: [0.30667508 0.79887943 0.07735308 0.71814116 1.00578671] (rank 0)\n",
      "Simulator returns exception for parameter values: [0.31380739 0.80188854 0.03570189 0.58714537 0.96823317] (rank 0)\n",
      "Simulator returns exception for parameter values: [0.27902885 0.80286446 0.04648873 0.67562344 0.96175615] (rank 0)\n",
      "Simulator returns exception for parameter values: [0.33338008 0.80725487 0.070559   0.7126609  0.96501731] (rank 0)\n",
      "Simulator returns exception for parameter values: [0.2861054  0.80351573 0.0451742  0.78133718 0.90465212] (rank 0)\n",
      "Simulator returns exception for parameter values: [0.29877589 0.79852103 0.05581051 0.56695702 1.05555845] (rank 0)\n",
      "Simulator returns exception for parameter values: [0.31205399 0.8027222  0.07201243 0.87348182 0.89763165] (rank 0)\n",
      "Simulator returns exception for parameter values: [0.29563996 0.79885712 0.01493763 0.59048274 0.95031845] (rank 0)\n",
      "Simulator returns exception for parameter values: [0.29956238 0.79702937 0.08452294 0.98588411 0.8912473 ] (rank 0)\n",
      "Simulator returns exception for parameter values: [0.28266487 0.7990705  0.04423687 0.85432248 0.86362883] (rank 0)\n",
      "Simulator returns exception for parameter values: [0.30291916 0.79982243 0.0363958  0.75887273 0.88705337] (rank 0)\n",
      "Simulator returns exception for parameter values: [0.28993112 0.79485818 0.03276174 0.61548428 0.99958226] (rank 0)\n",
      "Simulator returns exception for parameter values: [0.30037163 0.80092818 0.0108766  0.41466936 1.03486055] (rank 0)\n",
      "Simulator returns exception for parameter values: [0.30483248 0.80331939 0.07619205 0.80834901 0.94663218] (rank 0)\n",
      "Simulator returns exception for parameter values: [0.29841793 0.80227277 0.03837153 0.54946567 0.99729156] (rank 0)\n",
      "Simulator returns exception for parameter values: [0.3099407  0.79712932 0.02603044 0.58764749 0.96067558] (rank 0)\n",
      "Simulator returns exception for parameter values: [0.29806564 0.7946975  0.06979435 0.73384769 1.01429103] (rank 0)\n",
      "Simulator returns exception for parameter values: [0.30189992 0.80081036 0.02251598 0.44304607 1.04177584] (rank 0)\n",
      "Simulator returns exception for parameter values: [0.31404508 0.80107066 0.00909169 0.62244558 0.90165872] (rank 0)\n",
      "Simulator returns exception for parameter values: [0.28614659 0.80011424 0.04129975 0.57788177 1.0171964 ] (rank 0)\n",
      "Simulator returns exception for parameter values: [0.29929052 0.80259379 0.0745868  0.81827869 0.94664005] (rank 0)\n",
      "Simulator returns exception for parameter values: [0.29572254 0.79785532 0.09086909 0.95032703 0.93428997] (rank 0)\n",
      "Simulator returns exception for parameter values: [0.28950364 0.79812409 0.00467254 0.57408317 0.94139229] (rank 0)\n",
      "Simulator returns exception for parameter values: [0.30870087 0.79882167 0.0475228  0.68799504 0.95286735] (rank 0)\n",
      "Simulator returns exception for parameter values: [0.30893929 0.79546099 0.09990252 0.83553071 0.99489995] (rank 0)\n",
      "Simulator returns exception for parameter values: [0.29689971 0.79626846 0.03241024 0.48219185 1.06149528] (rank 0)\n",
      "Simulator returns exception for parameter values: [0.28493233 0.80589248 0.01370189 0.43231579 1.01784257] (rank 0)\n",
      "Simulator returns exception for parameter values: [0.29581608 0.80313064 0.02259602 0.45980419 1.01063323] (rank 0)\n",
      "Simulator returns exception for parameter values: [0.30653051 0.79567196 0.04529947 0.73522016 0.94941768] (rank 0)\n",
      "Simulator returns exception for parameter values: [0.29599737 0.79674106 0.0050681  0.55055011 0.94711169] (rank 0)\n",
      "Simulator returns exception for parameter values: [0.29343576 0.79950284 0.05385314 0.60256265 1.03355172] (rank 0)\n",
      "Simulator returns exception for parameter values: [0.29237211 0.80145231 0.02231707 0.45564458 1.0312917 ] (rank 0)\n",
      "Simulator returns exception for parameter values: [0.310969   0.79661809 0.078486   0.78053774 0.99588427] (rank 0)\n",
      "Simulator returns exception for parameter values: [0.29642285 0.79877754 0.0507631  0.66578454 0.9724521 ] (rank 0)\n",
      "Simulator returns exception for parameter values: [0.28531474 0.79956362 0.01918016 0.42603129 1.06489639] (rank 0)\n",
      "Simulator returns exception for parameter values: [0.28880429 0.80512472 0.09753074 0.93929036 0.92168767] (rank 0)\n",
      "Simulator returns exception for parameter values: [0.29667799 0.79891989 0.01259153 0.57807714 0.94081669] (rank 0)\n",
      "Simulator returns exception for parameter values: [0.30299857 0.80147995 0.09055264 0.8474244  0.95939554] (rank 0)\n",
      "Simulator returns exception for parameter values: [0.28984583 0.8020452  0.01291632 0.57858462 0.92881145] (rank 0)\n",
      "Simulator returns exception for parameter values: [0.31343894 0.80352525 0.01348173 0.40807933 1.02585179] (rank 0)\n",
      "Simulator returns exception for parameter values: [0.31839185 0.80316949 0.0461851  0.57713555 0.99023114] (rank 0)\n",
      "Simulator returns exception for parameter values: [0.29901009 0.79637226 0.0268028  0.5625908  1.00651941] (rank 0)\n",
      "Simulator returns exception for parameter values: [0.29789837 0.80457471 0.06954307 0.78399005 0.93457393] (rank 0)\n",
      "Simulator returns exception for parameter values: [0.31598096 0.80136489 0.05860623 0.77420387 0.92390851] (rank 0)\n",
      "Simulator returns exception for parameter values: [0.29453383 0.80170704 0.00423204 0.501507   0.97026806] (rank 0)\n",
      "Simulator returns exception for parameter values: [0.29150253 0.80230468 0.03517923 0.74087803 0.8921263 ] (rank 0)\n",
      "Simulator returns exception for parameter values: [0.28980519 0.79556284 0.01768394 0.47977365 1.02583852] (rank 0)\n",
      "Simulator returns exception for parameter values: [0.29412408 0.79464081 0.07410016 0.70964462 1.03342085] (rank 0)\n",
      "Simulator returns exception for parameter values: [0.30091596 0.79378071 0.0828984  0.85074418 0.98298766] (rank 0)\n",
      "Simulator returns exception for parameter values: [0.2912623  0.80297836 0.07227638 0.78753464 0.96474527] (rank 0)\n",
      "Simulator returns exception for parameter values: [0.29879068 0.79956489 0.02597134 0.56555826 0.97866305] (rank 0)\n",
      "Simulator returns exception for parameter values: [0.30173798 0.79789527 0.06776694 0.74829411 0.96884586] (rank 0)\n",
      "Simulator returns exception for parameter values: [0.31789336 0.80143581 0.05111262 0.63097663 0.97982883] (rank 0)\n",
      "Simulator returns exception for parameter values: [0.31504267 0.80549648 0.02580523 0.59988676 0.92515192] (rank 0)\n",
      "Simulator returns exception for parameter values: [0.29870372 0.80056479 0.07963384 0.74474295 0.99174736] (rank 0)\n",
      "Simulator returns exception for parameter values: [0.28823468 0.80370238 0.04272428 0.73141572 0.91755634] (rank 0)\n",
      "Simulator returns exception for parameter values: [0.29029637 0.79410559 0.08021356 0.96193012 0.91226827] (rank 0)\n",
      "Simulator returns exception for parameter values: [0.31248145 0.79756249 0.01484274 0.44855757 1.00889102] (rank 0)\n",
      "Simulator returns exception for parameter values: [0.31229253 0.80324166 0.02800268 0.6933245  0.88248923] (rank 0)\n",
      "Simulator returns exception for parameter values: [0.29456906 0.80121701 0.03777067 0.66755852 0.95114657] (rank 0)\n",
      "Simulator returns exception for parameter values: [0.29625023 0.80101524 0.03789811 0.52632055 1.0327618 ] (rank 0)\n",
      "Simulator returns exception for parameter values: [0.30104725 0.79733215 0.0834569  0.74966422 1.01834405] (rank 0)\n",
      "Simulator returns exception for parameter values: [0.29820393 0.80438393 0.04369482 0.57730121 0.99786803] (rank 0)\n",
      "Simulator returns exception for parameter values: [0.30920797 0.80230469 0.07246825 0.87210004 0.89573308] (rank 0)\n",
      "Simulator returns exception for parameter values: [0.29240228 0.80121612 0.03159667 0.65771686 0.9460866 ] (rank 0)\n",
      "Simulator returns exception for parameter values: [0.30473726 0.8026049  0.04274936 0.74109173 0.89911982] (rank 0)\n",
      "Simulator returns exception for parameter values: [0.31231792 0.80791855 0.07563943 0.82907149 0.91997539] (rank 0)\n",
      "Simulator returns exception for parameter values: [0.28932411 0.79975614 0.0323711  0.768373   0.9016325 ] (rank 0)\n",
      "Simulator returns exception for parameter values: [0.2808359  0.8054596  0.01423103 0.55395409 0.9397888 ] (rank 0)\n",
      "Simulator returns exception for parameter values: [0.31080722 0.79991561 0.02661071 0.61794312 0.93973721] (rank 0)\n",
      "Simulator returns exception for parameter values: [0.30647892 0.80121302 0.0586158  0.75917633 0.94319358] (rank 0)\n",
      "Simulator returns exception for parameter values: [0.30700591 0.79843847 0.01343129 0.47650681 0.99748844] (rank 0)\n",
      "Simulator returns exception for parameter values: [0.29922006 0.79981989 0.03160079 0.55122304 1.01066385] (rank 0)\n",
      "Simulator returns exception for parameter values: [0.2955588  0.79874045 0.04060612 0.62993319 0.98724389] (rank 0)\n",
      "Simulator returns exception for parameter values: [0.29994586 0.80471647 0.06640615 0.52309765 1.07560607] (rank 0)\n",
      "Simulator returns exception for parameter values: [0.30274482 0.80532348 0.08174488 0.99281156 0.85490541] (rank 0)\n",
      "Simulator returns exception for parameter values: [0.26554995 0.7920206  0.0204023  0.73419787 0.93220279] (rank 0)\n",
      "Simulator returns exception for parameter values: [0.27641094 0.79794865 0.01251799 0.66861909 0.91140741] (rank 0)\n",
      "Simulator returns exception for parameter values: [0.30622313 0.79771643 0.03125359 0.5172957  1.00935831] (rank 0)\n",
      "Simulator returns exception for parameter values: [0.29233068 0.80142265 0.00262472 0.41657075 1.00624717] (rank 0)\n",
      "Simulator returns exception for parameter values: [0.29591853 0.80045424 0.03609478 0.65191387 0.94306069] (rank 0)\n",
      "Simulator returns exception for parameter values: [0.30497103 0.81092249 0.06010094 0.68462732 0.95433972] (rank 0)\n",
      "Simulator returns exception for parameter values: [0.30007882 0.79599716 0.06878246 0.71862554 1.00584731] (rank 0)\n",
      "Simulator returns exception for parameter values: [0.29343935 0.80158433 0.07534149 0.80663452 0.94592813] (rank 0)\n",
      "Simulator returns exception for parameter values: [0.29351241 0.79892493 0.06404249 0.71111308 0.9969043 ] (rank 0)\n",
      "Simulator returns exception for parameter values: [0.32202469 0.80124298 0.07427956 0.81010661 0.93221965] (rank 0)\n",
      "Simulator returns exception for parameter values: [0.29397932 0.8020273  0.07609494 0.77277626 0.98599666] (rank 0)\n",
      "Simulator returns exception for parameter values: [0.29516222 0.79528537 0.04930009 0.7413065  0.95504175] (rank 0)\n",
      "Simulator returns exception for parameter values: [0.31287563 0.79942123 0.02327742 0.51711823 0.97988182] (rank 0)\n",
      "Simulator returns exception for parameter values: [0.30311345 0.79677346 0.01913403 0.51118318 1.00396552] (rank 0)\n",
      "Simulator returns exception for parameter values: [0.31867329 0.80271841 0.06163284 0.65426488 0.9912262 ] (rank 0)\n",
      "Simulator returns exception for parameter values: [0.2992428  0.80189986 0.04093521 0.68131638 0.93904423] (rank 0)\n",
      "Simulator returns exception for parameter values: [0.30109094 0.79892794 0.06397819 0.66678542 1.00475538] (rank 0)\n",
      "Simulator returns exception for parameter values: [0.31703294 0.80093265 0.01739614 0.45208845 0.99907677] (rank 0)\n",
      "Simulator returns exception for parameter values: [0.29183172 0.80160512 0.0593336  0.75547698 0.9411682 ] (rank 0)\n",
      "Simulator returns exception for parameter values: [0.29723587 0.7946114  0.04104036 0.65436806 1.00129272] (rank 0)\n",
      "Simulator returns exception for parameter values: [0.29495366 0.80327753 0.02523202 0.52325624 0.99680799] (rank 0)\n",
      "Simulator returns exception for parameter values: [0.29774217 0.80575214 0.06454882 0.77558665 0.92484288] (rank 0)\n",
      "Simulator returns exception for parameter values: [0.28705066 0.79529669 0.0662531  0.94352905 0.88096237] (rank 0)\n",
      "Simulator returns exception for parameter values: [0.29454028 0.79710731 0.00836995 0.60210077 0.92758516] (rank 0)\n",
      "Simulator returns exception for parameter values: [0.31803147 0.7994008  0.09617102 0.7827917  1.02183426] (rank 0)\n",
      "Simulator returns exception for parameter values: [0.28349039 0.79943287 0.02136127 0.72802537 0.88431088] (rank 0)\n",
      "Simulator returns exception for parameter values: [0.30322022 0.80176555 0.01283117 0.48036519 0.98386306] (rank 0)\n",
      "Simulator returns exception for parameter values: [0.30085    0.79782528 0.09211625 0.90345893 0.95464757] (rank 0)\n",
      "Simulator returns exception for parameter values: [0.30706063 0.79801109 0.04598887 0.74530922 0.92401695] (rank 0)\n",
      "Simulator returns exception for parameter values: [0.30202902 0.79829519 0.03824067 0.65388259 0.97677007] (rank 0)\n",
      "Simulator returns exception for parameter values: [0.29818895 0.79931753 0.0505132  0.73977311 0.94018688] (rank 0)\n",
      "Simulator returns exception for parameter values: [0.30714713 0.80800157 0.07417843 0.57588095 1.0536755 ] (rank 0)\n",
      "Simulator returns exception for parameter values: [0.31544039 0.8058385  0.02710228 0.61586202 0.91537353] (rank 0)\n",
      "Simulator returns exception for parameter values: [0.31417546 0.80105216 0.09256029 0.91931689 0.92911161] (rank 0)\n",
      "Simulator returns exception for parameter values: [0.30412582 0.80126426 0.09864441 0.89851727 0.95603693] (rank 0)\n",
      "Simulator returns exception for parameter values: [0.29263195 0.79661071 0.02525884 0.66507482 0.94913542] (rank 0)\n",
      "Simulator returns exception for parameter values: [0.28519605 0.79817483 0.02373977 0.58452727 0.97131328] (rank 0)\n",
      "Simulator returns exception for parameter values: [0.29903914 0.80415729 0.01788865 0.49656869 0.98528256] (rank 0)\n",
      "Simulator returns exception for parameter values: [0.29868763 0.80141738 0.00886807 0.60374041 0.91463851] (rank 0)\n",
      "Simulator returns exception for parameter values: [0.29579126 0.79727744 0.08247222 0.88913085 0.94416016] (rank 0)\n",
      "Simulator returns exception for parameter values: [0.30707386 0.79863327 0.03611352 0.704595   0.92525286] (rank 0)\n",
      "Simulator returns exception for parameter values: [0.3008481  0.79867224 0.06966938 0.78673279 0.96244032] (rank 0)\n",
      "Simulator returns exception for parameter values: [0.31240203 0.80082534 0.05028656 0.63119086 0.99887506] (rank 0)\n",
      "Simulator returns exception for parameter values: [0.3123896  0.79969639 0.06132198 0.79152925 0.9346562 ] (rank 0)\n",
      "Simulator returns exception for parameter values: [0.30287293 0.80181099 0.04951952 0.70413152 0.95993549] (rank 0)\n",
      "Simulator returns exception for parameter values: [0.30078484 0.80338947 0.04176471 0.73256632 0.90446992] (rank 0)\n",
      "Simulator returns exception for parameter values: [0.32249367 0.79795557 0.0414448  0.53518969 1.02199335] (rank 0)\n",
      "Simulator returns exception for parameter values: [0.29696435 0.80776611 0.05288856 0.72869804 0.93236309] (rank 0)\n",
      "Simulator returns exception for parameter values: [0.29121661 0.80194271 0.05233657 0.8253519  0.89787292] (rank 0)\n",
      "Simulator returns exception for parameter values: [0.29671133 0.79547182 0.02745082 0.5825165  0.99892304] (rank 0)\n",
      "Simulator returns exception for parameter values: [0.30233083 0.80023354 0.05854472 0.70540245 0.97066337] (rank 0)\n",
      "Simulator returns exception for parameter values: [0.29928485 0.80011877 0.08280826 0.88347732 0.93131723] (rank 0)\n",
      "Simulator returns exception for parameter values: [0.28495843 0.79599994 0.03036574 0.75499908 0.91521752] (rank 0)\n",
      "Simulator returns exception for parameter values: [0.29567592 0.8017674  0.04060126 0.64629825 0.95384897] (rank 0)\n",
      "Simulator returns exception for parameter values: [0.28712369 0.79988153 0.01862219 0.54503103 0.97651544] (rank 0)\n",
      "Simulator returns exception for parameter values: [0.2967589  0.80819372 0.02423429 0.54698827 0.95215346] (rank 0)\n",
      "Simulator returns exception for parameter values: [0.30368272 0.79981222 0.05565078 0.75261733 0.94361461] (rank 0)\n",
      "Simulator returns exception for parameter values: [0.30539988 0.79948931 0.03518637 0.60011183 0.98042591] (rank 0)\n",
      "Simulator returns exception for parameter values: [0.30009118 0.79824145 0.01027686 0.62734963 0.91176935] (rank 0)\n",
      "Simulator returns exception for parameter values: [0.30542646 0.80234639 0.09049574 0.84820751 0.96700443] (rank 0)\n",
      "Simulator returns exception for parameter values: [0.29616275 0.7997528  0.04714221 0.70599087 0.94483219] (rank 0)\n",
      "Simulator returns exception for parameter values: [0.29873932 0.80371506 0.07593712 0.76435234 0.95904778] (rank 0)\n",
      "Simulator returns exception for parameter values: [0.2782898  0.80062432 0.02310534 0.67447799 0.92031642] (rank 0)\n",
      "Simulator returns exception for parameter values: [0.31468798 0.7993827  0.09029464 0.95014048 0.91158716] (rank 0)\n",
      "Simulator returns exception for parameter values: [0.31031486 0.79824012 0.0388212  0.59621131 0.99275887] (rank 0)\n",
      "Simulator returns exception for parameter values: [0.3032303  0.80424673 0.08120663 0.76290661 0.98735356] (rank 0)\n",
      "Simulator returns exception for parameter values: [0.31944372 0.79842119 0.076581   0.5828406  1.08079556] (rank 0)\n",
      "Simulator returns exception for parameter values: [0.32073764 0.80108208 0.0988535  0.90238984 0.94033712] (rank 0)\n",
      "Simulator returns exception for parameter values: [0.31012493 0.79569629 0.08167473 0.70892429 1.04654672] (rank 0)\n",
      "Simulator returns exception for parameter values: [0.28032128 0.80226178 0.08043742 0.99368251 0.86481845] (rank 0)\n",
      "Simulator returns exception for parameter values: [0.30978256 0.80358573 0.06847534 0.69082232 0.98874226] (rank 0)\n",
      "Simulator returns exception for parameter values: [0.30667616 0.80030341 0.01292775 0.54774124 0.95022875] (rank 0)\n",
      "Simulator returns exception for parameter values: [0.3134379  0.80268194 0.01069945 0.61982337 0.8972647 ] (rank 0)\n",
      "Simulator returns exception for parameter values: [0.30789313 0.79650696 0.05679604 0.63598753 1.03072477] (rank 0)\n",
      "Simulator returns exception for parameter values: [0.32743516 0.80715199 0.02270498 0.43806601 0.9974989 ] (rank 0)\n",
      "Simulator returns exception for parameter values: [0.30048846 0.79684491 0.04466285 0.6493501  0.98293816] (rank 0)\n",
      "Simulator returns exception for parameter values: [0.28417317 0.80088097 0.01473412 0.45160256 1.02502381] (rank 0)\n",
      "Simulator returns exception for parameter values: [0.29337705 0.80443185 0.03146931 0.61923483 0.93673452] (rank 0)\n",
      "Simulator returns exception for parameter values: [0.30028897 0.80037675 0.04022948 0.71356259 0.92959388] (rank 0)\n",
      "Simulator returns exception for parameter values: [0.28287822 0.79716258 0.05271742 0.84778536 0.90561253] (rank 0)\n",
      "Simulator returns exception for parameter values: [0.31437538 0.80455137 0.01298369 0.56367398 0.92765905] (rank 0)\n",
      "Simulator returns exception for parameter values: [0.29391293 0.80045748 0.01265413 0.43598398 1.02382326] (rank 0)\n",
      "Simulator returns exception for parameter values: [0.32321008 0.80017027 0.04813086 0.66718923 0.95864271] (rank 0)\n",
      "Simulator returns exception for parameter values: [0.30042248 0.79853754 0.05882289 0.70225548 0.98034243] (rank 0)\n",
      "Simulator returns exception for parameter values: [0.30149443 0.79660249 0.03337182 0.59543579 0.98568336] (rank 0)\n",
      "Simulator returns exception for parameter values: [0.31191185 0.80276352 0.02061036 0.4540094  1.01551785] (rank 0)\n",
      "Simulator returns exception for parameter values: [0.30339163 0.79491071 0.06526325 0.7388722  0.99722236] (rank 0)\n",
      "Simulator returns exception for parameter values: [0.28610844 0.79905418 0.08639632 0.96716047 0.91220815] (rank 0)\n",
      "Simulator returns exception for parameter values: [0.30585613 0.80511808 0.08499377 0.74628247 0.98463602] (rank 0)\n",
      "Simulator returns exception for parameter values: [0.29073361 0.80334387 0.07579625 0.73737758 0.99358417] (rank 0)\n",
      "Simulator returns exception for parameter values: [0.31385008 0.79749054 0.07257008 0.86156508 0.91131325] (rank 0)\n",
      "Simulator returns exception for parameter values: [0.30456073 0.80558743 0.02064598 0.41713158 1.02403091] (rank 0)\n",
      "Simulator returns exception for parameter values: [0.31414214 0.80291206 0.09787394 0.83421663 0.98780399] (rank 0)\n",
      "Simulator returns exception for parameter values: [0.29174331 0.79668481 0.06657836 0.96040293 0.87381847] (rank 0)\n",
      "Simulator returns exception for parameter values: [0.28192409 0.7966363  0.05270946 0.84800744 0.90169187] (rank 0)\n",
      "Simulator returns exception for parameter values: [0.29507774 0.80305663 0.06222059 0.70522895 0.96876311] (rank 0)\n",
      "Simulator returns exception for parameter values: [0.2964668  0.80319442 0.03919913 0.58668107 0.97931432] (rank 0)\n",
      "Simulator returns exception for parameter values: [0.28512703 0.79850086 0.00778487 0.43258771 1.01869854] (rank 0)\n",
      "Simulator returns exception for parameter values: [0.29711406 0.80092727 0.05713667 0.73390206 0.94810077] (rank 0)\n",
      "Simulator returns exception for parameter values: [0.3079736  0.80500144 0.02300691 0.6224545  0.92230827] (rank 0)\n",
      "Simulator returns exception for parameter values: [0.300381   0.80802718 0.02801713 0.66980845 0.89532611] (rank 0)\n",
      "Simulator returns exception for parameter values: [0.29058443 0.80125718 0.05530304 0.72173972 0.97003112] (rank 0)\n",
      "Simulator returns exception for parameter values: [0.30899869 0.8035183  0.04944651 0.64971407 0.96475916] (rank 0)\n",
      "Simulator returns exception for parameter values: [0.31523591 0.80166963 0.04397233 0.56125126 1.00497001] (rank 0)\n",
      "Simulator returns exception for parameter values: [0.28510641 0.79716238 0.0465915  0.82504946 0.90101451] (rank 0)\n",
      "Simulator returns exception for parameter values: [0.31516365 0.80137052 0.07581375 0.73336393 0.99065904] (rank 0)\n",
      "Simulator returns exception for parameter values: [0.30091711 0.79950032 0.03104752 0.65262034 0.93482698] (rank 0)\n",
      "Simulator returns exception for parameter values: [0.29498008 0.79977611 0.0720779  0.8522646  0.93173732] (rank 0)\n",
      "Simulator returns exception for parameter values: [0.28483095 0.80463221 0.06163891 0.80881675 0.9169408 ] (rank 0)\n",
      "Simulator returns exception for parameter values: [0.28173928 0.79515355 0.0180593  0.6730277  0.91178057] (rank 0)\n",
      "Simulator returns exception for parameter values: [0.29114316 0.80551674 0.04222423 0.6375542  0.96054175] (rank 0)\n",
      "Simulator returns exception for parameter values: [0.31943578 0.80006309 0.03632219 0.74609115 0.8921717 ] (rank 0)\n",
      "Simulator returns exception for parameter values: [0.30749285 0.80291978 0.03709388 0.40234196 1.07905364] (rank 0)\n",
      "Simulator returns exception for parameter values: [0.30608589 0.80094516 0.03114807 0.53025644 1.00988235] (rank 0)\n",
      "Simulator returns exception for parameter values: [0.29978585 0.79466672 0.02795136 0.47017119 1.05749683] (rank 0)\n",
      "Simulator returns exception for parameter values: [0.29570355 0.79170739 0.01777336 0.44168874 1.06391283] (rank 0)\n",
      "Simulator returns exception for parameter values: [0.3031752  0.80033941 0.05280551 0.53507758 1.06310638] (rank 0)\n",
      "Simulator returns exception for parameter values: [0.29572893 0.79500831 0.02989899 0.7878782  0.88796723] (rank 0)\n",
      "Simulator returns exception for parameter values: [0.29893488 0.79992529 0.09804606 0.81592754 1.00527648] (rank 0)\n",
      "Simulator returns exception for parameter values: [0.28959488 0.80376321 0.03719119 0.66632718 0.94756885] (rank 0)\n",
      "Simulator returns exception for parameter values: [0.28444765 0.80046747 0.01789579 0.62282961 0.92095   ] (rank 0)\n",
      "Simulator returns exception for parameter values: [0.3097254  0.79717293 0.01687547 0.47633453 1.0109047 ] (rank 0)\n",
      "Simulator returns exception for parameter values: [0.30203365 0.79947112 0.07018242 0.78643284 0.96392514] (rank 0)\n",
      "Simulator returns exception for parameter values: [0.30824566 0.80589888 0.05639692 0.7439064  0.92682162] (rank 0)\n",
      "Simulator returns exception for parameter values: [0.30881204 0.79661359 0.09918722 0.91702564 0.97010701] (rank 0)\n",
      "Simulator returns exception for parameter values: [0.28852541 0.80207081 0.04670864 0.82914431 0.87871334] (rank 0)\n",
      "Simulator returns exception for parameter values: [0.29308909 0.79620976 0.04005221 0.75571701 0.92520894] (rank 0)\n",
      "Simulator returns exception for parameter values: [0.29807868 0.79752428 0.06285957 0.88638467 0.88748259] (rank 0)\n",
      "Simulator returns exception for parameter values: [0.3067756  0.80499508 0.06277809 0.82866886 0.88507119] (rank 0)\n",
      "Simulator returns exception for parameter values: [0.30560405 0.79753568 0.08349627 0.94147279 0.89293432] (rank 0)\n",
      "Simulator returns exception for parameter values: [0.28491069 0.7990814  0.00836128 0.54846683 0.96086448] (rank 0)\n",
      "Simulator returns exception for parameter values: [0.30206844 0.79945352 0.05266369 0.78241219 0.92367462] (rank 0)\n",
      "Simulator returns exception for parameter values: [0.27650403 0.79765503 0.0562602  0.79913994 0.94726625] (rank 0)\n",
      "Simulator returns exception for parameter values: [0.30705438 0.80561029 0.05882893 0.79325452 0.89966505] (rank 0)\n",
      "Simulator returns exception for parameter values: [0.31196712 0.79681358 0.02137924 0.52337358 0.99884691] (rank 0)\n",
      "Simulator returns exception for parameter values: [0.30664817 0.80109733 0.03268743 0.54921707 0.98417935] (rank 0)\n",
      "Simulator returns exception for parameter values: [0.32072328 0.79765588 0.08570685 0.9504674  0.89637766] (rank 0)\n",
      "Simulator returns exception for parameter values: [0.30116916 0.79300349 0.07498594 0.89217757 0.93952725] (rank 0)\n",
      "Simulator returns exception for parameter values: [0.3090626  0.79655864 0.07469506 0.66623928 1.04843053] (rank 0)\n",
      "Simulator returns exception for parameter values: [0.3177557  0.80245036 0.03410451 0.53371975 0.99583968] (rank 0)\n",
      "Simulator returns exception for parameter values: [0.31154922 0.79868414 0.09573916 0.93865142 0.93198004] (rank 0)\n",
      "Simulator returns exception for parameter values: [0.28599898 0.79721035 0.05104087 0.68677    0.98946699] (rank 0)\n",
      "Simulator returns exception for parameter values: [0.2956268  0.79897548 0.06281461 0.72624057 0.98236005] (rank 0)\n",
      "Simulator returns exception for parameter values: [0.31006109 0.79564302 0.07054814 0.83860038 0.94738494] (rank 0)\n",
      "Simulator returns exception for parameter values: [0.29429366 0.80065225 0.08567283 0.8918323  0.94507565] (rank 0)\n",
      "Simulator returns exception for parameter values: [0.30416591 0.803444   0.01367571 0.5964983  0.91477312] (rank 0)\n",
      "Simulator returns exception for parameter values: [0.31293488 0.79569505 0.04814914 0.65010613 0.995709  ] (rank 0)\n",
      "Simulator returns exception for parameter values: [0.31893176 0.80502    0.07228858 0.63044831 1.01810963] (rank 0)\n",
      "Simulator returns exception for parameter values: [0.29986551 0.79662934 0.03348851 0.62380851 0.97872269] (rank 0)\n",
      "Simulator returns exception for parameter values: [0.30703977 0.79951504 0.01321755 0.52410092 0.96004528] (rank 0)\n",
      "Simulator returns exception for parameter values: [0.30550734 0.80004011 0.08751279 0.83438048 0.96153439] (rank 0)\n",
      "Simulator returns exception for parameter values: [0.29742859 0.80050994 0.0529228  0.79906641 0.91450596] (rank 0)\n",
      "Simulator returns exception for parameter values: [0.30668581 0.8014962  0.09862201 0.91621253 0.94599764] (rank 0)\n",
      "Simulator returns exception for parameter values: [0.31752189 0.79999734 0.04244325 0.72272692 0.91341039] (rank 0)\n",
      "Simulator returns exception for parameter values: [0.28833829 0.80062587 0.02633822 0.76789021 0.87073065] (rank 0)\n",
      "Simulator returns exception for parameter values: [0.28095084 0.7937646  0.05657545 0.87764161 0.90645337] (rank 0)\n",
      "Simulator returns exception for parameter values: [0.28662235 0.80180403 0.03920198 0.52696    1.05504927] (rank 0)\n",
      "Simulator returns exception for parameter values: [0.30801842 0.79930347 0.02154818 0.48826219 1.0037468 ] (rank 0)\n",
      "Simulator returns exception for parameter values: [0.30811078 0.8007632  0.04415439 0.58766381 1.00412641] (rank 0)\n",
      "Simulator returns exception for parameter values: [0.32551002 0.80060919 0.07711361 0.71314045 0.99192292] (rank 0)\n",
      "Simulator returns exception for parameter values: [0.30060425 0.79983293 0.07765914 0.83790532 0.94764352] (rank 0)\n",
      "Simulator returns exception for parameter values: [0.28114813 0.80056718 0.04624111 0.70831101 0.95563306] (rank 0)\n",
      "Simulator returns exception for parameter values: [0.31302544 0.80795213 0.09124118 0.8751442  0.90868089] (rank 0)\n",
      "Simulator returns exception for parameter values: [0.30337077 0.80051769 0.02031578 0.67883534 0.90121902] (rank 0)\n",
      "Simulator returns exception for parameter values: [0.28856107 0.79822531 0.04725676 0.88711388 0.85644958] (rank 0)\n",
      "Simulator returns exception for parameter values: [0.30882825 0.80484066 0.04257532 0.5952061  0.97535796] (rank 0)\n",
      "Simulator returns exception for parameter values: [0.29510753 0.7948586  0.0427629  0.59640311 1.02529586] (rank 0)\n",
      "Simulator returns exception for parameter values: [0.29668978 0.80109166 0.03923097 0.47911876 1.06115319] (rank 0)\n",
      "Simulator returns exception for parameter values: [0.27995497 0.79724861 0.0372952  0.73443022 0.93258383] (rank 0)\n",
      "Simulator returns exception for parameter values: [0.28139548 0.79951039 0.05861137 0.80937486 0.94193975] (rank 0)\n",
      "Simulator returns exception for parameter values: [0.29312073 0.79553746 0.05664786 0.62533449 1.03488044] (rank 0)\n",
      "Simulator returns exception for parameter values: [0.32152381 0.80778732 0.01983449 0.43679025 0.98646408] (rank 0)\n",
      "Simulator returns exception for parameter values: [0.30429249 0.80064085 0.00709311 0.41737126 1.00832246] (rank 0)\n",
      "Simulator returns exception for parameter values: [0.29389067 0.80291476 0.06317382 0.66106372 1.0148791 ] (rank 0)\n",
      "Simulator returns exception for parameter values: [0.31373031 0.80580455 0.08690959 0.80875122 0.96200187] (rank 0)\n",
      "Simulator returns exception for parameter values: [0.31999372 0.8017343  0.02056825 0.45991549 1.00157946] (rank 0)\n",
      "Simulator returns exception for parameter values: [0.29505488 0.80344791 0.07785362 0.74945009 0.99000747] (rank 0)\n",
      "Simulator returns exception for parameter values: [0.32261766 0.79952853 0.08751483 0.84233131 0.95541674] (rank 0)\n",
      "Simulator returns exception for parameter values: [0.28164076 0.79720072 0.00817613 0.47408034 1.01941148] (rank 0)\n",
      "Simulator returns exception for parameter values: [0.2990197  0.80103568 0.02271215 0.53140337 0.98412212] (rank 0)\n",
      "Simulator returns exception for parameter values: [0.28512261 0.79656299 0.05254294 0.75441013 0.96791754] (rank 0)\n",
      "Simulator returns exception for parameter values: [0.30299477 0.79541141 0.07126469 0.89249763 0.91418481] (rank 0)\n",
      "Simulator returns exception for parameter values: [0.30171857 0.80352699 0.09780674 0.9978082  0.8839558 ] (rank 0)\n",
      "Simulator returns exception for parameter values: [0.29394786 0.79513712 0.0232919  0.65128944 0.95473225] (rank 0)\n",
      "Simulator returns exception for parameter values: [0.29849412 0.79770586 0.04072872 0.47211634 1.07318421] (rank 0)\n",
      "Simulator returns exception for parameter values: [0.31345247 0.8044017  0.09799836 0.896276   0.93573566] (rank 0)\n",
      "Simulator returns exception for parameter values: [0.27523222 0.80416191 0.01483357 0.76514799 0.83401479] (rank 0)\n",
      "Simulator returns exception for parameter values: [0.30169164 0.79620387 0.02310258 0.61559455 0.94980557] (rank 0)\n",
      "Simulator returns exception for parameter values: [0.29962654 0.80208112 0.09290777 0.99070884 0.89092512] (rank 0)\n",
      "Simulator returns exception for parameter values: [0.30846342 0.80118839 0.04251787 0.5464157  1.00712304] (rank 0)\n",
      "Simulator returns exception for parameter values: [0.30967493 0.8002819  0.08327267 0.82284044 0.96324244] (rank 0)\n",
      "Simulator returns exception for parameter values: [0.28804154 0.80382116 0.0210093  0.74197896 0.85848237] (rank 0)\n",
      "Simulator returns exception for parameter values: [0.31671371 0.80248557 0.00913918 0.40065831 1.01667783] (rank 0)\n",
      "Simulator returns exception for parameter values: [0.31282405 0.80227739 0.09196179 0.86464126 0.94509613] (rank 0)\n",
      "Simulator returns exception for parameter values: [0.31203003 0.80327624 0.03260436 0.53449464 0.99094036] (rank 0)\n",
      "Simulator returns exception for parameter values: [0.31662879 0.80236403 0.07129659 0.6288074  1.03019471] (rank 0)\n",
      "Simulator returns exception for parameter values: [0.28574989 0.80240315 0.06363151 0.62514677 1.03121841] (rank 0)\n",
      "Simulator returns exception for parameter values: [0.32713921 0.79996179 0.09051371 0.93551164 0.91023466] (rank 0)\n",
      "Simulator returns exception for parameter values: [0.29940883 0.81083066 0.08670216 0.9616547  0.86317832] (rank 0)\n",
      "Simulator returns exception for parameter values: [0.31387075 0.80146213 0.00387556 0.44851653 0.97056667] (rank 0)\n",
      "Simulator returns exception for parameter values: [0.28503235 0.79901727 0.04932539 0.75314935 0.93542773] (rank 0)\n",
      "Simulator returns exception for parameter values: [0.29743994 0.79663316 0.00713788 0.43343267 1.02440485] (rank 0)\n",
      "Simulator returns exception for parameter values: [0.29492219 0.80101518 0.06562591 0.70949054 0.97374059] (rank 0)\n",
      "Simulator returns exception for parameter values: [0.29797255 0.79624632 0.09207769 0.95487513 0.92577727] (rank 0)\n",
      "Simulator returns exception for parameter values: [0.31195529 0.80148602 0.01734779 0.41964685 1.02479889] (rank 0)\n",
      "Simulator returns exception for parameter values: [0.29000021 0.79633451 0.08342673 0.87214164 0.9481032 ] (rank 0)\n",
      "Simulator returns exception for parameter values: [0.30375324 0.7984808  0.08908127 0.88942723 0.94970043] (rank 0)\n",
      "Simulator returns exception for parameter values: [0.30043612 0.79613501 0.03905682 0.5832407  1.01980336] (rank 0)\n",
      "Simulator returns exception for parameter values: [0.31408374 0.79658217 0.07527918 0.85715625 0.94280722] (rank 0)\n",
      "Simulator returns exception for parameter values: [0.29620912 0.79854236 0.0174517  0.52427961 0.98698074] (rank 0)\n",
      "Simulator returns exception for parameter values: [0.29342639 0.80322958 0.04564808 0.69277887 0.9582364 ] (rank 0)\n",
      "Simulator returns exception for parameter values: [0.28578522 0.79472608 0.04227606 0.77348506 0.9344299 ] (rank 0)\n",
      "Simulator returns exception for parameter values: [0.31859195 0.80736081 0.09751171 0.96785623 0.87074607] (rank 0)\n",
      "Simulator returns exception for parameter values: [0.3026973  0.80027172 0.01156496 0.48001409 0.98180963] (rank 0)\n",
      "Simulator returns exception for parameter values: [0.30934158 0.79574192 0.01069828 0.57964778 0.93948749] (rank 0)\n",
      "Simulator returns exception for parameter values: [0.30509014 0.79221184 0.06921126 0.76767419 0.99323307] (rank 0)\n",
      "Simulator returns exception for parameter values: [0.30160227 0.81065663 0.02622081 0.58087589 0.92994493] (rank 0)\n",
      "Simulator returns exception for parameter values: [0.30074419 0.79945948 0.01290408 0.56365494 0.9496782 ] (rank 0)\n",
      "Simulator returns exception for parameter values: [0.30443532 0.79724964 0.03071821 0.66779    0.94007809] (rank 0)\n",
      "Simulator returns exception for parameter values: [0.30263667 0.79746009 0.04717134 0.7720826  0.90357393] (rank 0)\n"
     ]
    },
    {
     "name": "stdout",
     "output_type": "stream",
     "text": [
      "Simulator returns exception for parameter values: [0.30218371 0.7997036  0.03926685 0.69951181 0.92404356] (rank 0)\n",
      "Simulator returns exception for parameter values: [0.29924592 0.80378763 0.03855373 0.67796417 0.92076404] (rank 0)\n",
      "Simulator returns exception for parameter values: [3.21738333e-01 8.01370351e-01 1.97815540e-04 5.39194665e-01\n",
      " 9.16387299e-01] (rank 0)\n",
      "Simulator returns exception for parameter values: [0.32377516 0.8041112  0.05150367 0.54861838 1.02131926] (rank 0)\n",
      "Simulator returns exception for parameter values: [0.3130405  0.80287388 0.08549585 0.90880527 0.91029666] (rank 0)\n",
      "Simulator returns exception for parameter values: [0.29384964 0.79835278 0.0471694  0.70068568 0.96505549] (rank 0)\n",
      "Simulator returns exception for parameter values: [0.30011329 0.8032173  0.06610074 0.68455967 0.98711195] (rank 0)\n",
      "Simulator returns exception for parameter values: [0.3064241  0.79879865 0.05137991 0.73902977 0.94372333] (rank 0)\n",
      "Simulator returns exception for parameter values: [0.30467198 0.80413722 0.05334176 0.71287601 0.94120847] (rank 0)\n",
      "Simulator returns exception for parameter values: [0.30590404 0.7973743  0.09056806 0.88353923 0.95313068] (rank 0)\n",
      "Simulator returns exception for parameter values: [0.29445202 0.79948725 0.00207085 0.4679304  0.98462218] (rank 0)\n",
      "Simulator returns exception for parameter values: [0.30562096 0.80277775 0.05606054 0.8528539  0.8609069 ] (rank 0)\n",
      "Simulator returns exception for parameter values: [0.31781891 0.8031936  0.03326783 0.45014939 1.04427895] (rank 0)\n",
      "Simulator returns exception for parameter values: [0.29187372 0.80086415 0.01985319 0.41981069 1.04670985] (rank 0)\n",
      "Simulator returns exception for parameter values: [0.3044386  0.80418705 0.06174772 0.79994254 0.92233313] (rank 0)\n",
      "Simulator returns exception for parameter values: [0.30000611 0.79659014 0.03098114 0.59910354 0.97798721] (rank 0)\n",
      "Simulator returns exception for parameter values: [0.28515103 0.79192142 0.01261575 0.57648788 0.96774393] (rank 0)\n",
      "Simulator returns exception for parameter values: [0.29570314 0.80140235 0.03161063 0.61577402 0.95110224] (rank 0)\n",
      "Simulator returns exception for parameter values: [0.28971694 0.80252768 0.02829175 0.5907152  0.96687768] (rank 0)\n",
      "Simulator returns exception for parameter values: [0.3046814  0.80203748 0.06815232 0.73447958 0.97419665] (rank 0)\n",
      "Simulator returns exception for parameter values: [0.29971571 0.79771956 0.03822227 0.58328214 1.01201451] (rank 0)\n",
      "Simulator returns exception for parameter values: [0.30655434 0.8028695  0.01328238 0.42195445 1.01282477] (rank 0)\n",
      "Simulator returns exception for parameter values: [0.29856287 0.80240616 0.05738863 0.64760952 1.0105963 ] (rank 0)\n",
      "Simulator returns exception for parameter values: [0.29615831 0.79622161 0.03402252 0.62584317 0.98344405] (rank 0)\n",
      "Simulator returns exception for parameter values: [0.28858931 0.80125047 0.05153687 0.65749096 0.99269512] (rank 0)\n",
      "Simulator returns exception for parameter values: [0.30063456 0.80429716 0.04067466 0.54795669 1.00565309] (rank 0)\n",
      "Simulator returns exception for parameter values: [0.29103283 0.79918662 0.03005618 0.60934262 0.97528475] (rank 0)\n",
      "Simulator returns exception for parameter values: [0.28908406 0.79644217 0.03751355 0.68791462 0.9680505 ] (rank 0)\n",
      "Simulator returns exception for parameter values: [0.27246024 0.79855296 0.05693493 0.98034976 0.85416321] (rank 0)\n",
      "Simulator returns exception for parameter values: [0.30256474 0.80393035 0.03126413 0.60316535 0.94865231] (rank 0)\n",
      "Simulator returns exception for parameter values: [0.31615513 0.79625086 0.03443618 0.65456404 0.95767114] (rank 0)\n",
      "Simulator returns exception for parameter values: [0.29366515 0.80092143 0.01380732 0.65686317 0.89174368] (rank 0)\n",
      "Simulator returns exception for parameter values: [0.28799462 0.79931856 0.02876349 0.57246927 0.97617103] (rank 0)\n",
      "Simulator returns exception for parameter values: [0.28492357 0.79160316 0.02140204 0.52907274 1.03498748] (rank 0)\n",
      "Simulator returns exception for parameter values: [0.30838661 0.79766554 0.04066499 0.6240185  0.99361432] (rank 0)\n",
      "Simulator returns exception for parameter values: [0.30409155 0.80873107 0.05347525 0.69399745 0.9417021 ] (rank 0)\n",
      "Simulator returns exception for parameter values: [0.31085163 0.79803935 0.00429531 0.43192874 1.00131243] (rank 0)\n",
      "Simulator returns exception for parameter values: [0.3086108  0.79917269 0.01960948 0.56339604 0.97886942] (rank 0)\n",
      "Simulator returns exception for parameter values: [0.30922438 0.80149139 0.00535775 0.54006264 0.92922565] (rank 0)\n",
      "Simulator returns exception for parameter values: [0.28699124 0.79839993 0.04464229 0.84490635 0.87794184] (rank 0)\n",
      "Simulator returns exception for parameter values: [0.29513782 0.7983064  0.00847263 0.60678079 0.92479255] (rank 0)\n",
      "Simulator returns exception for parameter values: [0.3073294  0.79979295 0.05592736 0.64835489 1.00587483] (rank 0)\n",
      "Simulator returns exception for parameter values: [0.30630568 0.79881882 0.04868241 0.56569063 1.04031191] (rank 0)\n",
      "Simulator returns exception for parameter values: [0.29748354 0.80405049 0.03787206 0.76803753 0.89121123] (rank 0)\n",
      "Simulator returns exception for parameter values: [0.30146721 0.79632622 0.01438277 0.58859228 0.95601767] (rank 0)\n",
      "Simulator returns exception for parameter values: [0.30271982 0.8015739  0.01377862 0.44162965 1.01701431] (rank 0)\n",
      "Simulator returns exception for parameter values: [0.27945649 0.79749079 0.09995073 0.89792444 0.98377696] (rank 0)\n",
      "Simulator returns exception for parameter values: [0.31023947 0.7941135  0.07604684 0.88405053 0.92935401] (rank 0)\n",
      "Simulator returns exception for parameter values: [0.30910039 0.79909552 0.04671843 0.56706408 1.03001065] (rank 0)\n",
      "Simulator returns exception for parameter values: [0.30445883 0.79982278 0.04461587 0.58916033 1.02238359] (rank 0)\n",
      "Simulator returns exception for parameter values: [0.29324758 0.80695165 0.07471076 0.77477779 0.94933333] (rank 0)\n",
      "Simulator returns exception for parameter values: [0.2923754  0.79745898 0.05144249 0.69191144 0.97217874] (rank 0)\n",
      "Simulator returns exception for parameter values: [0.29556962 0.80215475 0.01761647 0.48915736 0.99987693] (rank 0)\n",
      "Simulator returns exception for parameter values: [0.29964141 0.80181358 0.08596926 0.8972317  0.91419329] (rank 0)\n",
      "Simulator returns exception for parameter values: [0.30993083 0.79763084 0.08620927 0.87386951 0.95386952] (rank 0)\n",
      "Simulator returns exception for parameter values: [3.01785819e-01 8.02395687e-01 6.52018134e-04 4.43178655e-01\n",
      " 9.77786571e-01] (rank 0)\n",
      "Simulator returns exception for parameter values: [0.30677178 0.80508953 0.03373896 0.67789804 0.90715119] (rank 0)\n",
      "Simulator returns exception for parameter values: [0.28779652 0.8017977  0.03729278 0.59336217 0.99710701] (rank 0)\n",
      "Simulator returns exception for parameter values: [0.30869682 0.79971451 0.06641728 0.68310743 1.01044926] (rank 0)\n",
      "Simulator returns exception for parameter values: [0.3121233  0.79684693 0.06283475 0.97223235 0.83840591] (rank 0)\n",
      "Simulator returns exception for parameter values: [0.31349728 0.79436744 0.05396019 0.75864378 0.9433273 ] (rank 0)\n",
      "Simulator returns exception for parameter values: [0.29432479 0.79791086 0.01468382 0.44805118 1.02692645] (rank 0)\n",
      "Simulator returns exception for parameter values: [0.30258873 0.80872441 0.07569541 0.77383596 0.94063718] (rank 0)\n",
      "Simulator returns exception for parameter values: [0.30812191 0.80351639 0.01382648 0.46728853 0.98058571] (rank 0)\n",
      "Simulator returns exception for parameter values: [0.30012038 0.79984225 0.04587817 0.59744945 1.00644924] (rank 0)\n",
      "Simulator returns exception for parameter values: [0.32813909 0.80270648 0.02541011 0.49876228 0.99681364] (rank 0)\n",
      "Simulator returns exception for parameter values: [0.2982164  0.7961584  0.03686595 0.60036392 1.0078707 ] (rank 0)\n",
      "Simulator returns exception for parameter values: [0.30260501 0.79738967 0.09551216 0.92015204 0.94339855] (rank 0)\n",
      "Simulator returns exception for parameter values: [0.30043018 0.79544915 0.04467111 0.76380756 0.92627901] (rank 0)\n",
      "Simulator returns exception for parameter values: [0.30281377 0.803764   0.08685348 0.90637008 0.91999015] (rank 0)\n",
      "Simulator returns exception for parameter values: [0.31462725 0.79839061 0.02924336 0.50055828 1.01864676] (rank 0)\n",
      "Simulator returns exception for parameter values: [0.3047543  0.80574451 0.07093834 0.83276167 0.8989705 ] (rank 0)\n",
      "Simulator returns exception for parameter values: [0.29134467 0.80185032 0.04768651 0.68158761 0.96563242] (rank 0)\n",
      "Simulator returns exception for parameter values: [0.30983931 0.80450626 0.02098148 0.44832794 1.00963188] (rank 0)\n",
      "Simulator returns exception for parameter values: [0.30850702 0.79873123 0.03556366 0.53699383 1.02203415] (rank 0)\n",
      "Simulator returns exception for parameter values: [0.29783992 0.79657801 0.04546837 0.70127773 0.9618451 ] (rank 0)\n",
      "Simulator returns exception for parameter values: [0.31172827 0.80292633 0.0298336  0.47732705 1.01867436] (rank 0)\n",
      "Simulator returns exception for parameter values: [0.29138737 0.79815088 0.07687069 0.96968106 0.87280491] (rank 0)\n",
      "Simulator returns exception for parameter values: [0.28802777 0.79636598 0.05381981 0.82370966 0.9188312 ] (rank 0)\n",
      "Simulator returns exception for parameter values: [0.29724126 0.79695127 0.07781146 0.74207183 1.01333002] (rank 0)\n",
      "Simulator returns exception for parameter values: [0.30505414 0.80183521 0.06883842 0.85723327 0.9207769 ] (rank 0)\n",
      "Simulator returns exception for parameter values: [0.3055589  0.80517468 0.03319186 0.70382547 0.89627528] (rank 0)\n",
      "Simulator returns exception for parameter values: [0.29910825 0.79817567 0.04711151 0.65811293 0.98803956] (rank 0)\n",
      "Simulator returns exception for parameter values: [0.30694145 0.80678917 0.06230454 0.59750133 1.01315457] (rank 0)\n",
      "Simulator returns exception for parameter values: [0.29285289 0.80075404 0.03144121 0.69753671 0.91465562] (rank 0)\n",
      "Simulator returns exception for parameter values: [0.29395874 0.7958385  0.07075957 0.82051412 0.9727718 ] (rank 0)\n",
      "Simulator returns exception for parameter values: [0.31514444 0.80427331 0.04353746 0.63862319 0.95629136] (rank 0)\n",
      "Simulator returns exception for parameter values: [0.30205975 0.79634762 0.0137321  0.5275069  0.98150558] (rank 0)\n",
      "Simulator returns exception for parameter values: [0.30822305 0.80011101 0.06477976 0.65306406 1.01724709] (rank 0)\n",
      "Simulator returns exception for parameter values: [0.29360119 0.80120785 0.04578954 0.81415568 0.8841929 ] (rank 0)\n",
      "Simulator returns exception for parameter values: [0.28296045 0.80150375 0.05694453 0.78352806 0.92427637] (rank 0)\n",
      "Simulator returns exception for parameter values: [0.30539855 0.7973832  0.06179588 0.69368407 0.99714088] (rank 0)\n",
      "Simulator returns exception for parameter values: [0.29456225 0.79876765 0.02532338 0.43379896 1.05874247] (rank 0)\n",
      "Simulator returns exception for parameter values: [0.29452034 0.79297417 0.08155276 0.96780338 0.90369159] (rank 0)\n",
      "Simulator returns exception for parameter values: [0.31829662 0.79917281 0.09333455 0.94107301 0.91912403] (rank 0)\n",
      "Simulator returns exception for parameter values: [0.2946672  0.80017064 0.05227148 0.80732483 0.90860017] (rank 0)\n",
      "Simulator returns exception for parameter values: [0.2828926  0.79793094 0.01071619 0.45990296 1.02417125] (rank 0)\n",
      "Simulator returns exception for parameter values: [0.30415044 0.80211075 0.0258607  0.62781665 0.9348534 ] (rank 0)\n",
      "Simulator returns exception for parameter values: [0.29731935 0.8001347  0.01628219 0.52928654 0.98102586] (rank 0)\n",
      "Simulator returns exception for parameter values: [0.30757664 0.80252826 0.06224062 0.62950614 1.0209171 ] (rank 0)\n",
      "Simulator returns exception for parameter values: [0.30277208 0.80305027 0.07065294 0.77367176 0.94845466] (rank 0)\n",
      "Simulator returns exception for parameter values: [0.31755121 0.80218089 0.06252871 0.67671876 0.98366502] (rank 0)\n",
      "Simulator returns exception for parameter values: [0.30108869 0.79737536 0.06243278 0.75099616 0.9707586 ] (rank 0)\n",
      "Simulator returns exception for parameter values: [0.30025502 0.79878308 0.05241049 0.72689669 0.95236858] (rank 0)\n",
      "Simulator returns exception for parameter values: [0.29614743 0.7994704  0.04848113 0.64009264 0.98737006] (rank 0)\n",
      "Simulator returns exception for parameter values: [0.31441934 0.80286698 0.07637583 0.77511805 0.9663899 ] (rank 0)\n",
      "Simulator returns exception for parameter values: [0.28858862 0.79307332 0.06748726 0.77689077 0.98184281] (rank 0)\n",
      "Simulator returns exception for parameter values: [0.30145335 0.80252135 0.08988643 0.92920757 0.91821934] (rank 0)\n",
      "Simulator returns exception for parameter values: [0.2929428  0.79877388 0.03909032 0.78818598 0.88840523] (rank 0)\n",
      "Simulator returns exception for parameter values: [0.31494489 0.80161872 0.03636428 0.57128745 0.98640649] (rank 0)\n",
      "Simulator returns exception for parameter values: [0.27614452 0.79687524 0.04172452 0.74734681 0.94358413] (rank 0)\n",
      "Simulator returns exception for parameter values: [0.29116258 0.79613713 0.04828079 0.75966798 0.9404096 ] (rank 0)\n",
      "Simulator returns exception for parameter values: [0.29787366 0.79685894 0.03081102 0.70916827 0.91759899] (rank 0)\n",
      "Simulator returns exception for parameter values: [0.30474875 0.80189543 0.06058006 0.77052293 0.94140871] (rank 0)\n",
      "Simulator returns exception for parameter values: [0.29616348 0.80031178 0.03589922 0.62803301 0.97006346] (rank 0)\n",
      "Simulator returns exception for parameter values: [0.31859149 0.80617155 0.04635325 0.62266721 0.95871548] (rank 0)\n",
      "Simulator returns exception for parameter values: [0.28458583 0.80012539 0.01033796 0.51984542 0.98110005] (rank 0)\n",
      "Simulator returns exception for parameter values: [0.30946938 0.80181546 0.09539468 0.96375699 0.90626222] (rank 0)\n",
      "Simulator returns exception for parameter values: [0.30040095 0.79809248 0.07545735 0.7757991  0.98268031] (rank 0)\n",
      "Simulator returns exception for parameter values: [0.29260705 0.79843614 0.04253845 0.73475423 0.92253774] (rank 0)\n",
      "Simulator returns exception for parameter values: [0.29722192 0.80292867 0.0351067  0.65940923 0.92664378] (rank 0)\n",
      "Simulator returns exception for parameter values: [0.32113211 0.80428944 0.03474766 0.47168714 1.0365524 ] (rank 0)\n",
      "Simulator returns exception for parameter values: [0.2988724  0.79701391 0.06427724 0.67068875 1.01564578] (rank 0)\n",
      "Simulator returns exception for parameter values: [0.26885007 0.79115775 0.0363853  0.6598542  0.9902024 ] (rank 0)\n",
      "Simulator returns exception for parameter values: [0.29788973 0.79844871 0.0990647  0.94090166 0.94751648] (rank 0)\n",
      "Simulator returns exception for parameter values: [0.30223602 0.8037223  0.07142983 0.69210883 0.99154052] (rank 0)\n",
      "Simulator returns exception for parameter values: [0.30986896 0.80668598 0.03656627 0.6393892  0.92188889] (rank 0)\n",
      "Simulator returns exception for parameter values: [0.2996221  0.79282089 0.0708819  0.75111189 1.01254962] (rank 0)\n",
      "Simulator returns exception for parameter values: [0.29502764 0.79895673 0.0769071  0.97289358 0.86757239] (rank 0)\n",
      "Simulator returns exception for parameter values: [0.29884166 0.8023951  0.04408037 0.72628419 0.91447594] (rank 0)\n",
      "Simulator returns exception for parameter values: [0.29684791 0.8008484  0.08385633 0.84008344 0.96224748] (rank 0)\n",
      "Simulator returns exception for parameter values: [0.28931581 0.79369403 0.01960045 0.70004949 0.91772576] (rank 0)\n",
      "Simulator returns exception for parameter values: [0.31586718 0.80127321 0.05142927 0.62375422 0.9940957 ] (rank 0)\n",
      "Simulator returns exception for parameter values: [0.27227996 0.79240471 0.01928212 0.52340288 1.03276515] (rank 0)\n",
      "Simulator returns exception for parameter values: [0.27877373 0.79747949 0.07958408 0.87957452 0.94046296] (rank 0)\n",
      "Simulator returns exception for parameter values: [0.2954764  0.79697703 0.07693775 0.96274268 0.89069813] (rank 0)\n",
      "Simulator returns exception for parameter values: [0.28391712 0.79981649 0.01197483 0.53500206 0.97975495] (rank 0)\n",
      "Simulator returns exception for parameter values: [0.30646023 0.80379937 0.0637789  0.73375094 0.95411166] (rank 0)\n",
      "Simulator returns exception for parameter values: [0.3021803  0.80203294 0.05639585 0.6768725  0.98550311] (rank 0)\n",
      "Simulator returns exception for parameter values: [0.31609334 0.80090629 0.02249817 0.5479335  0.96153094] (rank 0)\n",
      "Simulator returns exception for parameter values: [0.31259523 0.80063279 0.00968694 0.56846973 0.92040848] (rank 0)\n",
      "Simulator returns exception for parameter values: [0.29510808 0.80140892 0.08638433 0.89255488 0.93885874] (rank 0)\n",
      "Simulator returns exception for parameter values: [0.30697975 0.80327922 0.07513229 0.82207575 0.93801926] (rank 0)\n",
      "Simulator returns exception for parameter values: [0.29113088 0.80315136 0.04231051 0.73316207 0.89912838] (rank 0)\n",
      "Simulator returns exception for parameter values: [0.29385261 0.8017384  0.04919974 0.66705031 0.97470725] (rank 0)\n",
      "Simulator returns exception for parameter values: [0.32140841 0.79824838 0.0642432  0.61319417 1.0286832 ] (rank 0)\n",
      "Simulator returns exception for parameter values: [0.31197885 0.80047521 0.04914409 0.76067909 0.9310394 ] (rank 0)\n",
      "Simulator returns exception for parameter values: [0.29448768 0.79825813 0.05877796 0.67480989 0.99726277] (rank 0)\n",
      "Simulator returns exception for parameter values: [0.29900359 0.79843819 0.04658312 0.75749163 0.92548822] (rank 0)\n",
      "Simulator returns exception for parameter values: [0.31225327 0.80229088 0.05254499 0.71359737 0.93082799] (rank 0)\n",
      "Simulator returns exception for parameter values: [0.29787841 0.79586399 0.04455537 0.79929457 0.90285967] (rank 0)\n",
      "Simulator returns exception for parameter values: [0.30391246 0.80007566 0.03518817 0.42727988 1.06751659] (rank 0)\n",
      "Simulator returns exception for parameter values: [0.31875604 0.79651922 0.04116014 0.51048676 1.04701366] (rank 0)\n",
      "Simulator returns exception for parameter values: [0.31238756 0.79980319 0.04792528 0.60632666 1.00656622] (rank 0)\n",
      "Simulator returns exception for parameter values: [0.29393931 0.79868154 0.00177867 0.53037839 0.9393254 ] (rank 0)\n",
      "Simulator returns exception for parameter values: [0.32318129 0.80453535 0.05128079 0.55264776 1.00487695] (rank 0)\n",
      "Simulator returns exception for parameter values: [0.28197339 0.79414592 0.05693322 0.73524621 0.99732127] (rank 0)\n",
      "Simulator returns exception for parameter values: [0.28650227 0.79993157 0.08638964 0.95398738 0.92245234] (rank 0)\n",
      "Simulator returns exception for parameter values: [0.29942566 0.80022324 0.02417022 0.66377547 0.90863955] (rank 0)\n",
      "Simulator returns exception for parameter values: [0.29877083 0.80495506 0.06093698 0.72294146 0.95502459] (rank 0)\n",
      "Simulator returns exception for parameter values: [0.30535962 0.7976539  0.04626683 0.5459314  1.04387593] (rank 0)\n",
      "Simulator returns exception for parameter values: [0.28351068 0.79875995 0.01575953 0.55554914 0.9668511 ] (rank 0)\n",
      "Simulator returns exception for parameter values: [0.30266755 0.79579709 0.05967221 0.77237002 0.94542035] (rank 0)\n",
      "Simulator returns exception for parameter values: [0.29880601 0.8027922  0.02513918 0.65094994 0.92558092] (rank 0)\n",
      "Simulator returns exception for parameter values: [0.30732367 0.79751213 0.00597407 0.64630961 0.89226679] (rank 0)\n",
      "Simulator returns exception for parameter values: [0.29854409 0.7981756  0.03329116 0.73356356 0.90151725] (rank 0)\n",
      "Simulator returns exception for parameter values: [0.31511303 0.81086185 0.03044838 0.59135582 0.93847773] (rank 0)\n",
      "Simulator returns exception for parameter values: [0.3021439  0.80592084 0.04830859 0.60863812 0.9845951 ] (rank 0)\n",
      "Simulator returns exception for parameter values: [0.29156844 0.80021603 0.0183735  0.67070917 0.91118049] (rank 0)\n",
      "Simulator returns exception for parameter values: [0.31287175 0.79541611 0.07305882 0.69645739 1.02846312] (rank 0)\n",
      "Simulator returns exception for parameter values: [0.30287568 0.79733587 0.05321817 0.51593657 1.08093221] (rank 0)\n",
      "Simulator returns exception for parameter values: [0.31162655 0.80796635 0.01312357 0.46767115 0.96907869] (rank 0)\n",
      "Simulator returns exception for parameter values: [0.29149268 0.79556867 0.07456648 0.97130013 0.88733947] (rank 0)\n",
      "Simulator returns exception for parameter values: [0.29852967 0.7956691  0.04710134 0.71434945 0.96697521] (rank 0)\n",
      "Simulator returns exception for parameter values: [0.30045222 0.7976612  0.00987489 0.64922987 0.91245674] (rank 0)\n",
      "Simulator returns exception for parameter values: [0.29192204 0.79215556 0.02593939 0.44513859 1.09193899] (rank 0)\n",
      "Simulator returns exception for parameter values: [0.29457438 0.79705763 0.03220164 0.69275127 0.93384847] (rank 0)\n",
      "Simulator returns exception for parameter values: [0.3041177  0.79909236 0.0675816  0.66447037 1.03093946] (rank 0)\n",
      "Simulator returns exception for parameter values: [0.28501635 0.79864744 0.07045527 0.92688794 0.88995995] (rank 0)\n",
      "Simulator returns exception for parameter values: [0.30987873 0.80342188 0.02908906 0.49865301 1.01205972] (rank 0)\n",
      "Simulator returns exception for parameter values: [0.29864572 0.79932851 0.03510442 0.56693531 1.01015931] (rank 0)\n",
      "Simulator returns exception for parameter values: [0.29806004 0.7991993  0.060257   0.71636412 0.98914975] (rank 0)\n",
      "Simulator returns exception for parameter values: [0.27626522 0.79706973 0.04747745 0.6018068  1.03172508] (rank 0)\n",
      "Simulator returns exception for parameter values: [0.30092593 0.80080031 0.05062686 0.68963533 0.97446913] (rank 0)\n",
      "Simulator returns exception for parameter values: [0.2851873  0.80340452 0.00451152 0.52155301 0.95253032] (rank 0)\n",
      "Simulator returns exception for parameter values: [0.30267808 0.80010714 0.05677871 0.7854135  0.91860929] (rank 0)\n",
      "Simulator returns exception for parameter values: [0.30151552 0.79692151 0.01313611 0.46235129 1.02594132] (rank 0)\n",
      "Simulator returns exception for parameter values: [0.30682702 0.80285606 0.00207924 0.57587231 0.90481084] (rank 0)\n",
      "Simulator returns exception for parameter values: [0.30999634 0.80210537 0.04119441 0.58627923 0.99142064] (rank 0)\n",
      "Simulator returns exception for parameter values: [0.31731463 0.79912009 0.0352716  0.40903702 1.08718893] (rank 0)\n",
      "Simulator returns exception for parameter values: [0.30800885 0.80105076 0.04449956 0.78950064 0.89843963] (rank 0)\n",
      "Simulator returns exception for parameter values: [0.28829345 0.79051907 0.0132122  0.70421372 0.91928958] (rank 0)\n",
      "Simulator returns exception for parameter values: [0.29519241 0.80341554 0.00536331 0.50427006 0.95772562] (rank 0)\n",
      "Simulator returns exception for parameter values: [0.30126912 0.79845472 0.07905695 0.83211621 0.96538021] (rank 0)\n",
      "Simulator returns exception for parameter values: [0.30172582 0.79896712 0.08115549 0.92813832 0.90707983] (rank 0)\n",
      "Simulator returns exception for parameter values: [0.30961792 0.80055672 0.02654553 0.50376228 1.00849388] (rank 0)\n",
      "Simulator returns exception for parameter values: [0.3139463  0.80088659 0.03405712 0.76912665 0.86550168] (rank 0)\n",
      "Simulator returns exception for parameter values: [0.28299811 0.80200862 0.03314865 0.65258332 0.93887326] (rank 0)\n",
      "Simulator returns exception for parameter values: [0.28951958 0.79890557 0.04816799 0.65518913 0.98777327] (rank 0)\n",
      "Simulator returns exception for parameter values: [0.26829613 0.80197619 0.00975715 0.57453442 0.95840645] (rank 0)\n",
      "Simulator returns exception for parameter values: [0.30181762 0.80350758 0.07622491 0.9895346  0.84450018] (rank 0)\n",
      "Simulator returns exception for parameter values: [0.31103273 0.79590148 0.06395493 0.83533327 0.91782889] (rank 0)\n",
      "Simulator returns exception for parameter values: [0.29097767 0.79891738 0.09448628 0.88078345 0.97401635] (rank 0)\n",
      "Simulator returns exception for parameter values: [0.28978286 0.80675198 0.02215439 0.4691899  0.99938313] (rank 0)\n",
      "Simulator returns exception for parameter values: [0.29384101 0.79563331 0.01849755 0.70121794 0.91364548] (rank 0)\n",
      "Simulator returns exception for parameter values: [0.29802791 0.79507233 0.03364413 0.64832331 0.97084016] (rank 0)\n",
      "Simulator returns exception for parameter values: [0.29123474 0.79721907 0.02248531 0.60569964 0.97571244] (rank 0)\n",
      "Simulator returns exception for parameter values: [0.310001   0.80004357 0.02546585 0.64126153 0.9224585 ] (rank 0)\n",
      "Simulator returns exception for parameter values: [0.30878662 0.80314273 0.02133368 0.75425552 0.84041756] (rank 0)\n",
      "Simulator returns exception for parameter values: [0.30604688 0.80320351 0.08528593 0.91651594 0.91747168] (rank 0)\n",
      "Simulator returns exception for parameter values: [0.29148467 0.79540047 0.07547363 0.71163613 1.03740569] (rank 0)\n",
      "Simulator returns exception for parameter values: [0.30170749 0.80161598 0.07628594 0.97625903 0.84683322] (rank 0)\n",
      "Simulator returns exception for parameter values: [0.29706766 0.80123009 0.04071242 0.57825037 1.00322232] (rank 0)\n",
      "Simulator returns exception for parameter values: [0.30186808 0.80441618 0.01519208 0.5564128  0.9334268 ] (rank 0)\n",
      "Simulator returns exception for parameter values: [0.30162962 0.79804153 0.02398247 0.57890392 0.97741722] (rank 0)\n",
      "Simulator returns exception for parameter values: [0.30874495 0.8052967  0.01457722 0.41777663 1.00600188] (rank 0)\n",
      "Simulator returns exception for parameter values: [0.31332104 0.80634161 0.02651894 0.52099083 0.97788597] (rank 0)\n",
      "Simulator returns exception for parameter values: [0.30599847 0.80101735 0.07922842 0.85367668 0.94240488] (rank 0)\n",
      "Simulator returns exception for parameter values: [0.28681386 0.79939984 0.05846148 0.91808521 0.88375807] (rank 0)\n",
      "Simulator returns exception for parameter values: [0.27989506 0.79682367 0.07447064 0.93194511 0.91431159] (rank 0)\n",
      "Simulator returns exception for parameter values: [0.29209438 0.79967552 0.05820046 0.73233075 0.97891933] (rank 0)\n",
      "Simulator returns exception for parameter values: [0.2863692  0.79744291 0.03681149 0.53821461 1.03282318] (rank 0)\n",
      "Simulator returns exception for parameter values: [0.30711175 0.80667666 0.03625106 0.55621205 0.97589876] (rank 0)\n",
      "Simulator returns exception for parameter values: [0.29256997 0.80256503 0.02565845 0.66564964 0.9244541 ] (rank 0)\n",
      "Simulator returns exception for parameter values: [0.28840658 0.79397668 0.0830805  0.89566478 0.95926969] (rank 0)\n",
      "Simulator returns exception for parameter values: [0.31033453 0.79840553 0.08299237 0.91701904 0.91129997] (rank 0)\n",
      "Simulator returns exception for parameter values: [0.3170564  0.80289324 0.06160885 0.62940335 1.01791721] (rank 0)\n",
      "Simulator returns exception for parameter values: [0.29971605 0.79822717 0.09131469 0.89554992 0.95690504] (rank 0)\n",
      "Simulator returns exception for parameter values: [0.30438697 0.80228296 0.01179725 0.40753774 1.02590835] (rank 0)\n",
      "Simulator returns exception for parameter values: [0.29769275 0.80570125 0.0109433  0.44196136 0.99295042] (rank 0)\n",
      "Simulator returns exception for parameter values: [0.29663879 0.7978611  0.07079324 0.81960952 0.94214378] (rank 0)\n",
      "Simulator returns exception for parameter values: [0.30421438 0.80034271 0.02235602 0.41796097 1.04985823] (rank 0)\n",
      "Simulator returns exception for parameter values: [0.28953038 0.79941851 0.0815881  0.88204012 0.92965444] (rank 0)\n",
      "Simulator returns exception for parameter values: [0.2955954  0.79832636 0.05477004 0.7028432  0.97504262] (rank 0)\n",
      "Simulator returns exception for parameter values: [0.31418239 0.80277516 0.06227235 0.76701357 0.92130754] (rank 0)\n",
      "Simulator returns exception for parameter values: [0.2971495  0.79926135 0.06136044 0.80431567 0.92063084] (rank 0)\n",
      "Simulator returns exception for parameter values: [0.29729007 0.79575018 0.05825432 0.83591939 0.92181779] (rank 0)\n",
      "Simulator returns exception for parameter values: [0.29667155 0.79849536 0.05165708 0.78055258 0.92078704] (rank 0)\n",
      "Simulator returns exception for parameter values: [0.30241826 0.80020459 0.02635477 0.5368476  0.9956618 ] (rank 0)\n",
      "Simulator returns exception for parameter values: [0.30728219 0.80523675 0.05526515 0.71650998 0.94322883] (rank 0)\n",
      "Simulator returns exception for parameter values: [0.30779523 0.8028348  0.0274463  0.59959464 0.95398254] (rank 0)\n",
      "Simulator returns exception for parameter values: [0.3107109  0.80035638 0.07571895 0.71312845 1.01267527] (rank 0)\n",
      "Simulator returns exception for parameter values: [0.29461449 0.80001494 0.06991588 0.84706187 0.92656551] (rank 0)\n",
      "Simulator returns exception for parameter values: [0.31693112 0.80612331 0.01839299 0.41476629 1.01574366] (rank 0)\n",
      "Simulator returns exception for parameter values: [0.2879299  0.79968994 0.03678466 0.72221994 0.92235792] (rank 0)\n",
      "Simulator returns exception for parameter values: [0.29454019 0.7924084  0.03244167 0.42277956 1.09603933] (rank 0)\n",
      "Simulator returns exception for parameter values: [0.29484657 0.80487861 0.00721066 0.42343494 0.99499646] (rank 0)\n",
      "Simulator returns exception for parameter values: [0.28516233 0.79808648 0.0170985  0.58996158 0.94900577] (rank 0)\n",
      "Simulator returns exception for parameter values: [0.30170304 0.79622409 0.04372502 0.69391109 0.96195129] (rank 0)\n",
      "Simulator returns exception for parameter values: [0.29722458 0.79730508 0.02641824 0.49131292 1.04219885] (rank 0)\n",
      "Simulator returns exception for parameter values: [0.31766362 0.80133424 0.02764351 0.55849331 0.98382648] (rank 0)\n",
      "Simulator returns exception for parameter values: [0.28945386 0.79202362 0.07628445 0.88151152 0.94406418] (rank 0)\n",
      "Simulator returns exception for parameter values: [0.31515499 0.80180801 0.05065264 0.60311386 1.00467857] (rank 0)\n",
      "Simulator returns exception for parameter values: [0.29404855 0.79419393 0.0246164  0.52876862 1.01339507] (rank 0)\n",
      "Simulator returns exception for parameter values: [0.31109888 0.80193711 0.01257992 0.42677271 1.01461923] (rank 0)\n"
     ]
    },
    {
     "name": "stdout",
     "output_type": "stream",
     "text": [
      "Simulator returns exception for parameter values: [0.32089029 0.80050061 0.03091271 0.48088615 1.02361092] (rank 0)\n",
      "Simulator returns exception for parameter values: [0.29463934 0.80288779 0.0745027  0.79444696 0.94634395] (rank 0)\n",
      "Simulator returns exception for parameter values: [0.28610428 0.79905347 0.01444408 0.46332676 1.02861231] (rank 0)\n",
      "Simulator returns exception for parameter values: [0.28938485 0.80064799 0.02505143 0.68381904 0.90649569] (rank 0)\n",
      "Simulator returns exception for parameter values: [0.2910748  0.80370439 0.0373608  0.58307245 0.99017271] (rank 0)\n",
      "Simulator returns exception for parameter values: [0.30574953 0.80031772 0.06724061 0.87568881 0.91000474] (rank 0)\n",
      "Simulator returns exception for parameter values: [0.28528027 0.80032638 0.01737852 0.56788463 0.96721033] (rank 0)\n",
      "Simulator returns exception for parameter values: [0.29632399 0.79624523 0.03219268 0.74204335 0.90630671] (rank 0)\n",
      "Simulator returns exception for parameter values: [0.30694455 0.79617633 0.02290436 0.58086425 0.97560808] (rank 0)\n",
      "Simulator returns exception for parameter values: [0.28804322 0.80032936 0.00515678 0.47304465 0.98315779] (rank 0)\n",
      "Simulator returns exception for parameter values: [0.27503442 0.80284887 0.09056912 0.88904755 0.95398002] (rank 0)\n",
      "Simulator returns exception for parameter values: [0.31425502 0.79553868 0.05461737 0.60500786 1.03631083] (rank 0)\n",
      "Simulator returns exception for parameter values: [0.29689557 0.80182224 0.05293458 0.76667221 0.92285725] (rank 0)\n",
      "Simulator returns exception for parameter values: [0.29021443 0.79851985 0.04178787 0.74264534 0.92101748] (rank 0)\n",
      "Simulator returns exception for parameter values: [0.28135269 0.7970737  0.04211685 0.88157038 0.85926467] (rank 0)\n",
      "Simulator returns exception for parameter values: [0.29448529 0.80195747 0.01536803 0.48029542 0.99450665] (rank 0)\n",
      "Simulator returns exception for parameter values: [0.28823678 0.80083483 0.01633919 0.4101251  1.04852537] (rank 0)\n",
      "Simulator returns exception for parameter values: [0.29767171 0.80271167 0.04499701 0.58847289 0.99727725] (rank 0)\n",
      "Simulator returns exception for parameter values: [0.28950387 0.79935828 0.07265922 0.8742799  0.92364958] (rank 0)\n",
      "Simulator returns exception for parameter values: [0.29119278 0.80151296 0.0671139  0.73617194 0.9885616 ] (rank 0)\n",
      "Simulator returns exception for parameter values: [0.31951916 0.7997245  0.04073348 0.56061246 1.00570186] (rank 0)\n",
      "Simulator returns exception for parameter values: [0.29995403 0.80509864 0.03817646 0.64821274 0.94939529] (rank 0)\n",
      "Simulator returns exception for parameter values: [0.28396941 0.79773185 0.05752606 0.74435872 0.95668612] (rank 0)\n",
      "Simulator returns exception for parameter values: [0.29664517 0.80140084 0.09925278 0.76723001 1.04169357] (rank 0)\n",
      "Simulator returns exception for parameter values: [0.29603928 0.80536316 0.0230392  0.44252171 1.03480732] (rank 0)\n",
      "Simulator returns exception for parameter values: [0.32764811 0.80714629 0.09160488 0.95917482 0.87629272] (rank 0)\n",
      "Simulator returns exception for parameter values: [0.31103517 0.79921781 0.04056391 0.78923576 0.88164667] (rank 0)\n",
      "Simulator returns exception for parameter values: [0.29952519 0.80538656 0.02882321 0.4965432  1.01063254] (rank 0)\n",
      "Simulator returns exception for parameter values: [0.30446765 0.80035664 0.01543881 0.40559887 1.03675397] (rank 0)\n",
      "Simulator returns exception for parameter values: [0.29929997 0.79882046 0.05704436 0.82244653 0.91061569] (rank 0)\n",
      "Simulator returns exception for parameter values: [0.29206452 0.79971657 0.07919063 0.89492701 0.91262446] (rank 0)\n",
      "Simulator returns exception for parameter values: [0.28236636 0.8014274  0.0682688  0.90479066 0.88879452] (rank 0)\n",
      "Simulator returns exception for parameter values: [0.31031903 0.80923893 0.06898348 0.75847124 0.93791393] (rank 0)\n",
      "Simulator returns exception for parameter values: [0.304967   0.79758543 0.06704632 0.74507855 0.98706399] (rank 0)\n",
      "Simulator returns exception for parameter values: [0.30322384 0.79447637 0.07501144 0.85953247 0.94865067] (rank 0)\n",
      "Simulator returns exception for parameter values: [0.29457958 0.7994025  0.02697892 0.5164896  1.01751245] (rank 0)\n",
      "Simulator returns exception for parameter values: [0.29957206 0.79896128 0.06354061 0.73545873 0.97691214] (rank 0)\n",
      "Simulator returns exception for parameter values: [0.30694997 0.80167209 0.06984101 0.88473394 0.88063349] (rank 0)\n",
      "Simulator returns exception for parameter values: [0.28417249 0.80248164 0.01804668 0.77832619 0.84213237] (rank 0)\n",
      "Simulator returns exception for parameter values: [0.28195493 0.79506371 0.04539495 0.79334051 0.93496135] (rank 0)\n",
      "Simulator returns exception for parameter values: [0.30557076 0.80019455 0.08271314 0.95936916 0.88430449] (rank 0)\n",
      "Simulator returns exception for parameter values: [0.30174771 0.79847377 0.05616155 0.69269529 0.97685114] (rank 0)\n",
      "Simulator returns exception for parameter values: [0.30282429 0.80488251 0.05605427 0.55640727 1.0363072 ] (rank 0)\n",
      "Simulator returns exception for parameter values: [0.32557554 0.80729385 0.07516714 0.85329948 0.88968173] (rank 0)\n",
      "Simulator returns exception for parameter values: [0.30644372 0.80257347 0.03566706 0.62828284 0.95433883] (rank 0)\n",
      "Simulator returns exception for parameter values: [0.27507399 0.79781478 0.08704642 0.89066485 0.96269781] (rank 0)\n",
      "Simulator returns exception for parameter values: [0.30477007 0.80509223 0.05879351 0.61451335 1.00420129] (rank 0)\n",
      "Simulator returns exception for parameter values: [0.30761722 0.79171334 0.09895139 0.9755097  0.9378093 ] (rank 0)\n",
      "Simulator returns exception for parameter values: [0.28542698 0.79765038 0.05440892 0.95040271 0.85553188] (rank 0)\n",
      "Simulator returns exception for parameter values: [0.30357613 0.795849   0.09551648 0.90564085 0.96406437] (rank 0)\n",
      "Simulator returns exception for parameter values: [0.29674368 0.79901995 0.09190507 0.96665995 0.91145399] (rank 0)\n",
      "Simulator returns exception for parameter values: [0.27571604 0.79872209 0.0112287  0.70515168 0.88618336] (rank 0)\n",
      "Simulator returns exception for parameter values: [0.30080763 0.79705482 0.06084178 0.71260078 0.99083691] (rank 0)\n",
      "Simulator returns exception for parameter values: [0.30042329 0.80149289 0.06083704 0.75655738 0.95081862] (rank 0)\n",
      "Simulator returns exception for parameter values: [0.30760017 0.79813308 0.01782479 0.42893192 1.03479019] (rank 0)\n",
      "Simulator returns exception for parameter values: [0.29792882 0.8016286  0.02069684 0.41902298 1.05193957] (rank 0)\n",
      "Simulator returns exception for parameter values: [0.31878569 0.80289981 0.02893713 0.49234944 1.00241239] (rank 0)\n",
      "Simulator returns exception for parameter values: [0.29685968 0.80569413 0.08759958 0.97864501 0.86468497] (rank 0)\n",
      "Simulator returns exception for parameter values: [0.29194404 0.79711257 0.07569757 0.91982232 0.90775761] (rank 0)\n",
      "Simulator returns exception for parameter values: [0.30467032 0.79250676 0.03021646 0.66001811 0.95306736] (rank 0)\n",
      "Simulator returns exception for parameter values: [0.30249134 0.80104895 0.0716868  0.90359094 0.89307134] (rank 0)\n",
      "Simulator returns exception for parameter values: [0.30522698 0.80098338 0.01981756 0.47052552 1.01089271] (rank 0)\n",
      "Simulator returns exception for parameter values: [0.2721022  0.79440577 0.021291   0.52198622 1.03402223] (rank 0)\n",
      "Simulator returns exception for parameter values: [0.30262164 0.79535786 0.07660249 0.94509591 0.90815074] (rank 0)\n",
      "Simulator returns exception for parameter values: [0.29788449 0.79904222 0.0343482  0.69441105 0.94459046] (rank 0)\n",
      "Simulator returns exception for parameter values: [0.30417689 0.80193546 0.00642604 0.43830705 1.00532656] (rank 0)\n",
      "Simulator returns exception for parameter values: [0.30845017 0.80138484 0.01251497 0.46648953 0.99178278] (rank 0)\n",
      "Simulator returns exception for parameter values: [0.31404126 0.80283065 0.06271066 0.82231827 0.8956518 ] (rank 0)\n",
      "Simulator returns exception for parameter values: [0.30649162 0.79957602 0.07796073 0.77981957 0.97800122] (rank 0)\n",
      "Simulator returns exception for parameter values: [0.3011696  0.79596907 0.08424755 0.82539428 0.99779291] (rank 0)\n",
      "Simulator returns exception for parameter values: [0.28740715 0.79854255 0.0327764  0.5043335  1.03059698] (rank 0)\n",
      "Simulator returns exception for parameter values: [0.28664483 0.79863551 0.06606914 0.93479442 0.87167205] (rank 0)\n",
      "Simulator returns exception for parameter values: [0.30656111 0.79902898 0.03708786 0.53174264 1.01058049] (rank 0)\n",
      "Simulator returns exception for parameter values: [0.28781396 0.80193598 0.08675301 0.89796679 0.93600057] (rank 0)\n",
      "Simulator returns exception for parameter values: [0.28508777 0.79254924 0.05993341 0.81451799 0.95009433] (rank 0)\n",
      "Simulator returns exception for parameter values: [0.28706532 0.79346125 0.03183285 0.69214878 0.95641143] (rank 0)\n",
      "Simulator returns exception for parameter values: [0.29174342 0.79663851 0.05013608 0.79489885 0.94249408] (rank 0)\n",
      "Simulator returns exception for parameter values: [0.30006577 0.80531287 0.06636357 0.84662292 0.89056233] (rank 0)\n",
      "Simulator returns exception for parameter values: [0.31044324 0.8070456  0.02936954 0.53913151 0.96734208] (rank 0)\n",
      "Simulator returns exception for parameter values: [0.30259293 0.80379909 0.02560732 0.58642719 0.95220932] (rank 0)\n",
      "Simulator returns exception for parameter values: [0.3058871  0.80583068 0.08006222 0.94954873 0.88101929] (rank 0)\n",
      "Simulator returns exception for parameter values: [0.31189191 0.79960621 0.03318479 0.61841404 0.95718724] (rank 0)\n",
      "Simulator returns exception for parameter values: [0.32168065 0.79575278 0.07793212 0.73300375 1.0198813 ] (rank 0)\n",
      "Simulator returns exception for parameter values: [0.29445971 0.79906547 0.05302425 0.65129471 0.98726257] (rank 0)\n",
      "Simulator returns exception for parameter values: [0.29421067 0.79637785 0.00876335 0.45812096 1.01363143] (rank 0)\n",
      "Simulator returns exception for parameter values: [0.31592977 0.79773709 0.07225583 0.6905461  1.02772649] (rank 0)\n",
      "Simulator returns exception for parameter values: [0.31298409 0.80282068 0.08865111 0.99819879 0.85863477] (rank 0)\n",
      "Simulator returns exception for parameter values: [0.32953693 0.80294845 0.07483724 0.76047109 0.95725037] (rank 0)\n",
      "Simulator returns exception for parameter values: [0.31705733 0.7977284  0.06165025 0.77271929 0.95630169] (rank 0)\n",
      "Simulator returns exception for parameter values: [0.29204668 0.7963614  0.08600142 0.96108415 0.90696384] (rank 0)\n",
      "Simulator returns exception for parameter values: [0.3122371  0.79667383 0.07509927 0.88932512 0.91819851] (rank 0)\n",
      "Simulator returns exception for parameter values: [0.30069883 0.80595637 0.03391442 0.68555089 0.90086813] (rank 0)\n",
      "Simulator returns exception for parameter values: [0.30841226 0.80113759 0.09385217 0.78298585 1.0067895 ] (rank 0)\n",
      "Simulator returns exception for parameter values: [0.30345808 0.80599732 0.04260865 0.76907216 0.88212949] (rank 0)\n",
      "Simulator returns exception for parameter values: [0.28959769 0.79462461 0.05150629 0.75222058 0.96280172] (rank 0)\n",
      "Simulator returns exception for parameter values: [0.30403632 0.79864907 0.04455598 0.83125654 0.86732483] (rank 0)\n",
      "Simulator returns exception for parameter values: [0.29840456 0.79962482 0.00525912 0.42706974 1.0162726 ] (rank 0)\n",
      "Simulator returns exception for parameter values: [0.29903185 0.79792816 0.0703397  0.97859862 0.87872337] (rank 0)\n",
      "Simulator returns exception for parameter values: [0.30912298 0.79882428 0.0211451  0.67840053 0.9047458 ] (rank 0)\n",
      "Simulator returns exception for parameter values: [0.29401338 0.79899023 0.09196796 0.96261921 0.90981507] (rank 0)\n",
      "Simulator returns exception for parameter values: [0.28955345 0.80301771 0.05913164 0.62305746 1.02324507] (rank 0)\n",
      "Simulator returns exception for parameter values: [0.30306125 0.80023611 0.04254301 0.65678996 0.96134571] (rank 0)\n",
      "Simulator returns exception for parameter values: [0.30930626 0.79860859 0.08920923 0.85829005 0.96202088] (rank 0)\n",
      "Simulator returns exception for parameter values: [0.30241192 0.80191254 0.04943473 0.73239498 0.93740048] (rank 0)\n",
      "Simulator returns exception for parameter values: [0.29414465 0.80690692 0.05763144 0.74692096 0.95108229] (rank 0)\n",
      "Simulator returns exception for parameter values: [0.33266153 0.80539784 0.03154574 0.5872218  0.93777182] (rank 0)\n",
      "Simulator returns exception for parameter values: [0.28944282 0.79854627 0.05224795 0.76774055 0.94479796] (rank 0)\n",
      "Simulator returns exception for parameter values: [0.31891863 0.80122395 0.0739803  0.79074097 0.95213949] (rank 0)\n",
      "Simulator returns exception for parameter values: [0.29876058 0.80138994 0.00530474 0.4562735  0.99360601] (rank 0)\n",
      "Simulator returns exception for parameter values: [0.29256475 0.79740293 0.02923824 0.73605267 0.91468849] (rank 0)\n",
      "Simulator returns exception for parameter values: [0.28293834 0.79792406 0.06326801 0.83795033 0.92163403] (rank 0)\n",
      "Simulator returns exception for parameter values: [0.2929692  0.79566345 0.07067809 0.80348695 0.97287496] (rank 0)\n",
      "Simulator returns exception for parameter values: [0.2945162  0.80409738 0.03083326 0.52915581 1.01207125] (rank 0)\n",
      "Simulator returns exception for parameter values: [0.29276151 0.79662663 0.08556147 0.91941102 0.94018442] (rank 0)\n",
      "Simulator returns exception for parameter values: [0.31530178 0.80130059 0.06258442 0.79717949 0.91729703] (rank 0)\n",
      "Simulator returns exception for parameter values: [0.31207785 0.80464764 0.03997275 0.66335448 0.92604592] (rank 0)\n",
      "Simulator returns exception for parameter values: [0.29400464 0.79770965 0.05418042 0.79009825 0.93927717] (rank 0)\n",
      "Simulator returns exception for parameter values: [0.30580188 0.80433515 0.06069251 0.6518203  0.99355923] (rank 0)\n",
      "Simulator returns exception for parameter values: [0.30403814 0.7987827  0.08847382 0.79836966 0.99772588] (rank 0)\n",
      "Simulator returns exception for parameter values: [0.29685654 0.80331483 0.0194821  0.61970944 0.92120574] (rank 0)\n",
      "Simulator returns exception for parameter values: [0.30345783 0.80089289 0.06789111 0.77647899 0.94170324] (rank 0)\n",
      "Simulator returns exception for parameter values: [0.30654693 0.79899138 0.05771782 0.87965835 0.87945073] (rank 0)\n",
      "Simulator returns exception for parameter values: [0.27904728 0.7976408  0.01811783 0.50033516 1.01818746] (rank 0)\n",
      "Simulator returns exception for parameter values: [0.29679154 0.79866304 0.05266984 0.64854442 1.00243372] (rank 0)\n",
      "Simulator returns exception for parameter values: [0.30965644 0.80643809 0.04436226 0.64128192 0.95235394] (rank 0)\n",
      "Simulator returns exception for parameter values: [0.31432511 0.7999938  0.01490591 0.53949613 0.95909332] (rank 0)\n",
      "Simulator returns exception for parameter values: [0.2864713  0.79788038 0.07584823 0.93940815 0.90573143] (rank 0)\n",
      "Simulator returns exception for parameter values: [0.27423765 0.79985212 0.01847606 0.55358142 0.99172467] (rank 0)\n",
      "Simulator returns exception for parameter values: [0.3187413  0.80002886 0.00197605 0.43035322 0.98161269] (rank 0)\n",
      "Simulator returns exception for parameter values: [0.29512651 0.79598736 0.05235585 0.80910655 0.92017576] (rank 0)\n",
      "Simulator returns exception for parameter values: [0.28432695 0.78764895 0.06674728 0.93969398 0.91315576] (rank 0)\n",
      "Simulator returns exception for parameter values: [0.3151376  0.80241848 0.03996113 0.65155566 0.95380939] (rank 0)\n",
      "Simulator returns exception for parameter values: [0.29212433 0.80170276 0.00716829 0.62498518 0.89936681] (rank 0)\n",
      "Simulator returns exception for parameter values: [0.3108951  0.80214524 0.0034453  0.40662207 0.99265876] (rank 0)\n",
      "Simulator returns exception for parameter values: [0.29958426 0.79582755 0.08807016 0.85861229 0.96618779] (rank 0)\n",
      "Simulator returns exception for parameter values: [0.32431459 0.80485398 0.04822917 0.56360279 1.00593489] (rank 0)\n",
      "Simulator returns exception for parameter values: [0.29135857 0.80344232 0.02162515 0.57200827 0.93985867] (rank 0)\n",
      "Simulator returns exception for parameter values: [0.29712702 0.80165306 0.049154   0.54821886 1.04513535] (rank 0)\n",
      "Simulator returns exception for parameter values: [0.29550338 0.80235884 0.0347663  0.60686011 0.97176514] (rank 0)\n",
      "Simulator returns exception for parameter values: [0.31858136 0.80559548 0.03297314 0.43949963 1.03419038] (rank 0)\n",
      "Simulator returns exception for parameter values: [0.28705719 0.80016254 0.07682784 0.90360676 0.90605848] (rank 0)\n",
      "Simulator returns exception for parameter values: [0.31689225 0.79571946 0.09755563 0.96258676 0.93521878] (rank 0)\n",
      "Simulator returns exception for parameter values: [0.30322487 0.79800144 0.03021535 0.58182271 0.98983909] (rank 0)\n",
      "Simulator returns exception for parameter values: [0.27694579 0.79601327 0.03658414 0.70315038 0.94975381] (rank 0)\n",
      "Simulator returns exception for parameter values: [0.29443117 0.8028611  0.03280836 0.48089162 1.03168708] (rank 0)\n",
      "Simulator returns exception for parameter values: [0.30256066 0.80031656 0.09198687 0.7417087  1.02298818] (rank 0)\n",
      "Simulator returns exception for parameter values: [0.30772338 0.80025074 0.05263118 0.63658632 1.00726664] (rank 0)\n",
      "Simulator returns exception for parameter values: [0.31025883 0.80388051 0.03864244 0.59477995 0.96773738] (rank 0)\n",
      "Simulator returns exception for parameter values: [0.2900283  0.79904473 0.07669563 0.89834729 0.91951501] (rank 0)\n",
      "Simulator returns exception for parameter values: [0.32282101 0.80185333 0.07161069 0.58858673 1.0537597 ] (rank 0)\n",
      "Simulator returns exception for parameter values: [0.29878996 0.79824166 0.01791159 0.70309757 0.8931297 ] (rank 0)\n",
      "Simulator returns exception for parameter values: [0.29730933 0.79725846 0.00329538 0.44976631 0.99628083] (rank 0)\n",
      "Simulator returns exception for parameter values: [0.2918863  0.8002715  0.02162439 0.55464883 0.97198895] (rank 0)\n",
      "Simulator returns exception for parameter values: [0.29746845 0.79963148 0.07358742 0.86108465 0.92160405] (rank 0)\n",
      "Simulator returns exception for parameter values: [0.30329146 0.79619834 0.0757293  0.77812531 0.99255545] (rank 0)\n",
      "Simulator returns exception for parameter values: [0.28795641 0.80070627 0.05745302 0.80832475 0.92178916] (rank 0)\n",
      "Simulator returns exception for parameter values: [0.28024153 0.80473748 0.00192871 0.58720689 0.90773612] (rank 0)\n",
      "Simulator returns exception for parameter values: [0.29955206 0.80733655 0.09229684 0.97379962 0.8793479 ] (rank 0)\n",
      "Simulator returns exception for parameter values: [0.29521398 0.79803178 0.06060155 0.71028013 0.9933044 ] (rank 0)\n",
      "Simulator returns exception for parameter values: [0.30550356 0.80158714 0.06973549 0.71616279 0.99320336] (rank 0)\n",
      "Simulator returns exception for parameter values: [0.30567323 0.80153065 0.07185181 0.84437396 0.92486912] (rank 0)\n",
      "Simulator returns exception for parameter values: [0.28064147 0.79702576 0.0169255  0.58054888 0.96590519] (rank 0)\n",
      "Simulator returns exception for parameter values: [0.28943934 0.79816961 0.04525581 0.68752167 0.97120353] (rank 0)\n",
      "Simulator returns exception for parameter values: [0.29748778 0.80264877 0.06985649 0.62119374 1.03921906] (rank 0)\n",
      "Simulator returns exception for parameter values: [0.29283944 0.79918026 0.08656512 0.89955885 0.94270981] (rank 0)\n",
      "Simulator returns exception for parameter values: [0.29454376 0.80284051 0.07766388 0.82065449 0.95471776] (rank 0)\n",
      "Simulator returns exception for parameter values: [0.28490458 0.79787374 0.05282638 0.75897127 0.9469757 ] (rank 0)\n",
      "Simulator returns exception for parameter values: [0.31600792 0.79946506 0.07253753 0.8929555  0.89134213] (rank 0)\n",
      "Simulator returns exception for parameter values: [0.30830711 0.80213065 0.0911578  0.93700719 0.89791756] (rank 0)\n",
      "Simulator returns exception for parameter values: [0.2918368  0.80275938 0.00564073 0.41656011 1.01074499] (rank 0)\n",
      "Simulator returns exception for parameter values: [0.29850505 0.80106739 0.08269137 0.85170234 0.94058446] (rank 0)\n",
      "Simulator returns exception for parameter values: [0.28447622 0.80025941 0.01649835 0.68372489 0.89489425] (rank 0)\n",
      "Simulator returns exception for parameter values: [0.28810593 0.79254324 0.06515924 0.66129332 1.04136026] (rank 0)\n",
      "Simulator returns exception for parameter values: [0.30157961 0.80183296 0.04348735 0.57308768 1.01109752] (rank 0)\n",
      "Simulator returns exception for parameter values: [0.29556852 0.80309056 0.0413115  0.67560238 0.94198707] (rank 0)\n",
      "Simulator returns exception for parameter values: [0.30633359 0.79859624 0.03446264 0.46205489 1.0626633 ] (rank 0)\n",
      "Simulator returns exception for parameter values: [0.29581722 0.7992303  0.06042801 0.81284709 0.91998798] (rank 0)\n",
      "Simulator returns exception for parameter values: [0.29673641 0.79790269 0.03534578 0.59579734 0.99859722] (rank 0)\n",
      "Simulator returns exception for parameter values: [0.30841151 0.80244583 0.0418034  0.52295828 1.0288471 ] (rank 0)\n",
      "Simulator returns exception for parameter values: [0.30542793 0.80323747 0.01617359 0.44040399 1.00571816] (rank 0)\n",
      "Simulator returns exception for parameter values: [0.30055414 0.79872489 0.05551819 0.75489011 0.94736408] (rank 0)\n",
      "Simulator returns exception for parameter values: [0.29691821 0.80805008 0.0580504  0.67007997 0.98016687] (rank 0)\n",
      "Simulator returns exception for parameter values: [0.31132751 0.79932497 0.08966617 0.84300152 0.97923871] (rank 0)\n",
      "Simulator returns exception for parameter values: [0.29767379 0.79585171 0.04473389 0.64956351 0.99654047] (rank 0)\n",
      "Simulator returns exception for parameter values: [0.30780221 0.80034899 0.08193003 0.81337942 0.9625038 ] (rank 0)\n",
      "Simulator returns exception for parameter values: [0.28820836 0.79863424 0.05828943 0.77302464 0.95840774] (rank 0)\n",
      "Simulator returns exception for parameter values: [0.28068193 0.79340899 0.01888441 0.57738005 0.99264966] (rank 0)\n",
      "Simulator returns exception for parameter values: [0.32464506 0.80364942 0.02647324 0.46296616 1.01897075] (rank 0)\n",
      "Simulator returns exception for parameter values: [0.29033464 0.80197022 0.07185945 0.80479341 0.95475442] (rank 0)\n",
      "Simulator returns exception for parameter values: [0.32064676 0.80784779 0.02493986 0.47792701 0.9817889 ] (rank 0)\n",
      "Simulator returns exception for parameter values: [0.31289949 0.80254198 0.04359098 0.67620794 0.94787301] (rank 0)\n",
      "Simulator returns exception for parameter values: [0.30213659 0.80502844 0.03606431 0.52308193 1.00590848] (rank 0)\n",
      "Simulator returns exception for parameter values: [0.31489045 0.79811394 0.07096243 0.75986199 0.96416879] (rank 0)\n",
      "Simulator returns exception for parameter values: [0.29259875 0.80172821 0.01986219 0.56911821 0.95483315] (rank 0)\n",
      "Simulator returns exception for parameter values: [0.30038962 0.79898121 0.04612864 0.78940381 0.91084855] (rank 0)\n",
      "Simulator returns exception for parameter values: [0.29837134 0.79979927 0.09543225 0.95572057 0.92464737] (rank 0)\n",
      "Simulator returns exception for parameter values: [0.28939337 0.79656285 0.05169257 0.75834075 0.96244305] (rank 0)\n",
      "Simulator returns exception for parameter values: [0.30732315 0.79745806 0.0516731  0.74245072 0.95047351] (rank 0)\n",
      "Simulator returns exception for parameter values: [0.30397709 0.79749483 0.0790414  0.82807809 0.95929067] (rank 0)\n",
      "Simulator returns exception for parameter values: [2.83626593e-01 7.98514276e-01 7.35998118e-04 4.73533581e-01\n",
      " 9.78850449e-01] (rank 0)\n",
      "Simulator returns exception for parameter values: [0.30031697 0.80504774 0.09970452 0.89140486 0.95679264] (rank 0)\n",
      "Simulator returns exception for parameter values: [0.28179604 0.79813794 0.03073989 0.7046856  0.93050755] (rank 0)\n",
      "Simulator returns exception for parameter values: [0.2995747  0.80303826 0.02641127 0.40928132 1.05399611] (rank 0)\n",
      "Simulator returns exception for parameter values: [0.30324232 0.80305653 0.0135371  0.43111573 1.02611548] (rank 0)\n",
      "Simulator returns exception for parameter values: [0.28257962 0.79216423 0.04383746 0.6598936  1.01436525] (rank 0)\n",
      "Simulator returns exception for parameter values: [0.30147889 0.79984092 0.03641545 0.6476294  0.967133  ] (rank 0)\n",
      "Simulator returns exception for parameter values: [0.30320695 0.80081505 0.06739419 0.67726788 1.01000874] (rank 0)\n",
      "Simulator returns exception for parameter values: [0.30246456 0.79622619 0.06648167 0.84859666 0.92275955] (rank 0)\n",
      "Simulator returns exception for parameter values: [0.30470459 0.79723814 0.0498865  0.76604284 0.921916  ] (rank 0)\n",
      "Simulator returns exception for parameter values: [0.32145143 0.79298749 0.0314967  0.52935889 1.0057755 ] (rank 0)\n",
      "Simulator returns exception for parameter values: [0.28927907 0.79920061 0.02213609 0.49822947 1.02514012] (rank 0)\n",
      "Simulator returns exception for parameter values: [0.30447237 0.79789928 0.00826442 0.51762332 0.97963732] (rank 0)\n",
      "Simulator returns exception for parameter values: [0.29810905 0.8009874  0.02934164 0.72082588 0.90727256] (rank 0)\n",
      "Simulator returns exception for parameter values: [0.29562999 0.79736709 0.05573934 0.7510119  0.96228422] (rank 0)\n",
      "Simulator returns exception for parameter values: [0.31126569 0.79280556 0.09223998 0.89484337 0.97317733] (rank 0)\n",
      "Simulator returns exception for parameter values: [0.31209722 0.80565634 0.06148792 0.70859823 0.94626897] (rank 0)\n",
      "Simulator returns exception for parameter values: [0.29657032 0.79456845 0.0604274  0.73247298 0.99311373] (rank 0)\n",
      "Simulator returns exception for parameter values: [0.29607714 0.80394792 0.06882239 0.68103786 1.00511215] (rank 0)\n",
      "Simulator returns exception for parameter values: [0.29070056 0.80180825 0.07663282 0.80661828 0.95588077] (rank 0)\n",
      "Simulator returns exception for parameter values: [0.29934129 0.79844617 0.09030229 0.92337584 0.93061649] (rank 0)\n",
      "Simulator returns exception for parameter values: [0.28930274 0.79840805 0.06227992 0.74414746 0.97284732] (rank 0)\n",
      "Simulator returns exception for parameter values: [0.30785654 0.80123511 0.01915856 0.65665827 0.89488551] (rank 0)\n",
      "Simulator returns exception for parameter values: [0.29285224 0.79927661 0.06950736 0.71960349 1.00210319] (rank 0)\n",
      "Simulator returns exception for parameter values: [0.29003398 0.80348565 0.03649931 0.60186374 0.97915623] (rank 0)\n",
      "Simulator returns exception for parameter values: [0.30219265 0.797932   0.02275448 0.46692811 1.03102033] (rank 0)\n",
      "Simulator returns exception for parameter values: [0.30921653 0.80491777 0.0658013  0.65415589 1.00038856] (rank 0)\n",
      "Simulator returns exception for parameter values: [0.29760823 0.79807206 0.05705791 0.62979966 1.02188332] (rank 0)\n",
      "Simulator returns exception for parameter values: [0.27238648 0.80138294 0.02515695 0.6178207  0.9591786 ] (rank 0)\n",
      "Simulator returns exception for parameter values: [0.30583321 0.79918121 0.00363576 0.52342355 0.96004476] (rank 0)\n",
      "Simulator returns exception for parameter values: [0.28904256 0.80303053 0.02386066 0.54593474 1.00389819] (rank 0)\n",
      "Simulator returns exception for parameter values: [0.32238766 0.80215419 0.04267965 0.73172809 0.89678224] (rank 0)\n",
      "Simulator returns exception for parameter values: [0.31107149 0.8046662  0.04026987 0.58040488 0.96687625] (rank 0)\n",
      "Simulator returns exception for parameter values: [0.30367198 0.7999829  0.09205377 0.8523287  0.96570327] (rank 0)\n",
      "Simulator returns exception for parameter values: [0.29246148 0.79292809 0.0274228  0.66093483 0.95609261] (rank 0)\n",
      "Simulator returns exception for parameter values: [0.32148848 0.79688514 0.06926537 0.82883668 0.9314017 ] (rank 0)\n",
      "Simulator returns exception for parameter values: [0.30370234 0.80018401 0.0020928  0.46466101 0.96975908] (rank 0)\n",
      "Simulator returns exception for parameter values: [0.30429193 0.80055405 0.04546651 0.6723042  0.96752981] (rank 0)\n",
      "Simulator returns exception for parameter values: [0.29447493 0.79844048 0.03506155 0.47401642 1.06524426] (rank 0)\n",
      "Simulator returns exception for parameter values: [0.2991826  0.8008371  0.06148556 0.80374537 0.92440688] (rank 0)\n",
      "Simulator returns exception for parameter values: [0.30478041 0.80381865 0.00274024 0.43148469 0.98406964] (rank 0)\n",
      "Simulator returns exception for parameter values: [0.31858216 0.80255492 0.02996109 0.62462022 0.94624593] (rank 0)\n",
      "Simulator returns exception for parameter values: [0.30699394 0.80203781 0.03459834 0.49320429 1.03610998] (rank 0)\n",
      "Simulator returns exception for parameter values: [0.30461927 0.79968351 0.08998206 0.94901127 0.91138632] (rank 0)\n",
      "Simulator returns exception for parameter values: [0.29738269 0.79869438 0.02991476 0.53866687 1.00555749] (rank 0)\n",
      "Simulator returns exception for parameter values: [3.14130835e-01 7.97168893e-01 6.15500233e-04 4.25761750e-01\n",
      " 1.00263131e+00] (rank 0)\n",
      "Simulator returns exception for parameter values: [0.27452478 0.79407116 0.06874481 0.84807168 0.96162631] (rank 0)\n",
      "Simulator returns exception for parameter values: [0.3045184  0.80548273 0.03124928 0.69566238 0.89225556] (rank 0)\n",
      "Simulator returns exception for parameter values: [0.30627183 0.80086887 0.06510107 0.66451148 1.01239034] (rank 0)\n",
      "Simulator returns exception for parameter values: [0.30638546 0.80247212 0.01147116 0.60404513 0.9138307 ] (rank 0)\n",
      "Simulator returns exception for parameter values: [0.3037666  0.79798365 0.04988271 0.72436519 0.95668455] (rank 0)\n",
      "Simulator returns exception for parameter values: [0.28010831 0.79719524 0.00861685 0.44758508 1.02873592] (rank 0)\n",
      "Simulator returns exception for parameter values: [0.28033522 0.79755123 0.0384854  0.67691092 0.96383263] (rank 0)\n",
      "Simulator returns exception for parameter values: [0.29774909 0.80496561 0.04539469 0.67158635 0.95637625] (rank 0)\n",
      "Simulator returns exception for parameter values: [0.33260548 0.8025006  0.03831945 0.49475926 1.00612218] (rank 0)\n"
     ]
    },
    {
     "name": "stdout",
     "output_type": "stream",
     "text": [
      "Simulator returns exception for parameter values: [0.29638431 0.80047078 0.03643193 0.47111076 1.05415584] (rank 0)\n",
      "Simulator returns exception for parameter values: [0.28551405 0.79559861 0.01336986 0.45999472 1.02953524] (rank 0)\n",
      "Simulator returns exception for parameter values: [0.30640686 0.79721851 0.04084083 0.74538026 0.92908002] (rank 0)\n",
      "Simulator returns exception for parameter values: [0.29490044 0.7949887  0.01698554 0.64890714 0.93617582] (rank 0)\n",
      "Simulator returns exception for parameter values: [0.30768692 0.7945193  0.06699179 0.68949544 1.02961544] (rank 0)\n",
      "Simulator returns exception for parameter values: [0.30395144 0.8006511  0.08491714 0.96822047 0.87901515] (rank 0)\n",
      "Simulator returns exception for parameter values: [0.28791034 0.79890384 0.04747568 0.74980773 0.94616953] (rank 0)\n",
      "Simulator returns exception for parameter values: [0.30712401 0.80183572 0.0058087  0.46446466 0.97210262] (rank 0)\n",
      "Simulator returns exception for parameter values: [0.32561205 0.80278596 0.01429985 0.40919286 1.01709208] (rank 0)\n",
      "Simulator returns exception for parameter values: [0.29156059 0.79846755 0.03781481 0.50230716 1.06120864] (rank 0)\n",
      "Simulator returns exception for parameter values: [0.28451545 0.79923086 0.07816931 0.98809414 0.87038586] (rank 0)\n",
      "Simulator returns exception for parameter values: [0.28886994 0.79706304 0.04599167 0.80618777 0.90774329] (rank 0)\n",
      "Simulator returns exception for parameter values: [0.30154862 0.79778327 0.0837448  0.87178741 0.94469371] (rank 0)\n",
      "Simulator returns exception for parameter values: [0.29104102 0.79932552 0.01350685 0.53952091 0.96880219] (rank 0)\n",
      "Simulator returns exception for parameter values: [0.29056874 0.8019604  0.06784846 0.85235413 0.91634117] (rank 0)\n",
      "Simulator returns exception for parameter values: [0.29634032 0.7963647  0.05360831 0.74044599 0.95282511] (rank 0)\n",
      "Simulator returns exception for parameter values: [0.27472148 0.79920866 0.0310086  0.5141871  1.0374098 ] (rank 0)\n",
      "Simulator returns exception for parameter values: [0.30129731 0.80352186 0.07080944 0.80143147 0.9460792 ] (rank 0)\n",
      "Simulator returns exception for parameter values: [0.31805374 0.80125573 0.04582927 0.66957457 0.95749818] (rank 0)\n",
      "Simulator returns exception for parameter values: [0.29498231 0.80206298 0.05247966 0.71161369 0.94953915] (rank 0)\n",
      "Simulator returns exception for parameter values: [0.30905316 0.80044772 0.05737086 0.83328672 0.8910014 ] (rank 0)\n",
      "Simulator returns exception for parameter values: [0.2911066  0.79730511 0.02326456 0.42402824 1.06725041] (rank 0)\n",
      "Simulator returns exception for parameter values: [0.29823228 0.79639608 0.05115145 0.67063198 0.99400594] (rank 0)\n",
      "Simulator returns exception for parameter values: [0.27998935 0.80090254 0.01398726 0.55587823 0.96055796] (rank 0)\n",
      "Simulator returns exception for parameter values: [0.29885371 0.79974594 0.04765709 0.59052285 1.03259198] (rank 0)\n",
      "Simulator returns exception for parameter values: [0.30475224 0.79903855 0.04226458 0.78431095 0.89273304] (rank 0)\n",
      "Simulator returns exception for parameter values: [0.31084763 0.79757796 0.03447901 0.54208021 1.01485135] (rank 0)\n",
      "Simulator returns exception for parameter values: [0.29112525 0.80094361 0.0333424  0.57185665 0.99555586] (rank 0)\n",
      "Simulator returns exception for parameter values: [0.27684647 0.80034192 0.01631915 0.72058044 0.87556838] (rank 0)\n",
      "Simulator returns exception for parameter values: [0.2918281  0.79968465 0.04274262 0.72891816 0.9254222 ] (rank 0)\n",
      "Simulator returns exception for parameter values: [0.29269299 0.7946399  0.01543554 0.48490224 1.01825353] (rank 0)\n",
      "Simulator returns exception for parameter values: [0.30459504 0.79515995 0.0659607  0.77784136 0.9583096 ] (rank 0)\n",
      "Simulator returns exception for parameter values: [0.29833011 0.7993938  0.06954448 0.79604981 0.95882372] (rank 0)\n",
      "Simulator returns exception for parameter values: [0.30451008 0.79907537 0.05255928 0.77421978 0.91935316] (rank 0)\n",
      "Simulator returns exception for parameter values: [0.30638293 0.80529505 0.07490956 0.95859669 0.86543061] (rank 0)\n",
      "Simulator returns exception for parameter values: [0.29655051 0.79516031 0.03011648 0.59833492 0.98564614] (rank 0)\n",
      "Simulator returns exception for parameter values: [0.29806147 0.79875469 0.05671701 0.84276126 0.908771  ] (rank 0)\n",
      "Simulator returns exception for parameter values: [0.29463518 0.80205239 0.08000858 0.82429245 0.95847205] (rank 0)\n",
      "Simulator returns exception for parameter values: [0.31215526 0.80341971 0.08174805 0.86365472 0.9353864 ] (rank 0)\n",
      "Simulator returns exception for parameter values: [0.30082486 0.80273244 0.03970425 0.56415379 1.0001817 ] (rank 0)\n",
      "Simulator returns exception for parameter values: [0.29332555 0.79926583 0.06322746 0.78564135 0.93674974] (rank 0)\n",
      "Simulator returns exception for parameter values: [0.27578534 0.80063424 0.07681642 0.94563555 0.89283963] (rank 0)\n",
      "Simulator returns exception for parameter values: [0.29688488 0.79802839 0.0798989  0.93578384 0.90814195] (rank 0)\n",
      "Simulator returns exception for parameter values: [0.31155155 0.80691496 0.06330831 0.72412912 0.95179305] (rank 0)\n",
      "Simulator returns exception for parameter values: [0.29381287 0.79136477 0.09848207 0.89293308 1.0077779 ] (rank 0)\n",
      "Simulator returns exception for parameter values: [0.28730424 0.80281465 0.02930039 0.56004062 0.98308404] (rank 0)\n",
      "Simulator returns exception for parameter values: [0.29009673 0.80556528 0.0070259  0.52983547 0.94830677] (rank 0)\n",
      "Simulator returns exception for parameter values: [0.29782269 0.80170585 0.00588544 0.45126574 0.99074652] (rank 0)\n",
      "Simulator returns exception for parameter values: [0.30440366 0.79572032 0.07635222 0.90031425 0.92588298] (rank 0)\n",
      "Simulator returns exception for parameter values: [0.31311294 0.79642557 0.04427677 0.67506073 0.9716646 ] (rank 0)\n",
      "Simulator returns exception for parameter values: [0.28492607 0.7934068  0.07977045 0.68513458 1.07316011] (rank 0)\n",
      "Simulator returns exception for parameter values: [0.29679503 0.8006405  0.05640239 0.51394203 1.06466405] (rank 0)\n",
      "Simulator returns exception for parameter values: [0.28342874 0.79857056 0.08373501 0.91621552 0.9296172 ] (rank 0)\n",
      "Simulator returns exception for parameter values: [0.29205661 0.79557888 0.01023188 0.59966468 0.94564898] (rank 0)\n",
      "Simulator returns exception for parameter values: [0.30411883 0.80034817 0.0582089  0.77044988 0.93391189] (rank 0)\n",
      "Simulator returns exception for parameter values: [0.30315032 0.79824511 0.06862584 0.74012133 0.99002626] (rank 0)\n",
      "Simulator returns exception for parameter values: [0.30675473 0.79968509 0.05682119 0.7119516  0.97252631] (rank 0)\n",
      "Simulator returns exception for parameter values: [0.3173883  0.804644   0.03288351 0.61941871 0.94178116] (rank 0)\n",
      "Simulator returns exception for parameter values: [0.29700393 0.79846633 0.03882218 0.70913262 0.94577511] (rank 0)\n",
      "Simulator returns exception for parameter values: [0.30282373 0.79672303 0.04463707 0.75930397 0.91648709] (rank 0)\n",
      "Simulator returns exception for parameter values: [0.31121572 0.80104297 0.08362645 0.74370669 1.00498755] (rank 0)\n",
      "Simulator returns exception for parameter values: [0.31693833 0.80071261 0.06126916 0.70070446 0.97628766] (rank 0)\n",
      "Simulator returns exception for parameter values: [0.30182026 0.79565249 0.02888681 0.40016728 1.09998934] (rank 0)\n",
      "Simulator returns exception for parameter values: [0.28475576 0.79667605 0.04477347 0.69138026 0.97443223] (rank 0)\n",
      "Simulator returns exception for parameter values: [0.29914727 0.80035161 0.05877102 0.75375129 0.95343526] (rank 0)\n",
      "Simulator returns exception for parameter values: [0.29672166 0.80953365 0.08367845 0.98154261 0.84570943] (rank 0)\n",
      "Simulator returns exception for parameter values: [0.29409041 0.79950235 0.04473846 0.86628923 0.85344473] (rank 0)\n",
      "Simulator returns exception for parameter values: [0.31158737 0.81079675 0.03467904 0.51765409 0.972343  ] (rank 0)\n",
      "Simulator returns exception for parameter values: [0.29556892 0.79682889 0.04321203 0.65430674 0.98677442] (rank 0)\n",
      "Simulator returns exception for parameter values: [0.29019578 0.79862874 0.09234544 0.91379975 0.95529718] (rank 0)\n",
      "Simulator returns exception for parameter values: [0.30028912 0.79486609 0.02360283 0.49518812 1.0405646 ] (rank 0)\n",
      "Simulator returns exception for parameter values: [0.27312002 0.80017748 0.03092214 0.48057163 1.06698506] (rank 0)\n",
      "Simulator returns exception for parameter values: [0.31417121 0.80039509 0.04573372 0.6592093  0.96046343] (rank 0)\n",
      "Simulator returns exception for parameter values: [0.31071534 0.79980896 0.01998099 0.61818516 0.93826057] (rank 0)\n",
      "Simulator returns exception for parameter values: [0.30135746 0.80224841 0.02119649 0.66700533 0.90620782] (rank 0)\n",
      "Simulator returns exception for parameter values: [0.30086568 0.79954033 0.07645016 0.97656503 0.86160245] (rank 0)\n",
      "Simulator returns exception for parameter values: [0.28271462 0.79454177 0.02766824 0.64303716 0.96148781] (rank 0)\n",
      "Simulator returns exception for parameter values: [0.30138002 0.80028109 0.03467728 0.62381294 0.96291595] (rank 0)\n",
      "Simulator returns exception for parameter values: [0.30238243 0.80440966 0.06451391 0.7242906  0.95404703] (rank 0)\n",
      "Simulator returns exception for parameter values: [0.29955657 0.79840236 0.0683914  0.86076302 0.91579628] (rank 0)\n",
      "Simulator returns exception for parameter values: [0.31135042 0.79809513 0.05850755 0.71229481 0.97238637] (rank 0)\n",
      "Simulator returns exception for parameter values: [0.29260622 0.79688953 0.01983122 0.52179736 0.99634347] (rank 0)\n",
      "Simulator returns exception for parameter values: [0.29291443 0.80132755 0.06658431 0.88043787 0.89051148] (rank 0)\n",
      "Simulator returns exception for parameter values: [0.2928247  0.79562291 0.04467135 0.781735   0.92292631] (rank 0)\n",
      "Simulator returns exception for parameter values: [0.2989296  0.79692742 0.03281758 0.55023294 1.02782769] (rank 0)\n",
      "Simulator returns exception for parameter values: [0.30157155 0.80026633 0.05159895 0.75583173 0.92680454] (rank 0)\n",
      "Simulator returns exception for parameter values: [0.32656825 0.80804055 0.0246083  0.40180071 1.01436648] (rank 0)\n",
      "Simulator returns exception for parameter values: [0.30042813 0.79982385 0.03155707 0.71624367 0.90879259] (rank 0)\n",
      "Simulator returns exception for parameter values: [0.31193179 0.80686223 0.03503968 0.53103344 0.98394038] (rank 0)\n",
      "Simulator returns exception for parameter values: [0.29330338 0.80158164 0.06799375 0.89586513 0.88412765] (rank 0)\n",
      "Simulator returns exception for parameter values: [0.2988957  0.79683598 0.04184885 0.74842939 0.91687377] (rank 0)\n",
      "Done.\n"
     ]
    },
    {
     "data": {
      "application/vnd.jupyter.widget-view+json": {
       "model_id": "32e64a35ae5048798bf6900501914784",
       "version_major": 2,
       "version_minor": 0
      },
      "text/plain": [
       "HBox(children=(IntProgress(value=0, description='Epochs'), HTML(value='')))"
      ]
     },
     "metadata": {},
     "output_type": "display_data"
    },
    {
     "data": {
      "application/vnd.jupyter.widget-view+json": {
       "model_id": "f29b60ea885a4166b0ec12c8e003c83f",
       "version_major": 2,
       "version_minor": 0
      },
      "text/plain": [
       "HBox(children=(IntProgress(value=0, description='Batches', max=4), HTML(value='')))"
      ]
     },
     "metadata": {},
     "output_type": "display_data"
    },
    {
     "name": "stderr",
     "output_type": "stream",
     "text": [
      "/Users/charnock/.pyenv/versions/3.6.6/lib/python3.6/site-packages/numpy/core/fromnumeric.py:2957: RuntimeWarning: Mean of empty slice.\n",
      "  out=out, **kwargs)\n",
      "/Users/charnock/.pyenv/versions/3.6.6/lib/python3.6/site-packages/numpy/core/_methods.py:80: RuntimeWarning: invalid value encountered in double_scalars\n",
      "  ret = ret.dtype.type(ret / rcount)\n"
     ]
    },
    {
     "data": {
      "application/vnd.jupyter.widget-view+json": {
       "model_id": "16252172d8504ce5bba7723cab4fc9a9",
       "version_major": 2,
       "version_minor": 0
      },
      "text/plain": [
       "HBox(children=(IntProgress(value=0, description='Batches', max=4), HTML(value='')))"
      ]
     },
     "metadata": {},
     "output_type": "display_data"
    },
    {
     "data": {
      "application/vnd.jupyter.widget-view+json": {
       "model_id": "68246c01918e4e05ada8eaaa8b8a0ef6",
       "version_major": 2,
       "version_minor": 0
      },
      "text/plain": [
       "HBox(children=(IntProgress(value=0, description='Batches', max=4), HTML(value='')))"
      ]
     },
     "metadata": {},
     "output_type": "display_data"
    },
    {
     "data": {
      "application/vnd.jupyter.widget-view+json": {
       "model_id": "4344c59eee27402c97897a12f0560d72",
       "version_major": 2,
       "version_minor": 0
      },
      "text/plain": [
       "HBox(children=(IntProgress(value=0, description='Batches', max=4), HTML(value='')))"
      ]
     },
     "metadata": {},
     "output_type": "display_data"
    },
    {
     "data": {
      "application/vnd.jupyter.widget-view+json": {
       "model_id": "5040672aa29a42e18be0ac23974aa313",
       "version_major": 2,
       "version_minor": 0
      },
      "text/plain": [
       "HBox(children=(IntProgress(value=0, description='Batches', max=4), HTML(value='')))"
      ]
     },
     "metadata": {},
     "output_type": "display_data"
    },
    {
     "data": {
      "application/vnd.jupyter.widget-view+json": {
       "model_id": "456f28e26acc400d9fb8eff362da2a18",
       "version_major": 2,
       "version_minor": 0
      },
      "text/plain": [
       "HBox(children=(IntProgress(value=0, description='Batches', max=4), HTML(value='')))"
      ]
     },
     "metadata": {},
     "output_type": "display_data"
    },
    {
     "data": {
      "application/vnd.jupyter.widget-view+json": {
       "model_id": "e36aa87b3b854f5ca7590daddb644723",
       "version_major": 2,
       "version_minor": 0
      },
      "text/plain": [
       "HBox(children=(IntProgress(value=0, description='Batches', max=4), HTML(value='')))"
      ]
     },
     "metadata": {},
     "output_type": "display_data"
    },
    {
     "data": {
      "application/vnd.jupyter.widget-view+json": {
       "model_id": "5fd7fdc2624f49e3b3eccc4efc4df71c",
       "version_major": 2,
       "version_minor": 0
      },
      "text/plain": [
       "HBox(children=(IntProgress(value=0, description='Batches', max=4), HTML(value='')))"
      ]
     },
     "metadata": {},
     "output_type": "display_data"
    },
    {
     "data": {
      "application/vnd.jupyter.widget-view+json": {
       "model_id": "efffd7c9343645c0a126e96bff6e8da3",
       "version_major": 2,
       "version_minor": 0
      },
      "text/plain": [
       "HBox(children=(IntProgress(value=0, description='Batches', max=4), HTML(value='')))"
      ]
     },
     "metadata": {},
     "output_type": "display_data"
    },
    {
     "data": {
      "application/vnd.jupyter.widget-view+json": {
       "model_id": "f489613deb304b8d8f612628a93c78bc",
       "version_major": 2,
       "version_minor": 0
      },
      "text/plain": [
       "HBox(children=(IntProgress(value=0, description='Batches', max=4), HTML(value='')))"
      ]
     },
     "metadata": {},
     "output_type": "display_data"
    },
    {
     "data": {
      "application/vnd.jupyter.widget-view+json": {
       "model_id": "02ead261f5684b0bb1249974d81648b6",
       "version_major": 2,
       "version_minor": 0
      },
      "text/plain": [
       "HBox(children=(IntProgress(value=0, description='Batches', max=4), HTML(value='')))"
      ]
     },
     "metadata": {},
     "output_type": "display_data"
    },
    {
     "data": {
      "application/vnd.jupyter.widget-view+json": {
       "model_id": "30457a10aeb943e394b6b787de03a9da",
       "version_major": 2,
       "version_minor": 0
      },
      "text/plain": [
       "HBox(children=(IntProgress(value=0, description='Batches', max=4), HTML(value='')))"
      ]
     },
     "metadata": {},
     "output_type": "display_data"
    },
    {
     "data": {
      "application/vnd.jupyter.widget-view+json": {
       "model_id": "dcee400d82114f368c698d736a5d7b2e",
       "version_major": 2,
       "version_minor": 0
      },
      "text/plain": [
       "HBox(children=(IntProgress(value=0, description='Batches', max=4), HTML(value='')))"
      ]
     },
     "metadata": {},
     "output_type": "display_data"
    },
    {
     "data": {
      "application/vnd.jupyter.widget-view+json": {
       "model_id": "0eb26bc0968d4cd59a96cdca1e2fc6cf",
       "version_major": 2,
       "version_minor": 0
      },
      "text/plain": [
       "HBox(children=(IntProgress(value=0, description='Batches', max=4), HTML(value='')))"
      ]
     },
     "metadata": {},
     "output_type": "display_data"
    },
    {
     "data": {
      "application/vnd.jupyter.widget-view+json": {
       "model_id": "273c9f52c3634687bb3ca7d179e6b8b5",
       "version_major": 2,
       "version_minor": 0
      },
      "text/plain": [
       "HBox(children=(IntProgress(value=0, description='Batches', max=4), HTML(value='')))"
      ]
     },
     "metadata": {},
     "output_type": "display_data"
    },
    {
     "data": {
      "application/vnd.jupyter.widget-view+json": {
       "model_id": "d224c5259c2e43df9589c4a1197c9928",
       "version_major": 2,
       "version_minor": 0
      },
      "text/plain": [
       "HBox(children=(IntProgress(value=0, description='Batches', max=4), HTML(value='')))"
      ]
     },
     "metadata": {},
     "output_type": "display_data"
    },
    {
     "data": {
      "application/vnd.jupyter.widget-view+json": {
       "model_id": "8ba13e44c46a4f6e8eac188992c607ed",
       "version_major": 2,
       "version_minor": 0
      },
      "text/plain": [
       "HBox(children=(IntProgress(value=0, description='Batches', max=4), HTML(value='')))"
      ]
     },
     "metadata": {},
     "output_type": "display_data"
    },
    {
     "data": {
      "application/vnd.jupyter.widget-view+json": {
       "model_id": "fcb229694956418b98c63acde538d41b",
       "version_major": 2,
       "version_minor": 0
      },
      "text/plain": [
       "HBox(children=(IntProgress(value=0, description='Batches', max=4), HTML(value='')))"
      ]
     },
     "metadata": {},
     "output_type": "display_data"
    },
    {
     "data": {
      "application/vnd.jupyter.widget-view+json": {
       "model_id": "a926702837814439a5b508731524216d",
       "version_major": 2,
       "version_minor": 0
      },
      "text/plain": [
       "HBox(children=(IntProgress(value=0, description='Batches', max=4), HTML(value='')))"
      ]
     },
     "metadata": {},
     "output_type": "display_data"
    },
    {
     "data": {
      "application/vnd.jupyter.widget-view+json": {
       "model_id": "190bb9c1c6134963994ca3c1a7ac0ff4",
       "version_major": 2,
       "version_minor": 0
      },
      "text/plain": [
       "HBox(children=(IntProgress(value=0, description='Batches', max=4), HTML(value='')))"
      ]
     },
     "metadata": {},
     "output_type": "display_data"
    },
    {
     "data": {
      "application/vnd.jupyter.widget-view+json": {
       "model_id": "39a07698b213404cbfbfec579c18edfa",
       "version_major": 2,
       "version_minor": 0
      },
      "text/plain": [
       "HBox(children=(IntProgress(value=0, description='Batches', max=4), HTML(value='')))"
      ]
     },
     "metadata": {},
     "output_type": "display_data"
    },
    {
     "data": {
      "application/vnd.jupyter.widget-view+json": {
       "model_id": "fed5be6a100f4e219f0ae2ba0334e1d7",
       "version_major": 2,
       "version_minor": 0
      },
      "text/plain": [
       "HBox(children=(IntProgress(value=0, description='Batches', max=4), HTML(value='')))"
      ]
     },
     "metadata": {},
     "output_type": "display_data"
    },
    {
     "data": {
      "application/vnd.jupyter.widget-view+json": {
       "model_id": "95ac442fa85e49b69d6531ca819bca79",
       "version_major": 2,
       "version_minor": 0
      },
      "text/plain": [
       "HBox(children=(IntProgress(value=0, description='Batches', max=4), HTML(value='')))"
      ]
     },
     "metadata": {},
     "output_type": "display_data"
    },
    {
     "data": {
      "application/vnd.jupyter.widget-view+json": {
       "model_id": "704352fcb4764acfa4922ea8337ebb07",
       "version_major": 2,
       "version_minor": 0
      },
      "text/plain": [
       "HBox(children=(IntProgress(value=0, description='Batches', max=4), HTML(value='')))"
      ]
     },
     "metadata": {},
     "output_type": "display_data"
    },
    {
     "data": {
      "application/vnd.jupyter.widget-view+json": {
       "model_id": "73384021e2fd4670ac8411c35cc7a646",
       "version_major": 2,
       "version_minor": 0
      },
      "text/plain": [
       "HBox(children=(IntProgress(value=0, description='Batches', max=4), HTML(value='')))"
      ]
     },
     "metadata": {},
     "output_type": "display_data"
    },
    {
     "data": {
      "application/vnd.jupyter.widget-view+json": {
       "model_id": "fd61c72cfdc54d36b81ce54e736eed8c",
       "version_major": 2,
       "version_minor": 0
      },
      "text/plain": [
       "HBox(children=(IntProgress(value=0, description='Batches', max=4), HTML(value='')))"
      ]
     },
     "metadata": {},
     "output_type": "display_data"
    },
    {
     "data": {
      "application/vnd.jupyter.widget-view+json": {
       "model_id": "3da929b584344495aac4c7a75c90e9c4",
       "version_major": 2,
       "version_minor": 0
      },
      "text/plain": [
       "HBox(children=(IntProgress(value=0, description='Batches', max=4), HTML(value='')))"
      ]
     },
     "metadata": {},
     "output_type": "display_data"
    },
    {
     "data": {
      "application/vnd.jupyter.widget-view+json": {
       "model_id": "fe3fa6ff7a5849e4bb79f5fbc1eece0d",
       "version_major": 2,
       "version_minor": 0
      },
      "text/plain": [
       "HBox(children=(IntProgress(value=0, description='Batches', max=4), HTML(value='')))"
      ]
     },
     "metadata": {},
     "output_type": "display_data"
    },
    {
     "data": {
      "application/vnd.jupyter.widget-view+json": {
       "model_id": "0c400204bd9943b580c6378de5c68dde",
       "version_major": 2,
       "version_minor": 0
      },
      "text/plain": [
       "HBox(children=(IntProgress(value=0, description='Batches', max=4), HTML(value='')))"
      ]
     },
     "metadata": {},
     "output_type": "display_data"
    },
    {
     "data": {
      "application/vnd.jupyter.widget-view+json": {
       "model_id": "f443fbcf5bb446f690af4c39215a669a",
       "version_major": 2,
       "version_minor": 0
      },
      "text/plain": [
       "HBox(children=(IntProgress(value=0, description='Batches', max=4), HTML(value='')))"
      ]
     },
     "metadata": {},
     "output_type": "display_data"
    },
    {
     "data": {
      "application/vnd.jupyter.widget-view+json": {
       "model_id": "a76c1523d2ab4fa08ce4179acc151d0c",
       "version_major": 2,
       "version_minor": 0
      },
      "text/plain": [
       "HBox(children=(IntProgress(value=0, description='Batches', max=4), HTML(value='')))"
      ]
     },
     "metadata": {},
     "output_type": "display_data"
    },
    {
     "data": {
      "application/vnd.jupyter.widget-view+json": {
       "model_id": "76799b4fd4274923baa8807cf473dfaf",
       "version_major": 2,
       "version_minor": 0
      },
      "text/plain": [
       "HBox(children=(IntProgress(value=0, description='Batches', max=4), HTML(value='')))"
      ]
     },
     "metadata": {},
     "output_type": "display_data"
    },
    {
     "data": {
      "application/vnd.jupyter.widget-view+json": {
       "model_id": "5ded69983282448e869aa3e9a4e51af9",
       "version_major": 2,
       "version_minor": 0
      },
      "text/plain": [
       "HBox(children=(IntProgress(value=0, description='Batches', max=4), HTML(value='')))"
      ]
     },
     "metadata": {},
     "output_type": "display_data"
    },
    {
     "data": {
      "application/vnd.jupyter.widget-view+json": {
       "model_id": "33a6afe2b7504f52bfd91d41ca6e94e4",
       "version_major": 2,
       "version_minor": 0
      },
      "text/plain": [
       "HBox(children=(IntProgress(value=0, description='Batches', max=4), HTML(value='')))"
      ]
     },
     "metadata": {},
     "output_type": "display_data"
    },
    {
     "data": {
      "application/vnd.jupyter.widget-view+json": {
       "model_id": "d60c430517b64afa8467690a0df2d3cf",
       "version_major": 2,
       "version_minor": 0
      },
      "text/plain": [
       "HBox(children=(IntProgress(value=0, description='Batches', max=4), HTML(value='')))"
      ]
     },
     "metadata": {},
     "output_type": "display_data"
    },
    {
     "data": {
      "application/vnd.jupyter.widget-view+json": {
       "model_id": "d05bd07bf2074b8cb14d094ee2f669c1",
       "version_major": 2,
       "version_minor": 0
      },
      "text/plain": [
       "HBox(children=(IntProgress(value=0, description='Batches', max=4), HTML(value='')))"
      ]
     },
     "metadata": {},
     "output_type": "display_data"
    },
    {
     "data": {
      "application/vnd.jupyter.widget-view+json": {
       "model_id": "cd47be15fe974d9db63cd2746b3b0b56",
       "version_major": 2,
       "version_minor": 0
      },
      "text/plain": [
       "HBox(children=(IntProgress(value=0, description='Batches', max=4), HTML(value='')))"
      ]
     },
     "metadata": {},
     "output_type": "display_data"
    },
    {
     "data": {
      "application/vnd.jupyter.widget-view+json": {
       "model_id": "bf542d2d02bc445b8f58104d68d81870",
       "version_major": 2,
       "version_minor": 0
      },
      "text/plain": [
       "HBox(children=(IntProgress(value=0, description='Batches', max=4), HTML(value='')))"
      ]
     },
     "metadata": {},
     "output_type": "display_data"
    },
    {
     "data": {
      "application/vnd.jupyter.widget-view+json": {
       "model_id": "22f703eb34784787bd5843c65929c665",
       "version_major": 2,
       "version_minor": 0
      },
      "text/plain": [
       "HBox(children=(IntProgress(value=0, description='Batches', max=4), HTML(value='')))"
      ]
     },
     "metadata": {},
     "output_type": "display_data"
    },
    {
     "data": {
      "application/vnd.jupyter.widget-view+json": {
       "model_id": "a94345f9bfdd49d5b27ea20d59de9069",
       "version_major": 2,
       "version_minor": 0
      },
      "text/plain": [
       "HBox(children=(IntProgress(value=0, description='Batches', max=4), HTML(value='')))"
      ]
     },
     "metadata": {},
     "output_type": "display_data"
    },
    {
     "data": {
      "application/vnd.jupyter.widget-view+json": {
       "model_id": "d1438ddc1a584e5689d5aee3dbe9e3aa",
       "version_major": 2,
       "version_minor": 0
      },
      "text/plain": [
       "HBox(children=(IntProgress(value=0, description='Batches', max=4), HTML(value='')))"
      ]
     },
     "metadata": {},
     "output_type": "display_data"
    },
    {
     "data": {
      "application/vnd.jupyter.widget-view+json": {
       "model_id": "4d4024f3371848bd9c82a5868f14de2a",
       "version_major": 2,
       "version_minor": 0
      },
      "text/plain": [
       "HBox(children=(IntProgress(value=0, description='Batches', max=4), HTML(value='')))"
      ]
     },
     "metadata": {},
     "output_type": "display_data"
    },
    {
     "data": {
      "application/vnd.jupyter.widget-view+json": {
       "model_id": "f7be35a9bcb84d248555b7fb91e560eb",
       "version_major": 2,
       "version_minor": 0
      },
      "text/plain": [
       "HBox(children=(IntProgress(value=0, description='Batches', max=4), HTML(value='')))"
      ]
     },
     "metadata": {},
     "output_type": "display_data"
    },
    {
     "data": {
      "application/vnd.jupyter.widget-view+json": {
       "model_id": "c81638df1f8b41b5b2196b013b89d508",
       "version_major": 2,
       "version_minor": 0
      },
      "text/plain": [
       "HBox(children=(IntProgress(value=0, description='Batches', max=4), HTML(value='')))"
      ]
     },
     "metadata": {},
     "output_type": "display_data"
    },
    {
     "data": {
      "application/vnd.jupyter.widget-view+json": {
       "model_id": "ed6cea284e5945ebb5c1ea0c9ecebc47",
       "version_major": 2,
       "version_minor": 0
      },
      "text/plain": [
       "HBox(children=(IntProgress(value=0, description='Batches', max=4), HTML(value='')))"
      ]
     },
     "metadata": {},
     "output_type": "display_data"
    },
    {
     "data": {
      "application/vnd.jupyter.widget-view+json": {
       "model_id": "4fd5265af3c2408d9ffbbdc3c2c2be5d",
       "version_major": 2,
       "version_minor": 0
      },
      "text/plain": [
       "HBox(children=(IntProgress(value=0, description='Batches', max=4), HTML(value='')))"
      ]
     },
     "metadata": {},
     "output_type": "display_data"
    },
    {
     "data": {
      "application/vnd.jupyter.widget-view+json": {
       "model_id": "05897e9b40b2474294089a355336095c",
       "version_major": 2,
       "version_minor": 0
      },
      "text/plain": [
       "HBox(children=(IntProgress(value=0, description='Batches', max=4), HTML(value='')))"
      ]
     },
     "metadata": {},
     "output_type": "display_data"
    },
    {
     "data": {
      "application/vnd.jupyter.widget-view+json": {
       "model_id": "b444865af89c477fa6afe7b28d603157",
       "version_major": 2,
       "version_minor": 0
      },
      "text/plain": [
       "HBox(children=(IntProgress(value=0, description='Batches', max=4), HTML(value='')))"
      ]
     },
     "metadata": {},
     "output_type": "display_data"
    },
    {
     "data": {
      "application/vnd.jupyter.widget-view+json": {
       "model_id": "4aee269868b742cc8ed1f5ecb7d57678",
       "version_major": 2,
       "version_minor": 0
      },
      "text/plain": [
       "HBox(children=(IntProgress(value=0, description='Batches', max=4), HTML(value='')))"
      ]
     },
     "metadata": {},
     "output_type": "display_data"
    },
    {
     "data": {
      "application/vnd.jupyter.widget-view+json": {
       "model_id": "643cc2cd33ba4451bc0171f57717c6b9",
       "version_major": 2,
       "version_minor": 0
      },
      "text/plain": [
       "HBox(children=(IntProgress(value=0, description='Batches', max=4), HTML(value='')))"
      ]
     },
     "metadata": {},
     "output_type": "display_data"
    },
    {
     "data": {
      "application/vnd.jupyter.widget-view+json": {
       "model_id": "5ed5401bdeed4b9b89c1dd8fa58bb2bd",
       "version_major": 2,
       "version_minor": 0
      },
      "text/plain": [
       "HBox(children=(IntProgress(value=0, description='Batches', max=4), HTML(value='')))"
      ]
     },
     "metadata": {},
     "output_type": "display_data"
    },
    {
     "data": {
      "application/vnd.jupyter.widget-view+json": {
       "model_id": "d78b36a324264fb6abe4fd074c6dfbe6",
       "version_major": 2,
       "version_minor": 0
      },
      "text/plain": [
       "HBox(children=(IntProgress(value=0, description='Batches', max=4), HTML(value='')))"
      ]
     },
     "metadata": {},
     "output_type": "display_data"
    },
    {
     "data": {
      "application/vnd.jupyter.widget-view+json": {
       "model_id": "71706ae129d04f2385f56ae17fd5b250",
       "version_major": 2,
       "version_minor": 0
      },
      "text/plain": [
       "HBox(children=(IntProgress(value=0, description='Batches', max=4), HTML(value='')))"
      ]
     },
     "metadata": {},
     "output_type": "display_data"
    },
    {
     "data": {
      "application/vnd.jupyter.widget-view+json": {
       "model_id": "ec53114d844a400f93db081cf21b0dfd",
       "version_major": 2,
       "version_minor": 0
      },
      "text/plain": [
       "HBox(children=(IntProgress(value=0, description='Batches', max=4), HTML(value='')))"
      ]
     },
     "metadata": {},
     "output_type": "display_data"
    },
    {
     "data": {
      "application/vnd.jupyter.widget-view+json": {
       "model_id": "393a5400287c49ec8ae10369537b1e39",
       "version_major": 2,
       "version_minor": 0
      },
      "text/plain": [
       "HBox(children=(IntProgress(value=0, description='Batches', max=4), HTML(value='')))"
      ]
     },
     "metadata": {},
     "output_type": "display_data"
    },
    {
     "data": {
      "application/vnd.jupyter.widget-view+json": {
       "model_id": "d4feb41858cc42659aa7cb313c3f6e2e",
       "version_major": 2,
       "version_minor": 0
      },
      "text/plain": [
       "HBox(children=(IntProgress(value=0, description='Batches', max=4), HTML(value='')))"
      ]
     },
     "metadata": {},
     "output_type": "display_data"
    },
    {
     "data": {
      "application/vnd.jupyter.widget-view+json": {
       "model_id": "2f0c6e5139ed4f4084475ca9c801d261",
       "version_major": 2,
       "version_minor": 0
      },
      "text/plain": [
       "HBox(children=(IntProgress(value=0, description='Batches', max=4), HTML(value='')))"
      ]
     },
     "metadata": {},
     "output_type": "display_data"
    },
    {
     "data": {
      "application/vnd.jupyter.widget-view+json": {
       "model_id": "4fda2cc574d44a33bc8e91d56310aa37",
       "version_major": 2,
       "version_minor": 0
      },
      "text/plain": [
       "HBox(children=(IntProgress(value=0, description='Batches', max=4), HTML(value='')))"
      ]
     },
     "metadata": {},
     "output_type": "display_data"
    },
    {
     "data": {
      "application/vnd.jupyter.widget-view+json": {
       "model_id": "aca515653aca4ef58ae2cf1ebe6607ae",
       "version_major": 2,
       "version_minor": 0
      },
      "text/plain": [
       "HBox(children=(IntProgress(value=0, description='Batches', max=4), HTML(value='')))"
      ]
     },
     "metadata": {},
     "output_type": "display_data"
    },
    {
     "data": {
      "application/vnd.jupyter.widget-view+json": {
       "model_id": "ead2a55e2f9b41e8b47baa63e83cd3aa",
       "version_major": 2,
       "version_minor": 0
      },
      "text/plain": [
       "HBox(children=(IntProgress(value=0, description='Batches', max=4), HTML(value='')))"
      ]
     },
     "metadata": {},
     "output_type": "display_data"
    },
    {
     "data": {
      "application/vnd.jupyter.widget-view+json": {
       "model_id": "0c20bf261ec04aebbeadc4c501de90df",
       "version_major": 2,
       "version_minor": 0
      },
      "text/plain": [
       "HBox(children=(IntProgress(value=0, description='Batches', max=4), HTML(value='')))"
      ]
     },
     "metadata": {},
     "output_type": "display_data"
    },
    {
     "data": {
      "application/vnd.jupyter.widget-view+json": {
       "model_id": "9675b6a172c543c1aa6bbb349109cfa1",
       "version_major": 2,
       "version_minor": 0
      },
      "text/plain": [
       "HBox(children=(IntProgress(value=0, description='Batches', max=4), HTML(value='')))"
      ]
     },
     "metadata": {},
     "output_type": "display_data"
    },
    {
     "data": {
      "application/vnd.jupyter.widget-view+json": {
       "model_id": "384c4fe3ffc24c4dbb0e15d9bc0ca1e1",
       "version_major": 2,
       "version_minor": 0
      },
      "text/plain": [
       "HBox(children=(IntProgress(value=0, description='Batches', max=4), HTML(value='')))"
      ]
     },
     "metadata": {},
     "output_type": "display_data"
    },
    {
     "data": {
      "application/vnd.jupyter.widget-view+json": {
       "model_id": "81b33f1a009f4b3e98415d2740926af4",
       "version_major": 2,
       "version_minor": 0
      },
      "text/plain": [
       "HBox(children=(IntProgress(value=0, description='Batches', max=4), HTML(value='')))"
      ]
     },
     "metadata": {},
     "output_type": "display_data"
    },
    {
     "data": {
      "application/vnd.jupyter.widget-view+json": {
       "model_id": "2a2028b5e32d4462a3453e15a5276571",
       "version_major": 2,
       "version_minor": 0
      },
      "text/plain": [
       "HBox(children=(IntProgress(value=0, description='Batches', max=4), HTML(value='')))"
      ]
     },
     "metadata": {},
     "output_type": "display_data"
    },
    {
     "data": {
      "application/vnd.jupyter.widget-view+json": {
       "model_id": "71f232c54d5b44b2ac096760a7fe3ebf",
       "version_major": 2,
       "version_minor": 0
      },
      "text/plain": [
       "HBox(children=(IntProgress(value=0, description='Batches', max=4), HTML(value='')))"
      ]
     },
     "metadata": {},
     "output_type": "display_data"
    },
    {
     "data": {
      "application/vnd.jupyter.widget-view+json": {
       "model_id": "dc3e4f360c1a4e0f92ce69d444375c03",
       "version_major": 2,
       "version_minor": 0
      },
      "text/plain": [
       "HBox(children=(IntProgress(value=0, description='Batches', max=4), HTML(value='')))"
      ]
     },
     "metadata": {},
     "output_type": "display_data"
    },
    {
     "data": {
      "application/vnd.jupyter.widget-view+json": {
       "model_id": "0bcad1595d4741c08552829dbe2f0e83",
       "version_major": 2,
       "version_minor": 0
      },
      "text/plain": [
       "HBox(children=(IntProgress(value=0, description='Batches', max=4), HTML(value='')))"
      ]
     },
     "metadata": {},
     "output_type": "display_data"
    },
    {
     "data": {
      "application/vnd.jupyter.widget-view+json": {
       "model_id": "3059cbbb25f4471c832ec9366430d87d",
       "version_major": 2,
       "version_minor": 0
      },
      "text/plain": [
       "HBox(children=(IntProgress(value=0, description='Batches', max=4), HTML(value='')))"
      ]
     },
     "metadata": {},
     "output_type": "display_data"
    },
    {
     "data": {
      "application/vnd.jupyter.widget-view+json": {
       "model_id": "04c9f680413441d18e05af290273bc5a",
       "version_major": 2,
       "version_minor": 0
      },
      "text/plain": [
       "HBox(children=(IntProgress(value=0, description='Batches', max=4), HTML(value='')))"
      ]
     },
     "metadata": {},
     "output_type": "display_data"
    },
    {
     "data": {
      "application/vnd.jupyter.widget-view+json": {
       "model_id": "3ed9249c74194162a0d3482d2ae502a6",
       "version_major": 2,
       "version_minor": 0
      },
      "text/plain": [
       "HBox(children=(IntProgress(value=0, description='Batches', max=4), HTML(value='')))"
      ]
     },
     "metadata": {},
     "output_type": "display_data"
    },
    {
     "data": {
      "application/vnd.jupyter.widget-view+json": {
       "model_id": "c105662a4c5548a593d4a1eb980b12a9",
       "version_major": 2,
       "version_minor": 0
      },
      "text/plain": [
       "HBox(children=(IntProgress(value=0, description='Batches', max=4), HTML(value='')))"
      ]
     },
     "metadata": {},
     "output_type": "display_data"
    },
    {
     "data": {
      "application/vnd.jupyter.widget-view+json": {
       "model_id": "19cfd1867f07463ebdda79135b39aca2",
       "version_major": 2,
       "version_minor": 0
      },
      "text/plain": [
       "HBox(children=(IntProgress(value=0, description='Batches', max=4), HTML(value='')))"
      ]
     },
     "metadata": {},
     "output_type": "display_data"
    },
    {
     "data": {
      "application/vnd.jupyter.widget-view+json": {
       "model_id": "e15f183015f2438f9f08ec258e7aa1ef",
       "version_major": 2,
       "version_minor": 0
      },
      "text/plain": [
       "HBox(children=(IntProgress(value=0, description='Batches', max=4), HTML(value='')))"
      ]
     },
     "metadata": {},
     "output_type": "display_data"
    },
    {
     "data": {
      "application/vnd.jupyter.widget-view+json": {
       "model_id": "ce2388ba4d4f431ab440568bc3a38abc",
       "version_major": 2,
       "version_minor": 0
      },
      "text/plain": [
       "HBox(children=(IntProgress(value=0, description='Batches', max=4), HTML(value='')))"
      ]
     },
     "metadata": {},
     "output_type": "display_data"
    },
    {
     "data": {
      "application/vnd.jupyter.widget-view+json": {
       "model_id": "5ad8f58e81ee404881d6c91e60b915d0",
       "version_major": 2,
       "version_minor": 0
      },
      "text/plain": [
       "HBox(children=(IntProgress(value=0, description='Batches', max=4), HTML(value='')))"
      ]
     },
     "metadata": {},
     "output_type": "display_data"
    },
    {
     "data": {
      "application/vnd.jupyter.widget-view+json": {
       "model_id": "0eba5efb6727488481e03585811c3ba7",
       "version_major": 2,
       "version_minor": 0
      },
      "text/plain": [
       "HBox(children=(IntProgress(value=0, description='Batches', max=4), HTML(value='')))"
      ]
     },
     "metadata": {},
     "output_type": "display_data"
    },
    {
     "data": {
      "application/vnd.jupyter.widget-view+json": {
       "model_id": "ca9fb4e813df4f08aa505ca2991cf044",
       "version_major": 2,
       "version_minor": 0
      },
      "text/plain": [
       "HBox(children=(IntProgress(value=0, description='Batches', max=4), HTML(value='')))"
      ]
     },
     "metadata": {},
     "output_type": "display_data"
    },
    {
     "data": {
      "application/vnd.jupyter.widget-view+json": {
       "model_id": "8664c93aeb664ce8bf1e7117ecec6a71",
       "version_major": 2,
       "version_minor": 0
      },
      "text/plain": [
       "HBox(children=(IntProgress(value=0, description='Batches', max=4), HTML(value='')))"
      ]
     },
     "metadata": {},
     "output_type": "display_data"
    },
    {
     "data": {
      "application/vnd.jupyter.widget-view+json": {
       "model_id": "581a649037d64dd4958cf36e9b88b53a",
       "version_major": 2,
       "version_minor": 0
      },
      "text/plain": [
       "HBox(children=(IntProgress(value=0, description='Batches', max=4), HTML(value='')))"
      ]
     },
     "metadata": {},
     "output_type": "display_data"
    },
    {
     "data": {
      "application/vnd.jupyter.widget-view+json": {
       "model_id": "349bc0dec1dc48c68df908ea0892d5ca",
       "version_major": 2,
       "version_minor": 0
      },
      "text/plain": [
       "HBox(children=(IntProgress(value=0, description='Batches', max=4), HTML(value='')))"
      ]
     },
     "metadata": {},
     "output_type": "display_data"
    },
    {
     "data": {
      "application/vnd.jupyter.widget-view+json": {
       "model_id": "2be9c7fa5e264efda622c4b4ecfcdc18",
       "version_major": 2,
       "version_minor": 0
      },
      "text/plain": [
       "HBox(children=(IntProgress(value=0, description='Batches', max=4), HTML(value='')))"
      ]
     },
     "metadata": {},
     "output_type": "display_data"
    },
    {
     "data": {
      "application/vnd.jupyter.widget-view+json": {
       "model_id": "c04959281a054880891264fd262a842c",
       "version_major": 2,
       "version_minor": 0
      },
      "text/plain": [
       "HBox(children=(IntProgress(value=0, description='Batches', max=4), HTML(value='')))"
      ]
     },
     "metadata": {},
     "output_type": "display_data"
    },
    {
     "data": {
      "application/vnd.jupyter.widget-view+json": {
       "model_id": "40f2062f324d4170a054c1002e223abb",
       "version_major": 2,
       "version_minor": 0
      },
      "text/plain": [
       "HBox(children=(IntProgress(value=0, description='Batches', max=4), HTML(value='')))"
      ]
     },
     "metadata": {},
     "output_type": "display_data"
    },
    {
     "data": {
      "application/vnd.jupyter.widget-view+json": {
       "model_id": "c8bec0944c9a49a0acd732cd58f1b1ce",
       "version_major": 2,
       "version_minor": 0
      },
      "text/plain": [
       "HBox(children=(IntProgress(value=0, description='Batches', max=4), HTML(value='')))"
      ]
     },
     "metadata": {},
     "output_type": "display_data"
    },
    {
     "data": {
      "application/vnd.jupyter.widget-view+json": {
       "model_id": "11fd3923c54d48eabfd90d0dc58ebb0f",
       "version_major": 2,
       "version_minor": 0
      },
      "text/plain": [
       "HBox(children=(IntProgress(value=0, description='Batches', max=4), HTML(value='')))"
      ]
     },
     "metadata": {},
     "output_type": "display_data"
    },
    {
     "data": {
      "application/vnd.jupyter.widget-view+json": {
       "model_id": "8a59a51dcc394068a5a7195937e52617",
       "version_major": 2,
       "version_minor": 0
      },
      "text/plain": [
       "HBox(children=(IntProgress(value=0, description='Batches', max=4), HTML(value='')))"
      ]
     },
     "metadata": {},
     "output_type": "display_data"
    },
    {
     "data": {
      "application/vnd.jupyter.widget-view+json": {
       "model_id": "4b9063329d79483b86f4b5245ffb6af8",
       "version_major": 2,
       "version_minor": 0
      },
      "text/plain": [
       "HBox(children=(IntProgress(value=0, description='Batches', max=4), HTML(value='')))"
      ]
     },
     "metadata": {},
     "output_type": "display_data"
    },
    {
     "data": {
      "application/vnd.jupyter.widget-view+json": {
       "model_id": "5c98f53efcf64b21ae858d29eb41c346",
       "version_major": 2,
       "version_minor": 0
      },
      "text/plain": [
       "HBox(children=(IntProgress(value=0, description='Batches', max=4), HTML(value='')))"
      ]
     },
     "metadata": {},
     "output_type": "display_data"
    },
    {
     "data": {
      "application/vnd.jupyter.widget-view+json": {
       "model_id": "667c4eaaad8b4a07a840b9c74ee16c40",
       "version_major": 2,
       "version_minor": 0
      },
      "text/plain": [
       "HBox(children=(IntProgress(value=0, description='Batches', max=4), HTML(value='')))"
      ]
     },
     "metadata": {},
     "output_type": "display_data"
    },
    {
     "data": {
      "application/vnd.jupyter.widget-view+json": {
       "model_id": "9ebe0650a6664654a6d7ac2160e845c1",
       "version_major": 2,
       "version_minor": 0
      },
      "text/plain": [
       "HBox(children=(IntProgress(value=0, description='Batches', max=4), HTML(value='')))"
      ]
     },
     "metadata": {},
     "output_type": "display_data"
    },
    {
     "data": {
      "application/vnd.jupyter.widget-view+json": {
       "model_id": "834842ce64a74794ae9181ed2d7a7a5b",
       "version_major": 2,
       "version_minor": 0
      },
      "text/plain": [
       "HBox(children=(IntProgress(value=0, description='Batches', max=4), HTML(value='')))"
      ]
     },
     "metadata": {},
     "output_type": "display_data"
    },
    {
     "data": {
      "application/vnd.jupyter.widget-view+json": {
       "model_id": "0ea5b091471d4253b88c076fb952e360",
       "version_major": 2,
       "version_minor": 0
      },
      "text/plain": [
       "HBox(children=(IntProgress(value=0, description='Batches', max=4), HTML(value='')))"
      ]
     },
     "metadata": {},
     "output_type": "display_data"
    },
    {
     "data": {
      "application/vnd.jupyter.widget-view+json": {
       "model_id": "07d3d3e5cbfc425e81ec9595ea7e3398",
       "version_major": 2,
       "version_minor": 0
      },
      "text/plain": [
       "HBox(children=(IntProgress(value=0, description='Batches', max=4), HTML(value='')))"
      ]
     },
     "metadata": {},
     "output_type": "display_data"
    },
    {
     "data": {
      "application/vnd.jupyter.widget-view+json": {
       "model_id": "b1485e990f564810b411dc24a27bb6eb",
       "version_major": 2,
       "version_minor": 0
      },
      "text/plain": [
       "HBox(children=(IntProgress(value=0, description='Batches', max=4), HTML(value='')))"
      ]
     },
     "metadata": {},
     "output_type": "display_data"
    },
    {
     "data": {
      "application/vnd.jupyter.widget-view+json": {
       "model_id": "e32e236a37644113a9fbf42ffb8fe319",
       "version_major": 2,
       "version_minor": 0
      },
      "text/plain": [
       "HBox(children=(IntProgress(value=0, description='Batches', max=4), HTML(value='')))"
      ]
     },
     "metadata": {},
     "output_type": "display_data"
    },
    {
     "data": {
      "application/vnd.jupyter.widget-view+json": {
       "model_id": "06a4633c9fb14826a1ee6ac8aa637596",
       "version_major": 2,
       "version_minor": 0
      },
      "text/plain": [
       "HBox(children=(IntProgress(value=0, description='Batches', max=4), HTML(value='')))"
      ]
     },
     "metadata": {},
     "output_type": "display_data"
    },
    {
     "data": {
      "application/vnd.jupyter.widget-view+json": {
       "model_id": "0abddd929511477e9474ffe9ddfe096a",
       "version_major": 2,
       "version_minor": 0
      },
      "text/plain": [
       "HBox(children=(IntProgress(value=0, description='Batches', max=4), HTML(value='')))"
      ]
     },
     "metadata": {},
     "output_type": "display_data"
    },
    {
     "data": {
      "application/vnd.jupyter.widget-view+json": {
       "model_id": "4f0a8191cc0f499a879a5432662993ce",
       "version_major": 2,
       "version_minor": 0
      },
      "text/plain": [
       "HBox(children=(IntProgress(value=0, description='Batches', max=4), HTML(value='')))"
      ]
     },
     "metadata": {},
     "output_type": "display_data"
    },
    {
     "data": {
      "application/vnd.jupyter.widget-view+json": {
       "model_id": "9faf798feabf470ba52a5b8bdae07dfa",
       "version_major": 2,
       "version_minor": 0
      },
      "text/plain": [
       "HBox(children=(IntProgress(value=0, description='Batches', max=4), HTML(value='')))"
      ]
     },
     "metadata": {},
     "output_type": "display_data"
    },
    {
     "name": "stdout",
     "output_type": "stream",
     "text": [
      "\n",
      "Sampling approximate posterior...\n"
     ]
    },
    {
     "name": "stderr",
     "output_type": "stream",
     "text": [
      "/Users/charnock/Physics/delfi/ndes/nde.py:232: RuntimeWarning: divide by zero encountered in log\n",
      "  if np.isnan(np.mean(np.log(like))):\n",
      "/Users/charnock/Physics/delfi/ndes/nde.py:235: RuntimeWarning: divide by zero encountered in log\n",
      "  return np.mean(np.log(like))\n"
     ]
    }
   ],
   "source": [
    "# Proposal for the SNL\n",
    "proposal = priors.TruncatedGaussian(theta_fiducial, 9*Finv, lower, upper)\n",
    "\n",
    "# Initial samples, batch size for population samples, number of populations\n",
    "n_initial = 500\n",
    "n_batch = 500\n",
    "n_populations = 15\n",
    "\n",
    "# Do the SNL training\n",
    "mdn.sequential_training(n_initial, n_batch, n_populations, proposal, epsilon = 1e-37)"
   ]
  },
  {
   "cell_type": "code",
   "execution_count": 10,
   "metadata": {},
   "outputs": [
    {
     "data": {
      "image/png": "[encoded data removed]",
      "text/plain": [
       "<Figure size 432x288 with 1 Axes>"
      ]
     },
     "metadata": {
      "needs_background": "light"
     },
     "output_type": "display_data"
    }
   ],
   "source": [
    "# Trace plot of the loss as a function of the number of simulations\n",
    "plt.scatter(mdn.n_sim_trace, mdn.loss_trace, s = 20)\n",
    "plt.plot(mdn.n_sim_trace, mdn.loss_trace, color = 'red')\n",
    "plt.xlim(0, mdn.n_sim_trace[-1])\n",
    "plt.xlabel('number of simulations')\n",
    "plt.ylabel('loss')\n",
    "plt.show()"
   ]
  }
 ],
 "metadata": {
  "kernelspec": {
   "display_name": "Python 3",
   "language": "python",
   "name": "python3"
  },
  "language_info": {
   "codemirror_mode": {
    "name": "ipython",
    "version": 3
   },
   "file_extension": ".py",
   "mimetype": "text/x-python",
   "name": "python",
   "nbconvert_exporter": "python",
   "pygments_lexer": "ipython3",
   "version": "3.6.6"
  },
  "latex_envs": {
   "LaTeX_envs_menu_present": true,
   "autoclose": true,
   "autocomplete": true,
   "bibliofile": "biblio.bib",
   "cite_by": "apalike",
   "current_citInitial": 1,
   "eqLabelWithNumbers": false,
   "eqNumInitial": 1,
   "hotkeys": {
    "equation": "Ctrl-E",
    "itemize": "Ctrl-I"
   },
   "labels_anchors": false,
   "latex_user_defs": false,
   "report_style_numbering": false,
   "user_envs_cfg": false
  }
 },
 "nbformat": 4,
 "nbformat_minor": 2
}
