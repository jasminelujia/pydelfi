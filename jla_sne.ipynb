{
 "cells": [
  {
   "cell_type": "code",
   "execution_count": 1,
   "metadata": {},
   "outputs": [
    {
     "name": "stderr",
     "output_type": "stream",
     "text": [
      "Using Theano backend.\n"
     ]
    }
   ],
   "source": [
    "import numpy as np\n",
    "import matplotlib.pyplot as plt\n",
    "import scipy.interpolate as interpolate\n",
    "from simulators.jla_supernovae.jla import *\n",
    "import simulators.jla_supernovae.jla_parser as jla\n",
    "import ndes.nde as nde\n",
    "import distributions.priors as priors\n",
    "%matplotlib inline"
   ]
  },
  {
   "cell_type": "code",
   "execution_count": 9,
   "metadata": {},
   "outputs": [
    {
     "name": "stderr",
     "output_type": "stream",
     "text": [
      "/Users/jalsing/Dropbox (Simons Foundation)/science/delfi/DELFI/simulators/jla_supernovae/jla_parser.py:9: VisibleDeprecationWarning: Reading unicode strings without specifying the encoding argument is deprecated. Set the encoding, use None for the system default.\n",
      "  dtype = None, names = True)\n"
     ]
    },
    {
     "ename": "KeyboardInterrupt",
     "evalue": "",
     "output_type": "error",
     "traceback": [
      "\u001b[0;31m---------------------------------------------------------------------------\u001b[0m",
      "\u001b[0;31mKeyboardInterrupt\u001b[0m                         Traceback (most recent call last)",
      "\u001b[0;32m<ipython-input-9-dc7545893e7d>\u001b[0m in \u001b[0;36m<module>\u001b[0;34m()\u001b[0m\n\u001b[1;32m      2\u001b[0m \u001b[0;31m# Import data\u001b[0m\u001b[0;34m\u001b[0m\u001b[0;34m\u001b[0m\u001b[0m\n\u001b[1;32m      3\u001b[0m jla_data, jla_cmats = jla.b14_parse(z_min=None, z_max=None, qual_cut=False,\n\u001b[0;32m----> 4\u001b[0;31m                                     jla_path='simulators/jla_supernovae/jla_data/')\n\u001b[0m\u001b[1;32m      5\u001b[0m \u001b[0mdata\u001b[0m \u001b[0;34m=\u001b[0m \u001b[0mjla_data\u001b[0m\u001b[0;34m[\u001b[0m\u001b[0;34m'mb'\u001b[0m\u001b[0;34m]\u001b[0m\u001b[0;34m\u001b[0m\u001b[0m\n\u001b[1;32m      6\u001b[0m \u001b[0mdelta_m_cut\u001b[0m \u001b[0;34m=\u001b[0m \u001b[0;36m10\u001b[0m\u001b[0;34m\u001b[0m\u001b[0m\n",
      "\u001b[0;32m~/Dropbox (Simons Foundation)/science/delfi/DELFI/simulators/jla_supernovae/jla_parser.py\u001b[0m in \u001b[0;36mb14_parse\u001b[0;34m(z_min, z_max, qual_cut, jla_path)\u001b[0m\n\u001b[1;32m     31\u001b[0m              'vab': np.zeros((n_sn, n_sn))}\n\u001b[1;32m     32\u001b[0m     \u001b[0;32mfor\u001b[0m \u001b[0mcmat\u001b[0m \u001b[0;32min\u001b[0m \u001b[0mcmats\u001b[0m\u001b[0;34m:\u001b[0m\u001b[0;34m\u001b[0m\u001b[0m\n\u001b[0;32m---> 33\u001b[0;31m         \u001b[0md\u001b[0m \u001b[0;34m=\u001b[0m \u001b[0mnp\u001b[0m\u001b[0;34m.\u001b[0m\u001b[0mgenfromtxt\u001b[0m\u001b[0;34m(\u001b[0m\u001b[0mjla_path\u001b[0m \u001b[0;34m+\u001b[0m \u001b[0;34m'jla_'\u001b[0m \u001b[0;34m+\u001b[0m \u001b[0mcmat\u001b[0m \u001b[0;34m+\u001b[0m \u001b[0;34m'_covmatrix.dat'\u001b[0m\u001b[0;34m)\u001b[0m\u001b[0;34m\u001b[0m\u001b[0m\n\u001b[0m\u001b[1;32m     34\u001b[0m         \u001b[0;31m#for i in range(n_sn):\u001b[0m\u001b[0;34m\u001b[0m\u001b[0;34m\u001b[0m\u001b[0m\n\u001b[1;32m     35\u001b[0m         \u001b[0;31m#    cmats[cmat][i, :] = d[i * n_sn + 1: (i + 1) * n_sn + 1]\u001b[0m\u001b[0;34m\u001b[0m\u001b[0;34m\u001b[0m\u001b[0m\n",
      "\u001b[0;32m/usr/local/lib/python3.6/site-packages/numpy/lib/npyio.py\u001b[0m in \u001b[0;36mgenfromtxt\u001b[0;34m(fname, dtype, comments, delimiter, skip_header, skip_footer, converters, missing_values, filling_values, usecols, names, excludelist, deletechars, replace_space, autostrip, case_sensitive, defaultfmt, unpack, usemask, loose, invalid_raise, max_rows, encoding)\u001b[0m\n\u001b[1;32m   2033\u001b[0m         rows = list(\n\u001b[1;32m   2034\u001b[0m             zip(*[[conv._loose_call(_r) for _r in map(itemgetter(i), rows)]\n\u001b[0;32m-> 2035\u001b[0;31m                   for (i, conv) in enumerate(converters)]))\n\u001b[0m\u001b[1;32m   2036\u001b[0m     \u001b[0;32melse\u001b[0m\u001b[0;34m:\u001b[0m\u001b[0;34m\u001b[0m\u001b[0m\n\u001b[1;32m   2037\u001b[0m         rows = list(\n",
      "\u001b[0;31mKeyboardInterrupt\u001b[0m: "
     ]
    }
   ],
   "source": [
    "### SET UP FOR SIMULATION CODE ###\n",
    "# Import data\n",
    "jla_data, jla_cmats = jla.b14_parse(z_min=None, z_max=None, qual_cut=False,\n",
    "                                    jla_path='simulators/jla_supernovae/jla_data/')\n",
    "data = jla_data['mb']\n",
    "delta_m_cut = 10\n",
    "auxiliary_data = np.column_stack([jla_data['zcmb'], jla_data['x1'], jla_data['color'], np.array([(jla_data['3rdvar'] > delta_m_cut)], dtype=int)[0]])\n",
    "\n",
    "# Om, w0, M_b, alpha, beta, delta_m\n",
    "npar = 6\n",
    "theta_fiducial = np.array([  0.20181324,  -0.74762939, -19.04253368,   0.12566322,   2.64387045, -0.05252869])\n",
    "\n",
    "# Define prior limits and boundaries\n",
    "lower = np.array([0, -1.5, -20, 0, 0, -0.5])\n",
    "upper = np.array([0.6, 0, -18, 1, 6, 0.5])\n",
    "Q = np.diag([0.4, 0.75, 0.1, 0.025, 0.25, 0.05])**2\n",
    "Q[0,1] = Q[1,0] = -0.8*0.4*0.75\n",
    "Qinv = np.linalg.inv(Q)\n",
    "prior_mean = np.array([  0.3  ,  -0.75 , -19.05 ,   0.125,   2.6  ,  -0.05 ])\n",
    "prior_args = [prior_mean, Q, lower, upper]\n",
    "\n",
    "# Covariance matrix\n",
    "C = jla.b14_covariance(jla_data, jla_cmats, theta_fiducial[3], theta_fiducial[4])\n",
    "Cinv = np.linalg.inv(C)\n",
    "L = np.linalg.cholesky(C)\n",
    "\n",
    "# Derivative of the covariance matrix\n",
    "n_sn = len(C)\n",
    "dCdt = np.zeros((npar, n_sn, n_sn))\n",
    "\n",
    "# Step size for derivatives\n",
    "step = abs(0.01*theta_fiducial)\n",
    "\n",
    "# N data points\n",
    "ndata = len(jla_data['mb'])\n",
    "\n",
    "# Simulation args\n",
    "sim_args = [auxiliary_data, L]\n",
    "\n",
    "# Compute the mean\n",
    "mu = apparent_magnitude(theta_fiducial, auxiliary_data)\n",
    "\n",
    "# Compute the derivatives\n",
    "dmdt = dmudtheta(theta_fiducial, simulation_seeded, step, npar, ndata, sim_args)\n",
    "dmdt[2,:] = np.ones(n_sn)\n",
    "dmdt[3,:] = -jla_data['x1']\n",
    "dmdt[4,:] = jla_data['color']\n",
    "dmdt[5,:] = (jla_data['3rdvar'] > 10)\n",
    "\n",
    "# Fisher matrix\n",
    "F, Finv = fisher(dmdt, dCdt, Cinv, Qinv, npar)\n",
    "fisher_errors = np.sqrt(np.diag(Finv))\n",
    "\n",
    "# Simulation args for ABC\n",
    "simABC_args = [theta_fiducial, Finv, Cinv, dmdt, dCdt, mu, Qinv, prior_mean, sim_args]\n",
    "\n",
    "# Compressed dataset\n",
    "data = mle(theta_fiducial, Finv, Cinv, dmdt, dCdt, mu, Qinv, prior_mean, data)"
   ]
  },
  {
   "cell_type": "code",
   "execution_count": null,
   "metadata": {},
   "outputs": [],
   "source": [
    "# Define the simulator function: takes parameters, spits out simulated (compressed) summaries\n",
    "simulator = lambda x: simulationABC(x, simABC_args)"
   ]
  },
  {
   "cell_type": "code",
   "execution_count": null,
   "metadata": {},
   "outputs": [],
   "source": [
    "# Create prior over parameters\n",
    "prior = priors.TruncatedGaussian(prior_mean, Q, lower, upper)\n",
    "\n",
    "# Create asymptotic posterior approximation\n",
    "asymptotic_posterior = priors.TruncatedGaussian(theta_fiducial, Finv, lower, upper)"
   ]
  },
  {
   "cell_type": "code",
   "execution_count": 6,
   "metadata": {},
   "outputs": [],
   "source": [
    "# Create the DELFI MDN object\n",
    "n_components = 1\n",
    "names = ['\\Omega_m', 'w_0', 'M_\\mathrm{B}', '\\alpha', '\\beta', '\\delta M']\n",
    "labels =  ['\\\\Omega_m', 'w_0', 'M_\\mathrm{B}', '\\\\alpha', '\\\\beta', '\\\\delta M']\n",
    "ranges = {'\\Omega_m':[lower[0], upper[0]], '\\w0':[lower[1], upper[1]]}\n",
    "\n",
    "mdn = nde.DelfiMixtureDensityNetwork(simulator, prior, asymptotic_posterior, Finv, theta_fiducial, data, n_components, n_hidden = [50, 50], activations = ['tanh', 'tanh'], names = names, labels = labels, ranges = ranges)"
   ]
  },
  {
   "cell_type": "code",
   "execution_count": 7,
   "metadata": {},
   "outputs": [
    {
     "name": "stdout",
     "output_type": "stream",
     "text": [
      "Training on the pre-training data...\n",
      "Train on 45000 samples, validate on 5000 samples\n",
      "Epoch 1/50\n",
      "45000/45000 [==============================] - 31s 682us/step - loss: 14.5294 - val_loss: 9.7550\n",
      "Epoch 2/50\n",
      "45000/45000 [==============================] - 38s 845us/step - loss: 9.0055 - val_loss: 8.3416\n",
      "Epoch 3/50\n",
      "45000/45000 [==============================] - 34s 766us/step - loss: 7.8585 - val_loss: 7.4378\n",
      "Epoch 4/50\n",
      "45000/45000 [==============================] - 38s 849us/step - loss: 7.2455 - val_loss: 7.0926\n",
      "Epoch 5/50\n",
      "45000/45000 [==============================] - 33s 726us/step - loss: 7.0110 - val_loss: 6.9239\n",
      "Epoch 6/50\n",
      "45000/45000 [==============================] - 33s 732us/step - loss: 6.8985 - val_loss: 6.9044\n",
      "Epoch 7/50\n",
      "45000/45000 [==============================] - 32s 700us/step - loss: 6.8449 - val_loss: 6.8364\n",
      "Epoch 8/50\n",
      "45000/45000 [==============================] - 30s 664us/step - loss: 6.8023 - val_loss: 6.7866\n",
      "Epoch 9/50\n",
      "45000/45000 [==============================] - 31s 680us/step - loss: 6.7784 - val_loss: 6.7566\n",
      "Epoch 10/50\n",
      "45000/45000 [==============================] - 32s 708us/step - loss: 6.7574 - val_loss: 6.7337\n",
      "Epoch 11/50\n",
      "45000/45000 [==============================] - 30s 669us/step - loss: 6.7416 - val_loss: 6.7855\n",
      "Epoch 12/50\n",
      "45000/45000 [==============================] - 29s 641us/step - loss: 6.7366 - val_loss: 6.7551\n",
      "Epoch 13/50\n",
      "45000/45000 [==============================] - 31s 680us/step - loss: 6.7224 - val_loss: 6.7555\n",
      "Epoch 14/50\n",
      "45000/45000 [==============================] - 32s 705us/step - loss: 6.7139 - val_loss: 6.6874\n",
      "Epoch 15/50\n",
      "45000/45000 [==============================] - 33s 736us/step - loss: 6.7093 - val_loss: 6.7205\n",
      "Epoch 16/50\n",
      "45000/45000 [==============================] - 32s 719us/step - loss: 6.7088 - val_loss: 6.6974\n",
      "Epoch 17/50\n",
      "45000/45000 [==============================] - 33s 725us/step - loss: 6.7032 - val_loss: 6.7165\n",
      "Epoch 18/50\n",
      "45000/45000 [==============================] - 29s 636us/step - loss: 6.6986 - val_loss: 6.7090\n",
      "Epoch 19/50\n",
      "45000/45000 [==============================] - 29s 653us/step - loss: 6.6969 - val_loss: 6.6985\n",
      "Epoch 20/50\n",
      "45000/45000 [==============================] - 28s 632us/step - loss: 6.6899 - val_loss: 6.7417\n",
      "Epoch 21/50\n",
      "45000/45000 [==============================] - 4710s 105ms/step - loss: 6.6856 - val_loss: 6.6869\n",
      "Epoch 22/50\n",
      "45000/45000 [==============================] - 32s 706us/step - loss: 6.6827 - val_loss: 6.6877\n",
      "Epoch 23/50\n",
      "45000/45000 [==============================] - 31s 685us/step - loss: 6.6899 - val_loss: 6.6649\n",
      "Epoch 24/50\n",
      "45000/45000 [==============================] - 28s 612us/step - loss: 6.6792 - val_loss: 6.6551\n",
      "Epoch 25/50\n",
      "45000/45000 [==============================] - 74s 2ms/step - loss: 6.6759 - val_loss: 6.6475\n",
      "Epoch 26/50\n",
      "45000/45000 [==============================] - 31s 680us/step - loss: 6.6771 - val_loss: 6.6784\n",
      "Epoch 27/50\n",
      "45000/45000 [==============================] - 73s 2ms/step - loss: 6.6765 - val_loss: 6.6745\n",
      "Epoch 28/50\n",
      "45000/45000 [==============================] - 44s 968us/step - loss: 6.6722 - val_loss: 6.7445\n",
      "Epoch 29/50\n",
      "45000/45000 [==============================] - 36s 811us/step - loss: 6.6773 - val_loss: 6.6809\n",
      "Epoch 30/50\n",
      "45000/45000 [==============================] - 37s 821us/step - loss: 6.6663 - val_loss: 6.7375\n",
      "Epoch 31/50\n",
      "45000/45000 [==============================] - 38s 833us/step - loss: 6.6720 - val_loss: 6.6758\n",
      "Epoch 32/50\n",
      "45000/45000 [==============================] - 35s 787us/step - loss: 6.6712 - val_loss: 6.6944\n",
      "Epoch 33/50\n",
      "45000/45000 [==============================] - 30s 661us/step - loss: 6.6675 - val_loss: 6.6752\n",
      "Epoch 34/50\n",
      "45000/45000 [==============================] - 30s 662us/step - loss: 6.6690 - val_loss: 6.6741\n",
      "Epoch 35/50\n",
      "45000/45000 [==============================] - 28s 632us/step - loss: 6.6711 - val_loss: 6.6643\n",
      "Epoch 36/50\n",
      "45000/45000 [==============================] - 28s 625us/step - loss: 6.6710 - val_loss: 6.6728\n",
      "Epoch 37/50\n",
      "45000/45000 [==============================] - 28s 632us/step - loss: 6.6658 - val_loss: 6.6730\n",
      "Epoch 38/50\n",
      "45000/45000 [==============================] - 28s 620us/step - loss: 6.6648 - val_loss: 6.6678\n",
      "Epoch 39/50\n",
      "45000/45000 [==============================] - 28s 613us/step - loss: 6.6655 - val_loss: 6.6606\n",
      "Epoch 40/50\n",
      "45000/45000 [==============================] - 28s 612us/step - loss: 6.6683 - val_loss: 6.6697\n",
      "Epoch 41/50\n",
      "45000/45000 [==============================] - 32s 703us/step - loss: 6.6655 - val_loss: 6.6748\n",
      "Epoch 42/50\n",
      "45000/45000 [==============================] - 31s 690us/step - loss: 6.6613 - val_loss: 6.7310\n",
      "Epoch 43/50\n",
      "45000/45000 [==============================] - 30s 657us/step - loss: 6.6627 - val_loss: 6.6804\n",
      "Epoch 44/50\n",
      "45000/45000 [==============================] - 28s 630us/step - loss: 6.6630 - val_loss: 6.6781\n",
      "Epoch 45/50\n",
      "45000/45000 [==============================] - 28s 629us/step - loss: 6.6607 - val_loss: 6.6475\n",
      "Done.\n",
      "Sampling approximate posterior...\n"
     ]
    },
    {
     "name": "stderr",
     "output_type": "stream",
     "text": [
      "WARNING:root:fine_bins not large enough to well sample smoothing scale - \\Omega_m\n"
     ]
    },
    {
     "name": "stdout",
     "output_type": "stream",
     "text": [
      "Done.\n"
     ]
    },
    {
     "name": "stderr",
     "output_type": "stream",
     "text": [
      "WARNING:root:fine_bins not large enough to well sample smoothing scale - w_0\n",
      "WARNING:root:fine_bins not large enough to well sample smoothing scale - M_\\mathrm{B}\n",
      "WARNING:root:fine_bins not large enough to well sample smoothing scale - \u0007lpha\n",
      "WARNING:root:fine_bins not large enough to well sample smoothing scale -eta\n",
      "WARNING:root:fine_bins not large enough to well sample smoothing scale - \\delta\n",
      "WARNING:root:fine_bins_2D not large enough for optimal density\n"
     ]
    },
    {
     "ename": "DensitiesError",
     "evalue": "Contour level outside plotted ranges",
     "output_type": "error",
     "traceback": [
      "\u001b[0;31m---------------------------------------------------------------------------\u001b[0m",
      "\u001b[0;31mDensitiesError\u001b[0m                            Traceback (most recent call last)",
      "\u001b[0;32m<ipython-input-7-261cbcc75e71>\u001b[0m in \u001b[0;36m<module>\u001b[0;34m()\u001b[0m\n\u001b[1;32m      3\u001b[0m \u001b[0;34m\u001b[0m\u001b[0m\n\u001b[1;32m      4\u001b[0m \u001b[0;31m# Do the Fisher pre-training\u001b[0m\u001b[0;34m\u001b[0m\u001b[0;34m\u001b[0m\u001b[0m\n\u001b[0;32m----> 5\u001b[0;31m \u001b[0mmdn\u001b[0m\u001b[0;34m.\u001b[0m\u001b[0mfisher_pretraining\u001b[0m\u001b[0;34m(\u001b[0m\u001b[0;36m50000\u001b[0m\u001b[0;34m,\u001b[0m \u001b[0mproposal\u001b[0m\u001b[0;34m,\u001b[0m \u001b[0mepochs\u001b[0m\u001b[0;34m=\u001b[0m\u001b[0;36m50\u001b[0m\u001b[0;34m)\u001b[0m\u001b[0;34m\u001b[0m\u001b[0m\n\u001b[0m",
      "\u001b[0;32m~/Dropbox (Simons Foundation)/science/delfi/DELFI/ndes/nde.py\u001b[0m in \u001b[0;36mfisher_pretraining\u001b[0;34m(self, n_batch, proposal, plot, batch_size, validation_split, epochs, patience)\u001b[0m\n\u001b[1;32m    278\u001b[0m         \u001b[0;31m# if plot == True\u001b[0m\u001b[0;34m\u001b[0m\u001b[0;34m\u001b[0m\u001b[0m\n\u001b[1;32m    279\u001b[0m         \u001b[0;32mif\u001b[0m \u001b[0mplot\u001b[0m \u001b[0;34m==\u001b[0m \u001b[0;32mTrue\u001b[0m\u001b[0;34m:\u001b[0m\u001b[0;34m\u001b[0m\u001b[0m\n\u001b[0;32m--> 280\u001b[0;31m             \u001b[0mself\u001b[0m\u001b[0;34m.\u001b[0m\u001b[0mtriangle_plot\u001b[0m\u001b[0;34m(\u001b[0m\u001b[0;34m[\u001b[0m\u001b[0mself\u001b[0m\u001b[0;34m.\u001b[0m\u001b[0mposterior_samples\u001b[0m\u001b[0;34m]\u001b[0m\u001b[0;34m)\u001b[0m\u001b[0;34m\u001b[0m\u001b[0m\n\u001b[0m\u001b[1;32m    281\u001b[0m \u001b[0;34m\u001b[0m\u001b[0m\n\u001b[1;32m    282\u001b[0m         \u001b[0;31m# Update the loss (as a function of the number of simulations) and number of simulations ran (zero so far)\u001b[0m\u001b[0;34m\u001b[0m\u001b[0;34m\u001b[0m\u001b[0m\n",
      "\u001b[0;32m~/Dropbox (Simons Foundation)/science/delfi/DELFI/ndes/nde.py\u001b[0m in \u001b[0;36mtriangle_plot\u001b[0;34m(self, samples, savefig, filename)\u001b[0m\n\u001b[1;32m    296\u001b[0m         \u001b[0mg\u001b[0m\u001b[0;34m.\u001b[0m\u001b[0msettings\u001b[0m\u001b[0;34m.\u001b[0m\u001b[0mlegend_fontsize\u001b[0m\u001b[0;34m=\u001b[0m\u001b[0;36m16\u001b[0m\u001b[0;34m\u001b[0m\u001b[0m\n\u001b[1;32m    297\u001b[0m         \u001b[0mg\u001b[0m\u001b[0;34m.\u001b[0m\u001b[0msettings\u001b[0m\u001b[0;34m.\u001b[0m\u001b[0mlab_fontsize\u001b[0m\u001b[0;34m=\u001b[0m\u001b[0;36m20\u001b[0m\u001b[0;34m\u001b[0m\u001b[0m\n\u001b[0;32m--> 298\u001b[0;31m         \u001b[0mg\u001b[0m\u001b[0;34m.\u001b[0m\u001b[0mtriangle_plot\u001b[0m\u001b[0;34m(\u001b[0m\u001b[0mmc_samples\u001b[0m\u001b[0;34m,\u001b[0m \u001b[0mfilled_compare\u001b[0m\u001b[0;34m=\u001b[0m\u001b[0;32mTrue\u001b[0m\u001b[0;34m,\u001b[0m \u001b[0mnormalized\u001b[0m\u001b[0;34m=\u001b[0m\u001b[0;32mTrue\u001b[0m\u001b[0;34m,\u001b[0m \u001b[0mlegend_labels\u001b[0m\u001b[0;34m=\u001b[0m\u001b[0;34m[\u001b[0m\u001b[0;34m'Density estimation likelihood-free inference'\u001b[0m\u001b[0;34m]\u001b[0m\u001b[0;34m)\u001b[0m\u001b[0;34m\u001b[0m\u001b[0m\n\u001b[0m\u001b[1;32m    299\u001b[0m         \u001b[0;32mfor\u001b[0m \u001b[0mi\u001b[0m \u001b[0;32min\u001b[0m \u001b[0mrange\u001b[0m\u001b[0;34m(\u001b[0m\u001b[0;36m0\u001b[0m\u001b[0;34m,\u001b[0m \u001b[0mlen\u001b[0m\u001b[0;34m(\u001b[0m\u001b[0msamples\u001b[0m\u001b[0;34m[\u001b[0m\u001b[0;36m0\u001b[0m\u001b[0;34m]\u001b[0m\u001b[0;34m[\u001b[0m\u001b[0;36m0\u001b[0m\u001b[0;34m,\u001b[0m\u001b[0;34m:\u001b[0m\u001b[0;34m]\u001b[0m\u001b[0;34m)\u001b[0m\u001b[0;34m)\u001b[0m\u001b[0;34m:\u001b[0m\u001b[0;34m\u001b[0m\u001b[0m\n\u001b[1;32m    300\u001b[0m             \u001b[0;32mfor\u001b[0m \u001b[0mj\u001b[0m \u001b[0;32min\u001b[0m \u001b[0mrange\u001b[0m\u001b[0;34m(\u001b[0m\u001b[0;36m0\u001b[0m\u001b[0;34m,\u001b[0m \u001b[0mi\u001b[0m\u001b[0;34m+\u001b[0m\u001b[0;36m1\u001b[0m\u001b[0;34m)\u001b[0m\u001b[0;34m:\u001b[0m\u001b[0;34m\u001b[0m\u001b[0m\n",
      "\u001b[0;32m/usr/local/lib/python3.6/site-packages/getdist/plots.py\u001b[0m in \u001b[0;36mtriangle_plot\u001b[0;34m(self, roots, params, legend_labels, plot_3d_with_param, filled, shaded, contour_args, contour_colors, contour_ls, contour_lws, line_args, label_order, legend_ncol, legend_loc, upper_roots, upper_kwargs, param_limits, **kwargs)\u001b[0m\n\u001b[1;32m   1979\u001b[0m                     self.plot_2d(roots, param_pair=pair, do_xlabel=i2 == plot_col - 1, do_ylabel=i == 0,\n\u001b[1;32m   1980\u001b[0m                                  \u001b[0mno_label_no_numbers\u001b[0m\u001b[0;34m=\u001b[0m\u001b[0mself\u001b[0m\u001b[0;34m.\u001b[0m\u001b[0msettings\u001b[0m\u001b[0;34m.\u001b[0m\u001b[0mno_triangle_axis_labels\u001b[0m\u001b[0;34m,\u001b[0m \u001b[0mshaded\u001b[0m\u001b[0;34m=\u001b[0m\u001b[0mshaded\u001b[0m\u001b[0;34m,\u001b[0m\u001b[0;34m\u001b[0m\u001b[0m\n\u001b[0;32m-> 1981\u001b[0;31m                                  add_legend_proxy=i == 0 and i2 == 1, contour_args=contour_args, **kwargs)\n\u001b[0m\u001b[1;32m   1982\u001b[0m                 \u001b[0max\u001b[0m\u001b[0;34m.\u001b[0m\u001b[0mset_xticks\u001b[0m\u001b[0;34m(\u001b[0m\u001b[0mticks\u001b[0m\u001b[0;34m[\u001b[0m\u001b[0mi\u001b[0m\u001b[0;34m]\u001b[0m\u001b[0;34m)\u001b[0m\u001b[0;34m\u001b[0m\u001b[0m\n\u001b[1;32m   1983\u001b[0m                 \u001b[0max\u001b[0m\u001b[0;34m.\u001b[0m\u001b[0mset_yticks\u001b[0m\u001b[0;34m(\u001b[0m\u001b[0mticks\u001b[0m\u001b[0;34m[\u001b[0m\u001b[0mi2\u001b[0m\u001b[0;34m]\u001b[0m\u001b[0;34m)\u001b[0m\u001b[0;34m\u001b[0m\u001b[0m\n",
      "\u001b[0;32m/usr/local/lib/python3.6/site-packages/getdist/plots.py\u001b[0m in \u001b[0;36mplot_2d\u001b[0;34m(self, roots, param1, param2, param_pair, shaded, add_legend_proxy, line_offset, proxy_root_exclude, **kwargs)\u001b[0m\n\u001b[1;32m   1156\u001b[0m                 res = self.add_2d_contours(root, param_pair[0], param_pair[1], line_offset + i, of=len(roots),\n\u001b[1;32m   1157\u001b[0m                                            \u001b[0madd_legend_proxy\u001b[0m\u001b[0;34m=\u001b[0m\u001b[0madd_legend_proxy\u001b[0m \u001b[0;32mand\u001b[0m \u001b[0;32mnot\u001b[0m \u001b[0mroot\u001b[0m \u001b[0;32min\u001b[0m \u001b[0mproxy_root_exclude\u001b[0m\u001b[0;34m,\u001b[0m\u001b[0;34m\u001b[0m\u001b[0m\n\u001b[0;32m-> 1158\u001b[0;31m                                            **contour_args[i])\n\u001b[0m\u001b[1;32m   1159\u001b[0m             \u001b[0mxbounds\u001b[0m\u001b[0;34m,\u001b[0m \u001b[0mybounds\u001b[0m \u001b[0;34m=\u001b[0m \u001b[0mself\u001b[0m\u001b[0;34m.\u001b[0m\u001b[0m_updateLimits\u001b[0m\u001b[0;34m(\u001b[0m\u001b[0mres\u001b[0m\u001b[0;34m,\u001b[0m \u001b[0mxbounds\u001b[0m\u001b[0;34m,\u001b[0m \u001b[0mybounds\u001b[0m\u001b[0;34m)\u001b[0m\u001b[0;34m\u001b[0m\u001b[0m\n\u001b[1;32m   1160\u001b[0m         \u001b[0;32mif\u001b[0m \u001b[0mxbounds\u001b[0m \u001b[0;32mis\u001b[0m \u001b[0;32mNone\u001b[0m\u001b[0;34m:\u001b[0m \u001b[0;32mreturn\u001b[0m\u001b[0;34m\u001b[0m\u001b[0m\n",
      "\u001b[0;32m/usr/local/lib/python3.6/site-packages/getdist/plots.py\u001b[0m in \u001b[0;36madd_2d_contours\u001b[0;34m(self, root, param1, param2, plotno, of, cols, contour_levels, add_legend_proxy, param_pair, density, alpha, ax, **kwargs)\u001b[0m\n\u001b[1;32m    904\u001b[0m             density = self.sampleAnalyser.get_density_grid(root, param1, param2,\n\u001b[1;32m    905\u001b[0m                                                            \u001b[0mconts\u001b[0m\u001b[0;34m=\u001b[0m\u001b[0mself\u001b[0m\u001b[0;34m.\u001b[0m\u001b[0msettings\u001b[0m\u001b[0;34m.\u001b[0m\u001b[0mnum_plot_contours\u001b[0m\u001b[0;34m,\u001b[0m\u001b[0;34m\u001b[0m\u001b[0m\n\u001b[0;32m--> 906\u001b[0;31m                                                            likes=self.settings.shade_meanlikes)\n\u001b[0m\u001b[1;32m    907\u001b[0m             \u001b[0;32mif\u001b[0m \u001b[0mdensity\u001b[0m \u001b[0;32mis\u001b[0m \u001b[0;32mNone\u001b[0m\u001b[0;34m:\u001b[0m\u001b[0;34m\u001b[0m\u001b[0m\n\u001b[1;32m    908\u001b[0m                 \u001b[0;32mif\u001b[0m \u001b[0madd_legend_proxy\u001b[0m\u001b[0;34m:\u001b[0m \u001b[0mself\u001b[0m\u001b[0;34m.\u001b[0m\u001b[0mcontours_added\u001b[0m\u001b[0;34m.\u001b[0m\u001b[0mappend\u001b[0m\u001b[0;34m(\u001b[0m\u001b[0;32mNone\u001b[0m\u001b[0;34m)\u001b[0m\u001b[0;34m\u001b[0m\u001b[0m\n",
      "\u001b[0;32m/usr/local/lib/python3.6/site-packages/getdist/plots.py\u001b[0m in \u001b[0;36mget_density_grid\u001b[0;34m(self, root, param1, param2, conts, likes)\u001b[0m\n\u001b[1;32m    565\u001b[0m         \u001b[0;32mif\u001b[0m \u001b[0;32mnot\u001b[0m \u001b[0mdensity\u001b[0m\u001b[0;34m:\u001b[0m\u001b[0;34m\u001b[0m\u001b[0m\n\u001b[1;32m    566\u001b[0m             \u001b[0msamples\u001b[0m \u001b[0;34m=\u001b[0m \u001b[0mself\u001b[0m\u001b[0;34m.\u001b[0m\u001b[0msamplesForRoot\u001b[0m\u001b[0;34m(\u001b[0m\u001b[0mroot\u001b[0m\u001b[0;34m)\u001b[0m\u001b[0;34m\u001b[0m\u001b[0m\n\u001b[0;32m--> 567\u001b[0;31m             \u001b[0mdensity\u001b[0m \u001b[0;34m=\u001b[0m \u001b[0msamples\u001b[0m\u001b[0;34m.\u001b[0m\u001b[0mget2DDensityGridData\u001b[0m\u001b[0;34m(\u001b[0m\u001b[0mparam1\u001b[0m\u001b[0;34m.\u001b[0m\u001b[0mname\u001b[0m\u001b[0;34m,\u001b[0m \u001b[0mparam2\u001b[0m\u001b[0;34m.\u001b[0m\u001b[0mname\u001b[0m\u001b[0;34m,\u001b[0m \u001b[0mnum_plot_contours\u001b[0m\u001b[0;34m=\u001b[0m\u001b[0mconts\u001b[0m\u001b[0;34m,\u001b[0m \u001b[0mmeanlikes\u001b[0m\u001b[0;34m=\u001b[0m\u001b[0mlikes\u001b[0m\u001b[0;34m)\u001b[0m\u001b[0;34m\u001b[0m\u001b[0m\n\u001b[0m\u001b[1;32m    568\u001b[0m             \u001b[0;32mif\u001b[0m \u001b[0mdensity\u001b[0m \u001b[0;32mis\u001b[0m \u001b[0;32mNone\u001b[0m\u001b[0;34m:\u001b[0m \u001b[0;32mreturn\u001b[0m \u001b[0;32mNone\u001b[0m\u001b[0;34m\u001b[0m\u001b[0m\n\u001b[1;32m    569\u001b[0m             \u001b[0mrootdata\u001b[0m\u001b[0;34m[\u001b[0m\u001b[0mkey\u001b[0m\u001b[0;34m]\u001b[0m \u001b[0;34m=\u001b[0m \u001b[0mdensity\u001b[0m\u001b[0;34m\u001b[0m\u001b[0m\n",
      "\u001b[0;32m/usr/local/lib/python3.6/site-packages/getdist/mcsamples.py\u001b[0m in \u001b[0;36mget2DDensityGridData\u001b[0;34m(self, j, j2, writeDataToFile, num_plot_contours, get_density, meanlikes, **kwargs)\u001b[0m\n\u001b[1;32m   1705\u001b[0m \u001b[0;34m\u001b[0m\u001b[0m\n\u001b[1;32m   1706\u001b[0m         \u001b[0;31m# Get contour containing contours(:) of the probability\u001b[0m\u001b[0;34m\u001b[0m\u001b[0;34m\u001b[0m\u001b[0m\n\u001b[0;32m-> 1707\u001b[0;31m         \u001b[0mdensity\u001b[0m\u001b[0;34m.\u001b[0m\u001b[0mcontours\u001b[0m \u001b[0;34m=\u001b[0m \u001b[0mdensity\u001b[0m\u001b[0;34m.\u001b[0m\u001b[0mgetContourLevels\u001b[0m\u001b[0;34m(\u001b[0m\u001b[0mcontours\u001b[0m\u001b[0;34m)\u001b[0m\u001b[0;34m\u001b[0m\u001b[0m\n\u001b[0m\u001b[1;32m   1708\u001b[0m \u001b[0;34m\u001b[0m\u001b[0m\n\u001b[1;32m   1709\u001b[0m         \u001b[0;31m# now make smaller num_bins grid between ranges for plotting\u001b[0m\u001b[0;34m\u001b[0m\u001b[0;34m\u001b[0m\u001b[0m\n",
      "\u001b[0;32m/usr/local/lib/python3.6/site-packages/getdist/densities.py\u001b[0m in \u001b[0;36mgetContourLevels\u001b[0;34m(self, contours)\u001b[0m\n\u001b[1;32m    114\u001b[0m         \u001b[0;34m:\u001b[0m\u001b[0;32mreturn\u001b[0m\u001b[0;34m:\u001b[0m \u001b[0mlist\u001b[0m \u001b[0mof\u001b[0m \u001b[0mcontour\u001b[0m \u001b[0mlevels\u001b[0m\u001b[0;34m\u001b[0m\u001b[0m\n\u001b[1;32m    115\u001b[0m         \"\"\"\n\u001b[0;32m--> 116\u001b[0;31m         \u001b[0;32mreturn\u001b[0m \u001b[0mgetContourLevels\u001b[0m\u001b[0;34m(\u001b[0m\u001b[0mself\u001b[0m\u001b[0;34m.\u001b[0m\u001b[0mP\u001b[0m\u001b[0;34m,\u001b[0m \u001b[0mcontours\u001b[0m\u001b[0;34m)\u001b[0m\u001b[0;34m\u001b[0m\u001b[0m\n\u001b[0m\u001b[1;32m    117\u001b[0m \u001b[0;34m\u001b[0m\u001b[0m\n\u001b[1;32m    118\u001b[0m \u001b[0;34m\u001b[0m\u001b[0m\n",
      "\u001b[0;32m/usr/local/lib/python3.6/site-packages/getdist/densities.py\u001b[0m in \u001b[0;36mgetContourLevels\u001b[0;34m(inbins, contours, missing_norm, half_edge)\u001b[0m\n\u001b[1;32m     42\u001b[0m     \u001b[0;32mfor\u001b[0m \u001b[0mi\u001b[0m\u001b[0;34m,\u001b[0m \u001b[0mix\u001b[0m \u001b[0;32min\u001b[0m \u001b[0menumerate\u001b[0m\u001b[0;34m(\u001b[0m\u001b[0mixs\u001b[0m\u001b[0;34m)\u001b[0m\u001b[0;34m:\u001b[0m\u001b[0;34m\u001b[0m\u001b[0m\n\u001b[1;32m     43\u001b[0m         \u001b[0;32mif\u001b[0m \u001b[0mix\u001b[0m \u001b[0;34m==\u001b[0m \u001b[0;36m0\u001b[0m\u001b[0;34m:\u001b[0m\u001b[0;34m\u001b[0m\u001b[0m\n\u001b[0;32m---> 44\u001b[0;31m             \u001b[0;32mraise\u001b[0m \u001b[0mDensitiesError\u001b[0m\u001b[0;34m(\u001b[0m\u001b[0;34m\"Contour level outside plotted ranges\"\u001b[0m\u001b[0;34m)\u001b[0m\u001b[0;34m\u001b[0m\u001b[0m\n\u001b[0m\u001b[1;32m     45\u001b[0m         \u001b[0mh\u001b[0m \u001b[0;34m=\u001b[0m \u001b[0mcumsum\u001b[0m\u001b[0;34m[\u001b[0m\u001b[0mix\u001b[0m\u001b[0;34m]\u001b[0m \u001b[0;34m-\u001b[0m \u001b[0mcumsum\u001b[0m\u001b[0;34m[\u001b[0m\u001b[0mix\u001b[0m \u001b[0;34m-\u001b[0m \u001b[0;36m1\u001b[0m\u001b[0;34m]\u001b[0m\u001b[0;34m\u001b[0m\u001b[0m\n\u001b[1;32m     46\u001b[0m         \u001b[0md\u001b[0m \u001b[0;34m=\u001b[0m \u001b[0;34m(\u001b[0m\u001b[0mcumsum\u001b[0m\u001b[0;34m[\u001b[0m\u001b[0mix\u001b[0m\u001b[0;34m]\u001b[0m \u001b[0;34m-\u001b[0m \u001b[0mtargets\u001b[0m\u001b[0;34m[\u001b[0m\u001b[0mi\u001b[0m\u001b[0;34m]\u001b[0m\u001b[0;34m)\u001b[0m \u001b[0;34m/\u001b[0m \u001b[0mh\u001b[0m\u001b[0;34m\u001b[0m\u001b[0m\n",
      "\u001b[0;31mDensitiesError\u001b[0m: Contour level outside plotted ranges"
     ]
    },
    {
     "data": {
      "image/png": "[encoded data removed]",
      "text/plain": [
       "<matplotlib.figure.Figure at 0x126897d68>"
      ]
     },
     "metadata": {},
     "output_type": "display_data"
    }
   ],
   "source": [
    "# Proposal for the Fisher pre-training stage\n",
    "proposal = priors.TruncatedGaussian(prior_mean, Q, lower, upper)\n",
    "\n",
    "# Do the Fisher pre-training\n",
    "mdn.fisher_pretraining(50000, proposal, epochs=50)"
   ]
  },
  {
   "cell_type": "code",
   "execution_count": null,
   "metadata": {},
   "outputs": [],
   "source": [
    "# Proposal for the SNL\n",
    "proposal = priors.TruncatedGaussian(theta_fiducial, 9*Finv, lower, upper)\n",
    "\n",
    "# Initial samples, batch size for population samples, number of populations\n",
    "n_initial = 500\n",
    "n_batch = 500\n",
    "n_populations = 8\n",
    "\n",
    "# Do the SNL training\n",
    "mdn.sequential_training(n_initial, n_batch, n_populations, proposal)"
   ]
  },
  {
   "cell_type": "code",
   "execution_count": 10,
   "metadata": {},
   "outputs": [
    {
     "data": {
      "image/png": "[encoded data removed]",
      "text/plain": [
       "<matplotlib.figure.Figure at 0x12699dda0>"
      ]
     },
     "metadata": {},
     "output_type": "display_data"
    }
   ],
   "source": [
    "# Trace plot of the loss as a function of the number of simulations\n",
    "plt.scatter(mdn.n_sim_trace, mdn.loss_trace, s = 20)\n",
    "plt.plot(mdn.n_sim_trace, mdn.loss_trace, color = 'red')\n",
    "plt.xlim(0, mdn.n_sim_trace[-1])\n",
    "plt.xlabel('number of simulations')\n",
    "plt.ylabel('loss')\n",
    "plt.show()"
   ]
  },
  {
   "cell_type": "code",
   "execution_count": null,
   "metadata": {},
   "outputs": [],
   "source": []
  }
 ],
 "metadata": {
  "kernelspec": {
   "display_name": "Python 3",
   "language": "python",
   "name": "python3"
  },
  "language_info": {
   "codemirror_mode": {
    "name": "ipython",
    "version": 3
   },
   "file_extension": ".py",
   "mimetype": "text/x-python",
   "name": "python",
   "nbconvert_exporter": "python",
   "pygments_lexer": "ipython3",
   "version": "3.6.4"
  }
 },
 "nbformat": 4,
 "nbformat_minor": 1
}
