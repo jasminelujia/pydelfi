{
 "cells": [
  {
   "cell_type": "code",
   "execution_count": null,
   "metadata": {},
   "outputs": [],
   "source": [
    "import numpy as np\n",
    "import matplotlib.pyplot as plt\n",
    "import scipy.interpolate as interpolate\n",
    "import simulators.jla_supernovae.jla_simulator as jla\n",
    "import ndes.ndes as ndes\n",
    "import delfi.delfi as delfi\n",
    "import compression.score.score as score\n",
    "import distributions.priors as priors\n",
    "import tensorflow as tf\n",
    "from scipy.linalg import block_diag\n",
    "tf.logging.set_verbosity(tf.logging.ERROR)\n",
    "%matplotlib inline"
   ]
  },
  {
   "cell_type": "code",
   "execution_count": null,
   "metadata": {},
   "outputs": [],
   "source": [
    "### SET UP THE PRIOR ###\n",
    "\n",
    "# Prior over theta\n",
    "lower = np.array([0, -1.5])\n",
    "upper = np.array([0.6, 0])\n",
    "prior_covariance = np.diag([0.4, 0.75])**2\n",
    "prior_covariance[0,1] = prior_covariance[1,0] = -0.8*0.4*0.75\n",
    "prior_mean = np.array([  0.3  ,  -0.75])\n",
    "prior = priors.TruncatedGaussian(prior_mean, prior_covariance, lower, upper)\n",
    "\n",
    "# Prior over eta (nuisances)\n",
    "eta_lower = np.array([-20, 0, 0, -0.5])\n",
    "eta_upper = np.array([-18, 1, 6, 0.5])\n",
    "eta_mean = np.array([-19.05 ,   0.125,   2.6  ,  -0.05 ])\n",
    "eta_covariance = np.diag([0.1, 0.025, 0.25, 0.05])**2\n",
    "eta_prior = priors.TruncatedGaussian(eta_mean, eta_covariance, eta_lower, eta_upper)\n",
    "\n",
    "# Joint prior over nuisances and interesting parameters\n",
    "joint_lower = np.concatenate([lower, eta_lower])\n",
    "joint_upper = np.concatenate([upper, eta_upper])\n",
    "joint_mean = np.concatenate([prior_mean, eta_mean])\n",
    "joint_covariance = block_diag(prior_covariance, eta_covariance)\n",
    "joint_prior = priors.TruncatedGaussian(joint_mean, \n",
    "                                       joint_covariance,\n",
    "                                       joint_lower,\n",
    "                                       joint_upper)"
   ]
  },
  {
   "cell_type": "code",
   "execution_count": null,
   "metadata": {},
   "outputs": [],
   "source": [
    "### SET UP FOR SIMULATION CODE ###\n",
    "\n",
    "JLASimulator = jla.JLA_Model()\n",
    "\n",
    "# Simulator function: This must be of the form simulator(theta, seed, args) -> simulated data vector\n",
    "def simulator(theta, seed, simulator_args, batch):\n",
    "    \n",
    "    # Draw nuisances from prior\n",
    "    eta_prior = simulator_args[0]\n",
    "    eta = eta_prior.draw()\n",
    "    \n",
    "    return JLASimulator.simulation(np.concatenate([theta, eta]), seed)\n",
    "\n",
    "# Arguments for simulator\n",
    "simulator_args = [eta_prior]"
   ]
  },
  {
   "cell_type": "code",
   "execution_count": null,
   "metadata": {},
   "outputs": [],
   "source": [
    "### SET UP THE COMPRESSOR ###\n",
    "\n",
    "# Fiducial parameters\n",
    "theta_fiducial = np.array([0.20181324,  -0.74762939])\n",
    "eta_fiducial = np.array([-19.04253368,   0.12566322,   2.64387045, -0.05252869])\n",
    "\n",
    "# Expected data (mean) and covariance\n",
    "mu = JLASimulator.apparent_magnitude(np.concatenate([theta_fiducial, eta_fiducial]))\n",
    "Cinv = JLASimulator.Cinv\n",
    "\n",
    "# Calculate derivatives of the expected power spectrum\n",
    "h = np.array(abs(np.concatenate([theta_fiducial, eta_fiducial])))*0.01\n",
    "dmudt = JLASimulator.dmudt(np.concatenate([theta_fiducial, eta_fiducial]), h)\n",
    "\n",
    "# Define compression as score-MLE of a Wishart likelihood\n",
    "Compressor = score.Gaussian(len(JLASimulator.data), np.concatenate([theta_fiducial, eta_fiducial]), mu = mu, Cinv = Cinv, dmudt = dmudt, prior_mean = joint_mean, prior_covariance = joint_covariance)\n",
    "\n",
    "# Compute the Fisher matrix\n",
    "Compressor.compute_fisher()\n",
    "\n",
    "# Pull out Fisher matrix inverse\n",
    "Finv = Compressor.Finv[0:2,0:2]\n",
    "\n",
    "# Compressor function: This must have the form compressor(data, args) -> compressed summaries (pseudoMLE)\n",
    "def compressor(d, compressor_args):\n",
    "    return Compressor.projected_scoreMLE(d, np.arange(2,6))\n",
    "compressor_args = None"
   ]
  },
  {
   "cell_type": "code",
   "execution_count": null,
   "metadata": {},
   "outputs": [],
   "source": [
    "data = compressor(JLASimulator.data, compressor_args)"
   ]
  },
  {
   "cell_type": "code",
   "execution_count": null,
   "metadata": {},
   "outputs": [],
   "source": [
    "# Create the neural density estimator (MDN)\n",
    "MDN = ndes.MixtureDensityNetwork(n_inputs=2, n_outputs=2, n_components=3, n_hidden=[10,10], activations=[tf.tanh, tf.tanh])\n",
    "\n",
    "# Create the DELFI object\n",
    "DelfiMDN = delfi.Delfi(data, prior, MDN, Finv, theta_fiducial, \n",
    "                       param_limits = [lower, upper],\n",
    "                       param_names = ['\\Omega_m', 'w_0'], \n",
    "                       results_dir = \"simulators/jla_supernovae/results_marginal/mdn\")"
   ]
  },
  {
   "cell_type": "code",
   "execution_count": null,
   "metadata": {},
   "outputs": [],
   "source": [
    "# Do the Fisher pre-training\n",
    "DelfiMDN.fisher_pretraining()"
   ]
  },
  {
   "cell_type": "code",
   "execution_count": null,
   "metadata": {},
   "outputs": [],
   "source": [
    "# Initial samples, batch size for population samples, number of populations\n",
    "n_initial = 100\n",
    "n_batch = 100\n",
    "n_populations = 11\n",
    "\n",
    "# Initial proposal density\n",
    "proposal = priors.TruncatedGaussian(data, np.eye(2)*np.diag(Finv), lower, upper)\n",
    "\n",
    "# Do the SNL training\n",
    "DelfiMDN.sequential_training(simulator, compressor, n_initial, n_batch, n_populations, patience=10, simulator_args=simulator_args, proposal=proposal)"
   ]
  },
  {
   "cell_type": "code",
   "execution_count": null,
   "metadata": {},
   "outputs": [],
   "source": [
    "# Plot against MCMC chain for comparison\n",
    "import getdist\n",
    "from getdist import plots, MCSamples\n",
    "\n",
    "# Import the MCMC chain and intermediate delfi chain\n",
    "emcee_chain = np.loadtxt('simulators/jla_supernovae/emcee_samples.dat')\n",
    "delfi_chain = np.loadtxt('simulators/jla_supernovae/results_marginal/mdnposterior_samples_14.dat')\n",
    "\n",
    "plt.close()\n",
    "columnwidth = 10 # cm\n",
    "aspect = 1.67*2\n",
    "pts_per_inch = 72.27\n",
    "inch_per_cm = 2.54\n",
    "width = columnwidth/inch_per_cm\n",
    "plt.rcParams.update({'figure.figsize': [width, width / aspect],\n",
    "                 'backend': 'pdf',\n",
    "                 'font.size': 14,\n",
    "                 'legend.fontsize': 'small',\n",
    "                 'legend.frameon': False,\n",
    "                 'legend.loc': 'best',\n",
    "                 'lines.markersize': 3,\n",
    "                 'lines.linewidth': .5,\n",
    "                 'axes.linewidth': .5,\n",
    "                 'axes.edgecolor': 'black'})\n",
    "\n",
    "\n",
    "g = plots.getSubplotPlotter(width_inch = 6)\n",
    "g.settings.figure_legend_frame = False\n",
    "g.settings.alpha_filled_add=0.6\n",
    "g.settings.axes_fontsize=14\n",
    "g.settings.legend_fontsize=16\n",
    "g.settings.lab_fontsize=20\n",
    "\n",
    "names = ['\\Omega_m', 'w_0']\n",
    "labels = ['\\Omega_m', 'w_0']\n",
    "ranges = dict(zip(names, [ [lower[i], upper[i]] for i in range(len(names)) ]))\n",
    "\n",
    "samples = [delfi_chain, emcee_chain[:,0:2]]\n",
    "mc_samples = [MCSamples(samples=s, names = names, labels = labels, ranges = ranges) for s in samples]\n",
    "\n",
    "g.plot_2d(mc_samples, names, filled=True)\n",
    "plt.show()"
   ]
  }
 ],
 "metadata": {
  "kernelspec": {
   "display_name": "Python 3",
   "language": "python",
   "name": "python3"
  },
  "language_info": {
   "codemirror_mode": {
    "name": "ipython",
    "version": 3
   },
   "file_extension": ".py",
   "mimetype": "text/x-python",
   "name": "python",
   "nbconvert_exporter": "python",
   "pygments_lexer": "ipython3",
   "version": "3.6.5"
  }
 },
 "nbformat": 4,
 "nbformat_minor": 1
}
