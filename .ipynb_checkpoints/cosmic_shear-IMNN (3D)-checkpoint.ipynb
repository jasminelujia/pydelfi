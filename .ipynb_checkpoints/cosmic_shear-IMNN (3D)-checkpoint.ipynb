{
 "cells": [
  {
   "cell_type": "code",
   "execution_count": 1,
   "metadata": {
    "ExecuteTime": {
     "end_time": "2018-08-02T14:05:29.576233Z",
     "start_time": "2018-08-02T14:05:21.534184Z"
    }
   },
   "outputs": [],
   "source": [
    "%matplotlib inline\n",
    "import numpy as np\n",
    "import matplotlib.pyplot as plt\n",
    "import tensorflow as tf\n",
    "import distributions.priors as priors\n",
    "import getdist\n",
    "from getdist import plots, MCSamples\n",
    "import ndes.ndes as ndes\n",
    "import delfi.delfi as delfi\n",
    "import simulators.cosmic_shear.cosmic_shear as cosmic_shear\n",
    "import pickle\n",
    "import compression.score.score as score\n",
    "import compression.IMNN.information_maximiser.IMNN as IMNN"
   ]
  },
  {
   "cell_type": "code",
   "execution_count": 2,
   "metadata": {},
   "outputs": [],
   "source": [
    "### SET UP THE SIMULATOR ###\n",
    "\n",
    "# Set up the tomography simulations\n",
    "pz = pickle.load(open('simulators/cosmic_shear/pz_5bin.pkl', 'rb'))\n",
    "CosmicShearSimulator = cosmic_shear.TomographicCosmicShear(pz = pz, lmin = 10, lmax = 3000, n_ell_bins = 10, \n",
    "                                                           sigma_e = 0.3, nbar = 30, Area = 15000)\n",
    "\n",
    "# Simulator function: This must be of the form simulator(theta, seed, args) -> simulated data vector\n",
    "def simulator(theta, seed, simulator_args, batch):\n",
    "    return CosmicShearSimulator.simulate(theta, seed)\n",
    "\n",
    "# Simulator arguments\n",
    "simulator_args = None"
   ]
  },
  {
   "cell_type": "code",
   "execution_count": 3,
   "metadata": {},
   "outputs": [],
   "source": [
    "### SET UP THE PRIOR ###\n",
    "\n",
    "# Define the priors parameters\n",
    "lower = np.array([0, 0.4, 0, 0.4, 0.7])\n",
    "upper = np.array([1, 1.2, 0.1, 1.0, 1.3])\n",
    "prior_mean = np.array([0.3, 0.8, 0.05, 0.70, 0.96])\n",
    "prior_covariance = np.eye(5)*np.array([0.1, 0.1, 0.05, 0.3, 0.3])**2\n",
    "\n",
    "# Prior\n",
    "prior = priors.TruncatedGaussian(prior_mean, prior_covariance, lower, upper)"
   ]
  },
  {
   "cell_type": "code",
   "execution_count": 4,
   "metadata": {},
   "outputs": [],
   "source": [
    "### SET UP THE COMPRESSOR ###\n",
    "\n",
    "# Fiducial parameters\n",
    "theta_fiducial = np.array([0.3, 0.8, 0.05, 0.70, 0.96])\n",
    "\n",
    "# Expected support of Wishart likelihood (fiducial inverse power spectrum)\n",
    "C = CosmicShearSimulator.power_spectrum(theta_fiducial)\n",
    "Cinv = np.array([np.linalg.inv(C[l,:,:]) for l in range(CosmicShearSimulator.n_ell_bins)])\n",
    "\n",
    "# Degrees of freedom (effective number of modes per band power)\n",
    "nl = CosmicShearSimulator.nl\n",
    "\n",
    "# Calculate derivatives of the expected power spectrum\n",
    "step = np.array(abs(theta_fiducial)*np.array([0.05, 0.05, 0.05, 0.05, 0.05]))\n",
    "dCdt = CosmicShearSimulator.compute_derivatives(theta_fiducial, step)\n",
    "\n",
    "# Define compression as score-MLE of a Wishart likelihood\n",
    "Compressor = score.Wishart(theta_fiducial, nl, Cinv, dCdt, prior_mean=prior_mean, prior_covariance=prior_covariance)\n",
    "\n",
    "# Pull out Fisher matrix inverse\n",
    "Finv = Compressor.Finv\n",
    "\n",
    "# Compressor function: This must have the form compressor(data, args) -> compressed summaries (pseudoMLE)\n",
    "def compressor(d, compressor_args):\n",
    "    return Compressor.scoreMLE(d)\n",
    "compressor_args = None"
   ]
  },
  {
   "cell_type": "code",
   "execution_count": 5,
   "metadata": {},
   "outputs": [],
   "source": [
    "# Shape of the input\n",
    "input_shape = [10, 5, 5, 1]"
   ]
  },
  {
   "cell_type": "code",
   "execution_count": 13,
   "metadata": {
    "ExecuteTime": {
     "end_time": "2018-08-02T14:05:40.698588Z",
     "start_time": "2018-08-02T14:05:40.682691Z"
    }
   },
   "outputs": [],
   "source": [
    "# Run sims for training set\n",
    "\n",
    "# Run sims at fiducial parameters\n",
    "n_s = 3000\n",
    "n_train = 1\n",
    "t = np.expand_dims(np.array([simulator(theta_fiducial, np.random.randint(1e8), simulator_args=None, batch=1) for i in range(n_s)]), -1)\n",
    "tt = np.expand_dims(np.array([simulator(theta_fiducial, np.random.randint(1e8), simulator_args=None, batch=1) for i in range(n_s)]), -1)\n",
    "\n",
    "# How many sims to run for the derivatives\n",
    "derivative_fraction = 0.05\n",
    "n_p = int(n_s * derivative_fraction)\n",
    "\n",
    "# Set the seed\n",
    "seed = np.random.randint(1e6)\n",
    "\n",
    "# Forward steps\n",
    "np.random.seed(seed)\n",
    "t_m = np.zeros((n_p, len(theta_fiducial), 10, 5, 5, 1))\n",
    "tt_m = np.zeros((n_p, len(theta_fiducial), 10, 5, 5, 1))\n",
    "for a in range(len(theta_fiducial)):\n",
    "    theta = np.copy(theta_fiducial)\n",
    "    theta[a] = theta_fiducial[a] - step[a]\n",
    "    t_m[:, a, :, :, :, :] = np.expand_dims(np.array([simulator(theta, np.random.randint(1e8), simulator_args=None, batch=1) for i in range(n_p)]), -1)\n",
    "    tt_m[:, a, :, :, :, :] = np.expand_dims(np.array([simulator(theta, np.random.randint(1e8), simulator_args=None, batch=1) for i in range(n_p)]), -1)\n",
    "\n",
    "# Backward steps\n",
    "np.random.seed(seed)\n",
    "t_p = np.zeros((n_p, len(theta_fiducial), 10, 5, 5, 1))\n",
    "tt_p = np.zeros((n_p, len(theta_fiducial), 10, 5, 5, 1))\n",
    "for a in range(len(theta_fiducial)):\n",
    "    theta = np.copy(theta_fiducial)\n",
    "    theta[a] = theta_fiducial[a] + step[a]\n",
    "    t_p[:, a, :, :, :, :] = np.expand_dims(np.array([simulator(theta, np.random.randint(1e8), simulator_args=None, batch=1) for i in range(n_p)]), -1)\n",
    "    tt_p[:, a, :, :, :, :] = np.expand_dims(np.array([simulator(theta, np.random.randint(1e8), simulator_args=None, batch=1) for i in range(n_p)]), -1)\n",
    "np.random.seed()\n",
    "\n",
    "der_den = 1. / (2. * step)\n",
    "\n",
    "data = {\"x_central\": t, \"x_m\": t_m, \"x_p\":t_p, \"x_central_test\": tt, \"x_m_test\": tt_m, \"x_p_test\": tt_p}\n",
    "\n",
    "f = open('simulators/cosmic_shear/pre_ran_sims/imnn_sims.pkl', 'wb')\n",
    "pickle.dump(data, f)\n",
    "f.close()"
   ]
  },
  {
   "cell_type": "code",
   "execution_count": 9,
   "metadata": {},
   "outputs": [],
   "source": [
    "# Unpickle the pre-ran sims\n",
    "n_s = 3000\n",
    "n_train = 1\n",
    "derivative_fraction = 0.05\n",
    "n_p = int(n_s * derivative_fraction)\n",
    "der_den = 1. / (2. * step)\n",
    "f = open('simulators/cosmic_shear/pre_ran_sims/imnn_sims.pkl', 'rb')\n",
    "data = pickle.load(f)\n",
    "f.close()"
   ]
  },
  {
   "cell_type": "code",
   "execution_count": 10,
   "metadata": {},
   "outputs": [],
   "source": [
    "# Pre-process the input data\n",
    "for keys in data.keys():\n",
    "    data[keys] = np.log(data[keys])\n",
    "    data[keys] = (data[keys] - np.average(data[keys], axis=0))/ np.sqrt(np.average(data[keys]**2, axis=0)-np.average(data[keys], axis=0)**2)"
   ]
  },
  {
   "cell_type": "code",
   "execution_count": 12,
   "metadata": {
    "ExecuteTime": {
     "end_time": "2018-08-02T14:05:29.652233Z",
     "start_time": "2018-08-02T14:05:29.620216Z"
    }
   },
   "outputs": [
    {
     "name": "stdout",
     "output_type": "stream",
     "text": [
      "saving model as data/saved_model.meta\n",
      "network architecture is [[10, 5, 5, 1], [5, [3, 3, 3], [1, 1, 1], 'SAME'], 100, 100, 5].\n",
      "Tensor(\"x:0\", shape=(?, 10, 5, 5, 1), dtype=float32)\n",
      "Tensor(\"IMNN/layer_1/conv_1/mul:0\", shape=(?, 10, 5, 5, 5), dtype=float32)\n",
      "Tensor(\"IMNN/layer_2/dense_2/mul:0\", shape=(?, 100), dtype=float32)\n",
      "Tensor(\"IMNN/layer_3/dense_3/mul:0\", shape=(?, 100), dtype=float32)\n",
      "Tensor(\"IMNN/layer_4/Tanh:0\", shape=(?, 5), dtype=float32)\n",
      "Tensor(\"output:0\", shape=(?, 5), dtype=float32)\n",
      "Tensor(\"GatherNd:0\", shape=(3000, 10, 5, 5, 1), dtype=float32)\n",
      "Tensor(\"IMNN_1/layer_1/conv_1/mul:0\", shape=(3000, 10, 5, 5, 5), dtype=float32)\n",
      "Tensor(\"IMNN_1/layer_2/dense_2/mul:0\", shape=(3000, 100), dtype=float32)\n",
      "Tensor(\"IMNN_1/layer_3/dense_3/mul:0\", shape=(3000, 100), dtype=float32)\n",
      "Tensor(\"IMNN_1/layer_4/Tanh:0\", shape=(3000, 5), dtype=float32)\n",
      "Tensor(\"Reshape:0\", shape=(750, 10, 5, 5, 1), dtype=float32)\n",
      "Tensor(\"IMNN_1/layer_1_1/conv_1/mul:0\", shape=(750, 10, 5, 5, 5), dtype=float32)\n",
      "Tensor(\"IMNN_1/layer_2_1/dense_2/mul:0\", shape=(750, 100), dtype=float32)\n",
      "Tensor(\"IMNN_1/layer_3_1/dense_3/mul:0\", shape=(750, 100), dtype=float32)\n",
      "Tensor(\"IMNN_1/layer_4_1/Tanh:0\", shape=(750, 5), dtype=float32)\n",
      "Tensor(\"Reshape_1:0\", shape=(750, 10, 5, 5, 1), dtype=float32)\n",
      "Tensor(\"IMNN_1/layer_1_2/conv_1/mul:0\", shape=(750, 10, 5, 5, 5), dtype=float32)\n",
      "Tensor(\"IMNN_1/layer_2_2/dense_2/mul:0\", shape=(750, 100), dtype=float32)\n",
      "Tensor(\"IMNN_1/layer_3_2/dense_3/mul:0\", shape=(750, 100), dtype=float32)\n",
      "Tensor(\"IMNN_1/layer_4_2/Tanh:0\", shape=(750, 5), dtype=float32)\n",
      "Tensor(\"Const_3:0\", shape=(3000, 10, 5, 5, 1), dtype=float32)\n",
      "Tensor(\"IMNN_1/layer_1_3/Tanh:0\", shape=(3000, 10, 5, 5, 5), dtype=float32)\n",
      "Tensor(\"IMNN_1/layer_2_3/Tanh:0\", shape=(3000, 100), dtype=float32)\n",
      "Tensor(\"IMNN_1/layer_3_3/Tanh:0\", shape=(3000, 100), dtype=float32)\n",
      "Tensor(\"IMNN_1/layer_4_3/Tanh:0\", shape=(3000, 5), dtype=float32)\n",
      "Tensor(\"Reshape_2:0\", shape=(750, 10, 5, 5, 1), dtype=float32)\n",
      "Tensor(\"IMNN_1/layer_1_4/Tanh:0\", shape=(750, 10, 5, 5, 5), dtype=float32)\n",
      "Tensor(\"IMNN_1/layer_2_4/Tanh:0\", shape=(750, 100), dtype=float32)\n",
      "Tensor(\"IMNN_1/layer_3_4/Tanh:0\", shape=(750, 100), dtype=float32)\n",
      "Tensor(\"IMNN_1/layer_4_4/Tanh:0\", shape=(750, 5), dtype=float32)\n",
      "Tensor(\"Reshape_3:0\", shape=(750, 10, 5, 5, 1), dtype=float32)\n",
      "Tensor(\"IMNN_1/layer_1_5/Tanh:0\", shape=(750, 10, 5, 5, 5), dtype=float32)\n",
      "Tensor(\"IMNN_1/layer_2_5/Tanh:0\", shape=(750, 100), dtype=float32)\n",
      "Tensor(\"IMNN_1/layer_3_5/Tanh:0\", shape=(750, 100), dtype=float32)\n",
      "Tensor(\"IMNN_1/layer_4_5/Tanh:0\", shape=(750, 5), dtype=float32)\n",
      "Tensor(\"central_output:0\", shape=(3000, 5), dtype=float32)\n",
      "Tensor(\"central_mean:0\", shape=(5,), dtype=float32)\n",
      "Tensor(\"central_difference_from_mean:0\", shape=(3000, 5), dtype=float32)\n",
      "Tensor(\"einsum_2/transpose_2:0\", shape=(5, 5), dtype=float32)\n",
      "Tensor(\"lower_output:0\", shape=(150, 5, 5), dtype=float32)\n",
      "Tensor(\"upper_output:0\", shape=(150, 5, 5), dtype=float32)\n",
      "Tensor(\"upper_lower_mean_derivative:0\", shape=(5, 5), dtype=float32)\n",
      "Tensor(\"fisher_information:0\", shape=(5, 5), dtype=float32)\n",
      "Tensor(\"central_output_1:0\", shape=(3000, 5), dtype=float32)\n",
      "Tensor(\"central_mean_1:0\", shape=(5,), dtype=float32)\n",
      "Tensor(\"central_difference_from_mean_1:0\", shape=(3000, 5), dtype=float32)\n",
      "Tensor(\"einsum_8/transpose_2:0\", shape=(5, 5), dtype=float32)\n",
      "Tensor(\"lower_output_1:0\", shape=(150, 5, 5), dtype=float32)\n",
      "Tensor(\"upper_output_1:0\", shape=(150, 5, 5), dtype=float32)\n",
      "Tensor(\"upper_lower_mean_derivative_1:0\", shape=(5, 5), dtype=float32)\n",
      "Tensor(\"maximum_likelihood_estimate:0\", shape=(?, 5), dtype=float32)\n",
      "Tensor(\"asymptotic_likelihood:0\", shape=(?, 5, 1000), dtype=float32)\n",
      "saving the graph as data/saved_model.meta\n"
     ]
    }
   ],
   "source": [
    "# IMNN network set-up\n",
    "parameters = {\n",
    "    'verbose': True,\n",
    "    'number of simulations': n_s,\n",
    "    'fiducial θ': theta_fiducial,\n",
    "    'derivative denominator': der_den,\n",
    "    'differentiation fraction': derivative_fraction,\n",
    "    'number of summaries': len(theta_fiducial),\n",
    "    'calculate MLE': True,\n",
    "    'prebuild': True,\n",
    "    'input shape': input_shape,\n",
    "    'preload data': data,\n",
    "    'save file': \"data/saved_model\",\n",
    "    'wv': 0.,\n",
    "    'bb': 0.1,\n",
    "    'activation': tf.nn.leaky_relu,\n",
    "    #'α': 0.01,\n",
    "    'hidden layers': [[5, [3, 3, 3], [1, 1, 1], 'SAME'], 100, 100],\n",
    "}\n",
    "\n",
    "# Initialise the network\n",
    "n = IMNN.IMNN(parameters = parameters)\n",
    "\n",
    "# Build the network\n",
    "η = 1e-8 # learning rate\n",
    "tf.reset_default_graph()\n",
    "n.setup(η = η)"
   ]
  },
  {
   "cell_type": "code",
   "execution_count": 13,
   "metadata": {},
   "outputs": [
    {
     "name": "stdout",
     "output_type": "stream",
     "text": [
      "3.90099911829364e+22\n"
     ]
    }
   ],
   "source": [
    "print(np.linalg.det(Compressor.F))"
   ]
  },
  {
   "cell_type": "code",
   "execution_count": 14,
   "metadata": {},
   "outputs": [
    {
     "data": {
      "text/plain": [
       "array([0.00366832, 0.00114453, 0.01745447, 0.10485434, 0.02327808])"
      ]
     },
     "execution_count": 14,
     "metadata": {},
     "output_type": "execute_result"
    }
   ],
   "source": [
    "np.sqrt(np.diag(Compressor.Finv))"
   ]
  },
  {
   "cell_type": "code",
   "execution_count": 15,
   "metadata": {},
   "outputs": [
    {
     "data": {
      "application/vnd.jupyter.widget-view+json": {
       "model_id": "7320f18c3c334175875944c048f77d72",
       "version_major": 2,
       "version_minor": 0
      },
      "text/plain": [
       "HBox(children=(IntProgress(value=0, max=300), HTML(value='')))"
      ]
     },
     "metadata": {},
     "output_type": "display_data"
    },
    {
     "ename": "KeyboardInterrupt",
     "evalue": "",
     "output_type": "error",
     "traceback": [
      "\u001b[0;31m---------------------------------------------------------------------------\u001b[0m",
      "\u001b[0;31mKeyboardInterrupt\u001b[0m                         Traceback (most recent call last)",
      "\u001b[0;32m<ipython-input-15-83b12275735e>\u001b[0m in \u001b[0;36m<module>\u001b[0;34m\u001b[0m\n\u001b[1;32m      2\u001b[0m \u001b[0mnum_epochs\u001b[0m \u001b[0;34m=\u001b[0m \u001b[0;36m300\u001b[0m\u001b[0;34m\u001b[0m\u001b[0m\n\u001b[1;32m      3\u001b[0m \u001b[0mkeep_rate\u001b[0m \u001b[0;34m=\u001b[0m \u001b[0;36m0.8\u001b[0m\u001b[0;34m\u001b[0m\u001b[0m\n\u001b[0;32m----> 4\u001b[0;31m \u001b[0mn\u001b[0m\u001b[0;34m.\u001b[0m\u001b[0mtrain\u001b[0m\u001b[0;34m(\u001b[0m\u001b[0mnum_epochs\u001b[0m \u001b[0;34m=\u001b[0m \u001b[0mnum_epochs\u001b[0m\u001b[0;34m,\u001b[0m \u001b[0mn_train\u001b[0m \u001b[0;34m=\u001b[0m \u001b[0mn_train\u001b[0m\u001b[0;34m,\u001b[0m \u001b[0mkeep_rate\u001b[0m \u001b[0;34m=\u001b[0m \u001b[0mkeep_rate\u001b[0m\u001b[0;34m,\u001b[0m \u001b[0mhistory\u001b[0m \u001b[0;34m=\u001b[0m \u001b[0;32mTrue\u001b[0m\u001b[0;34m)\u001b[0m\u001b[0;34m\u001b[0m\u001b[0m\n\u001b[0m",
      "\u001b[0;32m~/Dropbox/science/delfi/master/delfi/compression/IMNN/information_maximiser/IMNN.py\u001b[0m in \u001b[0;36mtrain\u001b[0;34m(n, num_epochs, n_train, keep_rate, history, data, to_continue)\u001b[0m\n\u001b[1;32m    832\u001b[0m                 \u001b[0;32mif\u001b[0m \u001b[0mtest\u001b[0m\u001b[0;34m:\u001b[0m\u001b[0;34m\u001b[0m\u001b[0m\n\u001b[1;32m    833\u001b[0m                     \u001b[0;32mif\u001b[0m \u001b[0mn\u001b[0m\u001b[0;34m.\u001b[0m\u001b[0mx_central\u001b[0m\u001b[0;34m.\u001b[0m\u001b[0mop\u001b[0m\u001b[0;34m.\u001b[0m\u001b[0mtype\u001b[0m \u001b[0;34m!=\u001b[0m \u001b[0;34m'Placeholder'\u001b[0m\u001b[0;34m:\u001b[0m\u001b[0;34m\u001b[0m\u001b[0m\n\u001b[0;32m--> 834\u001b[0;31m                         \u001b[0mμ\u001b[0m\u001b[0;34m,\u001b[0m \u001b[0mC\u001b[0m\u001b[0;34m,\u001b[0m \u001b[0mdμdθ\u001b[0m\u001b[0;34m,\u001b[0m \u001b[0mΛ\u001b[0m\u001b[0;34m,\u001b[0m \u001b[0mtest_F\u001b[0m\u001b[0;34m,\u001b[0m \u001b[0mtest_μ\u001b[0m\u001b[0;34m,\u001b[0m \u001b[0mtest_C\u001b[0m\u001b[0;34m,\u001b[0m \u001b[0mtest_dμdθ\u001b[0m\u001b[0;34m,\u001b[0m \u001b[0mtest_Λ\u001b[0m \u001b[0;34m=\u001b[0m \u001b[0mn\u001b[0m\u001b[0;34m.\u001b[0m\u001b[0msess\u001b[0m\u001b[0;34m.\u001b[0m\u001b[0mrun\u001b[0m\u001b[0;34m(\u001b[0m\u001b[0;34m[\u001b[0m\u001b[0mn\u001b[0m\u001b[0;34m.\u001b[0m\u001b[0mμ\u001b[0m\u001b[0;34m,\u001b[0m \u001b[0mn\u001b[0m\u001b[0;34m.\u001b[0m\u001b[0mC\u001b[0m\u001b[0;34m,\u001b[0m \u001b[0mn\u001b[0m\u001b[0;34m.\u001b[0m\u001b[0mdμdθ\u001b[0m\u001b[0;34m,\u001b[0m \u001b[0mn\u001b[0m\u001b[0;34m.\u001b[0m\u001b[0mΛ\u001b[0m\u001b[0;34m,\u001b[0m \u001b[0mn\u001b[0m\u001b[0;34m.\u001b[0m\u001b[0mtest_F\u001b[0m\u001b[0;34m,\u001b[0m \u001b[0mn\u001b[0m\u001b[0;34m.\u001b[0m\u001b[0mtest_μ\u001b[0m\u001b[0;34m,\u001b[0m \u001b[0mn\u001b[0m\u001b[0;34m.\u001b[0m\u001b[0mtest_C\u001b[0m\u001b[0;34m,\u001b[0m \u001b[0mn\u001b[0m\u001b[0;34m.\u001b[0m\u001b[0mtest_dμdθ\u001b[0m\u001b[0;34m,\u001b[0m \u001b[0mn\u001b[0m\u001b[0;34m.\u001b[0m\u001b[0mtest_Λ\u001b[0m\u001b[0;34m]\u001b[0m\u001b[0;34m,\u001b[0m \u001b[0mfeed_dict\u001b[0m \u001b[0;34m=\u001b[0m \u001b[0;34m{\u001b[0m\u001b[0mn\u001b[0m\u001b[0;34m.\u001b[0m\u001b[0mcentral_indices\u001b[0m\u001b[0;34m:\u001b[0m \u001b[0mcentral_indices\u001b[0m\u001b[0;34m[\u001b[0m\u001b[0mcombination\u001b[0m \u001b[0;34m*\u001b[0m \u001b[0mn\u001b[0m\u001b[0;34m.\u001b[0m\u001b[0mn_s\u001b[0m\u001b[0;34m:\u001b[0m \u001b[0;34m(\u001b[0m\u001b[0mcombination\u001b[0m \u001b[0;34m+\u001b[0m \u001b[0;36m1\u001b[0m\u001b[0;34m)\u001b[0m \u001b[0;34m*\u001b[0m \u001b[0mn\u001b[0m\u001b[0;34m.\u001b[0m\u001b[0mn_s\u001b[0m\u001b[0;34m]\u001b[0m\u001b[0;34m.\u001b[0m\u001b[0mreshape\u001b[0m\u001b[0;34m(\u001b[0m\u001b[0;34m(\u001b[0m\u001b[0mn\u001b[0m\u001b[0;34m.\u001b[0m\u001b[0mn_s\u001b[0m\u001b[0;34m,\u001b[0m \u001b[0;36m1\u001b[0m\u001b[0;34m)\u001b[0m\u001b[0;34m)\u001b[0m\u001b[0;34m,\u001b[0m \u001b[0mn\u001b[0m\u001b[0;34m.\u001b[0m\u001b[0mderivative_indices\u001b[0m\u001b[0;34m:\u001b[0m \u001b[0mderivative_indices\u001b[0m\u001b[0;34m[\u001b[0m\u001b[0mcombination\u001b[0m \u001b[0;34m*\u001b[0m \u001b[0mn\u001b[0m\u001b[0;34m.\u001b[0m\u001b[0mn_p\u001b[0m\u001b[0;34m:\u001b[0m \u001b[0;34m(\u001b[0m\u001b[0mcombination\u001b[0m \u001b[0;34m+\u001b[0m \u001b[0;36m1\u001b[0m\u001b[0;34m)\u001b[0m \u001b[0;34m*\u001b[0m \u001b[0mn\u001b[0m\u001b[0;34m.\u001b[0m\u001b[0mn_p\u001b[0m\u001b[0;34m]\u001b[0m\u001b[0;34m.\u001b[0m\u001b[0mreshape\u001b[0m\u001b[0;34m(\u001b[0m\u001b[0;34m(\u001b[0m\u001b[0mn\u001b[0m\u001b[0;34m.\u001b[0m\u001b[0mn_p\u001b[0m\u001b[0;34m,\u001b[0m \u001b[0;36m1\u001b[0m\u001b[0;34m)\u001b[0m\u001b[0;34m)\u001b[0m\u001b[0;34m,\u001b[0m \u001b[0mn\u001b[0m\u001b[0;34m.\u001b[0m\u001b[0mdropout\u001b[0m\u001b[0;34m:\u001b[0m \u001b[0;36m1.\u001b[0m\u001b[0;34m}\u001b[0m\u001b[0;34m)\u001b[0m\u001b[0;34m\u001b[0m\u001b[0m\n\u001b[0m\u001b[1;32m    835\u001b[0m                     \u001b[0;32melse\u001b[0m\u001b[0;34m:\u001b[0m\u001b[0;34m\u001b[0m\u001b[0m\n\u001b[1;32m    836\u001b[0m                         \u001b[0mμ\u001b[0m\u001b[0;34m,\u001b[0m \u001b[0mC\u001b[0m\u001b[0;34m,\u001b[0m \u001b[0mdμdθ\u001b[0m\u001b[0;34m,\u001b[0m \u001b[0mΛ\u001b[0m\u001b[0;34m,\u001b[0m \u001b[0mtest_F\u001b[0m\u001b[0;34m,\u001b[0m \u001b[0mtest_μ\u001b[0m\u001b[0;34m,\u001b[0m \u001b[0mtest_C\u001b[0m\u001b[0;34m,\u001b[0m \u001b[0mtest_dμdθ\u001b[0m\u001b[0;34m,\u001b[0m \u001b[0mtest_Λ\u001b[0m \u001b[0;34m=\u001b[0m \u001b[0mn\u001b[0m\u001b[0;34m.\u001b[0m\u001b[0msess\u001b[0m\u001b[0;34m.\u001b[0m\u001b[0mrun\u001b[0m\u001b[0;34m(\u001b[0m\u001b[0;34m[\u001b[0m\u001b[0mn\u001b[0m\u001b[0;34m.\u001b[0m\u001b[0mμ\u001b[0m\u001b[0;34m,\u001b[0m \u001b[0mn\u001b[0m\u001b[0;34m.\u001b[0m\u001b[0mC\u001b[0m\u001b[0;34m,\u001b[0m \u001b[0mn\u001b[0m\u001b[0;34m.\u001b[0m\u001b[0mdμdθ\u001b[0m\u001b[0;34m,\u001b[0m \u001b[0mn\u001b[0m\u001b[0;34m.\u001b[0m\u001b[0mΛ\u001b[0m\u001b[0;34m,\u001b[0m \u001b[0mn\u001b[0m\u001b[0;34m.\u001b[0m\u001b[0mtest_F\u001b[0m\u001b[0;34m,\u001b[0m \u001b[0mn\u001b[0m\u001b[0;34m.\u001b[0m\u001b[0mtest_μ\u001b[0m\u001b[0;34m,\u001b[0m \u001b[0mn\u001b[0m\u001b[0;34m.\u001b[0m\u001b[0mtest_C\u001b[0m\u001b[0;34m,\u001b[0m \u001b[0mn\u001b[0m\u001b[0;34m.\u001b[0m\u001b[0mtest_dμdθ\u001b[0m\u001b[0;34m,\u001b[0m \u001b[0mn\u001b[0m\u001b[0;34m.\u001b[0m\u001b[0mtest_Λ\u001b[0m\u001b[0;34m]\u001b[0m\u001b[0;34m,\u001b[0m \u001b[0mfeed_dict\u001b[0m \u001b[0;34m=\u001b[0m \u001b[0;34m{\u001b[0m\u001b[0mn\u001b[0m\u001b[0;34m.\u001b[0m\u001b[0mx_central\u001b[0m\u001b[0;34m:\u001b[0m \u001b[0mdata\u001b[0m\u001b[0;34m[\u001b[0m\u001b[0;34m'x_central_test'\u001b[0m\u001b[0;34m]\u001b[0m\u001b[0;34m,\u001b[0m \u001b[0mn\u001b[0m\u001b[0;34m.\u001b[0m\u001b[0mx_m\u001b[0m\u001b[0;34m:\u001b[0m \u001b[0mdata\u001b[0m\u001b[0;34m[\u001b[0m\u001b[0;34m'x_m_test'\u001b[0m\u001b[0;34m]\u001b[0m\u001b[0;34m,\u001b[0m \u001b[0mn\u001b[0m\u001b[0;34m.\u001b[0m\u001b[0mx_p\u001b[0m\u001b[0;34m:\u001b[0m \u001b[0mdata\u001b[0m\u001b[0;34m[\u001b[0m\u001b[0;34m'x_p_test'\u001b[0m\u001b[0;34m]\u001b[0m\u001b[0;34m,\u001b[0m \u001b[0mn\u001b[0m\u001b[0;34m.\u001b[0m\u001b[0mdropout\u001b[0m\u001b[0;34m:\u001b[0m \u001b[0;36m1.\u001b[0m\u001b[0;34m}\u001b[0m\u001b[0;34m)\u001b[0m\u001b[0;34m\u001b[0m\u001b[0m\n",
      "\u001b[0;32m/usr/local/lib/python3.6/site-packages/tensorflow/python/client/session.py\u001b[0m in \u001b[0;36mrun\u001b[0;34m(self, fetches, feed_dict, options, run_metadata)\u001b[0m\n\u001b[1;32m    927\u001b[0m     \u001b[0;32mtry\u001b[0m\u001b[0;34m:\u001b[0m\u001b[0;34m\u001b[0m\u001b[0m\n\u001b[1;32m    928\u001b[0m       result = self._run(None, fetches, feed_dict, options_ptr,\n\u001b[0;32m--> 929\u001b[0;31m                          run_metadata_ptr)\n\u001b[0m\u001b[1;32m    930\u001b[0m       \u001b[0;32mif\u001b[0m \u001b[0mrun_metadata\u001b[0m\u001b[0;34m:\u001b[0m\u001b[0;34m\u001b[0m\u001b[0m\n\u001b[1;32m    931\u001b[0m         \u001b[0mproto_data\u001b[0m \u001b[0;34m=\u001b[0m \u001b[0mtf_session\u001b[0m\u001b[0;34m.\u001b[0m\u001b[0mTF_GetBuffer\u001b[0m\u001b[0;34m(\u001b[0m\u001b[0mrun_metadata_ptr\u001b[0m\u001b[0;34m)\u001b[0m\u001b[0;34m\u001b[0m\u001b[0m\n",
      "\u001b[0;32m/usr/local/lib/python3.6/site-packages/tensorflow/python/client/session.py\u001b[0m in \u001b[0;36m_run\u001b[0;34m(self, handle, fetches, feed_dict, options, run_metadata)\u001b[0m\n\u001b[1;32m   1150\u001b[0m     \u001b[0;32mif\u001b[0m \u001b[0mfinal_fetches\u001b[0m \u001b[0;32mor\u001b[0m \u001b[0mfinal_targets\u001b[0m \u001b[0;32mor\u001b[0m \u001b[0;34m(\u001b[0m\u001b[0mhandle\u001b[0m \u001b[0;32mand\u001b[0m \u001b[0mfeed_dict_tensor\u001b[0m\u001b[0;34m)\u001b[0m\u001b[0;34m:\u001b[0m\u001b[0;34m\u001b[0m\u001b[0m\n\u001b[1;32m   1151\u001b[0m       results = self._do_run(handle, final_targets, final_fetches,\n\u001b[0;32m-> 1152\u001b[0;31m                              feed_dict_tensor, options, run_metadata)\n\u001b[0m\u001b[1;32m   1153\u001b[0m     \u001b[0;32melse\u001b[0m\u001b[0;34m:\u001b[0m\u001b[0;34m\u001b[0m\u001b[0m\n\u001b[1;32m   1154\u001b[0m       \u001b[0mresults\u001b[0m \u001b[0;34m=\u001b[0m \u001b[0;34m[\u001b[0m\u001b[0;34m]\u001b[0m\u001b[0;34m\u001b[0m\u001b[0m\n",
      "\u001b[0;32m/usr/local/lib/python3.6/site-packages/tensorflow/python/client/session.py\u001b[0m in \u001b[0;36m_do_run\u001b[0;34m(self, handle, target_list, fetch_list, feed_dict, options, run_metadata)\u001b[0m\n\u001b[1;32m   1326\u001b[0m     \u001b[0;32mif\u001b[0m \u001b[0mhandle\u001b[0m \u001b[0;32mis\u001b[0m \u001b[0;32mNone\u001b[0m\u001b[0;34m:\u001b[0m\u001b[0;34m\u001b[0m\u001b[0m\n\u001b[1;32m   1327\u001b[0m       return self._do_call(_run_fn, feeds, fetches, targets, options,\n\u001b[0;32m-> 1328\u001b[0;31m                            run_metadata)\n\u001b[0m\u001b[1;32m   1329\u001b[0m     \u001b[0;32melse\u001b[0m\u001b[0;34m:\u001b[0m\u001b[0;34m\u001b[0m\u001b[0m\n\u001b[1;32m   1330\u001b[0m       \u001b[0;32mreturn\u001b[0m \u001b[0mself\u001b[0m\u001b[0;34m.\u001b[0m\u001b[0m_do_call\u001b[0m\u001b[0;34m(\u001b[0m\u001b[0m_prun_fn\u001b[0m\u001b[0;34m,\u001b[0m \u001b[0mhandle\u001b[0m\u001b[0;34m,\u001b[0m \u001b[0mfeeds\u001b[0m\u001b[0;34m,\u001b[0m \u001b[0mfetches\u001b[0m\u001b[0;34m)\u001b[0m\u001b[0;34m\u001b[0m\u001b[0m\n",
      "\u001b[0;32m/usr/local/lib/python3.6/site-packages/tensorflow/python/client/session.py\u001b[0m in \u001b[0;36m_do_call\u001b[0;34m(self, fn, *args)\u001b[0m\n\u001b[1;32m   1332\u001b[0m   \u001b[0;32mdef\u001b[0m \u001b[0m_do_call\u001b[0m\u001b[0;34m(\u001b[0m\u001b[0mself\u001b[0m\u001b[0;34m,\u001b[0m \u001b[0mfn\u001b[0m\u001b[0;34m,\u001b[0m \u001b[0;34m*\u001b[0m\u001b[0margs\u001b[0m\u001b[0;34m)\u001b[0m\u001b[0;34m:\u001b[0m\u001b[0;34m\u001b[0m\u001b[0m\n\u001b[1;32m   1333\u001b[0m     \u001b[0;32mtry\u001b[0m\u001b[0;34m:\u001b[0m\u001b[0;34m\u001b[0m\u001b[0m\n\u001b[0;32m-> 1334\u001b[0;31m       \u001b[0;32mreturn\u001b[0m \u001b[0mfn\u001b[0m\u001b[0;34m(\u001b[0m\u001b[0;34m*\u001b[0m\u001b[0margs\u001b[0m\u001b[0;34m)\u001b[0m\u001b[0;34m\u001b[0m\u001b[0m\n\u001b[0m\u001b[1;32m   1335\u001b[0m     \u001b[0;32mexcept\u001b[0m \u001b[0merrors\u001b[0m\u001b[0;34m.\u001b[0m\u001b[0mOpError\u001b[0m \u001b[0;32mas\u001b[0m \u001b[0me\u001b[0m\u001b[0;34m:\u001b[0m\u001b[0;34m\u001b[0m\u001b[0m\n\u001b[1;32m   1336\u001b[0m       \u001b[0mmessage\u001b[0m \u001b[0;34m=\u001b[0m \u001b[0mcompat\u001b[0m\u001b[0;34m.\u001b[0m\u001b[0mas_text\u001b[0m\u001b[0;34m(\u001b[0m\u001b[0me\u001b[0m\u001b[0;34m.\u001b[0m\u001b[0mmessage\u001b[0m\u001b[0;34m)\u001b[0m\u001b[0;34m\u001b[0m\u001b[0m\n",
      "\u001b[0;32m/usr/local/lib/python3.6/site-packages/tensorflow/python/client/session.py\u001b[0m in \u001b[0;36m_run_fn\u001b[0;34m(feed_dict, fetch_list, target_list, options, run_metadata)\u001b[0m\n\u001b[1;32m   1317\u001b[0m       \u001b[0mself\u001b[0m\u001b[0;34m.\u001b[0m\u001b[0m_extend_graph\u001b[0m\u001b[0;34m(\u001b[0m\u001b[0;34m)\u001b[0m\u001b[0;34m\u001b[0m\u001b[0m\n\u001b[1;32m   1318\u001b[0m       return self._call_tf_sessionrun(\n\u001b[0;32m-> 1319\u001b[0;31m           options, feed_dict, fetch_list, target_list, run_metadata)\n\u001b[0m\u001b[1;32m   1320\u001b[0m \u001b[0;34m\u001b[0m\u001b[0m\n\u001b[1;32m   1321\u001b[0m     \u001b[0;32mdef\u001b[0m \u001b[0m_prun_fn\u001b[0m\u001b[0;34m(\u001b[0m\u001b[0mhandle\u001b[0m\u001b[0;34m,\u001b[0m \u001b[0mfeed_dict\u001b[0m\u001b[0;34m,\u001b[0m \u001b[0mfetch_list\u001b[0m\u001b[0;34m)\u001b[0m\u001b[0;34m:\u001b[0m\u001b[0;34m\u001b[0m\u001b[0m\n",
      "\u001b[0;32m/usr/local/lib/python3.6/site-packages/tensorflow/python/client/session.py\u001b[0m in \u001b[0;36m_call_tf_sessionrun\u001b[0;34m(self, options, feed_dict, fetch_list, target_list, run_metadata)\u001b[0m\n\u001b[1;32m   1405\u001b[0m     return tf_session.TF_SessionRun_wrapper(\n\u001b[1;32m   1406\u001b[0m         \u001b[0mself\u001b[0m\u001b[0;34m.\u001b[0m\u001b[0m_session\u001b[0m\u001b[0;34m,\u001b[0m \u001b[0moptions\u001b[0m\u001b[0;34m,\u001b[0m \u001b[0mfeed_dict\u001b[0m\u001b[0;34m,\u001b[0m \u001b[0mfetch_list\u001b[0m\u001b[0;34m,\u001b[0m \u001b[0mtarget_list\u001b[0m\u001b[0;34m,\u001b[0m\u001b[0;34m\u001b[0m\u001b[0m\n\u001b[0;32m-> 1407\u001b[0;31m         run_metadata)\n\u001b[0m\u001b[1;32m   1408\u001b[0m \u001b[0;34m\u001b[0m\u001b[0m\n\u001b[1;32m   1409\u001b[0m   \u001b[0;32mdef\u001b[0m \u001b[0m_call_tf_sessionprun\u001b[0m\u001b[0;34m(\u001b[0m\u001b[0mself\u001b[0m\u001b[0;34m,\u001b[0m \u001b[0mhandle\u001b[0m\u001b[0;34m,\u001b[0m \u001b[0mfeed_dict\u001b[0m\u001b[0;34m,\u001b[0m \u001b[0mfetch_list\u001b[0m\u001b[0;34m)\u001b[0m\u001b[0;34m:\u001b[0m\u001b[0;34m\u001b[0m\u001b[0m\n",
      "\u001b[0;31mKeyboardInterrupt\u001b[0m: "
     ]
    }
   ],
   "source": [
    "# Train the IMNN\n",
    "num_epochs = 300\n",
    "keep_rate = 0.8\n",
    "n.train(num_epochs = num_epochs, n_train = n_train, keep_rate = keep_rate, history = True)"
   ]
  },
  {
   "cell_type": "code",
   "execution_count": 19,
   "metadata": {
    "ExecuteTime": {
     "end_time": "2018-08-02T14:02:25.564805Z",
     "start_time": "2018-08-02T14:02:23.371429Z"
    }
   },
   "outputs": [
    {
     "name": "stdout",
     "output_type": "stream",
     "text": [
      "\n"
     ]
    },
    {
     "data": {
      "image/png": "[encoded data removed]",
      "text/plain": [
       "<Figure size 576x1008 with 5 Axes>"
      ]
     },
     "metadata": {
      "needs_background": "light"
     },
     "output_type": "display_data"
    }
   ],
   "source": [
    "fig, ax = plt.subplots(5, 1, sharex = True, figsize = (8, 14))\n",
    "plt.subplots_adjust(hspace = 0)\n",
    "end = len(n.history[\"det(F)\"])\n",
    "epochs = np.arange(end)\n",
    "a, = ax[0].plot(epochs, n.history[\"det(F)\"], label = 'Training data')\n",
    "b, = ax[0].plot(epochs, n.history[\"det(test F)\"], label = 'Test data')\n",
    "ax[0].legend(frameon = False)\n",
    "ax[0].set_ylabel(r'$|{\\bf F}_{\\alpha\\beta}|$')\n",
    "ax[1].plot(epochs, n.history[\"Λ\"])\n",
    "ax[1].plot(epochs, n.history[\"test Λ\"])\n",
    "ax[1].set_xlabel('Number of epochs')\n",
    "ax[1].set_ylabel(r'$\\Lambda$')\n",
    "ax[1].set_xlim([0, len(epochs)]);\n",
    "ax[2].plot(epochs, n.history[\"det(C)\"])\n",
    "ax[2].plot(epochs, n.history[\"det(test C)\"])\n",
    "ax[2].set_xlabel('Number of epochs')\n",
    "ax[2].set_ylabel(r'$|{\\bf C}|$')\n",
    "ax[2].set_xlim([0, len(epochs)]);\n",
    "#ax[3].plot(epochs, np.array(n.history[\"dμdθ\"]).reshape((np.prod(np.array(n.history[\"dμdθ\"]).shape))))\n",
    "#ax[3].plot(epochs, np.array(n.history[\"test dμdθ\"]).reshape((np.prod(np.array(n.history[\"test dμdθ\"]).shape))))\n",
    "#ax[3].set_ylabel(r'$\\partial\\mu/\\partial\\theta$')\n",
    "#ax[3].set_xlabel('Number of epochs')\n",
    "#ax[3].set_xlim([0, len(epochs)])\n",
    "#ax[4].plot(epochs, np.array(n.history[\"μ\"]).reshape((np.prod(np.array(n.history[\"μ\"]).shape))))\n",
    "#ax[4].plot(epochs, np.array(n.history[\"test μ\"]).reshape((np.prod(np.array(n.history[\"test μ\"]).shape))))\n",
    "#ax[4].set_ylabel('μ')\n",
    "#ax[4].set_xlabel('Number of epochs')\n",
    "#ax[4].set_xlim([0, len(epochs)])\n",
    "print()"
   ]
  },
  {
   "cell_type": "code",
   "execution_count": 9,
   "metadata": {},
   "outputs": [
    {
     "ename": "NameError",
     "evalue": "name 'n' is not defined",
     "output_type": "error",
     "traceback": [
      "\u001b[0;31m---------------------------------------------------------------------------\u001b[0m",
      "\u001b[0;31mNameError\u001b[0m                                 Traceback (most recent call last)",
      "\u001b[0;32m<ipython-input-9-2ea36271e910>\u001b[0m in \u001b[0;36m<module>\u001b[0;34m\u001b[0m\n\u001b[0;32m----> 1\u001b[0;31m \u001b[0mnp\u001b[0m\u001b[0;34m.\u001b[0m\u001b[0msqrt\u001b[0m\u001b[0;34m(\u001b[0m\u001b[0mnp\u001b[0m\u001b[0;34m.\u001b[0m\u001b[0mdiag\u001b[0m\u001b[0;34m(\u001b[0m\u001b[0mnp\u001b[0m\u001b[0;34m.\u001b[0m\u001b[0mlinalg\u001b[0m\u001b[0;34m.\u001b[0m\u001b[0minv\u001b[0m\u001b[0;34m(\u001b[0m\u001b[0mn\u001b[0m\u001b[0;34m.\u001b[0m\u001b[0msess\u001b[0m\u001b[0;34m.\u001b[0m\u001b[0mrun\u001b[0m\u001b[0;34m(\u001b[0m\u001b[0mn\u001b[0m\u001b[0;34m.\u001b[0m\u001b[0mtest_F\u001b[0m\u001b[0;34m)\u001b[0m\u001b[0;34m)\u001b[0m\u001b[0;34m)\u001b[0m\u001b[0;34m)\u001b[0m\u001b[0;34m\u001b[0m\u001b[0m\n\u001b[0m",
      "\u001b[0;31mNameError\u001b[0m: name 'n' is not defined"
     ]
    }
   ],
   "source": [
    "np.sqrt(np.diag(np.linalg.inv(n.sess.run(n.test_F))))"
   ]
  },
  {
   "cell_type": "code",
   "execution_count": 10,
   "metadata": {},
   "outputs": [
    {
     "data": {
      "text/plain": [
       "array([0.00366832, 0.00114453, 0.01745447, 0.10485434, 0.02327808])"
      ]
     },
     "execution_count": 10,
     "metadata": {},
     "output_type": "execute_result"
    }
   ],
   "source": [
    "np.sqrt(np.diag(Compressor.Finv))"
   ]
  },
  {
   "cell_type": "code",
   "execution_count": null,
   "metadata": {},
   "outputs": [],
   "source": []
  }
 ],
 "metadata": {
  "kernelspec": {
   "display_name": "Python 3",
   "language": "python",
   "name": "python3"
  },
  "language_info": {
   "codemirror_mode": {
    "name": "ipython",
    "version": 3
   },
   "file_extension": ".py",
   "mimetype": "text/x-python",
   "name": "python",
   "nbconvert_exporter": "python",
   "pygments_lexer": "ipython3",
   "version": "3.6.5"
  },
  "latex_envs": {
   "LaTeX_envs_menu_present": true,
   "autoclose": true,
   "autocomplete": true,
   "bibliofile": "biblio.bib",
   "cite_by": "apalike",
   "current_citInitial": 1,
   "eqLabelWithNumbers": false,
   "eqNumInitial": 1,
   "hotkeys": {
    "equation": "Ctrl-E",
    "itemize": "Ctrl-I"
   },
   "labels_anchors": false,
   "latex_user_defs": false,
   "report_style_numbering": false,
   "user_envs_cfg": false
  }
 },
 "nbformat": 4,
 "nbformat_minor": 2
}
