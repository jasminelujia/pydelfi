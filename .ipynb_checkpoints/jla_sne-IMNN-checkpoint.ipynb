{
 "cells": [
  {
   "cell_type": "code",
   "execution_count": 1,
   "metadata": {},
   "outputs": [],
   "source": [
    "%load_ext autoreload\n",
    "%autoreload 2\n",
    "import os\n",
    "os.environ[\"CUDA_VISIBLE_DEVICES\"]=\"0\""
   ]
  },
  {
   "cell_type": "code",
   "execution_count": 2,
   "metadata": {},
   "outputs": [],
   "source": [
    "import numpy as np\n",
    "import matplotlib.pyplot as plt\n",
    "import scipy.interpolate as interpolate\n",
    "import simulators.jla_supernovae.jla_simulator as jla\n",
    "import ndes.ndes as ndes\n",
    "import delfi.delfi as delfi\n",
    "import compression.score.score as score\n",
    "import distributions.priors as priors\n",
    "import tensorflow as tf\n",
    "import getdist\n",
    "from getdist import plots, MCSamples\n",
    "import compression.IMNN.information_maximiser.utils as utils\n",
    "import compression.IMNN.information_maximiser.IMNN as IMNN\n",
    "tf.logging.set_verbosity(tf.logging.ERROR)\n",
    "%matplotlib inline"
   ]
  },
  {
   "cell_type": "code",
   "execution_count": 3,
   "metadata": {},
   "outputs": [
    {
     "name": "stderr",
     "output_type": "stream",
     "text": [
      "/Users/justinalsing/Dropbox/science/delfi/master/delfi/simulators/jla_supernovae/jla_parser.py:9: VisibleDeprecationWarning: Reading unicode strings without specifying the encoding argument is deprecated. Set the encoding, use None for the system default.\n",
      "  dtype = None, names = True)\n"
     ]
    }
   ],
   "source": [
    "### SET UP FOR SIMULATION CODE ###\n",
    "\n",
    "JLASimulator = jla.JLA_Model()\n",
    "\n",
    "# Simulator function: This must be of the form simulator(theta, seed, args) -> simulated data vector\n",
    "def simulator(theta, seed, simulator_args, batch):\n",
    "    \n",
    "    return JLASimulator.simulation(theta, seed)\n",
    "simulator_args = None"
   ]
  },
  {
   "cell_type": "code",
   "execution_count": 4,
   "metadata": {},
   "outputs": [],
   "source": [
    "### SET UP THE PRIOR ###\n",
    "\n",
    "# Define prior limits and boundaries\n",
    "lower = np.array([0, -1.5, -20, 0, 0, -0.5])\n",
    "upper = np.array([0.6, 0, -18, 1, 6, 0.5])\n",
    "prior_covariance = np.diag([0.4, 0.75, 0.1, 0.025, 0.25, 0.05])**2\n",
    "prior_covariance[0,1] = prior_covariance[1,0] = -0.8*0.4*0.75\n",
    "prior_mean = np.array([  0.3  ,  -0.75 , -19.05 ,   0.125,   2.6  ,  -0.05 ])\n",
    "prior = priors.TruncatedGaussian(prior_mean, prior_covariance, lower, upper)"
   ]
  },
  {
   "cell_type": "code",
   "execution_count": 5,
   "metadata": {},
   "outputs": [],
   "source": [
    "### SET UP THE COMPRESSOR ###\n",
    "\n",
    "# Fiducial parameters\n",
    "theta_fiducial = np.array([  0.20181324,  -0.74762939, -19.04253368,   0.12566322,   2.64387045, -0.05252869])\n",
    "\n",
    "# Expected data (mean) and covariance\n",
    "mu = JLASimulator.apparent_magnitude(theta_fiducial)\n",
    "Cinv = JLASimulator.Cinv\n",
    "\n",
    "# Calculate derivatives of the expected power spectrum\n",
    "h = np.array(abs(theta_fiducial))*0.01\n",
    "dmudt = JLASimulator.dmudt(theta_fiducial, h)\n",
    "\n",
    "# Define compression as score-MLE of a Wishart likelihood\n",
    "Compressor = score.Gaussian(len(JLASimulator.data), theta_fiducial, mu = mu, Cinv = Cinv, dmudt = dmudt, prior_mean = prior_mean, prior_covariance = prior_covariance)\n",
    "\n",
    "# Compute the Fisher matrix\n",
    "Compressor.compute_fisher()\n",
    "\n",
    "# Pull out Fisher matrix inverse\n",
    "Finv = Compressor.Finv\n",
    "\n",
    "# Compressor function: This must have the form compressor(data, args) -> compressed summaries (pseudoMLE)\n",
    "def compressor(d, compressor_args):\n",
    "    return Compressor.scoreMLE(d)\n",
    "compressor_args = None"
   ]
  },
  {
   "cell_type": "code",
   "execution_count": 6,
   "metadata": {},
   "outputs": [],
   "source": [
    "### LOAD IN THE DATA VECTOR ###\n",
    "#data = compressor(JLASimulator.data, compressor_args)\n",
    "data = JLASimulator.data"
   ]
  },
  {
   "cell_type": "code",
   "execution_count": 7,
   "metadata": {},
   "outputs": [],
   "source": [
    "# Shape of the input\n",
    "input_shape = [len(data)]"
   ]
  },
  {
   "cell_type": "code",
   "execution_count": 8,
   "metadata": {},
   "outputs": [],
   "source": [
    "# Run sims for training set\n",
    "\n",
    "# Run sims at fiducial parameters\n",
    "n_s = 10000\n",
    "n_train = 1\n",
    "t = np.array([simulator(theta_fiducial, np.random.randint(1e8), simulator_args=None, batch=1) for i in range(n_s)])\n",
    "tt = np.array([simulator(theta_fiducial, np.random.randint(1e8), simulator_args=None, batch=1) for i in range(n_s)])\n",
    "\n",
    "# How many sims to run for the derivatives\n",
    "derivative_fraction = 0.05\n",
    "n_p = int(n_s * derivative_fraction)\n",
    "\n",
    "# Set the seed\n",
    "seed = np.random.randint(1e6)\n",
    "\n",
    "# Forward steps\n",
    "np.random.seed(seed)\n",
    "t_m = np.zeros((n_p, len(theta_fiducial), len(data)))\n",
    "tt_m = np.zeros((n_p, len(theta_fiducial), len(data)))\n",
    "for a in range(len(theta_fiducial)):\n",
    "    theta = np.copy(theta_fiducial)\n",
    "    theta[a] = theta_fiducial[a] - h[a]\n",
    "    t_m[:, a, :] = np.array([simulator(theta, np.random.randint(1e8), simulator_args=None, batch=1) for i in range(n_p)])\n",
    "    tt_m[:, a, :] = np.array([simulator(theta, np.random.randint(1e8), simulator_args=None, batch=1) for i in range(n_p)])\n",
    "\n",
    "# Backward steps\n",
    "np.random.seed(seed)\n",
    "t_p = np.zeros((n_p, len(theta_fiducial), len(data)))\n",
    "tt_p = np.zeros((n_p, len(theta_fiducial), len(data)))\n",
    "for a in range(len(theta_fiducial)):\n",
    "    theta = np.copy(theta_fiducial)\n",
    "    theta[a] = theta_fiducial[a] + h[a]\n",
    "    t_p[:, a, :] = np.array([simulator(theta, np.random.randint(1e8), simulator_args=None, batch=1) for i in range(n_p)])\n",
    "    tt_p[:, a, :] = np.array([simulator(theta, np.random.randint(1e8), simulator_args=None, batch=1) for i in range(n_p)])\n",
    "np.random.seed()\n",
    "\n",
    "der_den = 1. / (2. * h)"
   ]
  },
  {
   "cell_type": "code",
   "execution_count": 9,
   "metadata": {},
   "outputs": [],
   "source": [
    "data = {\"x_central\": t, \"x_m\": t_m, \"x_p\": t_p, \"x_central_test\": tt, \"x_m_test\": tt_m, \"x_p_test\": tt_p}"
   ]
  },
  {
   "cell_type": "code",
   "execution_count": 10,
   "metadata": {},
   "outputs": [
    {
     "name": "stdout",
     "output_type": "stream",
     "text": [
      "saving model as data/saved_model.meta\n",
      "network architecture is [[740], 740, 300, 100, 50, 6].\n",
      "Tensor(\"x:0\", shape=(?, 740), dtype=float32)\n",
      "Tensor(\"IMNN/layer_1/dense_1/mul:0\", shape=(?, 740), dtype=float32)\n",
      "Tensor(\"IMNN/layer_2/dense_2/mul:0\", shape=(?, 300), dtype=float32)\n",
      "Tensor(\"IMNN/layer_3/dense_3/mul:0\", shape=(?, 100), dtype=float32)\n",
      "Tensor(\"IMNN/layer_4/dense_4/mul:0\", shape=(?, 50), dtype=float32)\n",
      "Tensor(\"IMNN/layer_5/LeakyRelu:0\", shape=(?, 6), dtype=float32)\n",
      "Tensor(\"output:0\", shape=(?, 6), dtype=float32)\n",
      "Tensor(\"GatherNd:0\", shape=(10000, 740), dtype=float32)\n",
      "Tensor(\"IMNN_1/layer_1/dense_1/mul:0\", shape=(10000, 740), dtype=float32)\n",
      "Tensor(\"IMNN_1/layer_2/dense_2/mul:0\", shape=(10000, 300), dtype=float32)\n",
      "Tensor(\"IMNN_1/layer_3/dense_3/mul:0\", shape=(10000, 100), dtype=float32)\n",
      "Tensor(\"IMNN_1/layer_4/dense_4/mul:0\", shape=(10000, 50), dtype=float32)\n",
      "Tensor(\"IMNN_1/layer_5/LeakyRelu:0\", shape=(10000, 6), dtype=float32)\n",
      "Tensor(\"Reshape:0\", shape=(3000, 740), dtype=float32)\n",
      "Tensor(\"IMNN_1/layer_1_1/dense_1/mul:0\", shape=(3000, 740), dtype=float32)\n",
      "Tensor(\"IMNN_1/layer_2_1/dense_2/mul:0\", shape=(3000, 300), dtype=float32)\n",
      "Tensor(\"IMNN_1/layer_3_1/dense_3/mul:0\", shape=(3000, 100), dtype=float32)\n",
      "Tensor(\"IMNN_1/layer_4_1/dense_4/mul:0\", shape=(3000, 50), dtype=float32)\n",
      "Tensor(\"IMNN_1/layer_5_1/LeakyRelu:0\", shape=(3000, 6), dtype=float32)\n",
      "Tensor(\"Reshape_1:0\", shape=(3000, 740), dtype=float32)\n",
      "Tensor(\"IMNN_1/layer_1_2/dense_1/mul:0\", shape=(3000, 740), dtype=float32)\n",
      "Tensor(\"IMNN_1/layer_2_2/dense_2/mul:0\", shape=(3000, 300), dtype=float32)\n",
      "Tensor(\"IMNN_1/layer_3_2/dense_3/mul:0\", shape=(3000, 100), dtype=float32)\n",
      "Tensor(\"IMNN_1/layer_4_2/dense_4/mul:0\", shape=(3000, 50), dtype=float32)\n",
      "Tensor(\"IMNN_1/layer_5_2/LeakyRelu:0\", shape=(3000, 6), dtype=float32)\n",
      "Tensor(\"Const_3:0\", shape=(10000, 740), dtype=float32)\n",
      "Tensor(\"IMNN_1/layer_1_3/LeakyRelu:0\", shape=(10000, 740), dtype=float32)\n",
      "Tensor(\"IMNN_1/layer_2_3/LeakyRelu:0\", shape=(10000, 300), dtype=float32)\n",
      "Tensor(\"IMNN_1/layer_3_3/LeakyRelu:0\", shape=(10000, 100), dtype=float32)\n",
      "Tensor(\"IMNN_1/layer_4_3/LeakyRelu:0\", shape=(10000, 50), dtype=float32)\n",
      "Tensor(\"IMNN_1/layer_5_3/LeakyRelu:0\", shape=(10000, 6), dtype=float32)\n",
      "Tensor(\"Reshape_2:0\", shape=(3000, 740), dtype=float32)\n",
      "Tensor(\"IMNN_1/layer_1_4/LeakyRelu:0\", shape=(3000, 740), dtype=float32)\n",
      "Tensor(\"IMNN_1/layer_2_4/LeakyRelu:0\", shape=(3000, 300), dtype=float32)\n",
      "Tensor(\"IMNN_1/layer_3_4/LeakyRelu:0\", shape=(3000, 100), dtype=float32)\n",
      "Tensor(\"IMNN_1/layer_4_4/LeakyRelu:0\", shape=(3000, 50), dtype=float32)\n",
      "Tensor(\"IMNN_1/layer_5_4/LeakyRelu:0\", shape=(3000, 6), dtype=float32)\n",
      "Tensor(\"Reshape_3:0\", shape=(3000, 740), dtype=float32)\n",
      "Tensor(\"IMNN_1/layer_1_5/LeakyRelu:0\", shape=(3000, 740), dtype=float32)\n",
      "Tensor(\"IMNN_1/layer_2_5/LeakyRelu:0\", shape=(3000, 300), dtype=float32)\n",
      "Tensor(\"IMNN_1/layer_3_5/LeakyRelu:0\", shape=(3000, 100), dtype=float32)\n",
      "Tensor(\"IMNN_1/layer_4_5/LeakyRelu:0\", shape=(3000, 50), dtype=float32)\n",
      "Tensor(\"IMNN_1/layer_5_5/LeakyRelu:0\", shape=(3000, 6), dtype=float32)\n",
      "Tensor(\"central_output:0\", shape=(10000, 6), dtype=float32)\n",
      "Tensor(\"central_mean:0\", shape=(6,), dtype=float32)\n",
      "Tensor(\"central_difference_from_mean:0\", shape=(10000, 6), dtype=float32)\n",
      "Tensor(\"central_covariance:0\", shape=(6, 6), dtype=float32)\n",
      "Tensor(\"inverse_central_covariance:0\", shape=(6, 6), dtype=float32)\n",
      "Tensor(\"lower_output:0\", shape=(500, 6, 6), dtype=float32)\n",
      "Tensor(\"upper_output:0\", shape=(500, 6, 6), dtype=float32)\n",
      "Tensor(\"upper_lower_mean_derivative:0\", shape=(6, 6), dtype=float32)\n",
      "Tensor(\"fisher_information:0\", shape=(6, 6), dtype=float32)\n",
      "Tensor(\"central_output_1:0\", shape=(10000, 6), dtype=float32)\n",
      "Tensor(\"central_mean_1:0\", shape=(6,), dtype=float32)\n",
      "Tensor(\"central_difference_from_mean_1:0\", shape=(10000, 6), dtype=float32)\n",
      "Tensor(\"central_covariance_1:0\", shape=(6, 6), dtype=float32)\n",
      "Tensor(\"inverse_central_covariance_1:0\", shape=(6, 6), dtype=float32)\n",
      "Tensor(\"lower_output_1:0\", shape=(500, 6, 6), dtype=float32)\n",
      "Tensor(\"upper_output_1:0\", shape=(500, 6, 6), dtype=float32)\n",
      "Tensor(\"upper_lower_mean_derivative_1:0\", shape=(6, 6), dtype=float32)\n",
      "Tensor(\"maximum_likelihood_estimate:0\", shape=(?, 6), dtype=float32)\n",
      "Tensor(\"asymptotic_likelihood:0\", shape=(?, 6, 1000), dtype=float32)\n",
      "saving the graph as data/saved_model.meta\n"
     ]
    }
   ],
   "source": [
    "# IMNN network set-up\n",
    "parameters = {\n",
    "    'verbose': True,\n",
    "    'number of simulations': n_s,\n",
    "    'fiducial θ': theta_fiducial,\n",
    "    'derivative denominator': der_den,\n",
    "    'differentiation fraction': derivative_fraction,\n",
    "    'number of summaries': len(theta_fiducial),\n",
    "    'calculate MLE': True,\n",
    "    'prebuild': True,\n",
    "    'input shape': input_shape,\n",
    "    'preload data': data,\n",
    "    'save file': \"data/saved_model\",\n",
    "    'wv': 0.,\n",
    "    'bb': 0.1,\n",
    "    'activation': tf.nn.leaky_relu,\n",
    "    'α': 0.01,\n",
    "    'hidden layers': [740, 300, 100, 50],\n",
    "}\n",
    "\n",
    "# Initialise the network\n",
    "n = IMNN.IMNN(parameters = parameters)\n",
    "\n",
    "# Build the network\n",
    "η = 1e-3 # learning rate\n",
    "tf.reset_default_graph()\n",
    "n.setup(η = η)"
   ]
  },
  {
   "cell_type": "code",
   "execution_count": 11,
   "metadata": {},
   "outputs": [
    {
     "name": "stderr",
     "output_type": "stream",
     "text": [
      "\r",
      "  0%|          | 0/300 [00:00<?, ?it/s]"
     ]
    },
    {
     "ename": "InvalidArgumentError",
     "evalue": "Input is not invertible.\n\t [[node inverse_central_covariance (defined at /Users/justinalsing/Dropbox/science/delfi/master/delfi/compression/IMNN/information_maximiser/IMNN.py:401)  = MatrixInverse[T=DT_FLOAT, adjoint=false, _device=\"/job:localhost/replica:0/task:0/device:CPU:0\"](central_covariance)]]\n\nCaused by op 'inverse_central_covariance', defined at:\n  File \"/usr/local/Cellar/python/3.6.5_1/Frameworks/Python.framework/Versions/3.6/lib/python3.6/runpy.py\", line 193, in _run_module_as_main\n    \"__main__\", mod_spec)\n  File \"/usr/local/Cellar/python/3.6.5_1/Frameworks/Python.framework/Versions/3.6/lib/python3.6/runpy.py\", line 85, in _run_code\n    exec(code, run_globals)\n  File \"/usr/local/lib/python3.6/site-packages/ipykernel_launcher.py\", line 16, in <module>\n    app.launch_new_instance()\n  File \"/usr/local/lib/python3.6/site-packages/traitlets/config/application.py\", line 658, in launch_instance\n    app.start()\n  File \"/usr/local/lib/python3.6/site-packages/ipykernel/kernelapp.py\", line 505, in start\n    self.io_loop.start()\n  File \"/usr/local/lib/python3.6/site-packages/tornado/platform/asyncio.py\", line 132, in start\n    self.asyncio_loop.run_forever()\n  File \"/usr/local/Cellar/python/3.6.5_1/Frameworks/Python.framework/Versions/3.6/lib/python3.6/asyncio/base_events.py\", line 422, in run_forever\n    self._run_once()\n  File \"/usr/local/Cellar/python/3.6.5_1/Frameworks/Python.framework/Versions/3.6/lib/python3.6/asyncio/base_events.py\", line 1432, in _run_once\n    handle._run()\n  File \"/usr/local/Cellar/python/3.6.5_1/Frameworks/Python.framework/Versions/3.6/lib/python3.6/asyncio/events.py\", line 145, in _run\n    self._callback(*self._args)\n  File \"/usr/local/lib/python3.6/site-packages/tornado/ioloop.py\", line 758, in _run_callback\n    ret = callback()\n  File \"/usr/local/lib/python3.6/site-packages/tornado/stack_context.py\", line 300, in null_wrapper\n    return fn(*args, **kwargs)\n  File \"/usr/local/lib/python3.6/site-packages/tornado/gen.py\", line 1233, in inner\n    self.run()\n  File \"/usr/local/lib/python3.6/site-packages/tornado/gen.py\", line 1147, in run\n    yielded = self.gen.send(value)\n  File \"/usr/local/lib/python3.6/site-packages/ipykernel/kernelbase.py\", line 370, in dispatch_queue\n    yield self.process_one()\n  File \"/usr/local/lib/python3.6/site-packages/tornado/gen.py\", line 346, in wrapper\n    runner = Runner(result, future, yielded)\n  File \"/usr/local/lib/python3.6/site-packages/tornado/gen.py\", line 1080, in __init__\n    self.run()\n  File \"/usr/local/lib/python3.6/site-packages/tornado/gen.py\", line 1147, in run\n    yielded = self.gen.send(value)\n  File \"/usr/local/lib/python3.6/site-packages/ipykernel/kernelbase.py\", line 357, in process_one\n    yield gen.maybe_future(dispatch(*args))\n  File \"/usr/local/lib/python3.6/site-packages/tornado/gen.py\", line 326, in wrapper\n    yielded = next(result)\n  File \"/usr/local/lib/python3.6/site-packages/ipykernel/kernelbase.py\", line 267, in dispatch_shell\n    yield gen.maybe_future(handler(stream, idents, msg))\n  File \"/usr/local/lib/python3.6/site-packages/tornado/gen.py\", line 326, in wrapper\n    yielded = next(result)\n  File \"/usr/local/lib/python3.6/site-packages/ipykernel/kernelbase.py\", line 534, in execute_request\n    user_expressions, allow_stdin,\n  File \"/usr/local/lib/python3.6/site-packages/tornado/gen.py\", line 326, in wrapper\n    yielded = next(result)\n  File \"/usr/local/lib/python3.6/site-packages/ipykernel/ipkernel.py\", line 294, in do_execute\n    res = shell.run_cell(code, store_history=store_history, silent=silent)\n  File \"/usr/local/lib/python3.6/site-packages/ipykernel/zmqshell.py\", line 536, in run_cell\n    return super(ZMQInteractiveShell, self).run_cell(*args, **kwargs)\n  File \"/usr/local/lib/python3.6/site-packages/IPython/core/interactiveshell.py\", line 2819, in run_cell\n    raw_cell, store_history, silent, shell_futures)\n  File \"/usr/local/lib/python3.6/site-packages/IPython/core/interactiveshell.py\", line 2845, in _run_cell\n    return runner(coro)\n  File \"/usr/local/lib/python3.6/site-packages/IPython/core/async_helpers.py\", line 67, in _pseudo_sync_runner\n    coro.send(None)\n  File \"/usr/local/lib/python3.6/site-packages/IPython/core/interactiveshell.py\", line 3020, in run_cell_async\n    interactivity=interactivity, compiler=compiler, result=result)\n  File \"/usr/local/lib/python3.6/site-packages/IPython/core/interactiveshell.py\", line 3191, in run_ast_nodes\n    if (yield from self.run_code(code, result)):\n  File \"/usr/local/lib/python3.6/site-packages/IPython/core/interactiveshell.py\", line 3267, in run_code\n    exec(code_obj, self.user_global_ns, self.user_ns)\n  File \"<ipython-input-10-c8a018225115>\", line 27, in <module>\n    n.setup(η = η)\n  File \"/Users/justinalsing/Dropbox/science/delfi/master/delfi/compression/IMNN/information_maximiser/IMNN.py\", line 669, in setup\n    F, iC, μ, dμdθ, C = n.Fisher(output_central, output_m, output_p)\n  File \"/Users/justinalsing/Dropbox/science/delfi/master/delfi/compression/IMNN/information_maximiser/IMNN.py\", line 465, in Fisher\n    iC, μ, C = n.inverse_covariance(a)\n  File \"/Users/justinalsing/Dropbox/science/delfi/master/delfi/compression/IMNN/information_maximiser/IMNN.py\", line 401, in inverse_covariance\n    iC = tf.matrix_inverse(C, name = 'inverse_central_covariance')\n  File \"/usr/local/lib/python3.6/site-packages/tensorflow/python/ops/gen_linalg_ops.py\", line 1041, in matrix_inverse\n    \"MatrixInverse\", input=input, adjoint=adjoint, name=name)\n  File \"/usr/local/lib/python3.6/site-packages/tensorflow/python/framework/op_def_library.py\", line 787, in _apply_op_helper\n    op_def=op_def)\n  File \"/usr/local/lib/python3.6/site-packages/tensorflow/python/util/deprecation.py\", line 488, in new_func\n    return func(*args, **kwargs)\n  File \"/usr/local/lib/python3.6/site-packages/tensorflow/python/framework/ops.py\", line 3274, in create_op\n    op_def=op_def)\n  File \"/usr/local/lib/python3.6/site-packages/tensorflow/python/framework/ops.py\", line 1770, in __init__\n    self._traceback = tf_stack.extract_stack()\n\nInvalidArgumentError (see above for traceback): Input is not invertible.\n\t [[node inverse_central_covariance (defined at /Users/justinalsing/Dropbox/science/delfi/master/delfi/compression/IMNN/information_maximiser/IMNN.py:401)  = MatrixInverse[T=DT_FLOAT, adjoint=false, _device=\"/job:localhost/replica:0/task:0/device:CPU:0\"](central_covariance)]]\n",
     "output_type": "error",
     "traceback": [
      "\u001b[0;31m---------------------------------------------------------------------------\u001b[0m",
      "\u001b[0;31mInvalidArgumentError\u001b[0m                      Traceback (most recent call last)",
      "\u001b[0;32m/usr/local/lib/python3.6/site-packages/tensorflow/python/client/session.py\u001b[0m in \u001b[0;36m_do_call\u001b[0;34m(self, fn, *args)\u001b[0m\n\u001b[1;32m   1333\u001b[0m     \u001b[0;32mtry\u001b[0m\u001b[0;34m:\u001b[0m\u001b[0;34m\u001b[0m\u001b[0m\n\u001b[0;32m-> 1334\u001b[0;31m       \u001b[0;32mreturn\u001b[0m \u001b[0mfn\u001b[0m\u001b[0;34m(\u001b[0m\u001b[0;34m*\u001b[0m\u001b[0margs\u001b[0m\u001b[0;34m)\u001b[0m\u001b[0;34m\u001b[0m\u001b[0m\n\u001b[0m\u001b[1;32m   1335\u001b[0m     \u001b[0;32mexcept\u001b[0m \u001b[0merrors\u001b[0m\u001b[0;34m.\u001b[0m\u001b[0mOpError\u001b[0m \u001b[0;32mas\u001b[0m \u001b[0me\u001b[0m\u001b[0;34m:\u001b[0m\u001b[0;34m\u001b[0m\u001b[0m\n",
      "\u001b[0;32m/usr/local/lib/python3.6/site-packages/tensorflow/python/client/session.py\u001b[0m in \u001b[0;36m_run_fn\u001b[0;34m(feed_dict, fetch_list, target_list, options, run_metadata)\u001b[0m\n\u001b[1;32m   1318\u001b[0m       return self._call_tf_sessionrun(\n\u001b[0;32m-> 1319\u001b[0;31m           options, feed_dict, fetch_list, target_list, run_metadata)\n\u001b[0m\u001b[1;32m   1320\u001b[0m \u001b[0;34m\u001b[0m\u001b[0m\n",
      "\u001b[0;32m/usr/local/lib/python3.6/site-packages/tensorflow/python/client/session.py\u001b[0m in \u001b[0;36m_call_tf_sessionrun\u001b[0;34m(self, options, feed_dict, fetch_list, target_list, run_metadata)\u001b[0m\n\u001b[1;32m   1406\u001b[0m         \u001b[0mself\u001b[0m\u001b[0;34m.\u001b[0m\u001b[0m_session\u001b[0m\u001b[0;34m,\u001b[0m \u001b[0moptions\u001b[0m\u001b[0;34m,\u001b[0m \u001b[0mfeed_dict\u001b[0m\u001b[0;34m,\u001b[0m \u001b[0mfetch_list\u001b[0m\u001b[0;34m,\u001b[0m \u001b[0mtarget_list\u001b[0m\u001b[0;34m,\u001b[0m\u001b[0;34m\u001b[0m\u001b[0m\n\u001b[0;32m-> 1407\u001b[0;31m         run_metadata)\n\u001b[0m\u001b[1;32m   1408\u001b[0m \u001b[0;34m\u001b[0m\u001b[0m\n",
      "\u001b[0;31mInvalidArgumentError\u001b[0m: Input is not invertible.\n\t [[{{node inverse_central_covariance}} = MatrixInverse[T=DT_FLOAT, adjoint=false, _device=\"/job:localhost/replica:0/task:0/device:CPU:0\"](central_covariance)]]",
      "\nDuring handling of the above exception, another exception occurred:\n",
      "\u001b[0;31mInvalidArgumentError\u001b[0m                      Traceback (most recent call last)",
      "\u001b[0;32m<ipython-input-11-83b12275735e>\u001b[0m in \u001b[0;36m<module>\u001b[0;34m\u001b[0m\n\u001b[1;32m      2\u001b[0m \u001b[0mnum_epochs\u001b[0m \u001b[0;34m=\u001b[0m \u001b[0;36m300\u001b[0m\u001b[0;34m\u001b[0m\u001b[0m\n\u001b[1;32m      3\u001b[0m \u001b[0mkeep_rate\u001b[0m \u001b[0;34m=\u001b[0m \u001b[0;36m0.8\u001b[0m\u001b[0;34m\u001b[0m\u001b[0m\n\u001b[0;32m----> 4\u001b[0;31m \u001b[0mn\u001b[0m\u001b[0;34m.\u001b[0m\u001b[0mtrain\u001b[0m\u001b[0;34m(\u001b[0m\u001b[0mnum_epochs\u001b[0m \u001b[0;34m=\u001b[0m \u001b[0mnum_epochs\u001b[0m\u001b[0;34m,\u001b[0m \u001b[0mn_train\u001b[0m \u001b[0;34m=\u001b[0m \u001b[0mn_train\u001b[0m\u001b[0;34m,\u001b[0m \u001b[0mkeep_rate\u001b[0m \u001b[0;34m=\u001b[0m \u001b[0mkeep_rate\u001b[0m\u001b[0;34m,\u001b[0m \u001b[0mhistory\u001b[0m \u001b[0;34m=\u001b[0m \u001b[0;32mTrue\u001b[0m\u001b[0;34m)\u001b[0m\u001b[0;34m\u001b[0m\u001b[0m\n\u001b[0m",
      "\u001b[0;32m~/Dropbox/science/delfi/master/delfi/compression/IMNN/information_maximiser/IMNN.py\u001b[0m in \u001b[0;36mtrain\u001b[0;34m(n, num_epochs, n_train, keep_rate, history, data, to_continue)\u001b[0m\n\u001b[1;32m    798\u001b[0m                 \u001b[0;32mfor\u001b[0m \u001b[0mcombination\u001b[0m \u001b[0;32min\u001b[0m \u001b[0mrange\u001b[0m\u001b[0;34m(\u001b[0m\u001b[0mn_train\u001b[0m\u001b[0;34m)\u001b[0m\u001b[0;34m:\u001b[0m\u001b[0;34m\u001b[0m\u001b[0m\n\u001b[1;32m    799\u001b[0m                     \u001b[0mn\u001b[0m\u001b[0;34m.\u001b[0m\u001b[0msess\u001b[0m\u001b[0;34m.\u001b[0m\u001b[0mrun\u001b[0m\u001b[0;34m(\u001b[0m\u001b[0mn\u001b[0m\u001b[0;34m.\u001b[0m\u001b[0mbackpropagate\u001b[0m\u001b[0;34m,\u001b[0m \u001b[0mfeed_dict\u001b[0m \u001b[0;34m=\u001b[0m \u001b[0;34m{\u001b[0m\u001b[0mn\u001b[0m\u001b[0;34m.\u001b[0m\u001b[0mcentral_indices\u001b[0m\u001b[0;34m:\u001b[0m \u001b[0mcentral_indices\u001b[0m\u001b[0;34m[\u001b[0m\u001b[0mcombination\u001b[0m \u001b[0;34m*\u001b[0m \u001b[0mn\u001b[0m\u001b[0;34m.\u001b[0m\u001b[0mn_s\u001b[0m\u001b[0;34m:\u001b[0m \u001b[0;34m(\u001b[0m\u001b[0mcombination\u001b[0m \u001b[0;34m+\u001b[0m \u001b[0;36m1\u001b[0m\u001b[0;34m)\u001b[0m \u001b[0;34m*\u001b[0m \u001b[0mn\u001b[0m\u001b[0;34m.\u001b[0m\u001b[0mn_s\u001b[0m\u001b[0;34m]\u001b[0m\u001b[0;34m.\u001b[0m\u001b[0mreshape\u001b[0m\u001b[0;34m(\u001b[0m\u001b[0;34m(\u001b[0m\u001b[0mn\u001b[0m\u001b[0;34m.\u001b[0m\u001b[0mn_s\u001b[0m\u001b[0;34m,\u001b[0m \u001b[0;36m1\u001b[0m\u001b[0;34m)\u001b[0m\u001b[0;34m)\u001b[0m\u001b[0;34m,\u001b[0m \u001b[0mn\u001b[0m\u001b[0;34m.\u001b[0m\u001b[0mderivative_indices\u001b[0m\u001b[0;34m:\u001b[0m \u001b[0mderivative_indices\u001b[0m\u001b[0;34m[\u001b[0m\u001b[0mcombination\u001b[0m \u001b[0;34m*\u001b[0m \u001b[0mn\u001b[0m\u001b[0;34m.\u001b[0m\u001b[0mn_p\u001b[0m\u001b[0;34m:\u001b[0m \u001b[0;34m(\u001b[0m\u001b[0mcombination\u001b[0m \u001b[0;34m+\u001b[0m \u001b[0;36m1\u001b[0m\u001b[0;34m)\u001b[0m \u001b[0;34m*\u001b[0m \u001b[0mn\u001b[0m\u001b[0;34m.\u001b[0m\u001b[0mn_p\u001b[0m\u001b[0;34m]\u001b[0m\u001b[0;34m.\u001b[0m\u001b[0mreshape\u001b[0m\u001b[0;34m(\u001b[0m\u001b[0;34m(\u001b[0m\u001b[0mn\u001b[0m\u001b[0;34m.\u001b[0m\u001b[0mn_p\u001b[0m\u001b[0;34m,\u001b[0m \u001b[0;36m1\u001b[0m\u001b[0;34m)\u001b[0m\u001b[0;34m)\u001b[0m\u001b[0;34m,\u001b[0m \u001b[0mn\u001b[0m\u001b[0;34m.\u001b[0m\u001b[0mdropout\u001b[0m\u001b[0;34m:\u001b[0m \u001b[0mkeep_rate\u001b[0m\u001b[0;34m}\u001b[0m\u001b[0;34m)\u001b[0m\u001b[0;34m\u001b[0m\u001b[0m\n\u001b[0;32m--> 800\u001b[0;31m                 \u001b[0mtrain_F\u001b[0m \u001b[0;34m=\u001b[0m \u001b[0mn\u001b[0m\u001b[0;34m.\u001b[0m\u001b[0msess\u001b[0m\u001b[0;34m.\u001b[0m\u001b[0mrun\u001b[0m\u001b[0;34m(\u001b[0m\u001b[0mn\u001b[0m\u001b[0;34m.\u001b[0m\u001b[0mF\u001b[0m\u001b[0;34m,\u001b[0m \u001b[0mfeed_dict\u001b[0m \u001b[0;34m=\u001b[0m \u001b[0;34m{\u001b[0m\u001b[0mn\u001b[0m\u001b[0;34m.\u001b[0m\u001b[0mcentral_indices\u001b[0m\u001b[0;34m:\u001b[0m \u001b[0mcentral_indices\u001b[0m\u001b[0;34m[\u001b[0m\u001b[0mcombination\u001b[0m \u001b[0;34m*\u001b[0m \u001b[0mn\u001b[0m\u001b[0;34m.\u001b[0m\u001b[0mn_s\u001b[0m\u001b[0;34m:\u001b[0m \u001b[0;34m(\u001b[0m\u001b[0mcombination\u001b[0m \u001b[0;34m+\u001b[0m \u001b[0;36m1\u001b[0m\u001b[0;34m)\u001b[0m \u001b[0;34m*\u001b[0m \u001b[0mn\u001b[0m\u001b[0;34m.\u001b[0m\u001b[0mn_s\u001b[0m\u001b[0;34m]\u001b[0m\u001b[0;34m.\u001b[0m\u001b[0mreshape\u001b[0m\u001b[0;34m(\u001b[0m\u001b[0;34m(\u001b[0m\u001b[0mn\u001b[0m\u001b[0;34m.\u001b[0m\u001b[0mn_s\u001b[0m\u001b[0;34m,\u001b[0m \u001b[0;36m1\u001b[0m\u001b[0;34m)\u001b[0m\u001b[0;34m)\u001b[0m\u001b[0;34m,\u001b[0m \u001b[0mn\u001b[0m\u001b[0;34m.\u001b[0m\u001b[0mderivative_indices\u001b[0m\u001b[0;34m:\u001b[0m \u001b[0mderivative_indices\u001b[0m\u001b[0;34m[\u001b[0m\u001b[0mcombination\u001b[0m \u001b[0;34m*\u001b[0m \u001b[0mn\u001b[0m\u001b[0;34m.\u001b[0m\u001b[0mn_p\u001b[0m\u001b[0;34m:\u001b[0m \u001b[0;34m(\u001b[0m\u001b[0mcombination\u001b[0m \u001b[0;34m+\u001b[0m \u001b[0;36m1\u001b[0m\u001b[0;34m)\u001b[0m \u001b[0;34m*\u001b[0m \u001b[0mn\u001b[0m\u001b[0;34m.\u001b[0m\u001b[0mn_p\u001b[0m\u001b[0;34m]\u001b[0m\u001b[0;34m.\u001b[0m\u001b[0mreshape\u001b[0m\u001b[0;34m(\u001b[0m\u001b[0;34m(\u001b[0m\u001b[0mn\u001b[0m\u001b[0;34m.\u001b[0m\u001b[0mn_p\u001b[0m\u001b[0;34m,\u001b[0m \u001b[0;36m1\u001b[0m\u001b[0;34m)\u001b[0m\u001b[0;34m)\u001b[0m\u001b[0;34m,\u001b[0m \u001b[0mn\u001b[0m\u001b[0;34m.\u001b[0m\u001b[0mdropout\u001b[0m\u001b[0;34m:\u001b[0m \u001b[0;36m1.\u001b[0m\u001b[0;34m}\u001b[0m\u001b[0;34m)\u001b[0m\u001b[0;34m\u001b[0m\u001b[0m\n\u001b[0m\u001b[1;32m    801\u001b[0m                 \u001b[0mdet_train_F\u001b[0m \u001b[0;34m=\u001b[0m \u001b[0mnp\u001b[0m\u001b[0;34m.\u001b[0m\u001b[0mlinalg\u001b[0m\u001b[0;34m.\u001b[0m\u001b[0mdet\u001b[0m\u001b[0;34m(\u001b[0m\u001b[0mtrain_F\u001b[0m\u001b[0;34m)\u001b[0m\u001b[0;34m\u001b[0m\u001b[0m\n\u001b[1;32m    802\u001b[0m             \u001b[0;32melse\u001b[0m\u001b[0;34m:\u001b[0m\u001b[0;34m\u001b[0m\u001b[0m\n",
      "\u001b[0;32m/usr/local/lib/python3.6/site-packages/tensorflow/python/client/session.py\u001b[0m in \u001b[0;36mrun\u001b[0;34m(self, fetches, feed_dict, options, run_metadata)\u001b[0m\n\u001b[1;32m    927\u001b[0m     \u001b[0;32mtry\u001b[0m\u001b[0;34m:\u001b[0m\u001b[0;34m\u001b[0m\u001b[0m\n\u001b[1;32m    928\u001b[0m       result = self._run(None, fetches, feed_dict, options_ptr,\n\u001b[0;32m--> 929\u001b[0;31m                          run_metadata_ptr)\n\u001b[0m\u001b[1;32m    930\u001b[0m       \u001b[0;32mif\u001b[0m \u001b[0mrun_metadata\u001b[0m\u001b[0;34m:\u001b[0m\u001b[0;34m\u001b[0m\u001b[0m\n\u001b[1;32m    931\u001b[0m         \u001b[0mproto_data\u001b[0m \u001b[0;34m=\u001b[0m \u001b[0mtf_session\u001b[0m\u001b[0;34m.\u001b[0m\u001b[0mTF_GetBuffer\u001b[0m\u001b[0;34m(\u001b[0m\u001b[0mrun_metadata_ptr\u001b[0m\u001b[0;34m)\u001b[0m\u001b[0;34m\u001b[0m\u001b[0m\n",
      "\u001b[0;32m/usr/local/lib/python3.6/site-packages/tensorflow/python/client/session.py\u001b[0m in \u001b[0;36m_run\u001b[0;34m(self, handle, fetches, feed_dict, options, run_metadata)\u001b[0m\n\u001b[1;32m   1150\u001b[0m     \u001b[0;32mif\u001b[0m \u001b[0mfinal_fetches\u001b[0m \u001b[0;32mor\u001b[0m \u001b[0mfinal_targets\u001b[0m \u001b[0;32mor\u001b[0m \u001b[0;34m(\u001b[0m\u001b[0mhandle\u001b[0m \u001b[0;32mand\u001b[0m \u001b[0mfeed_dict_tensor\u001b[0m\u001b[0;34m)\u001b[0m\u001b[0;34m:\u001b[0m\u001b[0;34m\u001b[0m\u001b[0m\n\u001b[1;32m   1151\u001b[0m       results = self._do_run(handle, final_targets, final_fetches,\n\u001b[0;32m-> 1152\u001b[0;31m                              feed_dict_tensor, options, run_metadata)\n\u001b[0m\u001b[1;32m   1153\u001b[0m     \u001b[0;32melse\u001b[0m\u001b[0;34m:\u001b[0m\u001b[0;34m\u001b[0m\u001b[0m\n\u001b[1;32m   1154\u001b[0m       \u001b[0mresults\u001b[0m \u001b[0;34m=\u001b[0m \u001b[0;34m[\u001b[0m\u001b[0;34m]\u001b[0m\u001b[0;34m\u001b[0m\u001b[0m\n",
      "\u001b[0;32m/usr/local/lib/python3.6/site-packages/tensorflow/python/client/session.py\u001b[0m in \u001b[0;36m_do_run\u001b[0;34m(self, handle, target_list, fetch_list, feed_dict, options, run_metadata)\u001b[0m\n\u001b[1;32m   1326\u001b[0m     \u001b[0;32mif\u001b[0m \u001b[0mhandle\u001b[0m \u001b[0;32mis\u001b[0m \u001b[0;32mNone\u001b[0m\u001b[0;34m:\u001b[0m\u001b[0;34m\u001b[0m\u001b[0m\n\u001b[1;32m   1327\u001b[0m       return self._do_call(_run_fn, feeds, fetches, targets, options,\n\u001b[0;32m-> 1328\u001b[0;31m                            run_metadata)\n\u001b[0m\u001b[1;32m   1329\u001b[0m     \u001b[0;32melse\u001b[0m\u001b[0;34m:\u001b[0m\u001b[0;34m\u001b[0m\u001b[0m\n\u001b[1;32m   1330\u001b[0m       \u001b[0;32mreturn\u001b[0m \u001b[0mself\u001b[0m\u001b[0;34m.\u001b[0m\u001b[0m_do_call\u001b[0m\u001b[0;34m(\u001b[0m\u001b[0m_prun_fn\u001b[0m\u001b[0;34m,\u001b[0m \u001b[0mhandle\u001b[0m\u001b[0;34m,\u001b[0m \u001b[0mfeeds\u001b[0m\u001b[0;34m,\u001b[0m \u001b[0mfetches\u001b[0m\u001b[0;34m)\u001b[0m\u001b[0;34m\u001b[0m\u001b[0m\n",
      "\u001b[0;32m/usr/local/lib/python3.6/site-packages/tensorflow/python/client/session.py\u001b[0m in \u001b[0;36m_do_call\u001b[0;34m(self, fn, *args)\u001b[0m\n\u001b[1;32m   1346\u001b[0m           \u001b[0;32mpass\u001b[0m\u001b[0;34m\u001b[0m\u001b[0m\n\u001b[1;32m   1347\u001b[0m       \u001b[0mmessage\u001b[0m \u001b[0;34m=\u001b[0m \u001b[0merror_interpolation\u001b[0m\u001b[0;34m.\u001b[0m\u001b[0minterpolate\u001b[0m\u001b[0;34m(\u001b[0m\u001b[0mmessage\u001b[0m\u001b[0;34m,\u001b[0m \u001b[0mself\u001b[0m\u001b[0;34m.\u001b[0m\u001b[0m_graph\u001b[0m\u001b[0;34m)\u001b[0m\u001b[0;34m\u001b[0m\u001b[0m\n\u001b[0;32m-> 1348\u001b[0;31m       \u001b[0;32mraise\u001b[0m \u001b[0mtype\u001b[0m\u001b[0;34m(\u001b[0m\u001b[0me\u001b[0m\u001b[0;34m)\u001b[0m\u001b[0;34m(\u001b[0m\u001b[0mnode_def\u001b[0m\u001b[0;34m,\u001b[0m \u001b[0mop\u001b[0m\u001b[0;34m,\u001b[0m \u001b[0mmessage\u001b[0m\u001b[0;34m)\u001b[0m\u001b[0;34m\u001b[0m\u001b[0m\n\u001b[0m\u001b[1;32m   1349\u001b[0m \u001b[0;34m\u001b[0m\u001b[0m\n\u001b[1;32m   1350\u001b[0m   \u001b[0;32mdef\u001b[0m \u001b[0m_extend_graph\u001b[0m\u001b[0;34m(\u001b[0m\u001b[0mself\u001b[0m\u001b[0;34m)\u001b[0m\u001b[0;34m:\u001b[0m\u001b[0;34m\u001b[0m\u001b[0m\n",
      "\u001b[0;31mInvalidArgumentError\u001b[0m: Input is not invertible.\n\t [[node inverse_central_covariance (defined at /Users/justinalsing/Dropbox/science/delfi/master/delfi/compression/IMNN/information_maximiser/IMNN.py:401)  = MatrixInverse[T=DT_FLOAT, adjoint=false, _device=\"/job:localhost/replica:0/task:0/device:CPU:0\"](central_covariance)]]\n\nCaused by op 'inverse_central_covariance', defined at:\n  File \"/usr/local/Cellar/python/3.6.5_1/Frameworks/Python.framework/Versions/3.6/lib/python3.6/runpy.py\", line 193, in _run_module_as_main\n    \"__main__\", mod_spec)\n  File \"/usr/local/Cellar/python/3.6.5_1/Frameworks/Python.framework/Versions/3.6/lib/python3.6/runpy.py\", line 85, in _run_code\n    exec(code, run_globals)\n  File \"/usr/local/lib/python3.6/site-packages/ipykernel_launcher.py\", line 16, in <module>\n    app.launch_new_instance()\n  File \"/usr/local/lib/python3.6/site-packages/traitlets/config/application.py\", line 658, in launch_instance\n    app.start()\n  File \"/usr/local/lib/python3.6/site-packages/ipykernel/kernelapp.py\", line 505, in start\n    self.io_loop.start()\n  File \"/usr/local/lib/python3.6/site-packages/tornado/platform/asyncio.py\", line 132, in start\n    self.asyncio_loop.run_forever()\n  File \"/usr/local/Cellar/python/3.6.5_1/Frameworks/Python.framework/Versions/3.6/lib/python3.6/asyncio/base_events.py\", line 422, in run_forever\n    self._run_once()\n  File \"/usr/local/Cellar/python/3.6.5_1/Frameworks/Python.framework/Versions/3.6/lib/python3.6/asyncio/base_events.py\", line 1432, in _run_once\n    handle._run()\n  File \"/usr/local/Cellar/python/3.6.5_1/Frameworks/Python.framework/Versions/3.6/lib/python3.6/asyncio/events.py\", line 145, in _run\n    self._callback(*self._args)\n  File \"/usr/local/lib/python3.6/site-packages/tornado/ioloop.py\", line 758, in _run_callback\n    ret = callback()\n  File \"/usr/local/lib/python3.6/site-packages/tornado/stack_context.py\", line 300, in null_wrapper\n    return fn(*args, **kwargs)\n  File \"/usr/local/lib/python3.6/site-packages/tornado/gen.py\", line 1233, in inner\n    self.run()\n  File \"/usr/local/lib/python3.6/site-packages/tornado/gen.py\", line 1147, in run\n    yielded = self.gen.send(value)\n  File \"/usr/local/lib/python3.6/site-packages/ipykernel/kernelbase.py\", line 370, in dispatch_queue\n    yield self.process_one()\n  File \"/usr/local/lib/python3.6/site-packages/tornado/gen.py\", line 346, in wrapper\n    runner = Runner(result, future, yielded)\n  File \"/usr/local/lib/python3.6/site-packages/tornado/gen.py\", line 1080, in __init__\n    self.run()\n  File \"/usr/local/lib/python3.6/site-packages/tornado/gen.py\", line 1147, in run\n    yielded = self.gen.send(value)\n  File \"/usr/local/lib/python3.6/site-packages/ipykernel/kernelbase.py\", line 357, in process_one\n    yield gen.maybe_future(dispatch(*args))\n  File \"/usr/local/lib/python3.6/site-packages/tornado/gen.py\", line 326, in wrapper\n    yielded = next(result)\n  File \"/usr/local/lib/python3.6/site-packages/ipykernel/kernelbase.py\", line 267, in dispatch_shell\n    yield gen.maybe_future(handler(stream, idents, msg))\n  File \"/usr/local/lib/python3.6/site-packages/tornado/gen.py\", line 326, in wrapper\n    yielded = next(result)\n  File \"/usr/local/lib/python3.6/site-packages/ipykernel/kernelbase.py\", line 534, in execute_request\n    user_expressions, allow_stdin,\n  File \"/usr/local/lib/python3.6/site-packages/tornado/gen.py\", line 326, in wrapper\n    yielded = next(result)\n  File \"/usr/local/lib/python3.6/site-packages/ipykernel/ipkernel.py\", line 294, in do_execute\n    res = shell.run_cell(code, store_history=store_history, silent=silent)\n  File \"/usr/local/lib/python3.6/site-packages/ipykernel/zmqshell.py\", line 536, in run_cell\n    return super(ZMQInteractiveShell, self).run_cell(*args, **kwargs)\n  File \"/usr/local/lib/python3.6/site-packages/IPython/core/interactiveshell.py\", line 2819, in run_cell\n    raw_cell, store_history, silent, shell_futures)\n  File \"/usr/local/lib/python3.6/site-packages/IPython/core/interactiveshell.py\", line 2845, in _run_cell\n    return runner(coro)\n  File \"/usr/local/lib/python3.6/site-packages/IPython/core/async_helpers.py\", line 67, in _pseudo_sync_runner\n    coro.send(None)\n  File \"/usr/local/lib/python3.6/site-packages/IPython/core/interactiveshell.py\", line 3020, in run_cell_async\n    interactivity=interactivity, compiler=compiler, result=result)\n  File \"/usr/local/lib/python3.6/site-packages/IPython/core/interactiveshell.py\", line 3191, in run_ast_nodes\n    if (yield from self.run_code(code, result)):\n  File \"/usr/local/lib/python3.6/site-packages/IPython/core/interactiveshell.py\", line 3267, in run_code\n    exec(code_obj, self.user_global_ns, self.user_ns)\n  File \"<ipython-input-10-c8a018225115>\", line 27, in <module>\n    n.setup(η = η)\n  File \"/Users/justinalsing/Dropbox/science/delfi/master/delfi/compression/IMNN/information_maximiser/IMNN.py\", line 669, in setup\n    F, iC, μ, dμdθ, C = n.Fisher(output_central, output_m, output_p)\n  File \"/Users/justinalsing/Dropbox/science/delfi/master/delfi/compression/IMNN/information_maximiser/IMNN.py\", line 465, in Fisher\n    iC, μ, C = n.inverse_covariance(a)\n  File \"/Users/justinalsing/Dropbox/science/delfi/master/delfi/compression/IMNN/information_maximiser/IMNN.py\", line 401, in inverse_covariance\n    iC = tf.matrix_inverse(C, name = 'inverse_central_covariance')\n  File \"/usr/local/lib/python3.6/site-packages/tensorflow/python/ops/gen_linalg_ops.py\", line 1041, in matrix_inverse\n    \"MatrixInverse\", input=input, adjoint=adjoint, name=name)\n  File \"/usr/local/lib/python3.6/site-packages/tensorflow/python/framework/op_def_library.py\", line 787, in _apply_op_helper\n    op_def=op_def)\n  File \"/usr/local/lib/python3.6/site-packages/tensorflow/python/util/deprecation.py\", line 488, in new_func\n    return func(*args, **kwargs)\n  File \"/usr/local/lib/python3.6/site-packages/tensorflow/python/framework/ops.py\", line 3274, in create_op\n    op_def=op_def)\n  File \"/usr/local/lib/python3.6/site-packages/tensorflow/python/framework/ops.py\", line 1770, in __init__\n    self._traceback = tf_stack.extract_stack()\n\nInvalidArgumentError (see above for traceback): Input is not invertible.\n\t [[node inverse_central_covariance (defined at /Users/justinalsing/Dropbox/science/delfi/master/delfi/compression/IMNN/information_maximiser/IMNN.py:401)  = MatrixInverse[T=DT_FLOAT, adjoint=false, _device=\"/job:localhost/replica:0/task:0/device:CPU:0\"](central_covariance)]]\n"
     ]
    }
   ],
   "source": [
    "# Train the IMNN\n",
    "num_epochs = 300\n",
    "keep_rate = 0.8\n",
    "n.train(num_epochs = num_epochs, n_train = n_train, keep_rate = keep_rate, history = True)"
   ]
  },
  {
   "cell_type": "code",
   "execution_count": null,
   "metadata": {},
   "outputs": [],
   "source": [
    "fig, ax = plt.subplots(5, 1, sharex = True, figsize = (8, 14))\n",
    "plt.subplots_adjust(hspace = 0)\n",
    "end = len(n.history[\"det(F)\"])\n",
    "epochs = np.arange(end)\n",
    "a, = ax[0].plot(epochs, n.history[\"det(F)\"], label = 'Training data')\n",
    "b, = ax[0].plot(epochs, n.history[\"det(test F)\"], label = 'Test data')\n",
    "ax[0].legend(frameon = False)\n",
    "ax[0].set_ylabel(r'$|{\\bf F}_{\\alpha\\beta}|$')\n",
    "ax[1].plot(epochs, n.history[\"Λ\"])\n",
    "ax[1].plot(epochs, n.history[\"test Λ\"])\n",
    "ax[1].set_xlabel('Number of epochs')\n",
    "ax[1].set_ylabel(r'$\\Lambda$')\n",
    "ax[1].set_xlim([0, len(epochs)]);\n",
    "ax[2].plot(epochs, n.history[\"det(C)\"])\n",
    "ax[2].plot(epochs, n.history[\"det(test C)\"])\n",
    "ax[2].set_xlabel('Number of epochs')\n",
    "ax[2].set_ylabel(r'$|{\\bf C}|$')\n",
    "ax[2].set_xlim([0, len(epochs)]);\n",
    "ax[3].plot(epochs, np.array(n.history[\"dμdθ\"]).reshape((np.prod(np.array(n.history[\"dμdθ\"]).shape))))\n",
    "ax[3].plot(epochs, np.array(n.history[\"test dμdθ\"]).reshape((np.prod(np.array(n.history[\"test dμdθ\"]).shape))))\n",
    "ax[3].set_ylabel(r'$\\partial\\mu/\\partial\\theta$')\n",
    "ax[3].set_xlabel('Number of epochs')\n",
    "ax[3].set_xlim([0, len(epochs)])\n",
    "ax[4].plot(epochs, np.array(n.history[\"μ\"]).reshape((np.prod(np.array(n.history[\"μ\"]).shape))))\n",
    "ax[4].plot(epochs, np.array(n.history[\"test μ\"]).reshape((np.prod(np.array(n.history[\"test μ\"]).shape))))\n",
    "ax[4].set_ylabel('μ')\n",
    "ax[4].set_xlabel('Number of epochs')\n",
    "ax[4].set_xlim([0, len(epochs)])\n",
    "print()"
   ]
  }
 ],
 "metadata": {
  "kernelspec": {
   "display_name": "Python 3",
   "language": "python",
   "name": "python3"
  },
  "language_info": {
   "codemirror_mode": {
    "name": "ipython",
    "version": 3
   },
   "file_extension": ".py",
   "mimetype": "text/x-python",
   "name": "python",
   "nbconvert_exporter": "python",
   "pygments_lexer": "ipython3",
   "version": "3.6.5"
  }
 },
 "nbformat": 4,
 "nbformat_minor": 1
}
