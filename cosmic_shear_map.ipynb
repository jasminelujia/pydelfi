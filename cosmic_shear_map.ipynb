{
 "cells": [
  {
   "cell_type": "code",
   "execution_count": null,
   "metadata": {},
   "outputs": [],
   "source": [
    "import numpy as np\n",
    "import healpy as hp\n",
    "import matplotlib.pyplot as plt\n",
    "import scipy.interpolate as interpolate\n",
    "from simulators.cosmic_shear_map.cosmic_shear import *\n",
    "import ndes.ndes as ndes\n",
    "import delfi.delfi as delfi\n",
    "import distributions.priors as priors\n",
    "import time\n",
    "import compression.score.score as score\n",
    "%matplotlib inline"
   ]
  },
  {
   "cell_type": "code",
   "execution_count": null,
   "metadata": {},
   "outputs": [],
   "source": [
    "# Set up...\n",
    "\n",
    "# Redshift distributions\n",
    "pz_fid = pickle.load(open('simulators/cosmic_shear_map/pz_5bin.pkl', 'rb'))\n",
    "nz = len(pz_fid)\n",
    "\n",
    "# Fiducial parameters about which data compression is performed\n",
    "theta_fiducial = np.array([0.3, 0.8, 0.05, 0.70, 0.96])\n",
    "\n",
    "# Set up the truncated Gaussian prior...\n",
    "\n",
    "# Prior boundaries\n",
    "lower = np.array([0, 0.4, 0, 0.4, 0.7])\n",
    "upper = np.array([1, 1.2, 0.1, 1.0, 1.3])\n",
    "\n",
    "# Prior mean and covariance\n",
    "prior_mean = np.array([0.3, 0.8, 0.05, 0.70, 0.96])\n",
    "prior_covariance = np.eye(5)*np.array([0.1, 0.1, 0.05, 0.3, 0.3])**2\n",
    "\n",
    "# Create prior over parameters\n",
    "prior = priors.TruncatedGaussian(prior_mean, prior_covariance, lower, upper)\n",
    "\n",
    "# Parameter names and ranges for plotting...  \n",
    "names = ['\\Omega_m', 'S_8', '\\Omega_b', 'h', 'n_s']\n",
    "labels =  ['\\\\Omega_m', 'S_8', '\\\\Omega_b', 'h', 'n_s']\n",
    "ranges = {'\\Omega_m':[lower[0], upper[0]], 'S_8':[lower[1],upper[1]],'\\Omega_b':[lower[2],upper[2]],\n",
    "            'h':[lower[3],upper[3]],'n_s':[lower[4],upper[4]]}\n",
    "\n",
    "# Simulation set-up...\n",
    "\n",
    "# Resolution\n",
    "nside = 512\n",
    "lmax = 3*nside-1\n",
    "lmin = 10\n",
    "n_ell_bins = 7\n",
    "npix = hp.nside2npix(nside)\n",
    "\n",
    "# Mask (Euclid)\n",
    "mask = hp.read_map('simulators/cosmic_shear_map/Euclid_footprint_and_StarMask512.fits')\n",
    "mask = np.array([mask for x in range(nz)])\n",
    "\n",
    "# Pixel-space shape noise standard deviation at each redshift\n",
    "sigma_e = 0.3\n",
    "n_p_mean = 1.6e9/sum(mask)\n",
    "sig_n_p = sigma_e**2/np.random.poisson(n_p_mean, size=(nz, npix))\n",
    "\n",
    "# Simulation and simulation arguments\n",
    "def simulator(theta, seed, simulator_args, batch):\n",
    "    return simulate(theta, seed, simulator_args, batch)\n",
    "simulator_args = [pz_fid, lmin, lmax, sig_n_p, mask, n_ell_bins]\n",
    "\n",
    "# Simulate data (and time it for benchmarking)\n",
    "start = time.time()\n",
    "data = simulator(theta_fiducial, 0, simulator_args, 1)\n",
    "print(time.time()-start)"
   ]
  },
  {
   "cell_type": "code",
   "execution_count": null,
   "metadata": {},
   "outputs": [],
   "source": [
    "# Set up the compressor\n",
    "Compressor = score.Gaussian(len(data), theta_fiducial, prior_mean = prior_mean, prior_covariance = prior_covariance)\n",
    "\n",
    "# Compute the derivatives\n",
    "h = abs(theta_fiducial)*0.05\n",
    "n_sims_for_derivatives = 50\n",
    "Compressor.compute_derivatives(simulator, n_sims_for_derivatives, h, simulator_args = simulator_args)\n",
    "\n",
    "# Compute the mean and covariance\n",
    "n_sims_for_covariance = 1000\n",
    "Compressor.compute_mean_covariance(simulator, n_sims_for_covariance, simulator_args = simulator_args)\n",
    "\n",
    "# Compute the Fisher matrix\n",
    "Compressor.compute_fisher()\n",
    "Finv = Compressor.Finv\n",
    "\n",
    "# Compressor function: This must have the form compressor(data, args) -> compressed summaries (pseudoMLE)\n",
    "def compressor(d, compressor_args):\n",
    "    return Compressor.scoreMLE(d)\n",
    "compressor_args = None\n",
    "\n",
    "# Compress the data\n",
    "data = compressor(data, compressor_args)"
   ]
  },
  {
   "cell_type": "code",
   "execution_count": null,
   "metadata": {},
   "outputs": [],
   "source": [
    "# Create the neural density estimator (MDN)\n",
    "MDN = ndes.MixtureDensityNetwork(n_inputs=5, n_outputs=5, n_components=3, n_hidden=[25,25], activations=[tf.tanh, tf.tanh])\n",
    "\n",
    "# Create the DELFI object\n",
    "DelfiMDN = delfi.Delfi(data, prior, MDN, Finv, theta_fiducial, \n",
    "                       param_limits = [lower, upper],\n",
    "                       param_names = ['\\Omega_m', 'S_8', '\\Omega_b', 'h', 'n_s'], \n",
    "                       results_dir = \"simulators/cosmic_shear_map/results/mdn_\")"
   ]
  },
  {
   "cell_type": "code",
   "execution_count": null,
   "metadata": {},
   "outputs": [],
   "source": [
    "# Do the Fisher pre-training\n",
    "DelfiMDN.fisher_pretraining()"
   ]
  },
  {
   "cell_type": "code",
   "execution_count": null,
   "metadata": {},
   "outputs": [],
   "source": [
    "# Load the simulations that have been ran for the compression function into Delfi\n",
    "\n",
    "# Compress the simulations\n",
    "compressed_sims = np.array([Compressor.scoreMLE(Compressor.simulations[i,:], compressor_args) for i in range(len(Compressor.simulations))])\n",
    "\n",
    "# Load them in to the Delfi object\n",
    "DelfiMDN.load_simulations(compressed_simulations, Compressor.parameters)"
   ]
  },
  {
   "cell_type": "code",
   "execution_count": null,
   "metadata": {},
   "outputs": [],
   "source": [
    "# Initial samples, batch size for population samples, number of populations\n",
    "n_initial = 500\n",
    "n_batch = 500\n",
    "n_populations = 23\n",
    "\n",
    "# Do the SNL training\n",
    "DelfiMDN.sequential_training(simulator, compressor, n_initial, n_batch, n_populations, patience=10)"
   ]
  }
 ],
 "metadata": {
  "kernelspec": {
   "display_name": "Python 3",
   "language": "python",
   "name": "python3"
  },
  "language_info": {
   "codemirror_mode": {
    "name": "ipython",
    "version": 3
   },
   "file_extension": ".py",
   "mimetype": "text/x-python",
   "name": "python",
   "nbconvert_exporter": "python",
   "pygments_lexer": "ipython3",
   "version": "3.6.5"
  }
 },
 "nbformat": 4,
 "nbformat_minor": 1
}
