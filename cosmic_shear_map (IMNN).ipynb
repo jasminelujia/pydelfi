{
 "cells": [
  {
   "cell_type": "code",
   "execution_count": 1,
   "metadata": {},
   "outputs": [],
   "source": [
    "import numpy as np\n",
    "import healpy as hp\n",
    "import matplotlib.pyplot as plt\n",
    "import scipy.interpolate as interpolate\n",
    "from simulators.cosmic_shear_map.cosmic_shear import *\n",
    "import ndes.ndes as ndes\n",
    "import delfi.delfi as delfi\n",
    "import distributions.priors as priors\n",
    "import time\n",
    "import compression.score.score as score\n",
    "import tensorflow as tf\n",
    "import IMNN.IMNN as IMNN\n",
    "import IMNN.ABC.ABC as ABC\n",
    "%matplotlib inline"
   ]
  },
  {
   "cell_type": "code",
   "execution_count": 2,
   "metadata": {
    "scrolled": true
   },
   "outputs": [
    {
     "name": "stdout",
     "output_type": "stream",
     "text": [
      "NSIDE = 512\n",
      "ORDERING = RING in fits file\n",
      "INDXSCHM = IMPLICIT\n",
      "3.756875991821289\n"
     ]
    }
   ],
   "source": [
    "# Set up...\n",
    "\n",
    "# Redshift distributions\n",
    "pz_fid = pickle.load(open('simulators/cosmic_shear_map/pz_5bin.pkl', 'rb'))\n",
    "nz = len(pz_fid)\n",
    "\n",
    "# Fiducial parameters about which data compression is performed\n",
    "theta_fiducial = np.array([0.3, 0.8, 0.05, 0.70, 0.96])\n",
    "\n",
    "# Set up the truncated Gaussian prior...\n",
    "\n",
    "# Prior boundaries\n",
    "lower = np.array([0, 0.4, 0, 0.4, 0.7])\n",
    "upper = np.array([1, 1.2, 0.1, 1.0, 1.3])\n",
    "\n",
    "# Prior mean and covariance\n",
    "prior_mean = np.array([0.3, 0.8, 0.05, 0.70, 0.96])\n",
    "prior_covariance = np.eye(5)*np.array([0.1, 0.1, 0.05, 0.3, 0.3])**2\n",
    "\n",
    "# Create prior over parameters\n",
    "prior = priors.TruncatedGaussian(prior_mean, prior_covariance, lower, upper)\n",
    "\n",
    "# Parameter names and ranges for plotting...  \n",
    "names = ['\\Omega_m', 'S_8', '\\Omega_b', 'h', 'n_s']\n",
    "labels =  ['\\\\Omega_m', 'S_8', '\\\\Omega_b', 'h', 'n_s']\n",
    "ranges = {'\\Omega_m':[lower[0], upper[0]], 'S_8':[lower[1],upper[1]],'\\Omega_b':[lower[2],upper[2]],\n",
    "            'h':[lower[3],upper[3]],'n_s':[lower[4],upper[4]]}\n",
    "\n",
    "# Simulation set-up...\n",
    "\n",
    "# Resolution\n",
    "nside = 128\n",
    "lmax = 3*nside-1\n",
    "lmin = 10\n",
    "n_ell_bins = 7\n",
    "npix = hp.nside2npix(nside)\n",
    "\n",
    "# Mask (Euclid)\n",
    "mask = hp.read_map('simulators/cosmic_shear_map/Euclid_footprint_and_StarMask512.fits')\n",
    "if nside != 512:\n",
    "    mask = hp.pixelfunc.ud_grade(mask, nside)\n",
    "mask = np.array([mask for x in range(nz)])\n",
    "\n",
    "# Pixel-space shape noise standard deviation at each redshift\n",
    "sigma_e = 0.3\n",
    "n_p_mean = 1.6e9/sum(mask)\n",
    "sig_n_p = sigma_e**2/np.random.poisson(n_p_mean, size=(nz, npix))\n",
    "\n",
    "# Simulation and simulation arguments\n",
    "def simulator(theta, seed, simulator_args, batch):\n",
    "    return simulate(theta, seed, simulator_args, batch)[0,:]\n",
    "simulator_args = [pz_fid, lmin, lmax, sig_n_p, mask, n_ell_bins]\n",
    "\n",
    "# Simulate data (and time it for benchmarking)\n",
    "start = time.time()\n",
    "data = simulator(theta_fiducial, 0, simulator_args, 1)\n",
    "print(time.time()-start)"
   ]
  },
  {
   "cell_type": "code",
   "execution_count": null,
   "metadata": {},
   "outputs": [
    {
     "data": {
      "application/vnd.jupyter.widget-view+json": {
       "model_id": "d74a76737a7945a7a0ff42b208f657c9",
       "version_major": 2,
       "version_minor": 0
      },
      "text/plain": [
       "HBox(children=(IntProgress(value=0, description='Covariance simulations', max=1999, style=ProgressStyle(descri…"
      ]
     },
     "metadata": {},
     "output_type": "display_data"
    }
   ],
   "source": [
    "### SET UP THE COMPRESSOR ###\n",
    "\n",
    "input_shape = [nz*n_ell_bins*(n_ell_bins+1)//2]\n",
    "\n",
    "# Fiducial parameters\n",
    "θ_fid = np.array([0.3, 0.8, 0.05, 0.70, 0.96])\n",
    "Δθpm = θ_fid*0.05\n",
    "\n",
    "# Compute the mean and covariance\n",
    "n_sims_for_covariance = 2000\n",
    "Compressor = score.Gaussian(len(data), theta_fiducial, prior_mean = prior_mean, prior_covariance = prior_covariance)\n",
    "Compressor.compute_mean_covariance(simulator, n_sims_for_covariance, simulator_args = simulator_args)\n",
    "sims = Compressor.simulations\n",
    "\n",
    "# Fiducial sims (and validation ones)\n",
    "IMNN_data = {\"data\": sims[0:1000,:], \"validation_data\": tt[1000:,:]}\n",
    "\n",
    "# Compute the derivatives\n",
    "n_sims_for_derivatives = 100\n",
    "Compressor.compute_derivatives(simulator, n_sims_for_derivatives, Δθpm, simulator_args = simulator_args)\n",
    "\n",
    "# Derivative sims (incl for validation case)\n",
    "IMNN_data[\"data_d\"] = np.array([Compressor.dmudt])\n",
    "IMNN_data[\"validation_data_d\"] = np.array([Compressor.dmudt])"
   ]
  },
  {
   "cell_type": "code",
   "execution_count": null,
   "metadata": {},
   "outputs": [],
   "source": [
    "parameters = {\n",
    "    \"dtype\": 32,\n",
    "    \"number of simulations\": 1000,\n",
    "    \"number of derivative simulations\": 1,\n",
    "    \"fiducial\": θ_fid.tolist(),\n",
    "    \"number of summaries\": 5,\n",
    "    \"input shape\": input_shape,\n",
    "    \"filename\": \"data/model\",\n",
    "}\n",
    "\n",
    "tf.reset_default_graph()\n",
    "n = IMNN.IMNN(parameters = parameters)\n",
    "\n",
    "def build_network(data, **kwargs):\n",
    "    α = kwargs[\"activation_parameter\"]\n",
    "    input_shape = kwargs[\"input_shape\"]\n",
    "    with tf.variable_scope(\"layer_1\"):\n",
    "        weights = tf.get_variable(\"weights\", shape = [input_shape[-1], 128], initializer = tf.variance_scaling_initializer())\n",
    "        output = tf.nn.leaky_relu(tf.matmul(data, weights, name = \"multiply\"), name = \"output\")\n",
    "    with tf.variable_scope(\"layer_2\"):\n",
    "        weights = tf.get_variable(\"weights\", shape = (128, 128), initializer = tf.variance_scaling_initializer())\n",
    "        output = tf.nn.leaky_relu(tf.matmul(output, weights, name = \"multiply\"), name = \"output\")\n",
    "    with tf.variable_scope(\"layer_3\"):\n",
    "        weights = tf.get_variable(\"weights\", shape = (128, 128), initializer = tf.variance_scaling_initializer())\n",
    "        output = tf.nn.leaky_relu(tf.matmul(output, weights, name = \"multiply\"), name = \"output\")\n",
    "    with tf.variable_scope(\"layer_4\"):\n",
    "        weights = tf.get_variable(\"weights\", shape = (128, n.n_summaries), initializer = tf.variance_scaling_initializer())\n",
    "        output = tf.matmul(output, weights, name = \"output\")\n",
    "    return output\n",
    "\n",
    "α = tf.placeholder(dtype = tf.float32, shape = (), name = \"activation_parameter\")\n",
    "network = lambda x: build_network(x, activation_parameter = α, input_shape = input_shape)\n",
    "graph_dictionary = {\"activation_parameter:0\": 0.001}\n",
    "\n",
    "n.setup(network = network, load_data = IMNN_data)"
   ]
  },
  {
   "cell_type": "code",
   "execution_count": null,
   "metadata": {},
   "outputs": [],
   "source": [
    "# Train the IMNN\n",
    "updates = 10000\n",
    "at_once = 1000\n",
    "learning_rate = 1e-4\n",
    "\n",
    "n.train(updates, at_once, learning_rate, constraint_strength = 2.,\n",
    "        training_dictionary = graph_dictionary,\n",
    "        validation_dictionary = graph_dictionary,\n",
    "        get_history = True, restart = False, diagnostics = False)"
   ]
  },
  {
   "cell_type": "code",
   "execution_count": null,
   "metadata": {},
   "outputs": [],
   "source": [
    "# Plot the IMNN training curve\n",
    "fig, ax = plt.subplots(1, 1, sharex = True, figsize = (10, 6))\n",
    "epochs = np.arange(1, len(n.history[\"det F\"]) + 1)\n",
    "ax.plot(epochs, n.history[\"det F\"], label = 'Training data')\n",
    "ax.plot(epochs, n.history[\"det test F\"], label = 'Test data')\n",
    "ax.legend(frameon = False)\n",
    "ax.set_xlim([1, epochs[-1]]);"
   ]
  }
 ],
 "metadata": {
  "kernelspec": {
   "display_name": "Python 3",
   "language": "python",
   "name": "python3"
  },
  "language_info": {
   "codemirror_mode": {
    "name": "ipython",
    "version": 3
   },
   "file_extension": ".py",
   "mimetype": "text/x-python",
   "name": "python",
   "nbconvert_exporter": "python",
   "pygments_lexer": "ipython3",
   "version": "3.6.5"
  }
 },
 "nbformat": 4,
 "nbformat_minor": 1
}
